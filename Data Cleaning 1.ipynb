{
 "cells": [
  {
   "cell_type": "code",
   "execution_count": 1,
   "id": "8afdc7cc-a5e3-4f8b-aab9-54e4aa3f62c1",
   "metadata": {},
   "outputs": [],
   "source": [
    "import pandas as pd"
   ]
  },
  {
   "cell_type": "code",
   "execution_count": 2,
   "id": "f6907966-9b5b-4f60-88c6-d89cb11ed038",
   "metadata": {},
   "outputs": [],
   "source": [
    "Point2_data= pd.read_csv('/users/aeternus/Desktop/Housing-market-in-Canada/Point2_data_Canada_house_ExcludingNorth.csv')"
   ]
  },
  {
   "cell_type": "code",
   "execution_count": 3,
   "id": "379375cb-22de-4961-a940-cef0e72d4f9e",
   "metadata": {},
   "outputs": [
    {
     "data": {
      "text/html": [
       "<div>\n",
       "<style scoped>\n",
       "    .dataframe tbody tr th:only-of-type {\n",
       "        vertical-align: middle;\n",
       "    }\n",
       "\n",
       "    .dataframe tbody tr th {\n",
       "        vertical-align: top;\n",
       "    }\n",
       "\n",
       "    .dataframe thead th {\n",
       "        text-align: right;\n",
       "    }\n",
       "</style>\n",
       "<table border=\"1\" class=\"dataframe\">\n",
       "  <thead>\n",
       "    <tr style=\"text-align: right;\">\n",
       "      <th></th>\n",
       "      <th>Beds</th>\n",
       "      <th>Bath</th>\n",
       "      <th>Sqft</th>\n",
       "      <th>Lot_Size</th>\n",
       "      <th>Type</th>\n",
       "      <th>Price</th>\n",
       "      <th>Address</th>\n",
       "      <th>Province</th>\n",
       "      <th>Region</th>\n",
       "    </tr>\n",
       "  </thead>\n",
       "  <tbody>\n",
       "    <tr>\n",
       "      <th>0</th>\n",
       "      <td>3.0</td>\n",
       "      <td>1.0</td>\n",
       "      <td>1630.0</td>\n",
       "      <td>3.81</td>\n",
       "      <td>Residential</td>\n",
       "      <td>225000</td>\n",
       "      <td>1368 Forties Rd.</td>\n",
       "      <td>NS</td>\n",
       "      <td>Atlantic region</td>\n",
       "    </tr>\n",
       "    <tr>\n",
       "      <th>1</th>\n",
       "      <td>2.0</td>\n",
       "      <td>1.0</td>\n",
       "      <td>944.0</td>\n",
       "      <td>.826</td>\n",
       "      <td>Residential</td>\n",
       "      <td>174500</td>\n",
       "      <td>111 Lakeshore Dr.</td>\n",
       "      <td>NS</td>\n",
       "      <td>Atlantic region</td>\n",
       "    </tr>\n",
       "    <tr>\n",
       "      <th>2</th>\n",
       "      <td>4.0</td>\n",
       "      <td>2.0</td>\n",
       "      <td>4000.0</td>\n",
       "      <td>NaN</td>\n",
       "      <td>Residential</td>\n",
       "      <td>599000</td>\n",
       "      <td>1734 HWY 1</td>\n",
       "      <td>NS</td>\n",
       "      <td>Atlantic region</td>\n",
       "    </tr>\n",
       "    <tr>\n",
       "      <th>3</th>\n",
       "      <td>5.0</td>\n",
       "      <td>2.0</td>\n",
       "      <td>2721.0</td>\n",
       "      <td>&gt;107</td>\n",
       "      <td>Residential</td>\n",
       "      <td>690000</td>\n",
       "      <td>2591 Clarence Road</td>\n",
       "      <td>NS</td>\n",
       "      <td>Atlantic region</td>\n",
       "    </tr>\n",
       "    <tr>\n",
       "      <th>4</th>\n",
       "      <td>15.0</td>\n",
       "      <td>6.0</td>\n",
       "      <td>6630.0</td>\n",
       "      <td>.709</td>\n",
       "      <td>Residential</td>\n",
       "      <td>495000</td>\n",
       "      <td>4616 Highway 1 Weymouth</td>\n",
       "      <td>NS</td>\n",
       "      <td>Atlantic region</td>\n",
       "    </tr>\n",
       "  </tbody>\n",
       "</table>\n",
       "</div>"
      ],
      "text/plain": [
       "   Beds  Bath    Sqft Lot_Size         Type   Price                   Address  \\\n",
       "0   3.0   1.0  1630.0     3.81  Residential  225000         1368 Forties Rd.    \n",
       "1   2.0   1.0   944.0     .826  Residential  174500        111 Lakeshore Dr.    \n",
       "2   4.0   2.0  4000.0      NaN  Residential  599000               1734 HWY 1    \n",
       "3   5.0   2.0  2721.0     >107  Residential  690000       2591 Clarence Road    \n",
       "4  15.0   6.0  6630.0     .709  Residential  495000  4616 Highway 1 Weymouth    \n",
       "\n",
       "  Province           Region  \n",
       "0       NS  Atlantic region  \n",
       "1       NS  Atlantic region  \n",
       "2       NS  Atlantic region  \n",
       "3       NS  Atlantic region  \n",
       "4       NS  Atlantic region  "
      ]
     },
     "execution_count": 3,
     "metadata": {},
     "output_type": "execute_result"
    }
   ],
   "source": [
    "Point2_data.head()"
   ]
  },
  {
   "cell_type": "code",
   "execution_count": 4,
   "id": "78fe4f71-fad6-4d6d-bc69-81106494baf6",
   "metadata": {},
   "outputs": [
    {
     "data": {
      "text/html": [
       "<div>\n",
       "<style scoped>\n",
       "    .dataframe tbody tr th:only-of-type {\n",
       "        vertical-align: middle;\n",
       "    }\n",
       "\n",
       "    .dataframe tbody tr th {\n",
       "        vertical-align: top;\n",
       "    }\n",
       "\n",
       "    .dataframe thead th {\n",
       "        text-align: right;\n",
       "    }\n",
       "</style>\n",
       "<table border=\"1\" class=\"dataframe\">\n",
       "  <thead>\n",
       "    <tr style=\"text-align: right;\">\n",
       "      <th></th>\n",
       "      <th>Beds</th>\n",
       "      <th>Bath</th>\n",
       "      <th>Sqft</th>\n",
       "      <th>Lot_Size</th>\n",
       "      <th>Type</th>\n",
       "      <th>Price</th>\n",
       "      <th>Address</th>\n",
       "      <th>Province</th>\n",
       "      <th>Region</th>\n",
       "    </tr>\n",
       "  </thead>\n",
       "  <tbody>\n",
       "    <tr>\n",
       "      <th>52438</th>\n",
       "      <td>4.0</td>\n",
       "      <td>3.0</td>\n",
       "      <td>3335.0</td>\n",
       "      <td>.172</td>\n",
       "      <td>Single</td>\n",
       "      <td>5550000 CAD</td>\n",
       "      <td>595 W 28TH AVENUE</td>\n",
       "      <td>BC</td>\n",
       "      <td>West Coast</td>\n",
       "    </tr>\n",
       "    <tr>\n",
       "      <th>52439</th>\n",
       "      <td>4.0</td>\n",
       "      <td>3.0</td>\n",
       "      <td>2511.0</td>\n",
       "      <td>.239</td>\n",
       "      <td>Single</td>\n",
       "      <td>3024120 CAD</td>\n",
       "      <td>540 POIRIER STREET</td>\n",
       "      <td>BC</td>\n",
       "      <td>West Coast</td>\n",
       "    </tr>\n",
       "    <tr>\n",
       "      <th>52440</th>\n",
       "      <td>4.0</td>\n",
       "      <td>4.0</td>\n",
       "      <td>4753.0</td>\n",
       "      <td>&gt;1.2</td>\n",
       "      <td>Single</td>\n",
       "      <td>5180000 CAD</td>\n",
       "      <td>20395 74B AVENUE</td>\n",
       "      <td>BC</td>\n",
       "      <td>West Coast</td>\n",
       "    </tr>\n",
       "    <tr>\n",
       "      <th>52441</th>\n",
       "      <td>5.0</td>\n",
       "      <td>8.0</td>\n",
       "      <td>6802.0</td>\n",
       "      <td>.293</td>\n",
       "      <td>Single</td>\n",
       "      <td>5999000 CAD</td>\n",
       "      <td>1507 PINECREST DRIVE</td>\n",
       "      <td>BC</td>\n",
       "      <td>West Coast</td>\n",
       "    </tr>\n",
       "    <tr>\n",
       "      <th>52442</th>\n",
       "      <td>NaN</td>\n",
       "      <td>4.0</td>\n",
       "      <td>3250.0</td>\n",
       "      <td>.171</td>\n",
       "      <td>Single</td>\n",
       "      <td>5000000 CAD</td>\n",
       "      <td>25 W KING EDWARD AVENUE</td>\n",
       "      <td>BC</td>\n",
       "      <td>West Coast</td>\n",
       "    </tr>\n",
       "  </tbody>\n",
       "</table>\n",
       "</div>"
      ],
      "text/plain": [
       "       Beds  Bath    Sqft Lot_Size    Type        Price  \\\n",
       "52438   4.0   3.0  3335.0     .172  Single  5550000 CAD   \n",
       "52439   4.0   3.0  2511.0     .239  Single  3024120 CAD   \n",
       "52440   4.0   4.0  4753.0     >1.2  Single  5180000 CAD   \n",
       "52441   5.0   8.0  6802.0     .293  Single  5999000 CAD   \n",
       "52442   NaN   4.0  3250.0     .171  Single  5000000 CAD   \n",
       "\n",
       "                        Address Province      Region  \n",
       "52438        595 W 28TH AVENUE        BC  West Coast  \n",
       "52439       540 POIRIER STREET        BC  West Coast  \n",
       "52440         20395 74B AVENUE        BC  West Coast  \n",
       "52441     1507 PINECREST DRIVE        BC  West Coast  \n",
       "52442  25 W KING EDWARD AVENUE        BC  West Coast  "
      ]
     },
     "execution_count": 4,
     "metadata": {},
     "output_type": "execute_result"
    }
   ],
   "source": [
    "Point2_data.tail()"
   ]
  },
  {
   "cell_type": "code",
   "execution_count": 5,
   "id": "97899a3c-ef4b-4eaa-bc63-9372d94f129b",
   "metadata": {},
   "outputs": [
    {
     "data": {
      "text/plain": [
       "(56177, 9)"
      ]
     },
     "execution_count": 5,
     "metadata": {},
     "output_type": "execute_result"
    }
   ],
   "source": [
    "Point2_data.shape"
   ]
  },
  {
   "cell_type": "markdown",
   "id": "333c26c9-8cc8-4b77-9eb2-8384c2fb1832",
   "metadata": {},
   "source": [
    "### 1. Drop irrelevant columns\n",
    "\n",
    "I don't need 'Lot-Size' and 'Type', so I will drop them."
   ]
  },
  {
   "cell_type": "code",
   "execution_count": 4,
   "id": "c94cb67b-60c6-4fa2-90a4-97aeb9f71038",
   "metadata": {},
   "outputs": [],
   "source": [
    "Point2_data = Point2_data.drop(['Lot_Size','Type'],axis=1)"
   ]
  },
  {
   "cell_type": "code",
   "execution_count": 6,
   "id": "4f4dd95b-4a84-4010-bcd9-1794d1bab488",
   "metadata": {},
   "outputs": [
    {
     "data": {
      "text/html": [
       "<div>\n",
       "<style scoped>\n",
       "    .dataframe tbody tr th:only-of-type {\n",
       "        vertical-align: middle;\n",
       "    }\n",
       "\n",
       "    .dataframe tbody tr th {\n",
       "        vertical-align: top;\n",
       "    }\n",
       "\n",
       "    .dataframe thead th {\n",
       "        text-align: right;\n",
       "    }\n",
       "</style>\n",
       "<table border=\"1\" class=\"dataframe\">\n",
       "  <thead>\n",
       "    <tr style=\"text-align: right;\">\n",
       "      <th></th>\n",
       "      <th>Beds</th>\n",
       "      <th>Bath</th>\n",
       "      <th>Sqft</th>\n",
       "      <th>Price</th>\n",
       "      <th>Address</th>\n",
       "      <th>Province</th>\n",
       "      <th>Region</th>\n",
       "    </tr>\n",
       "  </thead>\n",
       "  <tbody>\n",
       "    <tr>\n",
       "      <th>0</th>\n",
       "      <td>3.0</td>\n",
       "      <td>1.0</td>\n",
       "      <td>1630.0</td>\n",
       "      <td>225000</td>\n",
       "      <td>1368 Forties Rd.</td>\n",
       "      <td>NS</td>\n",
       "      <td>Atlantic region</td>\n",
       "    </tr>\n",
       "    <tr>\n",
       "      <th>1</th>\n",
       "      <td>2.0</td>\n",
       "      <td>1.0</td>\n",
       "      <td>944.0</td>\n",
       "      <td>174500</td>\n",
       "      <td>111 Lakeshore Dr.</td>\n",
       "      <td>NS</td>\n",
       "      <td>Atlantic region</td>\n",
       "    </tr>\n",
       "    <tr>\n",
       "      <th>2</th>\n",
       "      <td>4.0</td>\n",
       "      <td>2.0</td>\n",
       "      <td>4000.0</td>\n",
       "      <td>599000</td>\n",
       "      <td>1734 HWY 1</td>\n",
       "      <td>NS</td>\n",
       "      <td>Atlantic region</td>\n",
       "    </tr>\n",
       "    <tr>\n",
       "      <th>3</th>\n",
       "      <td>5.0</td>\n",
       "      <td>2.0</td>\n",
       "      <td>2721.0</td>\n",
       "      <td>690000</td>\n",
       "      <td>2591 Clarence Road</td>\n",
       "      <td>NS</td>\n",
       "      <td>Atlantic region</td>\n",
       "    </tr>\n",
       "    <tr>\n",
       "      <th>4</th>\n",
       "      <td>15.0</td>\n",
       "      <td>6.0</td>\n",
       "      <td>6630.0</td>\n",
       "      <td>495000</td>\n",
       "      <td>4616 Highway 1 Weymouth</td>\n",
       "      <td>NS</td>\n",
       "      <td>Atlantic region</td>\n",
       "    </tr>\n",
       "  </tbody>\n",
       "</table>\n",
       "</div>"
      ],
      "text/plain": [
       "   Beds  Bath    Sqft   Price                   Address Province  \\\n",
       "0   3.0   1.0  1630.0  225000         1368 Forties Rd.        NS   \n",
       "1   2.0   1.0   944.0  174500        111 Lakeshore Dr.        NS   \n",
       "2   4.0   2.0  4000.0  599000               1734 HWY 1        NS   \n",
       "3   5.0   2.0  2721.0  690000       2591 Clarence Road        NS   \n",
       "4  15.0   6.0  6630.0  495000  4616 Highway 1 Weymouth        NS   \n",
       "\n",
       "            Region  \n",
       "0  Atlantic region  \n",
       "1  Atlantic region  \n",
       "2  Atlantic region  \n",
       "3  Atlantic region  \n",
       "4  Atlantic region  "
      ]
     },
     "execution_count": 6,
     "metadata": {},
     "output_type": "execute_result"
    }
   ],
   "source": [
    "Point2_data.head()"
   ]
  },
  {
   "cell_type": "markdown",
   "id": "b89fa918-5881-41c0-981a-a7e3948f8921",
   "metadata": {},
   "source": [
    "### 2. Get missing values and drop them"
   ]
  },
  {
   "cell_type": "code",
   "execution_count": 5,
   "id": "26e56e7e-7217-4905-b221-69a8e2cd9701",
   "metadata": {},
   "outputs": [
    {
     "data": {
      "text/plain": [
       "Beds        float64\n",
       "Bath        float64\n",
       "Sqft        float64\n",
       "Price        object\n",
       "Address      object\n",
       "Province     object\n",
       "Region       object\n",
       "dtype: object"
      ]
     },
     "execution_count": 5,
     "metadata": {},
     "output_type": "execute_result"
    }
   ],
   "source": [
    "Point2_data.dtypes"
   ]
  },
  {
   "cell_type": "markdown",
   "id": "36cfd64d-1908-4cc3-b47d-0d03eefbb5cd",
   "metadata": {},
   "source": [
    "#### 2.1 Covert \"Price\" columnn to float value"
   ]
  },
  {
   "cell_type": "markdown",
   "id": "7784106f-a350-4598-8434-e5df24f14249",
   "metadata": {},
   "source": [
    "#### One data is recorded in USD, I use the currency rate of 1.27 to convert USD to CAD"
   ]
  },
  {
   "cell_type": "code",
   "execution_count": 6,
   "id": "c844875c-4027-45f1-b55d-c2a941cf451d",
   "metadata": {},
   "outputs": [
    {
     "data": {
      "text/html": [
       "<div>\n",
       "<style scoped>\n",
       "    .dataframe tbody tr th:only-of-type {\n",
       "        vertical-align: middle;\n",
       "    }\n",
       "\n",
       "    .dataframe tbody tr th {\n",
       "        vertical-align: top;\n",
       "    }\n",
       "\n",
       "    .dataframe thead th {\n",
       "        text-align: right;\n",
       "    }\n",
       "</style>\n",
       "<table border=\"1\" class=\"dataframe\">\n",
       "  <thead>\n",
       "    <tr style=\"text-align: right;\">\n",
       "      <th></th>\n",
       "      <th>Beds</th>\n",
       "      <th>Bath</th>\n",
       "      <th>Sqft</th>\n",
       "      <th>Price</th>\n",
       "      <th>Address</th>\n",
       "      <th>Province</th>\n",
       "      <th>Region</th>\n",
       "    </tr>\n",
       "  </thead>\n",
       "  <tbody>\n",
       "    <tr>\n",
       "      <th>9976</th>\n",
       "      <td>2.0</td>\n",
       "      <td>NaN</td>\n",
       "      <td>480.0</td>\n",
       "      <td>74000 USD</td>\n",
       "      <td>12 Kapkichi Lake</td>\n",
       "      <td>ON</td>\n",
       "      <td>Central Canada</td>\n",
       "    </tr>\n",
       "  </tbody>\n",
       "</table>\n",
       "</div>"
      ],
      "text/plain": [
       "      Beds  Bath   Sqft      Price            Address Province          Region\n",
       "9976   2.0   NaN  480.0  74000 USD  12 Kapkichi Lake        ON  Central Canada"
      ]
     },
     "execution_count": 6,
     "metadata": {},
     "output_type": "execute_result"
    }
   ],
   "source": [
    "Point2_data[Point2_data['Price'].str.contains(\"USD\")]"
   ]
  },
  {
   "cell_type": "code",
   "execution_count": 7,
   "id": "deefe3ff-6f7d-452c-af2a-fab76f9dbd47",
   "metadata": {},
   "outputs": [
    {
     "data": {
      "text/plain": [
       "93980.0"
      ]
     },
     "execution_count": 7,
     "metadata": {},
     "output_type": "execute_result"
    }
   ],
   "source": [
    "74000 * 1.27"
   ]
  },
  {
   "cell_type": "code",
   "execution_count": 8,
   "id": "cde49e46-e878-4a97-ab71-c1df2bb5b824",
   "metadata": {},
   "outputs": [],
   "source": [
    "Point2_data.iloc[9976,3] = \"93980 CAD\""
   ]
  },
  {
   "cell_type": "markdown",
   "id": "b1cb0283-b900-47e6-b4ac-bb243884f3da",
   "metadata": {},
   "source": [
    "Now let's remove 'CAD' and convert to float"
   ]
  },
  {
   "cell_type": "code",
   "execution_count": 9,
   "id": "ae121816-e91a-4b2b-b5cd-0f8c40f7c65f",
   "metadata": {},
   "outputs": [],
   "source": [
    "Point2_data['Price'] = Point2_data['Price'].apply(lambda x: x.replace(\"CAD\", \"\")).astype(float)"
   ]
  },
  {
   "cell_type": "code",
   "execution_count": 10,
   "id": "48216a80-f41e-4662-8b13-a37c935444e0",
   "metadata": {},
   "outputs": [
    {
     "data": {
      "text/plain": [
       "Beds        float64\n",
       "Bath        float64\n",
       "Sqft        float64\n",
       "Price       float64\n",
       "Address      object\n",
       "Province     object\n",
       "Region       object\n",
       "dtype: object"
      ]
     },
     "execution_count": 10,
     "metadata": {},
     "output_type": "execute_result"
    }
   ],
   "source": [
    "Point2_data.dtypes"
   ]
  },
  {
   "cell_type": "markdown",
   "id": "8e98706b-f04a-4db1-b743-016b3f7e1500",
   "metadata": {},
   "source": [
    "#### 2.2 Find all the missing values"
   ]
  },
  {
   "cell_type": "code",
   "execution_count": 11,
   "id": "c4e9158c-65be-4a87-ae4f-904c79651066",
   "metadata": {},
   "outputs": [
    {
     "data": {
      "text/plain": [
       "Beds         1045\n",
       "Bath         1266\n",
       "Sqft        14767\n",
       "Price           0\n",
       "Address         0\n",
       "Province        0\n",
       "Region          0\n",
       "dtype: int64"
      ]
     },
     "execution_count": 11,
     "metadata": {},
     "output_type": "execute_result"
    }
   ],
   "source": [
    "Point2_data.isnull().sum()"
   ]
  },
  {
   "cell_type": "code",
   "execution_count": 12,
   "id": "bd1cb87b-6336-46b3-8a3d-19a8c51e75ec",
   "metadata": {},
   "outputs": [],
   "source": [
    "Point2_data_NA = Point2_data[Point2_data.isna().any(axis=1)]"
   ]
  },
  {
   "cell_type": "code",
   "execution_count": 13,
   "id": "97a4c8a2-e16e-41bc-9f67-55c7e2f479ac",
   "metadata": {},
   "outputs": [
    {
     "data": {
      "text/plain": [
       "(15336, 7)"
      ]
     },
     "execution_count": 13,
     "metadata": {},
     "output_type": "execute_result"
    }
   ],
   "source": [
    "Point2_data_NA.shape"
   ]
  },
  {
   "cell_type": "code",
   "execution_count": 14,
   "id": "9ac33422-ec92-4d41-b296-9d74b1c9c6a9",
   "metadata": {},
   "outputs": [
    {
     "data": {
      "text/html": [
       "<div>\n",
       "<style scoped>\n",
       "    .dataframe tbody tr th:only-of-type {\n",
       "        vertical-align: middle;\n",
       "    }\n",
       "\n",
       "    .dataframe tbody tr th {\n",
       "        vertical-align: top;\n",
       "    }\n",
       "\n",
       "    .dataframe thead th {\n",
       "        text-align: right;\n",
       "    }\n",
       "</style>\n",
       "<table border=\"1\" class=\"dataframe\">\n",
       "  <thead>\n",
       "    <tr style=\"text-align: right;\">\n",
       "      <th></th>\n",
       "      <th>Beds</th>\n",
       "      <th>Bath</th>\n",
       "      <th>Sqft</th>\n",
       "      <th>Price</th>\n",
       "      <th>Address</th>\n",
       "      <th>Province</th>\n",
       "      <th>Region</th>\n",
       "    </tr>\n",
       "  </thead>\n",
       "  <tbody>\n",
       "    <tr>\n",
       "      <th>52381</th>\n",
       "      <td>3.0</td>\n",
       "      <td>2.0</td>\n",
       "      <td>NaN</td>\n",
       "      <td>3499000.0</td>\n",
       "      <td>6225 PORTO RICO ROAD</td>\n",
       "      <td>BC</td>\n",
       "      <td>West Coast</td>\n",
       "    </tr>\n",
       "    <tr>\n",
       "      <th>52403</th>\n",
       "      <td>4.0</td>\n",
       "      <td>5.0</td>\n",
       "      <td>NaN</td>\n",
       "      <td>3300000.0</td>\n",
       "      <td>4750 LAKEHILL ROAD</td>\n",
       "      <td>BC</td>\n",
       "      <td>West Coast</td>\n",
       "    </tr>\n",
       "    <tr>\n",
       "      <th>52406</th>\n",
       "      <td>3.0</td>\n",
       "      <td>NaN</td>\n",
       "      <td>1830.0</td>\n",
       "      <td>2998888.0</td>\n",
       "      <td>3029 GLEN DRIVE</td>\n",
       "      <td>BC</td>\n",
       "      <td>West Coast</td>\n",
       "    </tr>\n",
       "    <tr>\n",
       "      <th>52436</th>\n",
       "      <td>5.0</td>\n",
       "      <td>7.0</td>\n",
       "      <td>NaN</td>\n",
       "      <td>2400000.0</td>\n",
       "      <td>2547 CANYON LISTER ROAD</td>\n",
       "      <td>BC</td>\n",
       "      <td>West Coast</td>\n",
       "    </tr>\n",
       "    <tr>\n",
       "      <th>52442</th>\n",
       "      <td>NaN</td>\n",
       "      <td>4.0</td>\n",
       "      <td>3250.0</td>\n",
       "      <td>5000000.0</td>\n",
       "      <td>25 W KING EDWARD AVENUE</td>\n",
       "      <td>BC</td>\n",
       "      <td>West Coast</td>\n",
       "    </tr>\n",
       "  </tbody>\n",
       "</table>\n",
       "</div>"
      ],
      "text/plain": [
       "       Beds  Bath    Sqft      Price                   Address Province  \\\n",
       "52381   3.0   2.0     NaN  3499000.0     6225 PORTO RICO ROAD        BC   \n",
       "52403   4.0   5.0     NaN  3300000.0       4750 LAKEHILL ROAD        BC   \n",
       "52406   3.0   NaN  1830.0  2998888.0          3029 GLEN DRIVE        BC   \n",
       "52436   5.0   7.0     NaN  2400000.0  2547 CANYON LISTER ROAD        BC   \n",
       "52442   NaN   4.0  3250.0  5000000.0  25 W KING EDWARD AVENUE        BC   \n",
       "\n",
       "           Region  \n",
       "52381  West Coast  \n",
       "52403  West Coast  \n",
       "52406  West Coast  \n",
       "52436  West Coast  \n",
       "52442  West Coast  "
      ]
     },
     "execution_count": 14,
     "metadata": {},
     "output_type": "execute_result"
    }
   ],
   "source": [
    "Point2_data_NA.tail()"
   ]
  },
  {
   "cell_type": "code",
   "execution_count": 18,
   "id": "1984a059-edae-404d-95f1-81d6d0a4f6ad",
   "metadata": {},
   "outputs": [],
   "source": [
    "Point2_data_NA_Beds = Point2_data[Point2_data['Beds'].isna()]\n",
    "Point2_data_NA_Bath = Point2_data[Point2_data['Bath'].isna()]\n",
    "Point2_data_NA_Sqft = Point2_data[Point2_data['Sqft'].isna()]"
   ]
  },
  {
   "cell_type": "code",
   "execution_count": 19,
   "id": "ca413496-faad-4df2-8461-bf1a7a5cc320",
   "metadata": {},
   "outputs": [
    {
     "name": "stdout",
     "output_type": "stream",
     "text": [
      "(1045, 7)\n",
      "(1266, 7)\n",
      "(14767, 7)\n"
     ]
    }
   ],
   "source": [
    "print(Point2_data_NA_Beds.shape)\n",
    "print(Point2_data_NA_Bath.shape)\n",
    "print(Point2_data_NA_Sqft.shape)"
   ]
  },
  {
   "cell_type": "markdown",
   "id": "c840b866-f2bc-40c7-973d-8b7090c5e766",
   "metadata": {},
   "source": [
    "#### Document all the missing values"
   ]
  },
  {
   "cell_type": "code",
   "execution_count": 57,
   "id": "7845f131-cbd7-42ef-b93a-e2b9359deb05",
   "metadata": {},
   "outputs": [],
   "source": [
    "Point2_data_NA_Beds.to_csv('Point2_data_NA_Beds.csv',index=False)\n",
    "Point2_data_NA_Bath.to_csv('Point2_data_NA_Bath.csv',index=False)\n",
    "Point2_data_NA_Sqft.to_csv('Point2_data_NA_Sqft.csv',index=False)"
   ]
  },
  {
   "cell_type": "markdown",
   "id": "738a36ed-6972-4e8b-baa9-4b0066fb9e5e",
   "metadata": {},
   "source": [
    "**All the missing values need to be updated to improve the experience of customers who are using the website.**"
   ]
  },
  {
   "cell_type": "markdown",
   "id": "56f3705e-b796-4213-a459-813e27a8b6bc",
   "metadata": {},
   "source": [
    "#### 2.3 Drop the missing values of Bedrooms and Bathrooms "
   ]
  },
  {
   "cell_type": "code",
   "execution_count": 15,
   "id": "84a80d54-3cec-4ee8-a8cd-50ec65021734",
   "metadata": {},
   "outputs": [],
   "source": [
    "Point2_data.dropna(subset=['Beds', 'Bath'], inplace=True)"
   ]
  },
  {
   "cell_type": "code",
   "execution_count": 16,
   "id": "c3dd692d-95ff-4213-b3b5-5f96e090512a",
   "metadata": {},
   "outputs": [
    {
     "data": {
      "text/plain": [
       "(51036, 7)"
      ]
     },
     "execution_count": 16,
     "metadata": {},
     "output_type": "execute_result"
    }
   ],
   "source": [
    "Point2_data.shape"
   ]
  },
  {
   "cell_type": "code",
   "execution_count": 17,
   "id": "c1763e65-7a41-4547-ad68-02b0093b6713",
   "metadata": {},
   "outputs": [],
   "source": [
    "Point2_data_with_NaSqft = Point2_data"
   ]
  },
  {
   "cell_type": "code",
   "execution_count": 18,
   "id": "1cfd718a-4a8d-4cd9-bcf3-b4619e353c73",
   "metadata": {},
   "outputs": [],
   "source": [
    "Point2_data_with_NaSqft.to_csv('Point2_data_with_NaSqft.csv',index=False)"
   ]
  },
  {
   "cell_type": "markdown",
   "id": "81a41c8c-bdc7-4325-9c3a-0321f3039da8",
   "metadata": {},
   "source": [
    "#### 2.3.1. Replace the missing value of Sqft to the average Sqft with same size of bedrooms and bathrooms\n",
    "        (Point2_data_with_NaSqft)\n",
    "\n",
    "#### Or \n",
    "\n",
    "#### 2.3.2. Drop the missing value of Sqft \n",
    "        (Point2_data_without_NaSqft)"
   ]
  },
  {
   "cell_type": "markdown",
   "id": "ed7b5334-4c1f-445e-933f-365e03e23887",
   "metadata": {},
   "source": [
    "#### 1. Replace the missing value of Sqft in average Sqft of same size of bedrooms and bathrooms\n",
    "\n",
    "There are so many factors which affect the sqft. Not only the number of bedrooms and bathrooms, but also the location of the house. \n",
    "\n",
    "Actually, I should make a model to estimate the Sqft, based on the number of bedrooms, the number of bathrooms, the price of the house and the location of the house. \n",
    "\n",
    "Later on, I will analyze them by using supervised ML. Right now, I will drop the missing value of Sqft."
   ]
  },
  {
   "cell_type": "markdown",
   "id": "627149db-e531-40be-8b69-7f115a46fb05",
   "metadata": {},
   "source": [
    "#### Let's look at how much each province contributes to the missing data"
   ]
  },
  {
   "cell_type": "code",
   "execution_count": 38,
   "id": "53ae656c-ddbc-4444-b5f0-46f3d82f8ec9",
   "metadata": {},
   "outputs": [
    {
     "name": "stdout",
     "output_type": "stream",
     "text": [
      "ON    12912\n",
      "AB    12871\n",
      "BC     8826\n",
      "SK     5558\n",
      "NL     2441\n",
      "NB     2236\n",
      "QC     2122\n",
      "NS     2056\n",
      "MB     1431\n",
      "PE      583\n",
      "Name: Province, dtype: int64\n",
      "ON    11927\n",
      "QC     1056\n",
      "BC     1008\n",
      "NB      978\n",
      "AB      110\n",
      "MB       67\n",
      "SK       61\n",
      "NS       59\n",
      "PE       42\n",
      "NL       28\n",
      "Name: Province, dtype: int64\n"
     ]
    }
   ],
   "source": [
    "print(Point2_data['Province'].value_counts())\n",
    "print(Point2_data_NA['Province'].value_counts())"
   ]
  },
  {
   "cell_type": "markdown",
   "id": "f41b709d-d8b7-4491-8a74-56dead3c1f7e",
   "metadata": {},
   "source": [
    "**After dropping missing values:**\n",
    "* ON will lose most of the data \n",
    "* QC and NB will lose half of the data\n",
    "* BC will lose one eighth of the data"
   ]
  },
  {
   "cell_type": "markdown",
   "id": "f21f8813-414b-4a75-a989-8437c233c1e7",
   "metadata": {},
   "source": [
    "#### What about the missing data in details"
   ]
  },
  {
   "cell_type": "code",
   "execution_count": 39,
   "id": "066c9cb1-568b-4149-a1c2-5fa2b90db713",
   "metadata": {},
   "outputs": [
    {
     "name": "stdout",
     "output_type": "stream",
     "text": [
      "ON    11927\n",
      "QC     1056\n",
      "BC     1008\n",
      "NB      978\n",
      "AB      110\n",
      "MB       67\n",
      "SK       61\n",
      "NS       59\n",
      "PE       42\n",
      "NL       28\n",
      "Name: Province, dtype: int64\n",
      "ON    11863\n",
      "QC     1018\n",
      "NB      917\n",
      "BC      753\n",
      "AB       84\n",
      "MB       42\n",
      "PE       37\n",
      "NS       36\n",
      "NL       10\n",
      "SK        7\n",
      "Name: Province, dtype: int64\n"
     ]
    }
   ],
   "source": [
    "print(Point2_data_NA['Province'].value_counts())\n",
    "print(Point2_data_NA_Sqft['Province'].value_counts())"
   ]
  },
  {
   "cell_type": "markdown",
   "id": "08f3d466-108a-4da0-869d-1673b3146496",
   "metadata": {},
   "source": [
    "**However, if we can replace the missing value of Sqft data:**\n",
    "* ON,QC,NB will get most of data back\n",
    "* BC will get around 7% of the total data back"
   ]
  },
  {
   "cell_type": "code",
   "execution_count": 41,
   "id": "19505bbb-7d61-468f-9a28-d358caca5830",
   "metadata": {},
   "outputs": [
    {
     "name": "stdout",
     "output_type": "stream",
     "text": [
      "ON    482\n",
      "BC    183\n",
      "NB    120\n",
      "AB     55\n",
      "QC     52\n",
      "SK     40\n",
      "NS     38\n",
      "MB     31\n",
      "NL     23\n",
      "PE     21\n",
      "Name: Province, dtype: int64\n",
      "ON    521\n",
      "BC    339\n",
      "NB    115\n",
      "AB     67\n",
      "QC     48\n",
      "SK     47\n",
      "MB     47\n",
      "NS     36\n",
      "NL     23\n",
      "PE     23\n",
      "Name: Province, dtype: int64\n"
     ]
    }
   ],
   "source": [
    "print(Point2_data_NA_Beds['Province'].value_counts())\n",
    "print(Point2_data_NA_Bath['Province'].value_counts())"
   ]
  },
  {
   "cell_type": "markdown",
   "id": "9d97fa37-26a9-4a64-954f-33f8e54e241a",
   "metadata": {},
   "source": [
    "**But, based on the missing value of Bedrooms and Bathrooms:**\n",
    "* ON still will lose around 500 data which is 1/20 of the total data.\n",
    "* BC still will lose around 300 data which is 1/30 of the total data.\n",
    "* NB will lose around 100 data which is 1/20 of the total data."
   ]
  },
  {
   "cell_type": "markdown",
   "id": "4349b303-94cf-49aa-ba94-dbb856a95982",
   "metadata": {},
   "source": [
    "#### 2.3.2. Drop the missing value of Sqft"
   ]
  },
  {
   "cell_type": "code",
   "execution_count": 111,
   "id": "0bdef648-79f5-410a-b5d2-31b7cdde76db",
   "metadata": {},
   "outputs": [],
   "source": [
    "Point2_data_without_NaSqft = Point2_data.dropna()"
   ]
  },
  {
   "cell_type": "code",
   "execution_count": 112,
   "id": "c9ae4b4c-fe3b-45e9-9d1e-a9d5f51f1273",
   "metadata": {},
   "outputs": [
    {
     "data": {
      "text/html": [
       "<div>\n",
       "<style scoped>\n",
       "    .dataframe tbody tr th:only-of-type {\n",
       "        vertical-align: middle;\n",
       "    }\n",
       "\n",
       "    .dataframe tbody tr th {\n",
       "        vertical-align: top;\n",
       "    }\n",
       "\n",
       "    .dataframe thead th {\n",
       "        text-align: right;\n",
       "    }\n",
       "</style>\n",
       "<table border=\"1\" class=\"dataframe\">\n",
       "  <thead>\n",
       "    <tr style=\"text-align: right;\">\n",
       "      <th></th>\n",
       "      <th>Beds</th>\n",
       "      <th>Bath</th>\n",
       "      <th>Sqft</th>\n",
       "      <th>Price</th>\n",
       "      <th>Address</th>\n",
       "      <th>Province</th>\n",
       "      <th>Region</th>\n",
       "    </tr>\n",
       "  </thead>\n",
       "  <tbody>\n",
       "    <tr>\n",
       "      <th>52437</th>\n",
       "      <td>5.0</td>\n",
       "      <td>3.0</td>\n",
       "      <td>3700.0</td>\n",
       "      <td>11000000.0</td>\n",
       "      <td>4664 192 STREET</td>\n",
       "      <td>BC</td>\n",
       "      <td>West Coast</td>\n",
       "    </tr>\n",
       "    <tr>\n",
       "      <th>52438</th>\n",
       "      <td>4.0</td>\n",
       "      <td>3.0</td>\n",
       "      <td>3335.0</td>\n",
       "      <td>5550000.0</td>\n",
       "      <td>595 W 28TH AVENUE</td>\n",
       "      <td>BC</td>\n",
       "      <td>West Coast</td>\n",
       "    </tr>\n",
       "    <tr>\n",
       "      <th>52439</th>\n",
       "      <td>4.0</td>\n",
       "      <td>3.0</td>\n",
       "      <td>2511.0</td>\n",
       "      <td>3024120.0</td>\n",
       "      <td>540 POIRIER STREET</td>\n",
       "      <td>BC</td>\n",
       "      <td>West Coast</td>\n",
       "    </tr>\n",
       "    <tr>\n",
       "      <th>52440</th>\n",
       "      <td>4.0</td>\n",
       "      <td>4.0</td>\n",
       "      <td>4753.0</td>\n",
       "      <td>5180000.0</td>\n",
       "      <td>20395 74B AVENUE</td>\n",
       "      <td>BC</td>\n",
       "      <td>West Coast</td>\n",
       "    </tr>\n",
       "    <tr>\n",
       "      <th>52441</th>\n",
       "      <td>5.0</td>\n",
       "      <td>8.0</td>\n",
       "      <td>6802.0</td>\n",
       "      <td>5999000.0</td>\n",
       "      <td>1507 PINECREST DRIVE</td>\n",
       "      <td>BC</td>\n",
       "      <td>West Coast</td>\n",
       "    </tr>\n",
       "  </tbody>\n",
       "</table>\n",
       "</div>"
      ],
      "text/plain": [
       "       Beds  Bath    Sqft       Price                Address Province  \\\n",
       "52437   5.0   3.0  3700.0  11000000.0       4664 192 STREET        BC   \n",
       "52438   4.0   3.0  3335.0   5550000.0     595 W 28TH AVENUE        BC   \n",
       "52439   4.0   3.0  2511.0   3024120.0    540 POIRIER STREET        BC   \n",
       "52440   4.0   4.0  4753.0   5180000.0      20395 74B AVENUE        BC   \n",
       "52441   5.0   8.0  6802.0   5999000.0  1507 PINECREST DRIVE        BC   \n",
       "\n",
       "           Region  \n",
       "52437  West Coast  \n",
       "52438  West Coast  \n",
       "52439  West Coast  \n",
       "52440  West Coast  \n",
       "52441  West Coast  "
      ]
     },
     "execution_count": 112,
     "metadata": {},
     "output_type": "execute_result"
    }
   ],
   "source": [
    "Point2_data_without_NaSqft.tail()"
   ]
  },
  {
   "cell_type": "code",
   "execution_count": 113,
   "id": "508306bf-fefd-4ddc-a362-f13b7b8b7163",
   "metadata": {},
   "outputs": [
    {
     "data": {
      "text/plain": [
       "(37107, 7)"
      ]
     },
     "execution_count": 113,
     "metadata": {},
     "output_type": "execute_result"
    }
   ],
   "source": [
    "Point2_data_without_NaSqft.shape"
   ]
  },
  {
   "cell_type": "code",
   "execution_count": 114,
   "id": "ba861f46-ba65-400a-b07f-81fb0144dafa",
   "metadata": {},
   "outputs": [],
   "source": [
    "Point2_data_without_NaSqft = Point2_data_without_NaSqft.reset_index().drop(['index'], axis=1)"
   ]
  },
  {
   "cell_type": "code",
   "execution_count": 115,
   "id": "3285b808-3d95-4426-9707-3f80c30376cc",
   "metadata": {},
   "outputs": [
    {
     "data": {
      "text/html": [
       "<div>\n",
       "<style scoped>\n",
       "    .dataframe tbody tr th:only-of-type {\n",
       "        vertical-align: middle;\n",
       "    }\n",
       "\n",
       "    .dataframe tbody tr th {\n",
       "        vertical-align: top;\n",
       "    }\n",
       "\n",
       "    .dataframe thead th {\n",
       "        text-align: right;\n",
       "    }\n",
       "</style>\n",
       "<table border=\"1\" class=\"dataframe\">\n",
       "  <thead>\n",
       "    <tr style=\"text-align: right;\">\n",
       "      <th></th>\n",
       "      <th>Beds</th>\n",
       "      <th>Bath</th>\n",
       "      <th>Sqft</th>\n",
       "      <th>Price</th>\n",
       "      <th>Address</th>\n",
       "      <th>Province</th>\n",
       "      <th>Region</th>\n",
       "    </tr>\n",
       "  </thead>\n",
       "  <tbody>\n",
       "    <tr>\n",
       "      <th>37102</th>\n",
       "      <td>5.0</td>\n",
       "      <td>3.0</td>\n",
       "      <td>3700.0</td>\n",
       "      <td>11000000.0</td>\n",
       "      <td>4664 192 STREET</td>\n",
       "      <td>BC</td>\n",
       "      <td>West Coast</td>\n",
       "    </tr>\n",
       "    <tr>\n",
       "      <th>37103</th>\n",
       "      <td>4.0</td>\n",
       "      <td>3.0</td>\n",
       "      <td>3335.0</td>\n",
       "      <td>5550000.0</td>\n",
       "      <td>595 W 28TH AVENUE</td>\n",
       "      <td>BC</td>\n",
       "      <td>West Coast</td>\n",
       "    </tr>\n",
       "    <tr>\n",
       "      <th>37104</th>\n",
       "      <td>4.0</td>\n",
       "      <td>3.0</td>\n",
       "      <td>2511.0</td>\n",
       "      <td>3024120.0</td>\n",
       "      <td>540 POIRIER STREET</td>\n",
       "      <td>BC</td>\n",
       "      <td>West Coast</td>\n",
       "    </tr>\n",
       "    <tr>\n",
       "      <th>37105</th>\n",
       "      <td>4.0</td>\n",
       "      <td>4.0</td>\n",
       "      <td>4753.0</td>\n",
       "      <td>5180000.0</td>\n",
       "      <td>20395 74B AVENUE</td>\n",
       "      <td>BC</td>\n",
       "      <td>West Coast</td>\n",
       "    </tr>\n",
       "    <tr>\n",
       "      <th>37106</th>\n",
       "      <td>5.0</td>\n",
       "      <td>8.0</td>\n",
       "      <td>6802.0</td>\n",
       "      <td>5999000.0</td>\n",
       "      <td>1507 PINECREST DRIVE</td>\n",
       "      <td>BC</td>\n",
       "      <td>West Coast</td>\n",
       "    </tr>\n",
       "  </tbody>\n",
       "</table>\n",
       "</div>"
      ],
      "text/plain": [
       "       Beds  Bath    Sqft       Price                Address Province  \\\n",
       "37102   5.0   3.0  3700.0  11000000.0       4664 192 STREET        BC   \n",
       "37103   4.0   3.0  3335.0   5550000.0     595 W 28TH AVENUE        BC   \n",
       "37104   4.0   3.0  2511.0   3024120.0    540 POIRIER STREET        BC   \n",
       "37105   4.0   4.0  4753.0   5180000.0      20395 74B AVENUE        BC   \n",
       "37106   5.0   8.0  6802.0   5999000.0  1507 PINECREST DRIVE        BC   \n",
       "\n",
       "           Region  \n",
       "37102  West Coast  \n",
       "37103  West Coast  \n",
       "37104  West Coast  \n",
       "37105  West Coast  \n",
       "37106  West Coast  "
      ]
     },
     "execution_count": 115,
     "metadata": {},
     "output_type": "execute_result"
    }
   ],
   "source": [
    "Point2_data_without_NaSqft.tail()"
   ]
  },
  {
   "cell_type": "markdown",
   "id": "dc22c4e4-0a07-4010-b240-84e12adfbbb7",
   "metadata": {},
   "source": [
    "**ON lose huge amount of data when dropping the missing value of Sqft**"
   ]
  },
  {
   "cell_type": "code",
   "execution_count": 116,
   "id": "b366f0bc-362f-4321-b1fd-f6707b3e6aa1",
   "metadata": {},
   "outputs": [
    {
     "data": {
      "text/plain": [
       "(1538, 7)"
      ]
     },
     "execution_count": 116,
     "metadata": {},
     "output_type": "execute_result"
    }
   ],
   "source": [
    "Point2_data_without_NaSqft[Point2_data_without_NaSqft['Province']=='ON'].shape"
   ]
  },
  {
   "cell_type": "markdown",
   "id": "53d8c337-86fe-495a-9e8b-e32fb63aa01b",
   "metadata": {},
   "source": [
    "### 3. Get duplicated values and drop them"
   ]
  },
  {
   "cell_type": "code",
   "execution_count": 117,
   "id": "29dbb6f8-7f56-4f73-9183-111588796b11",
   "metadata": {},
   "outputs": [
    {
     "data": {
      "text/plain": [
       "(37107, 7)"
      ]
     },
     "execution_count": 117,
     "metadata": {},
     "output_type": "execute_result"
    }
   ],
   "source": [
    "Point2_data_without_NaSqft.shape"
   ]
  },
  {
   "cell_type": "markdown",
   "id": "c203d09f-7f42-40f9-b6f3-1fa40971cb2e",
   "metadata": {},
   "source": [
    "#### 3.1 Find Duplicate values"
   ]
  },
  {
   "cell_type": "code",
   "execution_count": 118,
   "id": "fd11c75b-d211-4354-9851-693f191d4926",
   "metadata": {},
   "outputs": [],
   "source": [
    "Point2_data_duplicated = Point2_data_without_NaSqft[Point2_data_without_NaSqft.duplicated(keep='last')]"
   ]
  },
  {
   "cell_type": "code",
   "execution_count": 119,
   "id": "bd62a543-aa31-473e-83c4-01d277b6549d",
   "metadata": {},
   "outputs": [
    {
     "data": {
      "text/plain": [
       "(389, 7)"
      ]
     },
     "execution_count": 119,
     "metadata": {},
     "output_type": "execute_result"
    }
   ],
   "source": [
    "Point2_data_duplicated.shape"
   ]
  },
  {
   "cell_type": "code",
   "execution_count": 120,
   "id": "f04933ee-8b03-407e-9093-15df47b7f841",
   "metadata": {},
   "outputs": [
    {
     "data": {
      "text/html": [
       "<div>\n",
       "<style scoped>\n",
       "    .dataframe tbody tr th:only-of-type {\n",
       "        vertical-align: middle;\n",
       "    }\n",
       "\n",
       "    .dataframe tbody tr th {\n",
       "        vertical-align: top;\n",
       "    }\n",
       "\n",
       "    .dataframe thead th {\n",
       "        text-align: right;\n",
       "    }\n",
       "</style>\n",
       "<table border=\"1\" class=\"dataframe\">\n",
       "  <thead>\n",
       "    <tr style=\"text-align: right;\">\n",
       "      <th></th>\n",
       "      <th>Beds</th>\n",
       "      <th>Bath</th>\n",
       "      <th>Sqft</th>\n",
       "      <th>Price</th>\n",
       "      <th>Address</th>\n",
       "      <th>Province</th>\n",
       "      <th>Region</th>\n",
       "    </tr>\n",
       "  </thead>\n",
       "  <tbody>\n",
       "    <tr>\n",
       "      <th>34742</th>\n",
       "      <td>8.0</td>\n",
       "      <td>4.0</td>\n",
       "      <td>3630.0</td>\n",
       "      <td>5500000.0</td>\n",
       "      <td>3290 DUMFRIES STREET</td>\n",
       "      <td>BC</td>\n",
       "      <td>West Coast</td>\n",
       "    </tr>\n",
       "    <tr>\n",
       "      <th>35140</th>\n",
       "      <td>10.0</td>\n",
       "      <td>6.0</td>\n",
       "      <td>5150.0</td>\n",
       "      <td>3299000.0</td>\n",
       "      <td>4311 4313 ALBERT STREET</td>\n",
       "      <td>BC</td>\n",
       "      <td>West Coast</td>\n",
       "    </tr>\n",
       "    <tr>\n",
       "      <th>35390</th>\n",
       "      <td>8.0</td>\n",
       "      <td>6.0</td>\n",
       "      <td>5582.0</td>\n",
       "      <td>3499000.0</td>\n",
       "      <td>120 BIRCH AVE</td>\n",
       "      <td>BC</td>\n",
       "      <td>West Coast</td>\n",
       "    </tr>\n",
       "    <tr>\n",
       "      <th>35473</th>\n",
       "      <td>1.0</td>\n",
       "      <td>1.0</td>\n",
       "      <td>224.0</td>\n",
       "      <td>2200000.0</td>\n",
       "      <td>DL 625 HEAD BAY Rd</td>\n",
       "      <td>BC</td>\n",
       "      <td>West Coast</td>\n",
       "    </tr>\n",
       "    <tr>\n",
       "      <th>37058</th>\n",
       "      <td>2.0</td>\n",
       "      <td>1.0</td>\n",
       "      <td>1250.0</td>\n",
       "      <td>2850000.0</td>\n",
       "      <td>101 South St</td>\n",
       "      <td>BC</td>\n",
       "      <td>West Coast</td>\n",
       "    </tr>\n",
       "  </tbody>\n",
       "</table>\n",
       "</div>"
      ],
      "text/plain": [
       "       Beds  Bath    Sqft      Price                   Address Province  \\\n",
       "34742   8.0   4.0  3630.0  5500000.0     3290 DUMFRIES STREET        BC   \n",
       "35140  10.0   6.0  5150.0  3299000.0  4311 4313 ALBERT STREET        BC   \n",
       "35390   8.0   6.0  5582.0  3499000.0            120 BIRCH AVE        BC   \n",
       "35473   1.0   1.0   224.0  2200000.0       DL 625 HEAD BAY Rd        BC   \n",
       "37058   2.0   1.0  1250.0  2850000.0             101 South St        BC   \n",
       "\n",
       "           Region  \n",
       "34742  West Coast  \n",
       "35140  West Coast  \n",
       "35390  West Coast  \n",
       "35473  West Coast  \n",
       "37058  West Coast  "
      ]
     },
     "execution_count": 120,
     "metadata": {},
     "output_type": "execute_result"
    }
   ],
   "source": [
    "Point2_data_duplicated.tail()"
   ]
  },
  {
   "cell_type": "markdown",
   "id": "d348ef66-bfca-49ff-8549-49f26e2f4a45",
   "metadata": {},
   "source": [
    "Save duplicated values to check"
   ]
  },
  {
   "cell_type": "code",
   "execution_count": 121,
   "id": "552dff5a-04a8-427c-8238-95ddd6360e7c",
   "metadata": {},
   "outputs": [],
   "source": [
    "Point2_data_duplicated.to_csv('Point2_data_duplicated.csv',index=False)"
   ]
  },
  {
   "cell_type": "markdown",
   "id": "a94bf78d-869a-4f04-a24b-c823fc4a7872",
   "metadata": {},
   "source": [
    "Double check whether the duplicate values are correct."
   ]
  },
  {
   "cell_type": "code",
   "execution_count": 122,
   "id": "d36ef7c5-943f-4d6a-b970-19ef08c70ee7",
   "metadata": {},
   "outputs": [
    {
     "data": {
      "text/html": [
       "<div>\n",
       "<style scoped>\n",
       "    .dataframe tbody tr th:only-of-type {\n",
       "        vertical-align: middle;\n",
       "    }\n",
       "\n",
       "    .dataframe tbody tr th {\n",
       "        vertical-align: top;\n",
       "    }\n",
       "\n",
       "    .dataframe thead th {\n",
       "        text-align: right;\n",
       "    }\n",
       "</style>\n",
       "<table border=\"1\" class=\"dataframe\">\n",
       "  <thead>\n",
       "    <tr style=\"text-align: right;\">\n",
       "      <th></th>\n",
       "      <th>Beds</th>\n",
       "      <th>Bath</th>\n",
       "      <th>Sqft</th>\n",
       "      <th>Price</th>\n",
       "      <th>Address</th>\n",
       "      <th>Province</th>\n",
       "      <th>Region</th>\n",
       "    </tr>\n",
       "  </thead>\n",
       "  <tbody>\n",
       "    <tr>\n",
       "      <th>2307</th>\n",
       "      <td>3.0</td>\n",
       "      <td>2.0</td>\n",
       "      <td>1500.0</td>\n",
       "      <td>455000.0</td>\n",
       "      <td>34 Holmes Lane</td>\n",
       "      <td>PE</td>\n",
       "      <td>Atlantic region</td>\n",
       "    </tr>\n",
       "    <tr>\n",
       "      <th>2560</th>\n",
       "      <td>3.0</td>\n",
       "      <td>2.0</td>\n",
       "      <td>1500.0</td>\n",
       "      <td>455000.0</td>\n",
       "      <td>34 Holmes Lane</td>\n",
       "      <td>PE</td>\n",
       "      <td>Atlantic region</td>\n",
       "    </tr>\n",
       "  </tbody>\n",
       "</table>\n",
       "</div>"
      ],
      "text/plain": [
       "      Beds  Bath    Sqft     Price          Address Province           Region\n",
       "2307   3.0   2.0  1500.0  455000.0  34 Holmes Lane        PE  Atlantic region\n",
       "2560   3.0   2.0  1500.0  455000.0  34 Holmes Lane        PE  Atlantic region"
      ]
     },
     "execution_count": 122,
     "metadata": {},
     "output_type": "execute_result"
    }
   ],
   "source": [
    "Point2_data_without_NaSqft[Point2_data_without_NaSqft['Address']=='34 Holmes Lane ']"
   ]
  },
  {
   "cell_type": "markdown",
   "id": "5a2d29ef-e932-473b-b6f0-531b4b7ef4b5",
   "metadata": {},
   "source": [
    "**Those duplicated values need to be removed from website and free the storge of data**"
   ]
  },
  {
   "cell_type": "markdown",
   "id": "aa729ee1-0bee-4c4a-ad50-e3e950583b1c",
   "metadata": {},
   "source": [
    "#### 3.2 Drop Duplicate values"
   ]
  },
  {
   "cell_type": "code",
   "execution_count": 123,
   "id": "79e85160-3a9b-4698-874b-5fc34057f48e",
   "metadata": {},
   "outputs": [],
   "source": [
    "Point2_data_without_NaSqft = Point2_data_without_NaSqft.drop_duplicates()"
   ]
  },
  {
   "cell_type": "code",
   "execution_count": 124,
   "id": "5085fb45-cc38-4d72-a069-3ccd6e93e912",
   "metadata": {},
   "outputs": [
    {
     "data": {
      "text/plain": [
       "(36718, 7)"
      ]
     },
     "execution_count": 124,
     "metadata": {},
     "output_type": "execute_result"
    }
   ],
   "source": [
    "Point2_data_without_NaSqft.shape"
   ]
  },
  {
   "cell_type": "code",
   "execution_count": 125,
   "id": "8a1618bd-a014-48ee-ba9f-b5f6ef6e8b49",
   "metadata": {},
   "outputs": [],
   "source": [
    "Point2_data_without_NaSqft = Point2_data_without_NaSqft.reset_index().drop(['index'], axis=1)"
   ]
  },
  {
   "cell_type": "code",
   "execution_count": 126,
   "id": "4e9212c8-6078-4a1c-827e-9be7ea713326",
   "metadata": {},
   "outputs": [
    {
     "data": {
      "text/html": [
       "<div>\n",
       "<style scoped>\n",
       "    .dataframe tbody tr th:only-of-type {\n",
       "        vertical-align: middle;\n",
       "    }\n",
       "\n",
       "    .dataframe tbody tr th {\n",
       "        vertical-align: top;\n",
       "    }\n",
       "\n",
       "    .dataframe thead th {\n",
       "        text-align: right;\n",
       "    }\n",
       "</style>\n",
       "<table border=\"1\" class=\"dataframe\">\n",
       "  <thead>\n",
       "    <tr style=\"text-align: right;\">\n",
       "      <th></th>\n",
       "      <th>Beds</th>\n",
       "      <th>Bath</th>\n",
       "      <th>Sqft</th>\n",
       "      <th>Price</th>\n",
       "      <th>Address</th>\n",
       "      <th>Province</th>\n",
       "      <th>Region</th>\n",
       "    </tr>\n",
       "  </thead>\n",
       "  <tbody>\n",
       "    <tr>\n",
       "      <th>36713</th>\n",
       "      <td>5.0</td>\n",
       "      <td>3.0</td>\n",
       "      <td>3700.0</td>\n",
       "      <td>11000000.0</td>\n",
       "      <td>4664 192 STREET</td>\n",
       "      <td>BC</td>\n",
       "      <td>West Coast</td>\n",
       "    </tr>\n",
       "    <tr>\n",
       "      <th>36714</th>\n",
       "      <td>4.0</td>\n",
       "      <td>3.0</td>\n",
       "      <td>3335.0</td>\n",
       "      <td>5550000.0</td>\n",
       "      <td>595 W 28TH AVENUE</td>\n",
       "      <td>BC</td>\n",
       "      <td>West Coast</td>\n",
       "    </tr>\n",
       "    <tr>\n",
       "      <th>36715</th>\n",
       "      <td>4.0</td>\n",
       "      <td>3.0</td>\n",
       "      <td>2511.0</td>\n",
       "      <td>3024120.0</td>\n",
       "      <td>540 POIRIER STREET</td>\n",
       "      <td>BC</td>\n",
       "      <td>West Coast</td>\n",
       "    </tr>\n",
       "    <tr>\n",
       "      <th>36716</th>\n",
       "      <td>4.0</td>\n",
       "      <td>4.0</td>\n",
       "      <td>4753.0</td>\n",
       "      <td>5180000.0</td>\n",
       "      <td>20395 74B AVENUE</td>\n",
       "      <td>BC</td>\n",
       "      <td>West Coast</td>\n",
       "    </tr>\n",
       "    <tr>\n",
       "      <th>36717</th>\n",
       "      <td>5.0</td>\n",
       "      <td>8.0</td>\n",
       "      <td>6802.0</td>\n",
       "      <td>5999000.0</td>\n",
       "      <td>1507 PINECREST DRIVE</td>\n",
       "      <td>BC</td>\n",
       "      <td>West Coast</td>\n",
       "    </tr>\n",
       "  </tbody>\n",
       "</table>\n",
       "</div>"
      ],
      "text/plain": [
       "       Beds  Bath    Sqft       Price                Address Province  \\\n",
       "36713   5.0   3.0  3700.0  11000000.0       4664 192 STREET        BC   \n",
       "36714   4.0   3.0  3335.0   5550000.0     595 W 28TH AVENUE        BC   \n",
       "36715   4.0   3.0  2511.0   3024120.0    540 POIRIER STREET        BC   \n",
       "36716   4.0   4.0  4753.0   5180000.0      20395 74B AVENUE        BC   \n",
       "36717   5.0   8.0  6802.0   5999000.0  1507 PINECREST DRIVE        BC   \n",
       "\n",
       "           Region  \n",
       "36713  West Coast  \n",
       "36714  West Coast  \n",
       "36715  West Coast  \n",
       "36716  West Coast  \n",
       "36717  West Coast  "
      ]
     },
     "execution_count": 126,
     "metadata": {},
     "output_type": "execute_result"
    }
   ],
   "source": [
    "Point2_data_without_NaSqft.tail()"
   ]
  },
  {
   "cell_type": "code",
   "execution_count": 207,
   "id": "02d9f2d2-44ca-4eda-97f5-1d2f4a4bbe09",
   "metadata": {},
   "outputs": [],
   "source": [
    "#Point2_data_without_NaSqft.to_csv('Point2_data_without_NaSqft.csv',index=False)"
   ]
  },
  {
   "cell_type": "code",
   "execution_count": 19,
   "id": "bb4ac14a-e599-4d8a-883f-2819078eb575",
   "metadata": {},
   "outputs": [],
   "source": [
    "Point2_data_with_NaSqft = Point2_data_with_NaSqft.drop_duplicates()"
   ]
  },
  {
   "cell_type": "code",
   "execution_count": 20,
   "id": "a214792d-f1d7-4c75-844f-ea0cdfd82ba7",
   "metadata": {},
   "outputs": [
    {
     "data": {
      "text/plain": [
       "(50427, 7)"
      ]
     },
     "execution_count": 20,
     "metadata": {},
     "output_type": "execute_result"
    }
   ],
   "source": [
    "Point2_data_with_NaSqft.shape"
   ]
  },
  {
   "cell_type": "code",
   "execution_count": 21,
   "id": "0e3ae6b4-db9c-4ae5-8cae-cf8ef436b441",
   "metadata": {},
   "outputs": [],
   "source": [
    "Point2_data_with_NaSqft = Point2_data_with_NaSqft.reset_index().drop(['index'], axis=1)"
   ]
  },
  {
   "cell_type": "code",
   "execution_count": 22,
   "id": "8ddf6ace-7790-4b47-975f-8e05b22962a0",
   "metadata": {},
   "outputs": [
    {
     "data": {
      "text/html": [
       "<div>\n",
       "<style scoped>\n",
       "    .dataframe tbody tr th:only-of-type {\n",
       "        vertical-align: middle;\n",
       "    }\n",
       "\n",
       "    .dataframe tbody tr th {\n",
       "        vertical-align: top;\n",
       "    }\n",
       "\n",
       "    .dataframe thead th {\n",
       "        text-align: right;\n",
       "    }\n",
       "</style>\n",
       "<table border=\"1\" class=\"dataframe\">\n",
       "  <thead>\n",
       "    <tr style=\"text-align: right;\">\n",
       "      <th></th>\n",
       "      <th>Beds</th>\n",
       "      <th>Bath</th>\n",
       "      <th>Sqft</th>\n",
       "      <th>Price</th>\n",
       "      <th>Address</th>\n",
       "      <th>Province</th>\n",
       "      <th>Region</th>\n",
       "    </tr>\n",
       "  </thead>\n",
       "  <tbody>\n",
       "    <tr>\n",
       "      <th>50422</th>\n",
       "      <td>5.0</td>\n",
       "      <td>3.0</td>\n",
       "      <td>3700.0</td>\n",
       "      <td>11000000.0</td>\n",
       "      <td>4664 192 STREET</td>\n",
       "      <td>BC</td>\n",
       "      <td>West Coast</td>\n",
       "    </tr>\n",
       "    <tr>\n",
       "      <th>50423</th>\n",
       "      <td>4.0</td>\n",
       "      <td>3.0</td>\n",
       "      <td>3335.0</td>\n",
       "      <td>5550000.0</td>\n",
       "      <td>595 W 28TH AVENUE</td>\n",
       "      <td>BC</td>\n",
       "      <td>West Coast</td>\n",
       "    </tr>\n",
       "    <tr>\n",
       "      <th>50424</th>\n",
       "      <td>4.0</td>\n",
       "      <td>3.0</td>\n",
       "      <td>2511.0</td>\n",
       "      <td>3024120.0</td>\n",
       "      <td>540 POIRIER STREET</td>\n",
       "      <td>BC</td>\n",
       "      <td>West Coast</td>\n",
       "    </tr>\n",
       "    <tr>\n",
       "      <th>50425</th>\n",
       "      <td>4.0</td>\n",
       "      <td>4.0</td>\n",
       "      <td>4753.0</td>\n",
       "      <td>5180000.0</td>\n",
       "      <td>20395 74B AVENUE</td>\n",
       "      <td>BC</td>\n",
       "      <td>West Coast</td>\n",
       "    </tr>\n",
       "    <tr>\n",
       "      <th>50426</th>\n",
       "      <td>5.0</td>\n",
       "      <td>8.0</td>\n",
       "      <td>6802.0</td>\n",
       "      <td>5999000.0</td>\n",
       "      <td>1507 PINECREST DRIVE</td>\n",
       "      <td>BC</td>\n",
       "      <td>West Coast</td>\n",
       "    </tr>\n",
       "  </tbody>\n",
       "</table>\n",
       "</div>"
      ],
      "text/plain": [
       "       Beds  Bath    Sqft       Price                Address Province  \\\n",
       "50422   5.0   3.0  3700.0  11000000.0       4664 192 STREET        BC   \n",
       "50423   4.0   3.0  3335.0   5550000.0     595 W 28TH AVENUE        BC   \n",
       "50424   4.0   3.0  2511.0   3024120.0    540 POIRIER STREET        BC   \n",
       "50425   4.0   4.0  4753.0   5180000.0      20395 74B AVENUE        BC   \n",
       "50426   5.0   8.0  6802.0   5999000.0  1507 PINECREST DRIVE        BC   \n",
       "\n",
       "           Region  \n",
       "50422  West Coast  \n",
       "50423  West Coast  \n",
       "50424  West Coast  \n",
       "50425  West Coast  \n",
       "50426  West Coast  "
      ]
     },
     "execution_count": 22,
     "metadata": {},
     "output_type": "execute_result"
    }
   ],
   "source": [
    "Point2_data_with_NaSqft.tail()"
   ]
  },
  {
   "cell_type": "code",
   "execution_count": 24,
   "id": "efbea67f-a725-4e5b-b0b7-3c356282d634",
   "metadata": {},
   "outputs": [],
   "source": [
    "#Point2_data_with_NaSqft.to_csv('Point2_data_with_NaSqft.csv',index=False)"
   ]
  },
  {
   "cell_type": "markdown",
   "id": "a722177d-beea-4d04-99ee-e2d9c4e3a084",
   "metadata": {},
   "source": [
    "### 4. Find outliers"
   ]
  },
  {
   "cell_type": "markdown",
   "id": "16cd35f7-8370-4fbf-a14e-a19c74f86417",
   "metadata": {},
   "source": [
    "#### 4.1 Bathrooms"
   ]
  },
  {
   "cell_type": "code",
   "execution_count": 128,
   "id": "e1d19624-86aa-42b7-ad95-c209a7722fdb",
   "metadata": {},
   "outputs": [
    {
     "data": {
      "image/png": "[encoded data removed]",
      "text/plain": [
       "<Figure size 432x288 with 1 Axes>"
      ]
     },
     "metadata": {
      "needs_background": "light"
     },
     "output_type": "display_data"
    }
   ],
   "source": [
    "boxplot = Point2_data_without_NaSqft.boxplot(column=['Bath'])"
   ]
  },
  {
   "cell_type": "code",
   "execution_count": 129,
   "id": "608467f3-b533-4bfb-86e4-52736f64817a",
   "metadata": {},
   "outputs": [
    {
     "data": {
      "text/html": [
       "<div>\n",
       "<style scoped>\n",
       "    .dataframe tbody tr th:only-of-type {\n",
       "        vertical-align: middle;\n",
       "    }\n",
       "\n",
       "    .dataframe tbody tr th {\n",
       "        vertical-align: top;\n",
       "    }\n",
       "\n",
       "    .dataframe thead th {\n",
       "        text-align: right;\n",
       "    }\n",
       "</style>\n",
       "<table border=\"1\" class=\"dataframe\">\n",
       "  <thead>\n",
       "    <tr style=\"text-align: right;\">\n",
       "      <th></th>\n",
       "      <th>Beds</th>\n",
       "      <th>Bath</th>\n",
       "      <th>Sqft</th>\n",
       "      <th>Price</th>\n",
       "      <th>Address</th>\n",
       "      <th>Province</th>\n",
       "      <th>Region</th>\n",
       "    </tr>\n",
       "  </thead>\n",
       "  <tbody>\n",
       "    <tr>\n",
       "      <th>4468</th>\n",
       "      <td>2.0</td>\n",
       "      <td>769.0</td>\n",
       "      <td>768.0</td>\n",
       "      <td>129000.0</td>\n",
       "      <td>0 Reg Keepings Road</td>\n",
       "      <td>NL</td>\n",
       "      <td>Atlantic region</td>\n",
       "    </tr>\n",
       "    <tr>\n",
       "      <th>7989</th>\n",
       "      <td>2.0</td>\n",
       "      <td>1795.0</td>\n",
       "      <td>795.0</td>\n",
       "      <td>843098.0</td>\n",
       "      <td>2334 St. Paul Ave.</td>\n",
       "      <td>ON</td>\n",
       "      <td>Central Canada</td>\n",
       "    </tr>\n",
       "  </tbody>\n",
       "</table>\n",
       "</div>"
      ],
      "text/plain": [
       "      Beds    Bath   Sqft     Price               Address Province  \\\n",
       "4468   2.0   769.0  768.0  129000.0  0 Reg Keepings Road        NL   \n",
       "7989   2.0  1795.0  795.0  843098.0   2334 St. Paul Ave.        ON   \n",
       "\n",
       "               Region  \n",
       "4468  Atlantic region  \n",
       "7989   Central Canada  "
      ]
     },
     "execution_count": 129,
     "metadata": {},
     "output_type": "execute_result"
    }
   ],
   "source": [
    "Point2_data_without_NaSqft[Point2_data_without_NaSqft['Bath']>250]"
   ]
  },
  {
   "cell_type": "markdown",
   "id": "5462c4fe-7ebf-4f68-b3a3-4e7973683d36",
   "metadata": {},
   "source": [
    "These two data should be typing errors, let's try some small numbers"
   ]
  },
  {
   "cell_type": "code",
   "execution_count": 146,
   "id": "53103094-381c-4f66-b60a-49972645a69e",
   "metadata": {},
   "outputs": [
    {
     "data": {
      "text/html": [
       "<div>\n",
       "<style scoped>\n",
       "    .dataframe tbody tr th:only-of-type {\n",
       "        vertical-align: middle;\n",
       "    }\n",
       "\n",
       "    .dataframe tbody tr th {\n",
       "        vertical-align: top;\n",
       "    }\n",
       "\n",
       "    .dataframe thead th {\n",
       "        text-align: right;\n",
       "    }\n",
       "</style>\n",
       "<table border=\"1\" class=\"dataframe\">\n",
       "  <thead>\n",
       "    <tr style=\"text-align: right;\">\n",
       "      <th></th>\n",
       "      <th>Beds</th>\n",
       "      <th>Bath</th>\n",
       "      <th>Sqft</th>\n",
       "      <th>Price</th>\n",
       "      <th>Address</th>\n",
       "      <th>Province</th>\n",
       "      <th>Region</th>\n",
       "    </tr>\n",
       "  </thead>\n",
       "  <tbody>\n",
       "    <tr>\n",
       "      <th>649</th>\n",
       "      <td>16.0</td>\n",
       "      <td>19.0</td>\n",
       "      <td>11724.0</td>\n",
       "      <td>1795000.0</td>\n",
       "      <td>150 Cumberland Street</td>\n",
       "      <td>NS</td>\n",
       "      <td>Atlantic region</td>\n",
       "    </tr>\n",
       "    <tr>\n",
       "      <th>2574</th>\n",
       "      <td>3.0</td>\n",
       "      <td>21.0</td>\n",
       "      <td>2400.0</td>\n",
       "      <td>459000.0</td>\n",
       "      <td>756 Route 148</td>\n",
       "      <td>NB</td>\n",
       "      <td>Atlantic region</td>\n",
       "    </tr>\n",
       "    <tr>\n",
       "      <th>4468</th>\n",
       "      <td>2.0</td>\n",
       "      <td>769.0</td>\n",
       "      <td>768.0</td>\n",
       "      <td>129000.0</td>\n",
       "      <td>0 Reg Keepings Road</td>\n",
       "      <td>NL</td>\n",
       "      <td>Atlantic region</td>\n",
       "    </tr>\n",
       "    <tr>\n",
       "      <th>7989</th>\n",
       "      <td>2.0</td>\n",
       "      <td>1795.0</td>\n",
       "      <td>795.0</td>\n",
       "      <td>843098.0</td>\n",
       "      <td>2334 St. Paul Ave.</td>\n",
       "      <td>ON</td>\n",
       "      <td>Central Canada</td>\n",
       "    </tr>\n",
       "    <tr>\n",
       "      <th>27490</th>\n",
       "      <td>9.0</td>\n",
       "      <td>17.0</td>\n",
       "      <td>813274.0</td>\n",
       "      <td>2395000.0</td>\n",
       "      <td>944 166 AV NE</td>\n",
       "      <td>AB</td>\n",
       "      <td>Prairie Provinces</td>\n",
       "    </tr>\n",
       "  </tbody>\n",
       "</table>\n",
       "</div>"
      ],
      "text/plain": [
       "       Beds    Bath      Sqft      Price                 Address Province  \\\n",
       "649    16.0    19.0   11724.0  1795000.0  150 Cumberland Street        NS   \n",
       "2574    3.0    21.0    2400.0   459000.0          756 Route 148        NB   \n",
       "4468    2.0   769.0     768.0   129000.0    0 Reg Keepings Road        NL   \n",
       "7989    2.0  1795.0     795.0   843098.0     2334 St. Paul Ave.        ON   \n",
       "27490   9.0    17.0  813274.0  2395000.0          944 166 AV NE        AB   \n",
       "\n",
       "                  Region  \n",
       "649      Atlantic region  \n",
       "2574     Atlantic region  \n",
       "4468     Atlantic region  \n",
       "7989      Central Canada  \n",
       "27490  Prairie Provinces  "
      ]
     },
     "execution_count": 146,
     "metadata": {},
     "output_type": "execute_result"
    }
   ],
   "source": [
    "Point2_data_without_NaSqft[Point2_data_without_NaSqft['Bath']>15]"
   ]
  },
  {
   "cell_type": "code",
   "execution_count": 189,
   "id": "765456db-6673-4714-8924-7a4f7107df0e",
   "metadata": {},
   "outputs": [],
   "source": [
    "Point2_data_outliers_Bath= Point2_data_without_NaSqft[Point2_data_without_NaSqft['Bath']>20]"
   ]
  },
  {
   "cell_type": "code",
   "execution_count": 192,
   "id": "dda48889-54fa-48b7-bb5e-2991eef32f72",
   "metadata": {},
   "outputs": [
    {
     "data": {
      "text/html": [
       "<div>\n",
       "<style scoped>\n",
       "    .dataframe tbody tr th:only-of-type {\n",
       "        vertical-align: middle;\n",
       "    }\n",
       "\n",
       "    .dataframe tbody tr th {\n",
       "        vertical-align: top;\n",
       "    }\n",
       "\n",
       "    .dataframe thead th {\n",
       "        text-align: right;\n",
       "    }\n",
       "</style>\n",
       "<table border=\"1\" class=\"dataframe\">\n",
       "  <thead>\n",
       "    <tr style=\"text-align: right;\">\n",
       "      <th></th>\n",
       "      <th>Beds</th>\n",
       "      <th>Bath</th>\n",
       "      <th>Sqft</th>\n",
       "      <th>Price</th>\n",
       "      <th>Address</th>\n",
       "      <th>Province</th>\n",
       "      <th>Region</th>\n",
       "    </tr>\n",
       "  </thead>\n",
       "  <tbody>\n",
       "    <tr>\n",
       "      <th>0</th>\n",
       "      <td>3.0</td>\n",
       "      <td>21.0</td>\n",
       "      <td>2400.0</td>\n",
       "      <td>459000.0</td>\n",
       "      <td>756 Route 148</td>\n",
       "      <td>NB</td>\n",
       "      <td>Atlantic region</td>\n",
       "    </tr>\n",
       "    <tr>\n",
       "      <th>1</th>\n",
       "      <td>2.0</td>\n",
       "      <td>769.0</td>\n",
       "      <td>768.0</td>\n",
       "      <td>129000.0</td>\n",
       "      <td>0 Reg Keepings Road</td>\n",
       "      <td>NL</td>\n",
       "      <td>Atlantic region</td>\n",
       "    </tr>\n",
       "    <tr>\n",
       "      <th>2</th>\n",
       "      <td>2.0</td>\n",
       "      <td>1795.0</td>\n",
       "      <td>795.0</td>\n",
       "      <td>843098.0</td>\n",
       "      <td>2334 St. Paul Ave.</td>\n",
       "      <td>ON</td>\n",
       "      <td>Central Canada</td>\n",
       "    </tr>\n",
       "  </tbody>\n",
       "</table>\n",
       "</div>"
      ],
      "text/plain": [
       "   Beds    Bath    Sqft     Price               Address Province  \\\n",
       "0   3.0    21.0  2400.0  459000.0        756 Route 148        NB   \n",
       "1   2.0   769.0   768.0  129000.0  0 Reg Keepings Road        NL   \n",
       "2   2.0  1795.0   795.0  843098.0   2334 St. Paul Ave.        ON   \n",
       "\n",
       "            Region  \n",
       "0  Atlantic region  \n",
       "1  Atlantic region  \n",
       "2   Central Canada  "
      ]
     },
     "execution_count": 192,
     "metadata": {},
     "output_type": "execute_result"
    }
   ],
   "source": [
    "Point2_data_outliers_Bath"
   ]
  },
  {
   "cell_type": "code",
   "execution_count": 149,
   "id": "6c203a7e-64bc-4503-8a38-aef7d67a22ec",
   "metadata": {},
   "outputs": [],
   "source": [
    "Point2_data_outliers_Bath.to_csv('Point2_data_outliers_Bath.csv',index=False)"
   ]
  },
  {
   "cell_type": "markdown",
   "id": "b213c5b8-cc74-4276-9ad5-7da852b051a0",
   "metadata": {},
   "source": [
    "These three data should be typing errors"
   ]
  },
  {
   "cell_type": "markdown",
   "id": "9e822517-4195-4579-a5a9-4711657eb1d5",
   "metadata": {},
   "source": [
    "Drop those outliers"
   ]
  },
  {
   "cell_type": "code",
   "execution_count": 150,
   "id": "0c2824f2-d084-47d3-b39b-6d501a713752",
   "metadata": {},
   "outputs": [],
   "source": [
    "Point2_data_without_NaSqft = Point2_data_without_NaSqft.drop([2574,4468,7989])"
   ]
  },
  {
   "cell_type": "code",
   "execution_count": 151,
   "id": "4c1228eb-c2ea-4325-a899-c70471d9e706",
   "metadata": {},
   "outputs": [
    {
     "data": {
      "image/png": "[encoded data removed]",
      "text/plain": [
       "<Figure size 432x288 with 1 Axes>"
      ]
     },
     "metadata": {
      "needs_background": "light"
     },
     "output_type": "display_data"
    }
   ],
   "source": [
    "boxplot = Point2_data_without_NaSqft.boxplot(column=['Bath'])"
   ]
  },
  {
   "cell_type": "markdown",
   "id": "655b8f66-f8d8-46a2-8658-846ace240098",
   "metadata": {},
   "source": [
    "Those data are reasonable compared to the price."
   ]
  },
  {
   "cell_type": "code",
   "execution_count": 25,
   "id": "cce97b29-3b9b-40db-95a8-a8b45316e723",
   "metadata": {},
   "outputs": [],
   "source": [
    "Point2_data_with_NaSqft = Point2_data_with_NaSqft.drop([2574,4468,7989])"
   ]
  },
  {
   "cell_type": "code",
   "execution_count": 26,
   "id": "2760caac-af97-40d8-80e2-405583b40ab2",
   "metadata": {},
   "outputs": [
    {
     "data": {
      "image/png": "[encoded data removed]",
      "text/plain": [
       "<Figure size 432x288 with 1 Axes>"
      ]
     },
     "metadata": {
      "needs_background": "light"
     },
     "output_type": "display_data"
    }
   ],
   "source": [
    "boxplot = Point2_data_with_NaSqft.boxplot(column=['Bath'])"
   ]
  },
  {
   "cell_type": "code",
   "execution_count": 30,
   "id": "964c4694-7c79-4968-bcda-dbe587a3ddb8",
   "metadata": {},
   "outputs": [
    {
     "data": {
      "text/html": [
       "<div>\n",
       "<style scoped>\n",
       "    .dataframe tbody tr th:only-of-type {\n",
       "        vertical-align: middle;\n",
       "    }\n",
       "\n",
       "    .dataframe tbody tr th {\n",
       "        vertical-align: top;\n",
       "    }\n",
       "\n",
       "    .dataframe thead th {\n",
       "        text-align: right;\n",
       "    }\n",
       "</style>\n",
       "<table border=\"1\" class=\"dataframe\">\n",
       "  <thead>\n",
       "    <tr style=\"text-align: right;\">\n",
       "      <th></th>\n",
       "      <th>Beds</th>\n",
       "      <th>Bath</th>\n",
       "      <th>Sqft</th>\n",
       "      <th>Price</th>\n",
       "      <th>Address</th>\n",
       "      <th>Province</th>\n",
       "      <th>Region</th>\n",
       "    </tr>\n",
       "  </thead>\n",
       "  <tbody>\n",
       "    <tr>\n",
       "      <th>2638</th>\n",
       "      <td>3.0</td>\n",
       "      <td>21.0</td>\n",
       "      <td>2400.0</td>\n",
       "      <td>459000.0</td>\n",
       "      <td>756 Route 148</td>\n",
       "      <td>NB</td>\n",
       "      <td>Atlantic region</td>\n",
       "    </tr>\n",
       "  </tbody>\n",
       "</table>\n",
       "</div>"
      ],
      "text/plain": [
       "      Beds  Bath    Sqft     Price         Address Province           Region\n",
       "2638   3.0  21.0  2400.0  459000.0  756 Route 148        NB  Atlantic region"
      ]
     },
     "execution_count": 30,
     "metadata": {},
     "output_type": "execute_result"
    }
   ],
   "source": [
    "Point2_data_with_NaSqft[Point2_data_with_NaSqft['Bath']>20]"
   ]
  },
  {
   "cell_type": "code",
   "execution_count": 28,
   "id": "898dc51e-0293-4f0b-8490-409a5103ff38",
   "metadata": {},
   "outputs": [],
   "source": [
    "Point2_data_with_NaSqft = Point2_data_with_NaSqft.drop([5342,13918])"
   ]
  },
  {
   "cell_type": "code",
   "execution_count": 29,
   "id": "4f5747c4-8fb6-4d07-b7df-0a2a46241168",
   "metadata": {},
   "outputs": [
    {
     "data": {
      "image/png": "[encoded data removed]",
      "text/plain": [
       "<Figure size 432x288 with 1 Axes>"
      ]
     },
     "metadata": {
      "needs_background": "light"
     },
     "output_type": "display_data"
    }
   ],
   "source": [
    "boxplot = Point2_data_with_NaSqft.boxplot(column=['Bath'])"
   ]
  },
  {
   "cell_type": "markdown",
   "id": "176a8f33-c65a-4760-942e-23b29f55af0b",
   "metadata": {},
   "source": [
    "#### 4.2 Bedrooms"
   ]
  },
  {
   "cell_type": "code",
   "execution_count": 153,
   "id": "0d342f77-9503-4e98-974b-e60daa0f4561",
   "metadata": {},
   "outputs": [
    {
     "data": {
      "image/png": "[encoded data removed]",
      "text/plain": [
       "<Figure size 432x288 with 1 Axes>"
      ]
     },
     "metadata": {
      "needs_background": "light"
     },
     "output_type": "display_data"
    }
   ],
   "source": [
    "boxplot = Point2_data_without_NaSqft.boxplot(column=['Beds'])"
   ]
  },
  {
   "cell_type": "code",
   "execution_count": 154,
   "id": "d3d46c10-d934-4ebd-a020-503c0e260766",
   "metadata": {},
   "outputs": [
    {
     "data": {
      "text/html": [
       "<div>\n",
       "<style scoped>\n",
       "    .dataframe tbody tr th:only-of-type {\n",
       "        vertical-align: middle;\n",
       "    }\n",
       "\n",
       "    .dataframe tbody tr th {\n",
       "        vertical-align: top;\n",
       "    }\n",
       "\n",
       "    .dataframe thead th {\n",
       "        text-align: right;\n",
       "    }\n",
       "</style>\n",
       "<table border=\"1\" class=\"dataframe\">\n",
       "  <thead>\n",
       "    <tr style=\"text-align: right;\">\n",
       "      <th></th>\n",
       "      <th>Beds</th>\n",
       "      <th>Bath</th>\n",
       "      <th>Sqft</th>\n",
       "      <th>Price</th>\n",
       "      <th>Address</th>\n",
       "      <th>Province</th>\n",
       "      <th>Region</th>\n",
       "    </tr>\n",
       "  </thead>\n",
       "  <tbody>\n",
       "    <tr>\n",
       "      <th>649</th>\n",
       "      <td>16.0</td>\n",
       "      <td>19.0</td>\n",
       "      <td>11724.0</td>\n",
       "      <td>1795000.0</td>\n",
       "      <td>150 Cumberland Street</td>\n",
       "      <td>NS</td>\n",
       "      <td>Atlantic region</td>\n",
       "    </tr>\n",
       "    <tr>\n",
       "      <th>26336</th>\n",
       "      <td>34.0</td>\n",
       "      <td>3.0</td>\n",
       "      <td>2105.0</td>\n",
       "      <td>818850.0</td>\n",
       "      <td>2425 22A Street NW</td>\n",
       "      <td>AB</td>\n",
       "      <td>Prairie Provinces</td>\n",
       "    </tr>\n",
       "    <tr>\n",
       "      <th>35781</th>\n",
       "      <td>20.0</td>\n",
       "      <td>11.0</td>\n",
       "      <td>11375.0</td>\n",
       "      <td>14000000.0</td>\n",
       "      <td>230 Smith Rd</td>\n",
       "      <td>BC</td>\n",
       "      <td>West Coast</td>\n",
       "    </tr>\n",
       "    <tr>\n",
       "      <th>35993</th>\n",
       "      <td>21.0</td>\n",
       "      <td>7.0</td>\n",
       "      <td>7670.0</td>\n",
       "      <td>3998000.0</td>\n",
       "      <td>1420-1430 NAPIER STREET</td>\n",
       "      <td>BC</td>\n",
       "      <td>West Coast</td>\n",
       "    </tr>\n",
       "  </tbody>\n",
       "</table>\n",
       "</div>"
      ],
      "text/plain": [
       "       Beds  Bath     Sqft       Price                   Address Province  \\\n",
       "649    16.0  19.0  11724.0   1795000.0    150 Cumberland Street        NS   \n",
       "26336  34.0   3.0   2105.0    818850.0       2425 22A Street NW        AB   \n",
       "35781  20.0  11.0  11375.0  14000000.0             230 Smith Rd        BC   \n",
       "35993  21.0   7.0   7670.0   3998000.0  1420-1430 NAPIER STREET        BC   \n",
       "\n",
       "                  Region  \n",
       "649      Atlantic region  \n",
       "26336  Prairie Provinces  \n",
       "35781         West Coast  \n",
       "35993         West Coast  "
      ]
     },
     "execution_count": 154,
     "metadata": {},
     "output_type": "execute_result"
    }
   ],
   "source": [
    "Point2_data_without_NaSqft[Point2_data_without_NaSqft['Beds']>15]"
   ]
  },
  {
   "cell_type": "markdown",
   "id": "3e6876b7-2267-46e3-bbc3-767ce81274cc",
   "metadata": {},
   "source": [
    "The 34-bedroom house is not realistic."
   ]
  },
  {
   "cell_type": "code",
   "execution_count": 187,
   "id": "6e46a5d3-43d7-4b01-9164-3bfcbbf04ac1",
   "metadata": {},
   "outputs": [],
   "source": [
    "Point2_data_outliers_Bed = Point2_data_without_NaSqft.loc[26336,:]"
   ]
  },
  {
   "cell_type": "code",
   "execution_count": 188,
   "id": "a3cb20ea-d21b-4e84-a92b-b42af1b87207",
   "metadata": {},
   "outputs": [
    {
     "data": {
      "text/plain": [
       "Beds                       34.0\n",
       "Bath                        3.0\n",
       "Sqft                     2105.0\n",
       "Price                  818850.0\n",
       "Address     2425 22A Street NW \n",
       "Province                     AB\n",
       "Region        Prairie Provinces\n",
       "Name: 26336, dtype: object"
      ]
     },
     "execution_count": 188,
     "metadata": {},
     "output_type": "execute_result"
    }
   ],
   "source": [
    "Point2_data_outliers_Bed"
   ]
  },
  {
   "cell_type": "markdown",
   "id": "f784ed39-25c5-4efc-a6cb-6d73e57aa8ae",
   "metadata": {},
   "source": [
    "Drop the outlier"
   ]
  },
  {
   "cell_type": "code",
   "execution_count": 194,
   "id": "92fbfca6-9cc7-40ec-814d-32f631ed9fdf",
   "metadata": {},
   "outputs": [],
   "source": [
    "Point2_data_outliers_Bed.to_csv('Point2_data_outliers_Bed.csv',index=False)"
   ]
  },
  {
   "cell_type": "code",
   "execution_count": 193,
   "id": "e9514977-ba9d-43de-ba0b-23ca1b87cc4b",
   "metadata": {},
   "outputs": [],
   "source": [
    "Point2_data_without_NaSqft = Point2_data_without_NaSqft.drop([26336])"
   ]
  },
  {
   "cell_type": "code",
   "execution_count": 33,
   "id": "b82550f4-e405-43a4-9bf6-d0e397f405f5",
   "metadata": {},
   "outputs": [
    {
     "data": {
      "image/png": "[encoded data removed]",
      "text/plain": [
       "<Figure size 432x288 with 1 Axes>"
      ]
     },
     "metadata": {
      "needs_background": "light"
     },
     "output_type": "display_data"
    }
   ],
   "source": [
    "boxplot = Point2_data_with_NaSqft.boxplot(column=['Beds'])"
   ]
  },
  {
   "cell_type": "code",
   "execution_count": 34,
   "id": "b2d23675-4803-4b2b-a0aa-9d7658863ed2",
   "metadata": {},
   "outputs": [
    {
     "data": {
      "text/html": [
       "<div>\n",
       "<style scoped>\n",
       "    .dataframe tbody tr th:only-of-type {\n",
       "        vertical-align: middle;\n",
       "    }\n",
       "\n",
       "    .dataframe tbody tr th {\n",
       "        vertical-align: top;\n",
       "    }\n",
       "\n",
       "    .dataframe thead th {\n",
       "        text-align: right;\n",
       "    }\n",
       "</style>\n",
       "<table border=\"1\" class=\"dataframe\">\n",
       "  <thead>\n",
       "    <tr style=\"text-align: right;\">\n",
       "      <th></th>\n",
       "      <th>Beds</th>\n",
       "      <th>Bath</th>\n",
       "      <th>Sqft</th>\n",
       "      <th>Price</th>\n",
       "      <th>Address</th>\n",
       "      <th>Province</th>\n",
       "      <th>Region</th>\n",
       "    </tr>\n",
       "  </thead>\n",
       "  <tbody>\n",
       "    <tr>\n",
       "      <th>650</th>\n",
       "      <td>16.0</td>\n",
       "      <td>19.0</td>\n",
       "      <td>11724.0</td>\n",
       "      <td>1795000.0</td>\n",
       "      <td>150 Cumberland Street</td>\n",
       "      <td>NS</td>\n",
       "      <td>Atlantic region</td>\n",
       "    </tr>\n",
       "    <tr>\n",
       "      <th>3014</th>\n",
       "      <td>16.0</td>\n",
       "      <td>8.0</td>\n",
       "      <td>NaN</td>\n",
       "      <td>1965000.0</td>\n",
       "      <td>122 Route 4104</td>\n",
       "      <td>NB</td>\n",
       "      <td>Atlantic region</td>\n",
       "    </tr>\n",
       "    <tr>\n",
       "      <th>7925</th>\n",
       "      <td>18.0</td>\n",
       "      <td>2.0</td>\n",
       "      <td>NaN</td>\n",
       "      <td>399000.0</td>\n",
       "      <td>334 Route des Cantons</td>\n",
       "      <td>QC</td>\n",
       "      <td>Central Canada</td>\n",
       "    </tr>\n",
       "    <tr>\n",
       "      <th>8454</th>\n",
       "      <td>16.0</td>\n",
       "      <td>5.0</td>\n",
       "      <td>NaN</td>\n",
       "      <td>369900.0</td>\n",
       "      <td>4 Rue Bellevue</td>\n",
       "      <td>QC</td>\n",
       "      <td>Central Canada</td>\n",
       "    </tr>\n",
       "    <tr>\n",
       "      <th>18338</th>\n",
       "      <td>23.0</td>\n",
       "      <td>1.0</td>\n",
       "      <td>NaN</td>\n",
       "      <td>1350000.0</td>\n",
       "      <td>135 Cedar Crest Beach Rd</td>\n",
       "      <td>ON</td>\n",
       "      <td>Central Canada</td>\n",
       "    </tr>\n",
       "    <tr>\n",
       "      <th>19532</th>\n",
       "      <td>18.0</td>\n",
       "      <td>8.0</td>\n",
       "      <td>NaN</td>\n",
       "      <td>1899900.0</td>\n",
       "      <td>208-216 DIVISION  ST</td>\n",
       "      <td>ON</td>\n",
       "      <td>Central Canada</td>\n",
       "    </tr>\n",
       "    <tr>\n",
       "      <th>20309</th>\n",
       "      <td>18.0</td>\n",
       "      <td>6.0</td>\n",
       "      <td>NaN</td>\n",
       "      <td>1750000.0</td>\n",
       "      <td>36-38 Noecker St</td>\n",
       "      <td>ON</td>\n",
       "      <td>Central Canada</td>\n",
       "    </tr>\n",
       "    <tr>\n",
       "      <th>21042</th>\n",
       "      <td>17.0</td>\n",
       "      <td>14.0</td>\n",
       "      <td>NaN</td>\n",
       "      <td>12880000.0</td>\n",
       "      <td>13231 KENNEDY RD</td>\n",
       "      <td>ON</td>\n",
       "      <td>Central Canada</td>\n",
       "    </tr>\n",
       "    <tr>\n",
       "      <th>21432</th>\n",
       "      <td>18.0</td>\n",
       "      <td>7.0</td>\n",
       "      <td>NaN</td>\n",
       "      <td>3499900.0</td>\n",
       "      <td>435/437 KINGSTON RD</td>\n",
       "      <td>ON</td>\n",
       "      <td>Central Canada</td>\n",
       "    </tr>\n",
       "    <tr>\n",
       "      <th>21449</th>\n",
       "      <td>18.0</td>\n",
       "      <td>7.0</td>\n",
       "      <td>NaN</td>\n",
       "      <td>14500000.0</td>\n",
       "      <td>1 HAY ISLAND RD</td>\n",
       "      <td>ON</td>\n",
       "      <td>Central Canada</td>\n",
       "    </tr>\n",
       "    <tr>\n",
       "      <th>39412</th>\n",
       "      <td>34.0</td>\n",
       "      <td>3.0</td>\n",
       "      <td>2105.0</td>\n",
       "      <td>818850.0</td>\n",
       "      <td>2425 22A Street NW</td>\n",
       "      <td>AB</td>\n",
       "      <td>Prairie Provinces</td>\n",
       "    </tr>\n",
       "    <tr>\n",
       "      <th>49472</th>\n",
       "      <td>20.0</td>\n",
       "      <td>11.0</td>\n",
       "      <td>11375.0</td>\n",
       "      <td>14000000.0</td>\n",
       "      <td>230 Smith Rd</td>\n",
       "      <td>BC</td>\n",
       "      <td>West Coast</td>\n",
       "    </tr>\n",
       "    <tr>\n",
       "      <th>49688</th>\n",
       "      <td>21.0</td>\n",
       "      <td>7.0</td>\n",
       "      <td>7670.0</td>\n",
       "      <td>3998000.0</td>\n",
       "      <td>1420-1430 NAPIER STREET</td>\n",
       "      <td>BC</td>\n",
       "      <td>West Coast</td>\n",
       "    </tr>\n",
       "  </tbody>\n",
       "</table>\n",
       "</div>"
      ],
      "text/plain": [
       "       Beds  Bath     Sqft       Price                    Address Province  \\\n",
       "650    16.0  19.0  11724.0   1795000.0     150 Cumberland Street        NS   \n",
       "3014   16.0   8.0      NaN   1965000.0             122 Route 4104       NB   \n",
       "7925   18.0   2.0      NaN    399000.0     334 Route des Cantons        QC   \n",
       "8454   16.0   5.0      NaN    369900.0            4 Rue Bellevue        QC   \n",
       "18338  23.0   1.0      NaN   1350000.0  135 Cedar Crest Beach Rd        ON   \n",
       "19532  18.0   8.0      NaN   1899900.0      208-216 DIVISION  ST        ON   \n",
       "20309  18.0   6.0      NaN   1750000.0          36-38 Noecker St        ON   \n",
       "21042  17.0  14.0      NaN  12880000.0          13231 KENNEDY RD        ON   \n",
       "21432  18.0   7.0      NaN   3499900.0       435/437 KINGSTON RD        ON   \n",
       "21449  18.0   7.0      NaN  14500000.0           1 HAY ISLAND RD        ON   \n",
       "39412  34.0   3.0   2105.0    818850.0        2425 22A Street NW        AB   \n",
       "49472  20.0  11.0  11375.0  14000000.0              230 Smith Rd        BC   \n",
       "49688  21.0   7.0   7670.0   3998000.0   1420-1430 NAPIER STREET        BC   \n",
       "\n",
       "                  Region  \n",
       "650      Atlantic region  \n",
       "3014     Atlantic region  \n",
       "7925      Central Canada  \n",
       "8454      Central Canada  \n",
       "18338     Central Canada  \n",
       "19532     Central Canada  \n",
       "20309     Central Canada  \n",
       "21042     Central Canada  \n",
       "21432     Central Canada  \n",
       "21449     Central Canada  \n",
       "39412  Prairie Provinces  \n",
       "49472         West Coast  \n",
       "49688         West Coast  "
      ]
     },
     "execution_count": 34,
     "metadata": {},
     "output_type": "execute_result"
    }
   ],
   "source": [
    "Point2_data_with_NaSqft[Point2_data_with_NaSqft['Beds']>15]"
   ]
  },
  {
   "cell_type": "code",
   "execution_count": 35,
   "id": "3c8811b0-4a49-426e-bbc3-413c6c560b80",
   "metadata": {},
   "outputs": [],
   "source": [
    "Point2_data_with_NaSqft = Point2_data_with_NaSqft.drop([18338,26336])"
   ]
  },
  {
   "cell_type": "code",
   "execution_count": 36,
   "id": "b36c246c-7f09-470b-b374-26f15d01df69",
   "metadata": {},
   "outputs": [
    {
     "data": {
      "image/png": "[encoded data removed]",
      "text/plain": [
       "<Figure size 432x288 with 1 Axes>"
      ]
     },
     "metadata": {
      "needs_background": "light"
     },
     "output_type": "display_data"
    }
   ],
   "source": [
    "boxplot = Point2_data_with_NaSqft.boxplot(column=['Beds'])"
   ]
  },
  {
   "cell_type": "code",
   "execution_count": null,
   "id": "6fae2370-540f-454b-b6d8-dc1ef7247003",
   "metadata": {},
   "outputs": [],
   "source": []
  },
  {
   "cell_type": "markdown",
   "id": "cb4da57c-5fe4-49a7-a5b8-c7a0ad6de939",
   "metadata": {},
   "source": [
    "#### 4.3 Sqft"
   ]
  },
  {
   "cell_type": "code",
   "execution_count": 196,
   "id": "97020c1b-4145-4966-810d-8d097143e908",
   "metadata": {},
   "outputs": [
    {
     "data": {
      "image/png": "[encoded data removed]",
      "text/plain": [
       "<Figure size 432x288 with 1 Axes>"
      ]
     },
     "metadata": {
      "needs_background": "light"
     },
     "output_type": "display_data"
    }
   ],
   "source": [
    "boxplot = Point2_data_without_NaSqft.boxplot(column=['Sqft'])"
   ]
  },
  {
   "cell_type": "code",
   "execution_count": 201,
   "id": "705ca6fb-b22e-48d6-b711-8eef3bd0500d",
   "metadata": {},
   "outputs": [
    {
     "data": {
      "text/html": [
       "<div>\n",
       "<style scoped>\n",
       "    .dataframe tbody tr th:only-of-type {\n",
       "        vertical-align: middle;\n",
       "    }\n",
       "\n",
       "    .dataframe tbody tr th {\n",
       "        vertical-align: top;\n",
       "    }\n",
       "\n",
       "    .dataframe thead th {\n",
       "        text-align: right;\n",
       "    }\n",
       "</style>\n",
       "<table border=\"1\" class=\"dataframe\">\n",
       "  <thead>\n",
       "    <tr style=\"text-align: right;\">\n",
       "      <th></th>\n",
       "      <th>Beds</th>\n",
       "      <th>Bath</th>\n",
       "      <th>Sqft</th>\n",
       "      <th>Price</th>\n",
       "      <th>Address</th>\n",
       "      <th>Province</th>\n",
       "      <th>Region</th>\n",
       "    </tr>\n",
       "  </thead>\n",
       "  <tbody>\n",
       "    <tr>\n",
       "      <th>35369</th>\n",
       "      <td>7.0</td>\n",
       "      <td>3.0</td>\n",
       "      <td>86445684.0</td>\n",
       "      <td>6900000.0</td>\n",
       "      <td>24375 80 AVENUE</td>\n",
       "      <td>BC</td>\n",
       "      <td>West Coast</td>\n",
       "    </tr>\n",
       "  </tbody>\n",
       "</table>\n",
       "</div>"
      ],
      "text/plain": [
       "       Beds  Bath        Sqft      Price           Address Province  \\\n",
       "35369   7.0   3.0  86445684.0  6900000.0  24375 80 AVENUE        BC   \n",
       "\n",
       "           Region  \n",
       "35369  West Coast  "
      ]
     },
     "execution_count": 201,
     "metadata": {},
     "output_type": "execute_result"
    }
   ],
   "source": [
    "Point2_data_without_NaSqft[Point2_data_without_NaSqft['Sqft']>75000000]"
   ]
  },
  {
   "cell_type": "markdown",
   "id": "07605cd1-3608-4d91-aa2b-e40c0dc09a6a",
   "metadata": {},
   "source": [
    "No outlier is found"
   ]
  },
  {
   "cell_type": "markdown",
   "id": "c0c6f652-5638-41c6-9b7d-1649da89e147",
   "metadata": {},
   "source": [
    "#### 4.4 Price"
   ]
  },
  {
   "cell_type": "code",
   "execution_count": 204,
   "id": "29a922ff-4b1b-4541-a8d5-103305f4f227",
   "metadata": {},
   "outputs": [
    {
     "data": {
      "image/png": "[encoded data removed]",
      "text/plain": [
       "<Figure size 432x288 with 1 Axes>"
      ]
     },
     "metadata": {
      "needs_background": "light"
     },
     "output_type": "display_data"
    }
   ],
   "source": [
    "boxplot = Point2_data_without_NaSqft.boxplot(column=['Price'])"
   ]
  },
  {
   "cell_type": "code",
   "execution_count": 205,
   "id": "ed183945-32d8-4778-b8bb-1fa1b15154da",
   "metadata": {},
   "outputs": [
    {
     "data": {
      "text/html": [
       "<div>\n",
       "<style scoped>\n",
       "    .dataframe tbody tr th:only-of-type {\n",
       "        vertical-align: middle;\n",
       "    }\n",
       "\n",
       "    .dataframe tbody tr th {\n",
       "        vertical-align: top;\n",
       "    }\n",
       "\n",
       "    .dataframe thead th {\n",
       "        text-align: right;\n",
       "    }\n",
       "</style>\n",
       "<table border=\"1\" class=\"dataframe\">\n",
       "  <thead>\n",
       "    <tr style=\"text-align: right;\">\n",
       "      <th></th>\n",
       "      <th>Beds</th>\n",
       "      <th>Bath</th>\n",
       "      <th>Sqft</th>\n",
       "      <th>Price</th>\n",
       "      <th>Address</th>\n",
       "      <th>Province</th>\n",
       "      <th>Region</th>\n",
       "    </tr>\n",
       "  </thead>\n",
       "  <tbody>\n",
       "    <tr>\n",
       "      <th>32376</th>\n",
       "      <td>6.0</td>\n",
       "      <td>5.0</td>\n",
       "      <td>39277836.0</td>\n",
       "      <td>1399999.0</td>\n",
       "      <td>32727 UNGER COURT</td>\n",
       "      <td>BC</td>\n",
       "      <td>West Coast</td>\n",
       "    </tr>\n",
       "    <tr>\n",
       "      <th>33301</th>\n",
       "      <td>6.0</td>\n",
       "      <td>6.0</td>\n",
       "      <td>39859092.0</td>\n",
       "      <td>1720000.0</td>\n",
       "      <td>12782 59A AVENUE</td>\n",
       "      <td>BC</td>\n",
       "      <td>West Coast</td>\n",
       "    </tr>\n",
       "    <tr>\n",
       "      <th>33590</th>\n",
       "      <td>6.0</td>\n",
       "      <td>6.0</td>\n",
       "      <td>49342176.0</td>\n",
       "      <td>1650000.0</td>\n",
       "      <td>30530 BLUERIDGE DRIVE</td>\n",
       "      <td>BC</td>\n",
       "      <td>West Coast</td>\n",
       "    </tr>\n",
       "    <tr>\n",
       "      <th>33751</th>\n",
       "      <td>6.0</td>\n",
       "      <td>6.0</td>\n",
       "      <td>43411212.0</td>\n",
       "      <td>1949000.0</td>\n",
       "      <td>7729 211 STREET</td>\n",
       "      <td>BC</td>\n",
       "      <td>West Coast</td>\n",
       "    </tr>\n",
       "    <tr>\n",
       "      <th>33941</th>\n",
       "      <td>6.0</td>\n",
       "      <td>6.0</td>\n",
       "      <td>37975392.0</td>\n",
       "      <td>1999000.0</td>\n",
       "      <td>16675 21 AVENUE</td>\n",
       "      <td>BC</td>\n",
       "      <td>West Coast</td>\n",
       "    </tr>\n",
       "    <tr>\n",
       "      <th>33987</th>\n",
       "      <td>7.0</td>\n",
       "      <td>4.0</td>\n",
       "      <td>43152876.0</td>\n",
       "      <td>1698000.0</td>\n",
       "      <td>9650 QUEENS PLACE</td>\n",
       "      <td>BC</td>\n",
       "      <td>West Coast</td>\n",
       "    </tr>\n",
       "    <tr>\n",
       "      <th>34156</th>\n",
       "      <td>5.0</td>\n",
       "      <td>6.0</td>\n",
       "      <td>52592904.0</td>\n",
       "      <td>1998800.0</td>\n",
       "      <td>16799 16A AVENUE</td>\n",
       "      <td>BC</td>\n",
       "      <td>West Coast</td>\n",
       "    </tr>\n",
       "    <tr>\n",
       "      <th>34888</th>\n",
       "      <td>7.0</td>\n",
       "      <td>7.0</td>\n",
       "      <td>42603912.0</td>\n",
       "      <td>2099000.0</td>\n",
       "      <td>16697 18B AVENUE</td>\n",
       "      <td>BC</td>\n",
       "      <td>West Coast</td>\n",
       "    </tr>\n",
       "    <tr>\n",
       "      <th>34906</th>\n",
       "      <td>6.0</td>\n",
       "      <td>4.0</td>\n",
       "      <td>46199088.0</td>\n",
       "      <td>2200000.0</td>\n",
       "      <td>21543 45A AVENUE</td>\n",
       "      <td>BC</td>\n",
       "      <td>West Coast</td>\n",
       "    </tr>\n",
       "    <tr>\n",
       "      <th>35046</th>\n",
       "      <td>7.0</td>\n",
       "      <td>6.0</td>\n",
       "      <td>59341932.0</td>\n",
       "      <td>2239900.0</td>\n",
       "      <td>7764 166A STREET</td>\n",
       "      <td>BC</td>\n",
       "      <td>West Coast</td>\n",
       "    </tr>\n",
       "    <tr>\n",
       "      <th>35369</th>\n",
       "      <td>7.0</td>\n",
       "      <td>3.0</td>\n",
       "      <td>86445684.0</td>\n",
       "      <td>6900000.0</td>\n",
       "      <td>24375 80 AVENUE</td>\n",
       "      <td>BC</td>\n",
       "      <td>West Coast</td>\n",
       "    </tr>\n",
       "    <tr>\n",
       "      <th>35715</th>\n",
       "      <td>6.0</td>\n",
       "      <td>4.0</td>\n",
       "      <td>39460824.0</td>\n",
       "      <td>5480000.0</td>\n",
       "      <td>24250 88 AVENUE</td>\n",
       "      <td>BC</td>\n",
       "      <td>West Coast</td>\n",
       "    </tr>\n",
       "    <tr>\n",
       "      <th>35849</th>\n",
       "      <td>4.0</td>\n",
       "      <td>1.0</td>\n",
       "      <td>36134748.0</td>\n",
       "      <td>7500000.0</td>\n",
       "      <td>7320 208 STREET</td>\n",
       "      <td>BC</td>\n",
       "      <td>West Coast</td>\n",
       "    </tr>\n",
       "    <tr>\n",
       "      <th>35937</th>\n",
       "      <td>4.0</td>\n",
       "      <td>4.0</td>\n",
       "      <td>54928692.0</td>\n",
       "      <td>18000000.0</td>\n",
       "      <td>17147 24 AVENUE</td>\n",
       "      <td>BC</td>\n",
       "      <td>West Coast</td>\n",
       "    </tr>\n",
       "    <tr>\n",
       "      <th>35969</th>\n",
       "      <td>3.0</td>\n",
       "      <td>4.0</td>\n",
       "      <td>36048636.0</td>\n",
       "      <td>3625000.0</td>\n",
       "      <td>20946 43 AVENUE</td>\n",
       "      <td>BC</td>\n",
       "      <td>West Coast</td>\n",
       "    </tr>\n",
       "    <tr>\n",
       "      <th>36149</th>\n",
       "      <td>5.0</td>\n",
       "      <td>7.0</td>\n",
       "      <td>56909268.0</td>\n",
       "      <td>4280000.0</td>\n",
       "      <td>16865 18 AVENUE</td>\n",
       "      <td>BC</td>\n",
       "      <td>West Coast</td>\n",
       "    </tr>\n",
       "  </tbody>\n",
       "</table>\n",
       "</div>"
      ],
      "text/plain": [
       "       Beds  Bath        Sqft       Price                 Address Province  \\\n",
       "32376   6.0   5.0  39277836.0   1399999.0      32727 UNGER COURT        BC   \n",
       "33301   6.0   6.0  39859092.0   1720000.0       12782 59A AVENUE        BC   \n",
       "33590   6.0   6.0  49342176.0   1650000.0  30530 BLUERIDGE DRIVE        BC   \n",
       "33751   6.0   6.0  43411212.0   1949000.0        7729 211 STREET        BC   \n",
       "33941   6.0   6.0  37975392.0   1999000.0        16675 21 AVENUE        BC   \n",
       "33987   7.0   4.0  43152876.0   1698000.0      9650 QUEENS PLACE        BC   \n",
       "34156   5.0   6.0  52592904.0   1998800.0       16799 16A AVENUE        BC   \n",
       "34888   7.0   7.0  42603912.0   2099000.0       16697 18B AVENUE        BC   \n",
       "34906   6.0   4.0  46199088.0   2200000.0       21543 45A AVENUE        BC   \n",
       "35046   7.0   6.0  59341932.0   2239900.0       7764 166A STREET        BC   \n",
       "35369   7.0   3.0  86445684.0   6900000.0        24375 80 AVENUE        BC   \n",
       "35715   6.0   4.0  39460824.0   5480000.0        24250 88 AVENUE        BC   \n",
       "35849   4.0   1.0  36134748.0   7500000.0        7320 208 STREET        BC   \n",
       "35937   4.0   4.0  54928692.0  18000000.0        17147 24 AVENUE        BC   \n",
       "35969   3.0   4.0  36048636.0   3625000.0        20946 43 AVENUE        BC   \n",
       "36149   5.0   7.0  56909268.0   4280000.0        16865 18 AVENUE        BC   \n",
       "\n",
       "           Region  \n",
       "32376  West Coast  \n",
       "33301  West Coast  \n",
       "33590  West Coast  \n",
       "33751  West Coast  \n",
       "33941  West Coast  \n",
       "33987  West Coast  \n",
       "34156  West Coast  \n",
       "34888  West Coast  \n",
       "34906  West Coast  \n",
       "35046  West Coast  \n",
       "35369  West Coast  \n",
       "35715  West Coast  \n",
       "35849  West Coast  \n",
       "35937  West Coast  \n",
       "35969  West Coast  \n",
       "36149  West Coast  "
      ]
     },
     "execution_count": 205,
     "metadata": {},
     "output_type": "execute_result"
    }
   ],
   "source": [
    "Point2_data_without_NaSqft[Point2_data_without_NaSqft['Sqft']>35000000]"
   ]
  },
  {
   "cell_type": "markdown",
   "id": "d15c5e51-e66a-46a0-9e0d-232bf664f340",
   "metadata": {},
   "source": [
    "No outlier is found"
   ]
  },
  {
   "cell_type": "code",
   "execution_count": 208,
   "id": "5e0be01b-d5c1-4afd-bc00-e5b8c6946b0b",
   "metadata": {},
   "outputs": [],
   "source": [
    "Point2_data_without_NaSqft.to_csv('Point2_data_without_NaSqft.csv',index=False)"
   ]
  },
  {
   "cell_type": "code",
   "execution_count": 37,
   "id": "0d8323e6-69dd-49cd-9f2a-8f5ac67b6e91",
   "metadata": {},
   "outputs": [],
   "source": [
    "Point2_data_with_NaSqft = Point2_data_with_NaSqft.reset_index().drop(['index'], axis=1)"
   ]
  },
  {
   "cell_type": "code",
   "execution_count": 38,
   "id": "6c6c90d3-c392-424b-8fcb-c2453b33fa6e",
   "metadata": {},
   "outputs": [],
   "source": [
    "Point2_data_with_NaSqft.to_csv('Point2_data_without_NaSqft.csv',index=False)"
   ]
  },
  {
   "cell_type": "code",
   "execution_count": null,
   "id": "4145d319-3199-493b-b337-f52d67a230a6",
   "metadata": {},
   "outputs": [],
   "source": []
  }
 ],
 "metadata": {
  "kernelspec": {
   "display_name": "Python 3",
   "language": "python",
   "name": "python3"
  },
  "language_info": {
   "codemirror_mode": {
    "name": "ipython",
    "version": 3
   },
   "file_extension": ".py",
   "mimetype": "text/x-python",
   "name": "python",
   "nbconvert_exporter": "python",
   "pygments_lexer": "ipython3",
   "version": "3.8.8"
  }
 },
 "nbformat": 4,
 "nbformat_minor": 5
}
