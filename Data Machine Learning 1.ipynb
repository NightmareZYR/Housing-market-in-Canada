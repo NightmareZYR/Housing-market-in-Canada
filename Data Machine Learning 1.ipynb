{
 "cells": [
  {
   "cell_type": "code",
   "execution_count": 1,
   "id": "246caf6f-38cb-4087-830e-ce64fc163dc0",
   "metadata": {},
   "outputs": [],
   "source": [
    "import pandas as pd\n",
    "Point2_data_Canada_No_NaN=pd.read_csv('/users/aeternus/Desktop/Housing-market-in-Canada/Point2_data_Canada_No_NaN.csv')"
   ]
  },
  {
   "cell_type": "code",
   "execution_count": 5,
   "id": "a5f3161b-43f8-423a-8a4f-b7004025781f",
   "metadata": {},
   "outputs": [],
   "source": [
    "Point2_data = Point2_data_Canada_No_NaN"
   ]
  },
  {
   "cell_type": "code",
   "execution_count": 6,
   "id": "8e0fd475-644c-45f9-807c-a6195e1c36ba",
   "metadata": {},
   "outputs": [
    {
     "data": {
      "text/html": [
       "<div>\n",
       "<style scoped>\n",
       "    .dataframe tbody tr th:only-of-type {\n",
       "        vertical-align: middle;\n",
       "    }\n",
       "\n",
       "    .dataframe tbody tr th {\n",
       "        vertical-align: top;\n",
       "    }\n",
       "\n",
       "    .dataframe thead th {\n",
       "        text-align: right;\n",
       "    }\n",
       "</style>\n",
       "<table border=\"1\" class=\"dataframe\">\n",
       "  <thead>\n",
       "    <tr style=\"text-align: right;\">\n",
       "      <th></th>\n",
       "      <th>Beds</th>\n",
       "      <th>Bath</th>\n",
       "      <th>Sqft</th>\n",
       "      <th>Price</th>\n",
       "      <th>Address</th>\n",
       "      <th>Province</th>\n",
       "      <th>Region</th>\n",
       "      <th>Latitude</th>\n",
       "      <th>Longitude</th>\n",
       "      <th>Location</th>\n",
       "    </tr>\n",
       "  </thead>\n",
       "  <tbody>\n",
       "    <tr>\n",
       "      <th>0</th>\n",
       "      <td>3.0</td>\n",
       "      <td>1.0</td>\n",
       "      <td>1630.0</td>\n",
       "      <td>225000.0</td>\n",
       "      <td>1368 forties rd.</td>\n",
       "      <td>NS</td>\n",
       "      <td>Atlantic region</td>\n",
       "      <td>44.734216</td>\n",
       "      <td>-64.539807</td>\n",
       "      <td>1368, Forties Road, Forties, Chester District ...</td>\n",
       "    </tr>\n",
       "    <tr>\n",
       "      <th>1</th>\n",
       "      <td>2.0</td>\n",
       "      <td>1.0</td>\n",
       "      <td>944.0</td>\n",
       "      <td>174500.0</td>\n",
       "      <td>111 lakeshore dr.</td>\n",
       "      <td>NS</td>\n",
       "      <td>Atlantic region</td>\n",
       "      <td>44.701910</td>\n",
       "      <td>-63.728475</td>\n",
       "      <td>111, Lakeshore Drive, Kingswood, Hammonds Plai...</td>\n",
       "    </tr>\n",
       "    <tr>\n",
       "      <th>2</th>\n",
       "      <td>4.0</td>\n",
       "      <td>2.0</td>\n",
       "      <td>4000.0</td>\n",
       "      <td>599000.0</td>\n",
       "      <td>1734 hwy 1</td>\n",
       "      <td>NS</td>\n",
       "      <td>Atlantic region</td>\n",
       "      <td>43.926649</td>\n",
       "      <td>-66.108209</td>\n",
       "      <td>1734, Highway 1, Wellington, Yarmouth Municipa...</td>\n",
       "    </tr>\n",
       "    <tr>\n",
       "      <th>3</th>\n",
       "      <td>5.0</td>\n",
       "      <td>2.0</td>\n",
       "      <td>2721.0</td>\n",
       "      <td>690000.0</td>\n",
       "      <td>2591 clarence road</td>\n",
       "      <td>NS</td>\n",
       "      <td>Atlantic region</td>\n",
       "      <td>44.904340</td>\n",
       "      <td>-65.218431</td>\n",
       "      <td>2591, Clarence Road, Central Clarence, Municip...</td>\n",
       "    </tr>\n",
       "    <tr>\n",
       "      <th>4</th>\n",
       "      <td>15.0</td>\n",
       "      <td>6.0</td>\n",
       "      <td>6630.0</td>\n",
       "      <td>495000.0</td>\n",
       "      <td>4616 highway 1 weymouth</td>\n",
       "      <td>NS</td>\n",
       "      <td>Atlantic region</td>\n",
       "      <td>44.411117</td>\n",
       "      <td>-65.995788</td>\n",
       "      <td>4616, Highway 1, Weymouth, Digby Municipal Dis...</td>\n",
       "    </tr>\n",
       "  </tbody>\n",
       "</table>\n",
       "</div>"
      ],
      "text/plain": [
       "   Beds  Bath    Sqft     Price                   Address Province  \\\n",
       "0   3.0   1.0  1630.0  225000.0         1368 forties rd.        NS   \n",
       "1   2.0   1.0   944.0  174500.0        111 lakeshore dr.        NS   \n",
       "2   4.0   2.0  4000.0  599000.0               1734 hwy 1        NS   \n",
       "3   5.0   2.0  2721.0  690000.0       2591 clarence road        NS   \n",
       "4  15.0   6.0  6630.0  495000.0  4616 highway 1 weymouth        NS   \n",
       "\n",
       "            Region   Latitude  Longitude  \\\n",
       "0  Atlantic region  44.734216 -64.539807   \n",
       "1  Atlantic region  44.701910 -63.728475   \n",
       "2  Atlantic region  43.926649 -66.108209   \n",
       "3  Atlantic region  44.904340 -65.218431   \n",
       "4  Atlantic region  44.411117 -65.995788   \n",
       "\n",
       "                                            Location  \n",
       "0  1368, Forties Road, Forties, Chester District ...  \n",
       "1  111, Lakeshore Drive, Kingswood, Hammonds Plai...  \n",
       "2  1734, Highway 1, Wellington, Yarmouth Municipa...  \n",
       "3  2591, Clarence Road, Central Clarence, Municip...  \n",
       "4  4616, Highway 1, Weymouth, Digby Municipal Dis...  "
      ]
     },
     "execution_count": 6,
     "metadata": {},
     "output_type": "execute_result"
    }
   ],
   "source": [
    "Point2_data.head()"
   ]
  },
  {
   "cell_type": "code",
   "execution_count": 18,
   "id": "00b87c29-67bb-4728-81dd-f985c0a67a90",
   "metadata": {},
   "outputs": [
    {
     "data": {
      "text/plain": [
       "AB    0.350134\n",
       "BC    0.260235\n",
       "SK    0.076612\n",
       "NL    0.074807\n",
       "NS    0.062495\n",
       "ON    0.047982\n",
       "MB    0.041664\n",
       "NB    0.040869\n",
       "QC    0.030472\n",
       "PE    0.014730\n",
       "Name: Province, dtype: float64"
      ]
     },
     "execution_count": 18,
     "metadata": {},
     "output_type": "execute_result"
    }
   ],
   "source": [
    "df['Province'].value_counts(normalize=True)"
   ]
  },
  {
   "cell_type": "code",
   "execution_count": 22,
   "id": "b2a49778-e333-4869-9744-bb4d7fefd6fb",
   "metadata": {},
   "outputs": [
    {
     "data": {
      "text/plain": [
       "['NS', 'BC', 'AB', 'ON', 'SK', 'PE', 'NB', 'NL', 'MB', 'QC']"
      ]
     },
     "execution_count": 22,
     "metadata": {},
     "output_type": "execute_result"
    }
   ],
   "source": [
    "list(set(df['Province']))"
   ]
  },
  {
   "cell_type": "code",
   "execution_count": 23,
   "id": "02004163-c62b-4718-8535-7aecfcbf909f",
   "metadata": {},
   "outputs": [
    {
     "data": {
      "text/plain": [
       "[0, 1, 2, 3, 4, 5, 6, 7, 8, 9]"
      ]
     },
     "execution_count": 23,
     "metadata": {},
     "output_type": "execute_result"
    }
   ],
   "source": [
    "list(range(len(list(set(df['Province'])))))"
   ]
  },
  {
   "cell_type": "code",
   "execution_count": 24,
   "id": "640f0b59-5a32-481a-b915-06a92909da99",
   "metadata": {},
   "outputs": [],
   "source": [
    "df['Province'].replace(to_replace=list(set(df['Province'])), value=list(range(len(list(set(df['Province']))))),inplace=True)"
   ]
  },
  {
   "cell_type": "code",
   "execution_count": 29,
   "id": "1db969a7-e019-4ad1-a7f6-056785e8a4f9",
   "metadata": {},
   "outputs": [],
   "source": [
    "df['Region'].replace(to_replace=list(set(df['Region'])), value=list(range(len(list(set(df['Region']))))),inplace=True)"
   ]
  },
  {
   "cell_type": "code",
   "execution_count": 27,
   "id": "7286434c-57ae-4de3-bb5c-b66abd4fc654",
   "metadata": {},
   "outputs": [],
   "source": [
    "df = Point2_data.drop(['Address','Location'],axis=1)"
   ]
  },
  {
   "cell_type": "code",
   "execution_count": 31,
   "id": "5077cd04-a9a5-4944-8b06-6f3a2db20271",
   "metadata": {},
   "outputs": [
    {
     "data": {
      "text/html": [
       "<div>\n",
       "<style scoped>\n",
       "    .dataframe tbody tr th:only-of-type {\n",
       "        vertical-align: middle;\n",
       "    }\n",
       "\n",
       "    .dataframe tbody tr th {\n",
       "        vertical-align: top;\n",
       "    }\n",
       "\n",
       "    .dataframe thead th {\n",
       "        text-align: right;\n",
       "    }\n",
       "</style>\n",
       "<table border=\"1\" class=\"dataframe\">\n",
       "  <thead>\n",
       "    <tr style=\"text-align: right;\">\n",
       "      <th></th>\n",
       "      <th>Beds</th>\n",
       "      <th>Bath</th>\n",
       "      <th>Sqft</th>\n",
       "      <th>Price</th>\n",
       "      <th>Province</th>\n",
       "      <th>Region</th>\n",
       "      <th>Latitude</th>\n",
       "      <th>Longitude</th>\n",
       "    </tr>\n",
       "  </thead>\n",
       "  <tbody>\n",
       "    <tr>\n",
       "      <th>0</th>\n",
       "      <td>3.0</td>\n",
       "      <td>1.0</td>\n",
       "      <td>1630.0</td>\n",
       "      <td>225000.0</td>\n",
       "      <td>0</td>\n",
       "      <td>0</td>\n",
       "      <td>44.734216</td>\n",
       "      <td>-64.539807</td>\n",
       "    </tr>\n",
       "    <tr>\n",
       "      <th>1</th>\n",
       "      <td>2.0</td>\n",
       "      <td>1.0</td>\n",
       "      <td>944.0</td>\n",
       "      <td>174500.0</td>\n",
       "      <td>0</td>\n",
       "      <td>0</td>\n",
       "      <td>44.701910</td>\n",
       "      <td>-63.728475</td>\n",
       "    </tr>\n",
       "    <tr>\n",
       "      <th>2</th>\n",
       "      <td>4.0</td>\n",
       "      <td>2.0</td>\n",
       "      <td>4000.0</td>\n",
       "      <td>599000.0</td>\n",
       "      <td>0</td>\n",
       "      <td>0</td>\n",
       "      <td>43.926649</td>\n",
       "      <td>-66.108209</td>\n",
       "    </tr>\n",
       "    <tr>\n",
       "      <th>3</th>\n",
       "      <td>5.0</td>\n",
       "      <td>2.0</td>\n",
       "      <td>2721.0</td>\n",
       "      <td>690000.0</td>\n",
       "      <td>0</td>\n",
       "      <td>0</td>\n",
       "      <td>44.904340</td>\n",
       "      <td>-65.218431</td>\n",
       "    </tr>\n",
       "    <tr>\n",
       "      <th>4</th>\n",
       "      <td>15.0</td>\n",
       "      <td>6.0</td>\n",
       "      <td>6630.0</td>\n",
       "      <td>495000.0</td>\n",
       "      <td>0</td>\n",
       "      <td>0</td>\n",
       "      <td>44.411117</td>\n",
       "      <td>-65.995788</td>\n",
       "    </tr>\n",
       "  </tbody>\n",
       "</table>\n",
       "</div>"
      ],
      "text/plain": [
       "   Beds  Bath    Sqft     Price  Province  Region   Latitude  Longitude\n",
       "0   3.0   1.0  1630.0  225000.0         0       0  44.734216 -64.539807\n",
       "1   2.0   1.0   944.0  174500.0         0       0  44.701910 -63.728475\n",
       "2   4.0   2.0  4000.0  599000.0         0       0  43.926649 -66.108209\n",
       "3   5.0   2.0  2721.0  690000.0         0       0  44.904340 -65.218431\n",
       "4  15.0   6.0  6630.0  495000.0         0       0  44.411117 -65.995788"
      ]
     },
     "execution_count": 31,
     "metadata": {},
     "output_type": "execute_result"
    }
   ],
   "source": [
    "df.head()"
   ]
  },
  {
   "cell_type": "markdown",
   "id": "480d0317-0506-4da9-8b30-548d4053ca12",
   "metadata": {},
   "source": [
    "## Train Test Split"
   ]
  },
  {
   "cell_type": "code",
   "execution_count": 42,
   "id": "1045f071-9cfa-44dd-9efb-7a83dae30a7b",
   "metadata": {},
   "outputs": [],
   "source": [
    "from sklearn.preprocessing import PolynomialFeatures"
   ]
  },
  {
   "cell_type": "code",
   "execution_count": 85,
   "id": "362a88b8-e906-4ef4-a07e-4b911c0c93c1",
   "metadata": {},
   "outputs": [],
   "source": [
    "x_data = df.drop(['Price'],axis=1)\n",
    "y_data = df['Price']"
   ]
  },
  {
   "cell_type": "code",
   "execution_count": 212,
   "id": "714280cd-ccee-445a-b505-7496f4d85aeb",
   "metadata": {},
   "outputs": [
    {
     "name": "stdout",
     "output_type": "stream",
     "text": [
      "Train set: (22158, 7) (22158,)\n",
      "Test set: (5540, 7) (5540,)\n"
     ]
    }
   ],
   "source": [
    "from sklearn.model_selection import train_test_split\n",
    "X_train, X_test, y_train, y_test = train_test_split( x_data, y_data, test_size=0.2, random_state=4)\n",
    "print ('Train set:', X_train.shape,  y_train.shape)\n",
    "print ('Test set:', X_test.shape,  y_test.shape)"
   ]
  },
  {
   "cell_type": "markdown",
   "id": "5dcbba13-82d6-4fd7-9bfa-4da0fe280d8b",
   "metadata": {},
   "source": [
    "## Linear Regression"
   ]
  },
  {
   "cell_type": "code",
   "execution_count": 329,
   "id": "2745f534-aa92-485e-8f00-5dabc5073b0a",
   "metadata": {},
   "outputs": [
    {
     "data": {
      "text/plain": [
       "LinearRegression()"
      ]
     },
     "execution_count": 329,
     "metadata": {},
     "output_type": "execute_result"
    }
   ],
   "source": [
    "lr = LinearRegression()\n",
    "lr.fit(x_train_pr, y_train)"
   ]
  },
  {
   "cell_type": "code",
   "execution_count": 331,
   "id": "9362ebb6-0f4e-4ce3-89bb-337882f9331c",
   "metadata": {},
   "outputs": [
    {
     "data": {
      "text/plain": [
       "array([667994.26194735, 975832.52288254, 823448.28120068, 822146.96297094,\n",
       "       940509.98881338])"
      ]
     },
     "execution_count": 331,
     "metadata": {},
     "output_type": "execute_result"
    }
   ],
   "source": [
    "yhat_test = lr.predict(x_test_pr)\n",
    "yhat_test[0:5]"
   ]
  },
  {
   "cell_type": "code",
   "execution_count": 332,
   "id": "b9382c0a-5dca-486f-87d8-3cd829723695",
   "metadata": {},
   "outputs": [
    {
     "name": "stdout",
     "output_type": "stream",
     "text": [
      "predicted: [667994.26194735 975832.52288254 823448.28120068 822146.96297094\n",
      " 940509.98881338]\n",
      "test set : [ 354900. 1349000.  315000.  229900.  325000.]\n"
     ]
    }
   ],
   "source": [
    "print('predicted:', yhat_test[0:5])\n",
    "print('test set :', y_test[0:5].values)"
   ]
  },
  {
   "cell_type": "code",
   "execution_count": 333,
   "id": "64b4de65-d3c7-4170-bd84-85ef4af39d5f",
   "metadata": {},
   "outputs": [
    {
     "name": "stdout",
     "output_type": "stream",
     "text": [
      "The mean square error of price and predicted value is:  2698441726303.1865\n"
     ]
    }
   ],
   "source": [
    "from sklearn.metrics import mean_squared_error\n",
    "mse = mean_squared_error(y_test, yhat_test)\n",
    "print('The mean square error of price and predicted value is: ', mse)"
   ]
  },
  {
   "cell_type": "code",
   "execution_count": 334,
   "id": "7a9e3614-28e0-4b59-9ec8-ba90db4f3807",
   "metadata": {},
   "outputs": [
    {
     "name": "stdout",
     "output_type": "stream",
     "text": [
      "The R-square value is:  -0.01190804716762428\n"
     ]
    }
   ],
   "source": [
    "from sklearn.metrics import r2_score\n",
    "r_squared = r2_score(y_test, yhat_test)\n",
    "print('The R-square value is: ', r_squared)"
   ]
  },
  {
   "cell_type": "markdown",
   "id": "b6f8dbbf-3770-443e-84b8-444c403172eb",
   "metadata": {},
   "source": [
    "## Ridge Regression"
   ]
  },
  {
   "cell_type": "code",
   "execution_count": 288,
   "id": "3e105e81-e665-4029-afd2-b1a6eb628875",
   "metadata": {},
   "outputs": [],
   "source": [
    "pr=PolynomialFeatures(degree=3)\n",
    "x_train_pr=pr.fit_transform(X_train[['Beds', 'Bath', 'Sqft','Latitude','Longitude','Region']])\n",
    "x_test_pr=pr.fit_transform(X_test[['Beds', 'Bath', 'Sqft','Latitude','Longitude','Region']])"
   ]
  },
  {
   "cell_type": "code",
   "execution_count": 321,
   "id": "8213bc9f-151b-41d9-8a6e-4974688f2b6e",
   "metadata": {},
   "outputs": [
    {
     "name": "stderr",
     "output_type": "stream",
     "text": [
      "/Applications/anaconda3/lib/python3.8/site-packages/sklearn/linear_model/_ridge.py:147: LinAlgWarning: Ill-conditioned matrix (rcond=7.49045e-48): result may not be accurate.\n",
      "  return linalg.solve(A, Xy, sym_pos=True,\n"
     ]
    }
   ],
   "source": [
    "from sklearn.linear_model import Ridge\n",
    "RigeModel=Ridge(alpha=5)\n",
    "RigeModel.fit(x_train_pr, y_train)\n",
    "yhat = RigeModel.predict(x_test_pr)"
   ]
  },
  {
   "cell_type": "code",
   "execution_count": 322,
   "id": "cb8054c3-bbbf-4d41-b845-1a347fd707f9",
   "metadata": {},
   "outputs": [
    {
     "name": "stdout",
     "output_type": "stream",
     "text": [
      "Predicted values: [ 354782.30947583 2056840.38867348  423237.89722473  273248.77608249]\n",
      "True values: [ 354900. 1349000.  315000.  229900.]\n"
     ]
    }
   ],
   "source": [
    "print(\"Predicted values:\", yhat[0:4])\n",
    "print(\"True values:\", y_test[0:4].values)"
   ]
  },
  {
   "cell_type": "code",
   "execution_count": 323,
   "id": "f386e0a8-344c-41aa-bb36-9ed3208af4a9",
   "metadata": {},
   "outputs": [
    {
     "name": "stdout",
     "output_type": "stream",
     "text": [
      "The mean square error of price and predicted value is:  1428806989885.3984\n"
     ]
    }
   ],
   "source": [
    "from sklearn.metrics import mean_squared_error\n",
    "mse = mean_squared_error(y_test, yhat)\n",
    "print('The mean square error of price and predicted value is: ', mse)"
   ]
  },
  {
   "cell_type": "code",
   "execution_count": 324,
   "id": "35711f31-d60c-4277-9145-b1d11e24f869",
   "metadata": {},
   "outputs": [
    {
     "name": "stdout",
     "output_type": "stream",
     "text": [
      "The R-square value is:  0.4642014030463677\n"
     ]
    }
   ],
   "source": [
    "from sklearn.metrics import r2_score\n",
    "r_squared = r2_score(y_test, yhat)\n",
    "print('The R-square value is: ', r_squared)"
   ]
  },
  {
   "cell_type": "markdown",
   "id": "f226e5b9-8d68-4bb7-9d0e-656f521aa1fd",
   "metadata": {},
   "source": [
    "## Grid Search"
   ]
  },
  {
   "cell_type": "code",
   "execution_count": 270,
   "id": "a412b616-6706-43bf-847a-bf0d391c7545",
   "metadata": {},
   "outputs": [],
   "source": [
    "from sklearn.model_selection import GridSearchCV"
   ]
  },
  {
   "cell_type": "code",
   "execution_count": 267,
   "id": "0bc7d32e-c0a4-415f-ad86-7f5288f7a0ff",
   "metadata": {},
   "outputs": [
    {
     "data": {
      "text/plain": [
       "[{'alpha': [0.001, 0.1, 1, 10, 100, 1000, 10000, 100000, 100000]}]"
      ]
     },
     "execution_count": 267,
     "metadata": {},
     "output_type": "execute_result"
    }
   ],
   "source": [
    "parameters1= [{'alpha': [0.001,0.1,1, 10, 100, 1000, 10000, 100000, 100000]}]\n",
    "parameters1"
   ]
  },
  {
   "cell_type": "code",
   "execution_count": 268,
   "id": "80bd1aec-1dc1-4403-bc87-f499b3b77593",
   "metadata": {},
   "outputs": [
    {
     "data": {
      "text/plain": [
       "Ridge()"
      ]
     },
     "execution_count": 268,
     "metadata": {},
     "output_type": "execute_result"
    }
   ],
   "source": [
    "RR=Ridge()\n",
    "RR"
   ]
  },
  {
   "cell_type": "code",
   "execution_count": 286,
   "id": "7b06c5b6-c07c-4f15-8e3b-3de8aa1619d8",
   "metadata": {},
   "outputs": [],
   "source": [
    "Grid1 = GridSearchCV(RR, parameters1,cv=4)"
   ]
  },
  {
   "cell_type": "code",
   "execution_count": 325,
   "id": "7dce26cc-6c27-4e30-aa78-915191d4c61c",
   "metadata": {
    "collapsed": true,
    "jupyter": {
     "outputs_hidden": true
    },
    "tags": []
   },
   "outputs": [
    {
     "name": "stderr",
     "output_type": "stream",
     "text": [
      "/Applications/anaconda3/lib/python3.8/site-packages/sklearn/linear_model/_ridge.py:147: LinAlgWarning: Ill-conditioned matrix (rcond=1.81442e-51): result may not be accurate.\n",
      "  return linalg.solve(A, Xy, sym_pos=True,\n",
      "/Applications/anaconda3/lib/python3.8/site-packages/sklearn/linear_model/_ridge.py:147: LinAlgWarning: Ill-conditioned matrix (rcond=1.96452e-51): result may not be accurate.\n",
      "  return linalg.solve(A, Xy, sym_pos=True,\n",
      "/Applications/anaconda3/lib/python3.8/site-packages/sklearn/linear_model/_ridge.py:147: LinAlgWarning: Ill-conditioned matrix (rcond=1.70859e-51): result may not be accurate.\n",
      "  return linalg.solve(A, Xy, sym_pos=True,\n",
      "/Applications/anaconda3/lib/python3.8/site-packages/sklearn/linear_model/_ridge.py:147: LinAlgWarning: Ill-conditioned matrix (rcond=5.81185e-51): result may not be accurate.\n",
      "  return linalg.solve(A, Xy, sym_pos=True,\n",
      "/Applications/anaconda3/lib/python3.8/site-packages/sklearn/linear_model/_ridge.py:147: LinAlgWarning: Ill-conditioned matrix (rcond=1.81442e-49): result may not be accurate.\n",
      "  return linalg.solve(A, Xy, sym_pos=True,\n",
      "/Applications/anaconda3/lib/python3.8/site-packages/sklearn/linear_model/_ridge.py:147: LinAlgWarning: Ill-conditioned matrix (rcond=1.96452e-49): result may not be accurate.\n",
      "  return linalg.solve(A, Xy, sym_pos=True,\n",
      "/Applications/anaconda3/lib/python3.8/site-packages/sklearn/linear_model/_ridge.py:147: LinAlgWarning: Ill-conditioned matrix (rcond=1.70859e-49): result may not be accurate.\n",
      "  return linalg.solve(A, Xy, sym_pos=True,\n",
      "/Applications/anaconda3/lib/python3.8/site-packages/sklearn/linear_model/_ridge.py:147: LinAlgWarning: Ill-conditioned matrix (rcond=5.81185e-49): result may not be accurate.\n",
      "  return linalg.solve(A, Xy, sym_pos=True,\n",
      "/Applications/anaconda3/lib/python3.8/site-packages/sklearn/linear_model/_ridge.py:147: LinAlgWarning: Ill-conditioned matrix (rcond=1.68666e-48): result may not be accurate.\n",
      "  return linalg.solve(A, Xy, sym_pos=True,\n",
      "/Applications/anaconda3/lib/python3.8/site-packages/sklearn/linear_model/_ridge.py:147: LinAlgWarning: Ill-conditioned matrix (rcond=1.82289e-48): result may not be accurate.\n",
      "  return linalg.solve(A, Xy, sym_pos=True,\n",
      "/Applications/anaconda3/lib/python3.8/site-packages/sklearn/linear_model/_ridge.py:147: LinAlgWarning: Ill-conditioned matrix (rcond=1.58127e-48): result may not be accurate.\n",
      "  return linalg.solve(A, Xy, sym_pos=True,\n",
      "/Applications/anaconda3/lib/python3.8/site-packages/sklearn/linear_model/_ridge.py:147: LinAlgWarning: Ill-conditioned matrix (rcond=5.38425e-48): result may not be accurate.\n",
      "  return linalg.solve(A, Xy, sym_pos=True,\n",
      "/Applications/anaconda3/lib/python3.8/site-packages/sklearn/linear_model/_ridge.py:147: LinAlgWarning: Ill-conditioned matrix (rcond=1.66921e-47): result may not be accurate.\n",
      "  return linalg.solve(A, Xy, sym_pos=True,\n",
      "/Applications/anaconda3/lib/python3.8/site-packages/sklearn/linear_model/_ridge.py:147: LinAlgWarning: Ill-conditioned matrix (rcond=1.8035e-47): result may not be accurate.\n",
      "  return linalg.solve(A, Xy, sym_pos=True,\n",
      "/Applications/anaconda3/lib/python3.8/site-packages/sklearn/linear_model/_ridge.py:147: LinAlgWarning: Ill-conditioned matrix (rcond=1.56618e-47): result may not be accurate.\n",
      "  return linalg.solve(A, Xy, sym_pos=True,\n",
      "/Applications/anaconda3/lib/python3.8/site-packages/sklearn/linear_model/_ridge.py:147: LinAlgWarning: Ill-conditioned matrix (rcond=5.33246e-47): result may not be accurate.\n",
      "  return linalg.solve(A, Xy, sym_pos=True,\n",
      "/Applications/anaconda3/lib/python3.8/site-packages/sklearn/linear_model/_ridge.py:147: LinAlgWarning: Ill-conditioned matrix (rcond=1.52054e-46): result may not be accurate.\n",
      "  return linalg.solve(A, Xy, sym_pos=True,\n",
      "/Applications/anaconda3/lib/python3.8/site-packages/sklearn/linear_model/_ridge.py:147: LinAlgWarning: Ill-conditioned matrix (rcond=1.87958e-46): result may not be accurate.\n",
      "  return linalg.solve(A, Xy, sym_pos=True,\n",
      "/Applications/anaconda3/lib/python3.8/site-packages/sklearn/linear_model/_ridge.py:147: LinAlgWarning: Ill-conditioned matrix (rcond=1.63464e-46): result may not be accurate.\n",
      "  return linalg.solve(A, Xy, sym_pos=True,\n",
      "/Applications/anaconda3/lib/python3.8/site-packages/sklearn/linear_model/_ridge.py:147: LinAlgWarning: Ill-conditioned matrix (rcond=5.56116e-46): result may not be accurate.\n",
      "  return linalg.solve(A, Xy, sym_pos=True,\n",
      "/Applications/anaconda3/lib/python3.8/site-packages/sklearn/linear_model/_ridge.py:147: LinAlgWarning: Ill-conditioned matrix (rcond=1.29339e-45): result may not be accurate.\n",
      "  return linalg.solve(A, Xy, sym_pos=True,\n",
      "/Applications/anaconda3/lib/python3.8/site-packages/sklearn/linear_model/_ridge.py:147: LinAlgWarning: Ill-conditioned matrix (rcond=1.40606e-45): result may not be accurate.\n",
      "  return linalg.solve(A, Xy, sym_pos=True,\n",
      "/Applications/anaconda3/lib/python3.8/site-packages/sklearn/linear_model/_ridge.py:147: LinAlgWarning: Ill-conditioned matrix (rcond=1.22256e-45): result may not be accurate.\n",
      "  return linalg.solve(A, Xy, sym_pos=True,\n",
      "/Applications/anaconda3/lib/python3.8/site-packages/sklearn/linear_model/_ridge.py:147: LinAlgWarning: Ill-conditioned matrix (rcond=4.16732e-45): result may not be accurate.\n",
      "  return linalg.solve(A, Xy, sym_pos=True,\n",
      "/Applications/anaconda3/lib/python3.8/site-packages/sklearn/linear_model/_ridge.py:147: LinAlgWarning: Ill-conditioned matrix (rcond=1.38919e-44): result may not be accurate.\n",
      "  return linalg.solve(A, Xy, sym_pos=True,\n",
      "/Applications/anaconda3/lib/python3.8/site-packages/sklearn/linear_model/_ridge.py:147: LinAlgWarning: Ill-conditioned matrix (rcond=1.50867e-44): result may not be accurate.\n",
      "  return linalg.solve(A, Xy, sym_pos=True,\n",
      "/Applications/anaconda3/lib/python3.8/site-packages/sklearn/linear_model/_ridge.py:147: LinAlgWarning: Ill-conditioned matrix (rcond=1.31435e-44): result may not be accurate.\n",
      "  return linalg.solve(A, Xy, sym_pos=True,\n",
      "/Applications/anaconda3/lib/python3.8/site-packages/sklearn/linear_model/_ridge.py:147: LinAlgWarning: Ill-conditioned matrix (rcond=4.46547e-44): result may not be accurate.\n",
      "  return linalg.solve(A, Xy, sym_pos=True,\n",
      "/Applications/anaconda3/lib/python3.8/site-packages/sklearn/linear_model/_ridge.py:147: LinAlgWarning: Ill-conditioned matrix (rcond=1.32628e-43): result may not be accurate.\n",
      "  return linalg.solve(A, Xy, sym_pos=True,\n",
      "/Applications/anaconda3/lib/python3.8/site-packages/sklearn/linear_model/_ridge.py:147: LinAlgWarning: Ill-conditioned matrix (rcond=1.43506e-43): result may not be accurate.\n",
      "  return linalg.solve(A, Xy, sym_pos=True,\n",
      "/Applications/anaconda3/lib/python3.8/site-packages/sklearn/linear_model/_ridge.py:147: LinAlgWarning: Ill-conditioned matrix (rcond=1.24641e-43): result may not be accurate.\n",
      "  return linalg.solve(A, Xy, sym_pos=True,\n",
      "/Applications/anaconda3/lib/python3.8/site-packages/sklearn/linear_model/_ridge.py:147: LinAlgWarning: Ill-conditioned matrix (rcond=4.2494e-43): result may not be accurate.\n",
      "  return linalg.solve(A, Xy, sym_pos=True,\n",
      "/Applications/anaconda3/lib/python3.8/site-packages/sklearn/linear_model/_ridge.py:147: LinAlgWarning: Ill-conditioned matrix (rcond=1.32628e-43): result may not be accurate.\n",
      "  return linalg.solve(A, Xy, sym_pos=True,\n",
      "/Applications/anaconda3/lib/python3.8/site-packages/sklearn/linear_model/_ridge.py:147: LinAlgWarning: Ill-conditioned matrix (rcond=1.43506e-43): result may not be accurate.\n",
      "  return linalg.solve(A, Xy, sym_pos=True,\n",
      "/Applications/anaconda3/lib/python3.8/site-packages/sklearn/linear_model/_ridge.py:147: LinAlgWarning: Ill-conditioned matrix (rcond=1.24641e-43): result may not be accurate.\n",
      "  return linalg.solve(A, Xy, sym_pos=True,\n",
      "/Applications/anaconda3/lib/python3.8/site-packages/sklearn/linear_model/_ridge.py:147: LinAlgWarning: Ill-conditioned matrix (rcond=4.2494e-43): result may not be accurate.\n",
      "  return linalg.solve(A, Xy, sym_pos=True,\n",
      "/Applications/anaconda3/lib/python3.8/site-packages/sklearn/linear_model/_ridge.py:147: LinAlgWarning: Ill-conditioned matrix (rcond=1.3606e-43): result may not be accurate.\n",
      "  return linalg.solve(A, Xy, sym_pos=True,\n"
     ]
    },
    {
     "data": {
      "text/plain": [
       "GridSearchCV(cv=4, estimator=Ridge(),\n",
       "             param_grid=[{'alpha': [0.001, 0.1, 1, 10, 100, 1000, 10000, 100000,\n",
       "                                    100000]}])"
      ]
     },
     "execution_count": 325,
     "metadata": {},
     "output_type": "execute_result"
    }
   ],
   "source": [
    "Grid1.fit(x_train_pr, y_train)"
   ]
  },
  {
   "cell_type": "code",
   "execution_count": 326,
   "id": "f964d1d3-b00b-454c-a034-d1c637b71d69",
   "metadata": {},
   "outputs": [
    {
     "data": {
      "text/plain": [
       "Ridge(alpha=100000)"
      ]
     },
     "execution_count": 326,
     "metadata": {},
     "output_type": "execute_result"
    }
   ],
   "source": [
    "BestRR=Grid1.best_estimator_\n",
    "BestRR"
   ]
  },
  {
   "cell_type": "code",
   "execution_count": 327,
   "id": "7d38e0bf-8928-4305-9051-69ce1f2d4e9b",
   "metadata": {},
   "outputs": [
    {
     "data": {
      "text/plain": [
       "0.4536558556356324"
      ]
     },
     "execution_count": 327,
     "metadata": {},
     "output_type": "execute_result"
    }
   ],
   "source": [
    "BestRR.score(x_test_pr, y_test)"
   ]
  },
  {
   "cell_type": "code",
   "execution_count": null,
   "id": "e776e299-a91e-4598-9fe2-e9cbcf92a407",
   "metadata": {},
   "outputs": [],
   "source": []
  },
  {
   "cell_type": "code",
   "execution_count": null,
   "id": "e1633410-c0c9-423b-b148-e51ec56219bc",
   "metadata": {},
   "outputs": [],
   "source": []
  }
 ],
 "metadata": {
  "kernelspec": {
   "display_name": "Python 3",
   "language": "python",
   "name": "python3"
  },
  "language_info": {
   "codemirror_mode": {
    "name": "ipython",
    "version": 3
   },
   "file_extension": ".py",
   "mimetype": "text/x-python",
   "name": "python",
   "nbconvert_exporter": "python",
   "pygments_lexer": "ipython3",
   "version": "3.8.8"
  }
 },
 "nbformat": 4,
 "nbformat_minor": 5
}
