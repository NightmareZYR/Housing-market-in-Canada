{
 "cells": [
  {
   "cell_type": "markdown",
   "id": "09560cc9-e47c-4800-b0ff-bdbb6e8998e4",
   "metadata": {},
   "source": [
    "This research is about housing market of Canada. The reason why I come up this idea is that some many friends told me that the housing market is increasing a lot this year. Hence, I decide to look into the housing market and hopefully I can get some insight from the data.\n",
    "\n",
    "Before analyzing data, I have to have some data on hand. So I feel like that I can try some web scraping from website which is posting housing information. The first website I tried is a website called 'Point2homes'. As a resident who have stayed in Nova Scotia for six years, I think that I should start this province first.\n",
    "\n",
    "Here we go, let's try to get some data from it."
   ]
  },
  {
   "cell_type": "code",
   "execution_count": 4,
   "id": "d3182ed3-b316-4d53-b3d9-c311c28fd710",
   "metadata": {},
   "outputs": [],
   "source": [
    "# Import requests\n",
    "import requests\n",
    "from bs4 import BeautifulSoup\n",
    "import pandas as pd"
   ]
  },
  {
   "cell_type": "markdown",
   "id": "2506bcb1-7bd3-4b7f-a4d5-e3973feab081",
   "metadata": {},
   "source": [
    "We start with Nova Scotia."
   ]
  },
  {
   "cell_type": "code",
   "execution_count": 2,
   "id": "fb7e208c-8311-4d1d-8c26-e552617d4b6f",
   "metadata": {},
   "outputs": [],
   "source": [
    "url = 'https://www.point2homes.com/CA/Real-Estate-Maps.html?location=Nova+Scotia&PropertyType=House&search_mode=location&page=1&SelectedView=map_view&LocationGeoId=205403&viewport=-67.21871554643741%2C42.95585923041173%2C-58.88009249956241%2C47.442429466642906&zoom=7&location_changed=&ajax=1'"
   ]
  },
  {
   "cell_type": "code",
   "execution_count": 3,
   "id": "4f7c5b2d-7678-4cbf-8fca-38b1fd7174f8",
   "metadata": {},
   "outputs": [
    {
     "data": {
      "text/plain": [
       "200"
      ]
     },
     "execution_count": 3,
     "metadata": {},
     "output_type": "execute_result"
    }
   ],
   "source": [
    "requests.get(url).status_code"
   ]
  },
  {
   "cell_type": "code",
   "execution_count": 4,
   "id": "1c90e9da-d50b-4da0-b5d2-1d6b58ae21dd",
   "metadata": {},
   "outputs": [],
   "source": [
    "data=requests.get(url).text"
   ]
  },
  {
   "cell_type": "code",
   "execution_count": 5,
   "id": "516c2c5c-e2b3-495a-a5c9-c819d73d35e9",
   "metadata": {},
   "outputs": [],
   "source": [
    "soup = BeautifulSoup(data, 'html.parser')"
   ]
  },
  {
   "cell_type": "code",
   "execution_count": 6,
   "id": "e3471c20-522f-4b7b-8358-7cbf5d1d75e8",
   "metadata": {},
   "outputs": [],
   "source": [
    "tables= soup.find_all(\"div\", class_=\"item-details\")"
   ]
  },
  {
   "cell_type": "code",
   "execution_count": 7,
   "id": "95a4d3e2-4476-42b5-9b6e-664e1764e24f",
   "metadata": {
    "collapsed": true,
    "jupyter": {
     "outputs_hidden": true
    },
    "tags": []
   },
   "outputs": [
    {
     "data": {
      "text/plain": [
       "<div class=\"item-details\">\n",
       "<div class=\"item-header-cnt\">\n",
       "<div class=\"characteristics-cnt\">\n",
       "<ul>\n",
       "<li class=\"ic-beds\" data-label=\"Beds\">\n",
       "<strong>3</strong> <span class=\"gray normal-lbl\">Beds</span><span class=\"gray short-lbl\">Bds</span>\n",
       "</li>\n",
       "<li class=\"ic-baths\" data-label=\"Bath\">\n",
       "<strong>1</strong> <span class=\"gray normal-lbl\">Bath</span><span class=\"gray short-lbl\">Ba</span>\n",
       "</li>\n",
       "<li class=\"ic-sqft\" data-label=\"Sqft\">\n",
       "<strong>1,630</strong> <span class=\"gray normal-lbl\">Sqft</span><span class=\"gray short-lbl\">Sqft</span>\n",
       "</li>\n",
       "<li class=\"ic-lotsize\" data-label=\"Lot Size\">\n",
       "<strong>3.81 ac</strong> <span class=\"gray\">Lot Size</span>\n",
       "</li>\n",
       "<li class=\"property-type ic-proptype\">\n",
       "            Residential\n",
       "        </li>\n",
       "</ul>\n",
       "</div>\n",
       "<div class=\"item-header-left-cnt\">\n",
       "<div class=\"price\" data-price=\"$225,000 CAD\">\n",
       "<span class=\"green\">\n",
       "<span>\n",
       "                $225,000 CAD\n",
       "            </span>\n",
       "</span>\n",
       "<span class=\"pricedrop-container\"> <span class=\"price-drop\" title=\"24.9K\">24.9K</span> </span>\n",
       "</div>\n",
       "<div class=\"item-address\" data-address=\"1368 Forties Rd. \" data-tracking=\"\" data-url=\"/CA/Home-For-Sale/NS/Chester/1368-Forties-Rd/108653064.html\">\n",
       "<h2><div class=\"address-container\">1368 Forties Rd. </div></h2>\n",
       "</div>\n",
       "</div>\n",
       "</div>\n",
       "</div>"
      ]
     },
     "execution_count": 7,
     "metadata": {},
     "output_type": "execute_result"
    }
   ],
   "source": [
    "tables[0]"
   ]
  },
  {
   "cell_type": "markdown",
   "id": "d681c201-e550-4c1f-9496-7d6b65b002cf",
   "metadata": {},
   "source": [
    "In the beginning I found that this web page has 100 information of houses, so I want to check whether I got them all."
   ]
  },
  {
   "cell_type": "markdown",
   "id": "6ac3d594-95d8-472a-935b-cef986845524",
   "metadata": {},
   "source": [
    "len(tables)"
   ]
  },
  {
   "cell_type": "markdown",
   "id": "331d1b33-641c-46cd-b7b5-edc8867ed60c",
   "metadata": {},
   "source": [
    "Now I want to get all the pages which are 2101 results of housing information. It should be 21 pages of 100 information plus 21 information at the 22nd page."
   ]
  },
  {
   "cell_type": "code",
   "execution_count": 1,
   "id": "28cc3b00-8993-4601-b066-9ab625b29df1",
   "metadata": {
    "tags": []
   },
   "outputs": [
    {
     "name": "stdout",
     "output_type": "stream",
     "text": [
      "https://www.point2homes.com/CA/Real-Estate-Maps.html?location=Nova+Scotia&PropertyType=House&search_mode=location&page=22&SelectedView=map_view&LocationGeoId=205403&viewport=-67.21871554643741%2C42.95585923041173%2C-58.88009249956241%2C47.442429466642906&zoom=7&location_changed=&ajax=1\n"
     ]
    }
   ],
   "source": [
    "for i in range(1,23):\n",
    "    url='https://www.point2homes.com/CA/Real-Estate-Maps.html?location=Nova+Scotia&PropertyType=House&search_mode=location&page=' + str(i) + '&SelectedView=map_view&LocationGeoId=205403&viewport=-67.21871554643741%2C42.95585923041173%2C-58.88009249956241%2C47.442429466642906&zoom=7&location_changed=&ajax=1'\n",
    "    \n",
    "print(url)"
   ]
  },
  {
   "cell_type": "markdown",
   "id": "95c6d945-06a9-4969-bfa4-863c655dce20",
   "metadata": {},
   "source": [
    "The informaton can be collected are \"ic-beds\", \"ic-baths\", \"ic-sqft\", \"ic-lotsize\", \"property-type ic-proptype\", \"price\" and \"item-address\"\n",
    "\n",
    "Let's store them in the data set"
   ]
  },
  {
   "cell_type": "code",
   "execution_count": 95,
   "id": "7beaa41b-b79c-4866-9054-a91acf00b4d9",
   "metadata": {},
   "outputs": [],
   "source": [
    "data = {}\n",
    "soups = {}\n",
    "tables_NS = []\n",
    "# Create a df to store info\n",
    "Point2_data = pd.DataFrame(columns=['Beds','Bath','Sqft','Lot_Size','Type','Price','Address'])\n",
    "for i in range(1,23):\n",
    "    url='https://www.point2homes.com/CA/Real-Estate-Maps.html?location=Nova+Scotia&PropertyType=House&search_mode=location&page=' + str(i) + '&SelectedView=map_view&LocationGeoId=205403&viewport=-67.21871554643741%2C42.95585923041173%2C-58.88009249956241%2C47.442429466642906&zoom=7&location_changed=&ajax=1'\n",
    "    data = requests.get(url).text\n",
    "    soup = BeautifulSoup(data, 'html.parser')\n",
    "    tables_NS.append(soup.find_all(\"div\", class_=\"item-details\"))\n",
    "    \n",
    "    # extract information from each table\n",
    "    for table in (tables_NS[(i-1)]):\n",
    "        if (len(str(table.find_all(\"li\", class_='ic-beds')).split())<3):\n",
    "            Nbed = float(\"NaN\")\n",
    "        else:\n",
    "            Nbed = int(''.join(filter(str.isdigit, str(table.find_all(\"li\", class_='ic-beds')))))\n",
    "        \n",
    "        if (len(str(table.find_all(\"li\", class_='ic-baths')).split())<3):\n",
    "            NBath = float(\"NaN\")\n",
    "        else:\n",
    "            NBath = int(''.join(filter(str.isdigit, str(table.find_all(\"li\", class_='ic-baths')))))\n",
    "        \n",
    "        if (len(str(table.find_all(\"li\", class_='ic-sqft')).split())<3):\n",
    "            NSqft = float(\"NaN\")\n",
    "        else:\n",
    "            NSqft = int(''.join(filter(str.isdigit, str(table.find_all(\"li\", class_='ic-sqft')))))\n",
    "    \n",
    "        if (len(str(table.find_all(\"li\", class_='ic-lotsize')).split())<4):\n",
    "            NLot_Size = float(\"NaN\")\n",
    "        else:\n",
    "            NLot_Size = str(table.find_all(\"li\", class_='ic-lotsize')).split()[4][-4:]\n",
    "        \n",
    "        if (len(str(table.find_all(\"li\", class_='ic-proptype')).split())<3):\n",
    "            NType = float(\"NaN\")\n",
    "        else:\n",
    "            NType = str(table.find_all(\"li\", class_='ic-proptype')).split()[3]\n",
    "\n",
    "\n",
    "        NPrice = int(table.find(\"div\", class_='price')['data-price'].replace('$','').replace(',','').replace('CAD',''))\n",
    "        NAddress = table.find(\"div\", class_='item-address')['data-address']\n",
    "    # append data into the table \n",
    "        Point2_data = Point2_data.append({'Beds':Nbed,'Bath':NBath,'Sqft':NSqft,'Lot_Size':NLot_Size,'Type':NType,'Price':NPrice,'Address':NAddress},ignore_index=True)"
   ]
  },
  {
   "cell_type": "code",
   "execution_count": 103,
   "id": "85f22d47-e2e0-4a89-9a2b-593a090a555a",
   "metadata": {},
   "outputs": [
    {
     "data": {
      "text/html": [
       "<div>\n",
       "<style scoped>\n",
       "    .dataframe tbody tr th:only-of-type {\n",
       "        vertical-align: middle;\n",
       "    }\n",
       "\n",
       "    .dataframe tbody tr th {\n",
       "        vertical-align: top;\n",
       "    }\n",
       "\n",
       "    .dataframe thead th {\n",
       "        text-align: right;\n",
       "    }\n",
       "</style>\n",
       "<table border=\"1\" class=\"dataframe\">\n",
       "  <thead>\n",
       "    <tr style=\"text-align: right;\">\n",
       "      <th></th>\n",
       "      <th>Beds</th>\n",
       "      <th>Bath</th>\n",
       "      <th>Sqft</th>\n",
       "      <th>Lot_Size</th>\n",
       "      <th>Type</th>\n",
       "      <th>Price</th>\n",
       "      <th>Address</th>\n",
       "    </tr>\n",
       "  </thead>\n",
       "  <tbody>\n",
       "    <tr>\n",
       "      <th>2096</th>\n",
       "      <td>4</td>\n",
       "      <td>1</td>\n",
       "      <td>2432</td>\n",
       "      <td>NaN</td>\n",
       "      <td>Single</td>\n",
       "      <td>179000</td>\n",
       "      <td>1837 Sandy Point Road</td>\n",
       "    </tr>\n",
       "    <tr>\n",
       "      <th>2097</th>\n",
       "      <td>NaN</td>\n",
       "      <td>NaN</td>\n",
       "      <td>NaN</td>\n",
       "      <td>.099</td>\n",
       "      <td>Residential</td>\n",
       "      <td>234900</td>\n",
       "      <td>15100 Cabot Trail Highway</td>\n",
       "    </tr>\n",
       "    <tr>\n",
       "      <th>2098</th>\n",
       "      <td>2</td>\n",
       "      <td>2</td>\n",
       "      <td>1082</td>\n",
       "      <td>.258</td>\n",
       "      <td>Residential</td>\n",
       "      <td>220000</td>\n",
       "      <td>800 Old Sambro Road</td>\n",
       "    </tr>\n",
       "    <tr>\n",
       "      <th>2099</th>\n",
       "      <td>3</td>\n",
       "      <td>NaN</td>\n",
       "      <td>2125</td>\n",
       "      <td>&gt;4.6</td>\n",
       "      <td>Residential</td>\n",
       "      <td>259000</td>\n",
       "      <td>470 Patrice Road</td>\n",
       "    </tr>\n",
       "    <tr>\n",
       "      <th>2100</th>\n",
       "      <td>4</td>\n",
       "      <td>4</td>\n",
       "      <td>3109</td>\n",
       "      <td>NaN</td>\n",
       "      <td>Single</td>\n",
       "      <td>329000</td>\n",
       "      <td>288 South Foord Street</td>\n",
       "    </tr>\n",
       "  </tbody>\n",
       "</table>\n",
       "</div>"
      ],
      "text/plain": [
       "     Beds Bath  Sqft Lot_Size         Type   Price                     Address\n",
       "2096    4    1  2432      NaN       Single  179000      1837 Sandy Point Road \n",
       "2097  NaN  NaN   NaN     .099  Residential  234900  15100 Cabot Trail Highway \n",
       "2098    2    2  1082     .258  Residential  220000        800 Old Sambro Road \n",
       "2099    3  NaN  2125     >4.6  Residential  259000           470 Patrice Road \n",
       "2100    4    4  3109      NaN       Single  329000     288 South Foord Street "
      ]
     },
     "execution_count": 103,
     "metadata": {},
     "output_type": "execute_result"
    }
   ],
   "source": [
    "Point2_data.tail()"
   ]
  },
  {
   "cell_type": "code",
   "execution_count": 105,
   "id": "fbe43c32-1e2e-48cb-9d32-9357d4037be2",
   "metadata": {},
   "outputs": [
    {
     "name": "stdout",
     "output_type": "stream",
     "text": [
      "Beds column has 38 NaNs\n",
      "Bath column has 36 NaNs\n",
      "Sqft column has 36 NaNs\n",
      "Lot_Size column has 1829 NaNs\n",
      "Type column has 0 NaNs\n",
      "Price column has 0 NaNs\n",
      "Address column has 0 NaNs\n"
     ]
    }
   ],
   "source": [
    "for column in Point2_data:\n",
    "    print(str(column) + ' column has '+ str(Point2_data[column].isnull().sum()) + ' NaNs')"
   ]
  },
  {
   "cell_type": "code",
   "execution_count": 104,
   "id": "b9b336bc-941c-4305-8569-cf9e2331b54b",
   "metadata": {},
   "outputs": [],
   "source": [
    "Point2_data.to_csv('Point2_data_NS_house.csv',index=False)"
   ]
  },
  {
   "cell_type": "markdown",
   "id": "c1613fad-9887-4d4f-be93-8eaa612c8074",
   "metadata": {},
   "source": [
    "### Now let's collect housing information in PEI"
   ]
  },
  {
   "cell_type": "code",
   "execution_count": 2,
   "id": "846ba114-08c8-46dc-aaad-58456ff50f69",
   "metadata": {},
   "outputs": [
    {
     "name": "stdout",
     "output_type": "stream",
     "text": [
      "https://www.point2homes.com/CA/Real-Estate-Maps.html?location=Prince+Edward+Island&PropertyType=House&search_mode=location&page=7&SelectedView=map_view&LocationGeoId=205408&viewport=-65.28516031571866%2C45.3536041179178%2C-61.115848792281156%2C47.548272840428936&zoom=8&location_changed=&ajax=1\n"
     ]
    }
   ],
   "source": [
    "for i in range(1,8):\n",
    "    url = 'https://www.point2homes.com/CA/Real-Estate-Maps.html?location=Prince+Edward+Island&PropertyType=House&search_mode=location&page=' + str(i) + '&SelectedView=map_view&LocationGeoId=205408&viewport=-65.28516031571866%2C45.3536041179178%2C-61.115848792281156%2C47.548272840428936&zoom=8&location_changed=&ajax=1'\n",
    "    \n",
    "print(url)"
   ]
  },
  {
   "cell_type": "code",
   "execution_count": 5,
   "id": "f6cde491-33db-458a-8006-2f24fb0cf9f1",
   "metadata": {},
   "outputs": [],
   "source": [
    "data = {}\n",
    "soups = {}\n",
    "tables_PE = []\n",
    "# Create a df to store info\n",
    "Point2_data = pd.DataFrame(columns=['Beds','Bath','Sqft','Lot_Size','Type','Price','Address'])\n",
    "for i in range(1,8):\n",
    "    url = 'https://www.point2homes.com/CA/Real-Estate-Maps.html?location=Prince+Edward+Island&PropertyType=House&search_mode=location&page=' + str(i) + '&SelectedView=map_view&LocationGeoId=205408&viewport=-65.28516031571866%2C45.3536041179178%2C-61.115848792281156%2C47.548272840428936&zoom=8&location_changed=&ajax=1'\n",
    "    data = requests.get(url).text\n",
    "    soup = BeautifulSoup(data, 'html.parser')\n",
    "    tables_PE.append(soup.find_all(\"div\", class_=\"item-details\"))\n",
    "    \n",
    "    # extract information from each table\n",
    "    for table in (tables_PE[(i-1)]):\n",
    "        if (len(str(table.find_all(\"li\", class_='ic-beds')).split())<3):\n",
    "            Nbed = float(\"NaN\")\n",
    "        else:\n",
    "            Nbed = int(''.join(filter(str.isdigit, str(table.find_all(\"li\", class_='ic-beds')))))\n",
    "        \n",
    "        if (len(str(table.find_all(\"li\", class_='ic-baths')).split())<3):\n",
    "            NBath = float(\"NaN\")\n",
    "        else:\n",
    "            NBath = int(''.join(filter(str.isdigit, str(table.find_all(\"li\", class_='ic-baths')))))\n",
    "        \n",
    "        if (len(str(table.find_all(\"li\", class_='ic-sqft')).split())<3):\n",
    "            NSqft = float(\"NaN\")\n",
    "        else:\n",
    "            NSqft = int(''.join(filter(str.isdigit, str(table.find_all(\"li\", class_='ic-sqft')))))\n",
    "    \n",
    "        if (len(str(table.find_all(\"li\", class_='ic-lotsize')).split())<4):\n",
    "            NLot_Size = float(\"NaN\")\n",
    "        else:\n",
    "            NLot_Size = str(table.find_all(\"li\", class_='ic-lotsize')).split()[4][-4:]\n",
    "        \n",
    "        if (len(str(table.find_all(\"li\", class_='ic-proptype')).split())<3):\n",
    "            NType = float(\"NaN\")\n",
    "        else:\n",
    "            NType = str(table.find_all(\"li\", class_='ic-proptype')).split()[3]\n",
    "\n",
    "\n",
    "        NPrice = int(table.find(\"div\", class_='price')['data-price'].replace('$','').replace(',','').replace('CAD',''))\n",
    "        NAddress = table.find(\"div\", class_='item-address')['data-address']\n",
    "    # append data into the table \n",
    "        Point2_data = Point2_data.append({'Beds':Nbed,'Bath':NBath,'Sqft':NSqft,'Lot_Size':NLot_Size,'Type':NType,'Price':NPrice,'Address':NAddress},ignore_index=True)"
   ]
  },
  {
   "cell_type": "code",
   "execution_count": 6,
   "id": "962ea69e-8a2c-425f-8a52-a6fe3d0a31bd",
   "metadata": {},
   "outputs": [
    {
     "data": {
      "text/html": [
       "<div>\n",
       "<style scoped>\n",
       "    .dataframe tbody tr th:only-of-type {\n",
       "        vertical-align: middle;\n",
       "    }\n",
       "\n",
       "    .dataframe tbody tr th {\n",
       "        vertical-align: top;\n",
       "    }\n",
       "\n",
       "    .dataframe thead th {\n",
       "        text-align: right;\n",
       "    }\n",
       "</style>\n",
       "<table border=\"1\" class=\"dataframe\">\n",
       "  <thead>\n",
       "    <tr style=\"text-align: right;\">\n",
       "      <th></th>\n",
       "      <th>Beds</th>\n",
       "      <th>Bath</th>\n",
       "      <th>Sqft</th>\n",
       "      <th>Lot_Size</th>\n",
       "      <th>Type</th>\n",
       "      <th>Price</th>\n",
       "      <th>Address</th>\n",
       "    </tr>\n",
       "  </thead>\n",
       "  <tbody>\n",
       "    <tr>\n",
       "      <th>601</th>\n",
       "      <td>4</td>\n",
       "      <td>3</td>\n",
       "      <td>2144</td>\n",
       "      <td>NaN</td>\n",
       "      <td>Residential</td>\n",
       "      <td>489000</td>\n",
       "      <td>45 Hillside Meadows</td>\n",
       "    </tr>\n",
       "    <tr>\n",
       "      <th>602</th>\n",
       "      <td>3</td>\n",
       "      <td>3</td>\n",
       "      <td>1625</td>\n",
       "      <td>ng&gt;2</td>\n",
       "      <td>Residential</td>\n",
       "      <td>599900</td>\n",
       "      <td>251 New Seabury Drive</td>\n",
       "    </tr>\n",
       "    <tr>\n",
       "      <th>603</th>\n",
       "      <td>3</td>\n",
       "      <td>2</td>\n",
       "      <td>1800</td>\n",
       "      <td>&gt;0.2</td>\n",
       "      <td>Residential</td>\n",
       "      <td>219900</td>\n",
       "      <td>2 Monaghan Street</td>\n",
       "    </tr>\n",
       "    <tr>\n",
       "      <th>604</th>\n",
       "      <td>4</td>\n",
       "      <td>2</td>\n",
       "      <td>1881</td>\n",
       "      <td>g&gt;47</td>\n",
       "      <td>Farm</td>\n",
       "      <td>549000</td>\n",
       "      <td>1752 Rte 225</td>\n",
       "    </tr>\n",
       "    <tr>\n",
       "      <th>605</th>\n",
       "      <td>NaN</td>\n",
       "      <td>NaN</td>\n",
       "      <td>NaN</td>\n",
       "      <td>0.84</td>\n",
       "      <td>Residential</td>\n",
       "      <td>49900</td>\n",
       "      <td>Lot 42 Sunset Crescent</td>\n",
       "    </tr>\n",
       "  </tbody>\n",
       "</table>\n",
       "</div>"
      ],
      "text/plain": [
       "    Beds Bath  Sqft Lot_Size         Type   Price                  Address\n",
       "601    4    3  2144      NaN  Residential  489000     45 Hillside Meadows \n",
       "602    3    3  1625     ng>2  Residential  599900   251 New Seabury Drive \n",
       "603    3    2  1800     >0.2  Residential  219900       2 Monaghan Street \n",
       "604    4    2  1881     g>47         Farm  549000            1752 Rte 225 \n",
       "605  NaN  NaN   NaN     0.84  Residential   49900  Lot 42 Sunset Crescent "
      ]
     },
     "execution_count": 6,
     "metadata": {},
     "output_type": "execute_result"
    }
   ],
   "source": [
    "Point2_data.tail()"
   ]
  },
  {
   "cell_type": "code",
   "execution_count": 7,
   "id": "ece135ca-427b-4b7b-8115-9f293675974a",
   "metadata": {},
   "outputs": [
    {
     "name": "stdout",
     "output_type": "stream",
     "text": [
      "Beds column has 21 NaNs\n",
      "Bath column has 23 NaNs\n",
      "Sqft column has 37 NaNs\n",
      "Lot_Size column has 247 NaNs\n",
      "Type column has 0 NaNs\n",
      "Price column has 0 NaNs\n",
      "Address column has 0 NaNs\n"
     ]
    }
   ],
   "source": [
    "for column in Point2_data:\n",
    "    print(str(column) + ' column has '+ str(Point2_data[column].isnull().sum()) + ' NaNs')"
   ]
  },
  {
   "cell_type": "code",
   "execution_count": 8,
   "id": "decd0ba9-316c-4c2e-a815-07339c7a0a38",
   "metadata": {},
   "outputs": [],
   "source": [
    "Point2_data.to_csv('Point2_data_PE_house.csv',index=False)"
   ]
  },
  {
   "cell_type": "markdown",
   "id": "5863a33c-6fab-4eb1-b7b1-69682806abb9",
   "metadata": {},
   "source": [
    "### Let's collect NB"
   ]
  },
  {
   "cell_type": "code",
   "execution_count": 9,
   "id": "a835724b-0892-4835-bb71-f84883fcc7f3",
   "metadata": {
    "tags": []
   },
   "outputs": [
    {
     "name": "stdout",
     "output_type": "stream",
     "text": [
      "https://www.point2homes.com/CA/Real-Estate-Maps.html?location=New+Brunswick&PropertyType=House&search_mode=location&page=24&SelectedView=map_view&LocationGeoId=205405&viewport=-70.5033065889374%2C44.07796464156973%2C-62.164683542062406%2C48.47860930093096&zoom=7&location_changed=&ajax=1\n"
     ]
    }
   ],
   "source": [
    "for i in range(1,25):\n",
    "    url = 'https://www.point2homes.com/CA/Real-Estate-Maps.html?location=New+Brunswick&PropertyType=House&search_mode=location&page=' + str(i) + '&SelectedView=map_view&LocationGeoId=205405&viewport=-70.5033065889374%2C44.07796464156973%2C-62.164683542062406%2C48.47860930093096&zoom=7&location_changed=&ajax=1'\n",
    "    \n",
    "print(url)"
   ]
  },
  {
   "cell_type": "code",
   "execution_count": 122,
   "id": "cd15db73-660c-4318-b043-59d0f5031c78",
   "metadata": {},
   "outputs": [],
   "source": [
    "data = {}\n",
    "soups = {}\n",
    "tables_NB = []\n",
    "# Create a df to store info\n",
    "Point2_data = pd.DataFrame(columns=['Beds','Bath','Sqft','Lot_Size','Type','Price','Address'])\n",
    "for i in range(1,25):\n",
    "    url = 'https://www.point2homes.com/CA/Real-Estate-Maps.html?location=New+Brunswick&PropertyType=House&search_mode=location&page=' + str(i) + '&SelectedView=map_view&LocationGeoId=205405&viewport=-70.5033065889374%2C44.07796464156973%2C-62.164683542062406%2C48.47860930093096&zoom=7&location_changed=&ajax=1'\n",
    "    data = requests.get(url).text\n",
    "    soup = BeautifulSoup(data, 'html.parser')\n",
    "    tables_NB.append(soup.find_all(\"div\", class_=\"item-details\"))\n",
    "    \n",
    "    # extract information from each table\n",
    "    for table in (tables_NB[(i-1)]):\n",
    "        if (len(str(table.find_all(\"li\", class_='ic-beds')).split())<3):\n",
    "            Nbed = float(\"NaN\")\n",
    "        else:\n",
    "            Nbed = int(''.join(filter(str.isdigit, str(table.find_all(\"li\", class_='ic-beds')))))\n",
    "        \n",
    "        if (len(str(table.find_all(\"li\", class_='ic-baths')).split())<3):\n",
    "            NBath = float(\"NaN\")\n",
    "        else:\n",
    "            NBath = int(''.join(filter(str.isdigit, str(table.find_all(\"li\", class_='ic-baths')))))\n",
    "        \n",
    "        if (len(str(table.find_all(\"li\", class_='ic-sqft')).split())<3):\n",
    "            NSqft = float(\"NaN\")\n",
    "        else:\n",
    "            NSqft = int(''.join(filter(str.isdigit, str(table.find_all(\"li\", class_='ic-sqft')))))\n",
    "    \n",
    "        if (len(str(table.find_all(\"li\", class_='ic-lotsize')).split())<4):\n",
    "            NLot_Size = float(\"NaN\")\n",
    "        else:\n",
    "            NLot_Size = str(table.find_all(\"li\", class_='ic-lotsize')).split()[4][-4:]\n",
    "        \n",
    "        if (len(str(table.find_all(\"li\", class_='ic-proptype')).split())<3):\n",
    "            NType = float(\"NaN\")\n",
    "        else:\n",
    "            NType = str(table.find_all(\"li\", class_='ic-proptype')).split()[3]\n",
    "\n",
    "\n",
    "        NPrice = float(table.find(\"div\", class_='price')['data-price'].replace('$','').replace(',','').replace('CAD',''))\n",
    "        NAddress = table.find(\"div\", class_='item-address')['data-address']\n",
    "    # append data into the table \n",
    "        Point2_data = Point2_data.append({'Beds':Nbed,'Bath':NBath,'Sqft':NSqft,'Lot_Size':NLot_Size,'Type':NType,'Price':NPrice,'Address':NAddress},ignore_index=True)"
   ]
  },
  {
   "cell_type": "code",
   "execution_count": 123,
   "id": "ddd209b8-47a8-4c5a-ba3d-4873b94a8de8",
   "metadata": {},
   "outputs": [
    {
     "data": {
      "text/html": [
       "<div>\n",
       "<style scoped>\n",
       "    .dataframe tbody tr th:only-of-type {\n",
       "        vertical-align: middle;\n",
       "    }\n",
       "\n",
       "    .dataframe tbody tr th {\n",
       "        vertical-align: top;\n",
       "    }\n",
       "\n",
       "    .dataframe thead th {\n",
       "        text-align: right;\n",
       "    }\n",
       "</style>\n",
       "<table border=\"1\" class=\"dataframe\">\n",
       "  <thead>\n",
       "    <tr style=\"text-align: right;\">\n",
       "      <th></th>\n",
       "      <th>Beds</th>\n",
       "      <th>Bath</th>\n",
       "      <th>Sqft</th>\n",
       "      <th>Lot_Size</th>\n",
       "      <th>Type</th>\n",
       "      <th>Price</th>\n",
       "      <th>Address</th>\n",
       "    </tr>\n",
       "  </thead>\n",
       "  <tbody>\n",
       "    <tr>\n",
       "      <th>2367</th>\n",
       "      <td>3.0</td>\n",
       "      <td>3.0</td>\n",
       "      <td>2350.0</td>\n",
       "      <td>NaN</td>\n",
       "      <td>Single</td>\n",
       "      <td>229000.0</td>\n",
       "      <td>30 Queen Street</td>\n",
       "    </tr>\n",
       "    <tr>\n",
       "      <th>2368</th>\n",
       "      <td>2.0</td>\n",
       "      <td>2.0</td>\n",
       "      <td>1200.0</td>\n",
       "      <td>0.23</td>\n",
       "      <td>Residential</td>\n",
       "      <td>159900.0</td>\n",
       "      <td>121 Sanford</td>\n",
       "    </tr>\n",
       "    <tr>\n",
       "      <th>2369</th>\n",
       "      <td>3.0</td>\n",
       "      <td>3.0</td>\n",
       "      <td>1760.0</td>\n",
       "      <td>.658</td>\n",
       "      <td>Residential</td>\n",
       "      <td>349900.0</td>\n",
       "      <td>736 Amirault ST</td>\n",
       "    </tr>\n",
       "    <tr>\n",
       "      <th>2370</th>\n",
       "      <td>2.0</td>\n",
       "      <td>1.0</td>\n",
       "      <td>NaN</td>\n",
       "      <td>NaN</td>\n",
       "      <td>Single</td>\n",
       "      <td>184000.0</td>\n",
       "      <td>397 Shore Road</td>\n",
       "    </tr>\n",
       "    <tr>\n",
       "      <th>2371</th>\n",
       "      <td>4.0</td>\n",
       "      <td>5.0</td>\n",
       "      <td>NaN</td>\n",
       "      <td>NaN</td>\n",
       "      <td>Single</td>\n",
       "      <td>599900.0</td>\n",
       "      <td>561 King George</td>\n",
       "    </tr>\n",
       "  </tbody>\n",
       "</table>\n",
       "</div>"
      ],
      "text/plain": [
       "      Beds  Bath    Sqft Lot_Size         Type     Price           Address\n",
       "2367   3.0   3.0  2350.0      NaN       Single  229000.0  30 Queen Street \n",
       "2368   2.0   2.0  1200.0     0.23  Residential  159900.0      121 Sanford \n",
       "2369   3.0   3.0  1760.0     .658  Residential  349900.0  736 Amirault ST \n",
       "2370   2.0   1.0     NaN      NaN       Single  184000.0   397 Shore Road \n",
       "2371   4.0   5.0     NaN      NaN       Single  599900.0  561 King George "
      ]
     },
     "execution_count": 123,
     "metadata": {},
     "output_type": "execute_result"
    }
   ],
   "source": [
    "Point2_data.tail()"
   ]
  },
  {
   "cell_type": "code",
   "execution_count": 124,
   "id": "28d1ee70-8469-403e-b4e1-3c3e16c6a36e",
   "metadata": {},
   "outputs": [
    {
     "name": "stdout",
     "output_type": "stream",
     "text": [
      "Beds column has 120 NaNs\n",
      "Bath column has 115 NaNs\n",
      "Sqft column has 917 NaNs\n",
      "Lot_Size column has 1122 NaNs\n",
      "Type column has 0 NaNs\n",
      "Price column has 0 NaNs\n",
      "Address column has 0 NaNs\n"
     ]
    }
   ],
   "source": [
    "for column in Point2_data:\n",
    "    print(str(column) + ' column has '+ str(Point2_data[column].isnull().sum()) + ' NaNs')"
   ]
  },
  {
   "cell_type": "code",
   "execution_count": 125,
   "id": "64dbb086-56a3-4a0f-967a-3dee649605de",
   "metadata": {},
   "outputs": [],
   "source": [
    "Point2_data.to_csv('Point2_data_NB_house.csv',index=False)"
   ]
  },
  {
   "cell_type": "markdown",
   "id": "75af0c1f-39ea-40cb-831b-c370e815094a",
   "metadata": {},
   "source": [
    "### Let's collect NL"
   ]
  },
  {
   "cell_type": "code",
   "execution_count": 10,
   "id": "f0201460-4292-4331-bd08-c792c6f8192a",
   "metadata": {
    "tags": []
   },
   "outputs": [
    {
     "name": "stdout",
     "output_type": "stream",
     "text": [
      "https://www.point2homes.com/CA/Real-Estate-Maps.html?location=Newfoundland+and+Labrador&PropertyType=House&search_mode=location&page=25&SelectedView=map_view&LocationGeoId=205409&viewport=-70.5033065889374%2C44.07796464156973%2C-62.164683542062406%2C48.47860930093096&zoom=7&location_changed=true&ajax=1\n"
     ]
    }
   ],
   "source": [
    "for i in range(1,26):\n",
    "    url = 'https://www.point2homes.com/CA/Real-Estate-Maps.html?location=Newfoundland+and+Labrador&PropertyType=House&search_mode=location&page=' + str(i) + '&SelectedView=map_view&LocationGeoId=205409&viewport=-70.5033065889374%2C44.07796464156973%2C-62.164683542062406%2C48.47860930093096&zoom=7&location_changed=true&ajax=1'\n",
    "    \n",
    "print(url)"
   ]
  },
  {
   "cell_type": "code",
   "execution_count": 127,
   "id": "6c2e6de7-15eb-46a3-b76f-92f4af297709",
   "metadata": {},
   "outputs": [],
   "source": [
    "data = {}\n",
    "soups = {}\n",
    "tables_NL = []\n",
    "# Create a df to store info\n",
    "Point2_data = pd.DataFrame(columns=['Beds','Bath','Sqft','Lot_Size','Type','Price','Address'])\n",
    "for i in range(1,26):\n",
    "    url = 'https://www.point2homes.com/CA/Real-Estate-Maps.html?location=Newfoundland+and+Labrador&PropertyType=House&search_mode=location&page=' + str(i) + '&SelectedView=map_view&LocationGeoId=205409&viewport=-70.5033065889374%2C44.07796464156973%2C-62.164683542062406%2C48.47860930093096&zoom=7&location_changed=true&ajax=1'\n",
    "    data = requests.get(url).text\n",
    "    soup = BeautifulSoup(data, 'html.parser')\n",
    "    tables_NL.append(soup.find_all(\"div\", class_=\"item-details\"))\n",
    "    \n",
    "    # extract information from each table\n",
    "    for table in (tables_NL[(i-1)]):\n",
    "        if (len(str(table.find_all(\"li\", class_='ic-beds')).split())<3):\n",
    "            Nbed = float(\"NaN\")\n",
    "        else:\n",
    "            Nbed = int(''.join(filter(str.isdigit, str(table.find_all(\"li\", class_='ic-beds')))))\n",
    "        \n",
    "        if (len(str(table.find_all(\"li\", class_='ic-baths')).split())<3):\n",
    "            NBath = float(\"NaN\")\n",
    "        else:\n",
    "            NBath = int(''.join(filter(str.isdigit, str(table.find_all(\"li\", class_='ic-baths')))))\n",
    "        \n",
    "        if (len(str(table.find_all(\"li\", class_='ic-sqft')).split())<3):\n",
    "            NSqft = float(\"NaN\")\n",
    "        else:\n",
    "            NSqft = int(''.join(filter(str.isdigit, str(table.find_all(\"li\", class_='ic-sqft')))))\n",
    "    \n",
    "        if (len(str(table.find_all(\"li\", class_='ic-lotsize')).split())<4):\n",
    "            NLot_Size = float(\"NaN\")\n",
    "        else:\n",
    "            NLot_Size = str(table.find_all(\"li\", class_='ic-lotsize')).split()[4][-4:]\n",
    "        \n",
    "        if (len(str(table.find_all(\"li\", class_='ic-proptype')).split())<3):\n",
    "            NType = float(\"NaN\")\n",
    "        else:\n",
    "            NType = str(table.find_all(\"li\", class_='ic-proptype')).split()[3]\n",
    "\n",
    "\n",
    "        NPrice = float(table.find(\"div\", class_='price')['data-price'].replace('$','').replace(',','').replace('CAD',''))\n",
    "        NAddress = table.find(\"div\", class_='item-address')['data-address']\n",
    "    # append data into the table \n",
    "        Point2_data = Point2_data.append({'Beds':Nbed,'Bath':NBath,'Sqft':NSqft,'Lot_Size':NLot_Size,'Type':NType,'Price':NPrice,'Address':NAddress},ignore_index=True)"
   ]
  },
  {
   "cell_type": "code",
   "execution_count": 128,
   "id": "e43db21c-00fc-43f1-a5d0-35cb5c097a2a",
   "metadata": {},
   "outputs": [
    {
     "data": {
      "text/html": [
       "<div>\n",
       "<style scoped>\n",
       "    .dataframe tbody tr th:only-of-type {\n",
       "        vertical-align: middle;\n",
       "    }\n",
       "\n",
       "    .dataframe tbody tr th {\n",
       "        vertical-align: top;\n",
       "    }\n",
       "\n",
       "    .dataframe thead th {\n",
       "        text-align: right;\n",
       "    }\n",
       "</style>\n",
       "<table border=\"1\" class=\"dataframe\">\n",
       "  <thead>\n",
       "    <tr style=\"text-align: right;\">\n",
       "      <th></th>\n",
       "      <th>Beds</th>\n",
       "      <th>Bath</th>\n",
       "      <th>Sqft</th>\n",
       "      <th>Lot_Size</th>\n",
       "      <th>Type</th>\n",
       "      <th>Price</th>\n",
       "      <th>Address</th>\n",
       "    </tr>\n",
       "  </thead>\n",
       "  <tbody>\n",
       "    <tr>\n",
       "      <th>2462</th>\n",
       "      <td>2</td>\n",
       "      <td>1</td>\n",
       "      <td>800</td>\n",
       "      <td>NaN</td>\n",
       "      <td>Residential</td>\n",
       "      <td>69900.0</td>\n",
       "      <td>9 Drakes Hill</td>\n",
       "    </tr>\n",
       "    <tr>\n",
       "      <th>2463</th>\n",
       "      <td>3</td>\n",
       "      <td>1</td>\n",
       "      <td>2056</td>\n",
       "      <td>NaN</td>\n",
       "      <td>Residential</td>\n",
       "      <td>149900.0</td>\n",
       "      <td>27 Gladstone Road</td>\n",
       "    </tr>\n",
       "    <tr>\n",
       "      <th>2464</th>\n",
       "      <td>3</td>\n",
       "      <td>1</td>\n",
       "      <td>1000</td>\n",
       "      <td>NaN</td>\n",
       "      <td>Single</td>\n",
       "      <td>60000.0</td>\n",
       "      <td>13 Merasheen Crescent</td>\n",
       "    </tr>\n",
       "    <tr>\n",
       "      <th>2465</th>\n",
       "      <td>3</td>\n",
       "      <td>1</td>\n",
       "      <td>2480</td>\n",
       "      <td>NaN</td>\n",
       "      <td>Residential</td>\n",
       "      <td>299900.0</td>\n",
       "      <td>40 Mint Cove Pond Road</td>\n",
       "    </tr>\n",
       "    <tr>\n",
       "      <th>2466</th>\n",
       "      <td>4</td>\n",
       "      <td>2</td>\n",
       "      <td>1904</td>\n",
       "      <td>NaN</td>\n",
       "      <td>Residential</td>\n",
       "      <td>199500.0</td>\n",
       "      <td>5 Frecker Place Extension</td>\n",
       "    </tr>\n",
       "  </tbody>\n",
       "</table>\n",
       "</div>"
      ],
      "text/plain": [
       "     Beds Bath  Sqft Lot_Size         Type     Price  \\\n",
       "2462    2    1   800      NaN  Residential   69900.0   \n",
       "2463    3    1  2056      NaN  Residential  149900.0   \n",
       "2464    3    1  1000      NaN       Single   60000.0   \n",
       "2465    3    1  2480      NaN  Residential  299900.0   \n",
       "2466    4    2  1904      NaN  Residential  199500.0   \n",
       "\n",
       "                         Address  \n",
       "2462              9 Drakes Hill   \n",
       "2463          27 Gladstone Road   \n",
       "2464      13 Merasheen Crescent   \n",
       "2465     40 Mint Cove Pond Road   \n",
       "2466  5 Frecker Place Extension   "
      ]
     },
     "execution_count": 128,
     "metadata": {},
     "output_type": "execute_result"
    }
   ],
   "source": [
    "Point2_data.tail()"
   ]
  },
  {
   "cell_type": "code",
   "execution_count": 129,
   "id": "782ac593-19c7-42fb-8e9f-d5ec12456f9d",
   "metadata": {},
   "outputs": [
    {
     "name": "stdout",
     "output_type": "stream",
     "text": [
      "Beds column has 23 NaNs\n",
      "Bath column has 23 NaNs\n",
      "Sqft column has 10 NaNs\n",
      "Lot_Size column has 2403 NaNs\n",
      "Type column has 0 NaNs\n",
      "Price column has 0 NaNs\n",
      "Address column has 0 NaNs\n"
     ]
    }
   ],
   "source": [
    "for column in Point2_data:\n",
    "    print(str(column) + ' column has '+ str(Point2_data[column].isnull().sum()) + ' NaNs')"
   ]
  },
  {
   "cell_type": "code",
   "execution_count": 130,
   "id": "ea8906fb-a3b3-4387-b2dc-34ba3145692e",
   "metadata": {},
   "outputs": [],
   "source": [
    "Point2_data.to_csv('Point2_data_NL_house.csv',index=False)"
   ]
  },
  {
   "cell_type": "code",
   "execution_count": null,
   "id": "29ca42ef-d470-4fa0-8469-37d3a1f17dab",
   "metadata": {},
   "outputs": [],
   "source": []
  }
 ],
 "metadata": {
  "kernelspec": {
   "display_name": "Python 3",
   "language": "python",
   "name": "python3"
  },
  "language_info": {
   "codemirror_mode": {
    "name": "ipython",
    "version": 3
   },
   "file_extension": ".py",
   "mimetype": "text/x-python",
   "name": "python",
   "nbconvert_exporter": "python",
   "pygments_lexer": "ipython3",
   "version": "3.8.8"
  }
 },
 "nbformat": 4,
 "nbformat_minor": 5
}
