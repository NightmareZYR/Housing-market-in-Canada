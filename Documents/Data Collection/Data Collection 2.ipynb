{
 "cells": [
  {
   "cell_type": "code",
   "execution_count": 2,
   "id": "032fba18-2181-4adc-8550-03940bfca493",
   "metadata": {},
   "outputs": [],
   "source": [
    "# Import requests\n",
    "import requests\n",
    "from bs4 import BeautifulSoup\n",
    "import pandas as pd"
   ]
  },
  {
   "cell_type": "markdown",
   "id": "9354f5f0-e49b-4fb1-9932-a013639ef38d",
   "metadata": {},
   "source": [
    "#### Let's do housing price in MB. There are 1480 houses"
   ]
  },
  {
   "cell_type": "code",
   "execution_count": 1,
   "id": "a388e738-819f-48c9-a119-791c4529a807",
   "metadata": {
    "tags": []
   },
   "outputs": [
    {
     "name": "stdout",
     "output_type": "stream",
     "text": [
      "https://www.point2homes.com/CA/Real-Estate-Maps.html?location=Manitoba&PropertyType=House&search_mode=location&page=15&SelectedView=map_view&viewport=-101.4154375022499%2C40.24621161991605%2C-68.0609453147499%2C56.897161419930484&zoom=5&location_changed=true&ajax=1\n"
     ]
    }
   ],
   "source": [
    "for i in range(1,16):\n",
    "    url = 'https://www.point2homes.com/CA/Real-Estate-Maps.html?location=Manitoba&PropertyType=House&search_mode=location&page=' + str(i) + '&SelectedView=map_view&viewport=-101.4154375022499%2C40.24621161991605%2C-68.0609453147499%2C56.897161419930484&zoom=5&location_changed=true&ajax=1'\n",
    "    \n",
    "print(url)"
   ]
  },
  {
   "cell_type": "code",
   "execution_count": 3,
   "id": "505ac523-daa6-4517-a85e-3b028636063d",
   "metadata": {},
   "outputs": [],
   "source": [
    "data = {}\n",
    "soups = {}\n",
    "tables_MB = []\n",
    "# Create a df to store info\n",
    "Point2_data = pd.DataFrame(columns=['Beds','Bath','Sqft','Lot_Size','Type','Price','Address'])\n",
    "for i in range(1,16):\n",
    "    url = 'https://www.point2homes.com/CA/Real-Estate-Maps.html?location=Manitoba&PropertyType=House&search_mode=location&page=' + str(i) + '&SelectedView=map_view&viewport=-101.4154375022499%2C40.24621161991605%2C-68.0609453147499%2C56.897161419930484&zoom=5&location_changed=true&ajax=1'\n",
    "    data = requests.get(url).text\n",
    "    soup = BeautifulSoup(data, 'html.parser')\n",
    "    tables_MB.append(soup.find_all(\"div\", class_=\"item-details\"))\n",
    "    \n",
    "    # extract information from each table\n",
    "    for table in (tables_MB[(i-1)]):\n",
    "        if (len(str(table.find_all(\"li\", class_='ic-beds')).split())<3):\n",
    "            Nbed = float(\"NaN\")\n",
    "        else:\n",
    "            Nbed = int(''.join(filter(str.isdigit, str(table.find_all(\"li\", class_='ic-beds')))))\n",
    "        \n",
    "        if (len(str(table.find_all(\"li\", class_='ic-baths')).split())<3):\n",
    "            NBath = float(\"NaN\")\n",
    "        else:\n",
    "            NBath = int(''.join(filter(str.isdigit, str(table.find_all(\"li\", class_='ic-baths')))))\n",
    "        \n",
    "        if (len(str(table.find_all(\"li\", class_='ic-sqft')).split())<3):\n",
    "            NSqft = float(\"NaN\")\n",
    "        else:\n",
    "            NSqft = int(''.join(filter(str.isdigit, str(table.find_all(\"li\", class_='ic-sqft')))))\n",
    "    \n",
    "        if (len(str(table.find_all(\"li\", class_='ic-lotsize')).split())<4):\n",
    "            NLot_Size = float(\"NaN\")\n",
    "        else:\n",
    "            NLot_Size = str(table.find_all(\"li\", class_='ic-lotsize')).split()[4][-4:]\n",
    "        \n",
    "        if (len(str(table.find_all(\"li\", class_='ic-proptype')).split())<3):\n",
    "            NType = float(\"NaN\")\n",
    "        else:\n",
    "            NType = str(table.find_all(\"li\", class_='ic-proptype')).split()[3]\n",
    "\n",
    "\n",
    "        NPrice = str(table.find(\"div\", class_='price')['data-price'].replace('$','').replace(',',''))\n",
    "        NAddress = table.find(\"div\", class_='item-address')['data-address']\n",
    "    # append data into the table \n",
    "        Point2_data = Point2_data.append({'Beds':Nbed,'Bath':NBath,'Sqft':NSqft,'Lot_Size':NLot_Size,'Type':NType,'Price':NPrice,'Address':NAddress},ignore_index=True)"
   ]
  },
  {
   "cell_type": "code",
   "execution_count": 4,
   "id": "604616aa-ea40-44b6-b824-2291a7224dd0",
   "metadata": {},
   "outputs": [
    {
     "data": {
      "text/html": [
       "<div>\n",
       "<style scoped>\n",
       "    .dataframe tbody tr th:only-of-type {\n",
       "        vertical-align: middle;\n",
       "    }\n",
       "\n",
       "    .dataframe tbody tr th {\n",
       "        vertical-align: top;\n",
       "    }\n",
       "\n",
       "    .dataframe thead th {\n",
       "        text-align: right;\n",
       "    }\n",
       "</style>\n",
       "<table border=\"1\" class=\"dataframe\">\n",
       "  <thead>\n",
       "    <tr style=\"text-align: right;\">\n",
       "      <th></th>\n",
       "      <th>Beds</th>\n",
       "      <th>Bath</th>\n",
       "      <th>Sqft</th>\n",
       "      <th>Lot_Size</th>\n",
       "      <th>Type</th>\n",
       "      <th>Price</th>\n",
       "      <th>Address</th>\n",
       "    </tr>\n",
       "  </thead>\n",
       "  <tbody>\n",
       "    <tr>\n",
       "      <th>1475</th>\n",
       "      <td>3</td>\n",
       "      <td>2</td>\n",
       "      <td>1600</td>\n",
       "      <td>,038</td>\n",
       "      <td>Farm</td>\n",
       "      <td>3400000 CAD</td>\n",
       "      <td>96062 Road 135N; Excellent 3,038 Acre Mixed Fa...</td>\n",
       "    </tr>\n",
       "    <tr>\n",
       "      <th>1476</th>\n",
       "      <td>3</td>\n",
       "      <td>2</td>\n",
       "      <td>1271</td>\n",
       "      <td>NaN</td>\n",
       "      <td>Residential</td>\n",
       "      <td>359900 CAD</td>\n",
       "      <td>180 Park Grove</td>\n",
       "    </tr>\n",
       "    <tr>\n",
       "      <th>1477</th>\n",
       "      <td>3</td>\n",
       "      <td>2</td>\n",
       "      <td>1040</td>\n",
       "      <td>,583</td>\n",
       "      <td>Farm</td>\n",
       "      <td>1800000 CAD</td>\n",
       "      <td>9,583 Acre Cattle Ranch - East of Rorketon, MB.</td>\n",
       "    </tr>\n",
       "    <tr>\n",
       "      <th>1478</th>\n",
       "      <td>7</td>\n",
       "      <td>6</td>\n",
       "      <td>3860</td>\n",
       "      <td>1.07</td>\n",
       "      <td>Single</td>\n",
       "      <td>720000 CAD</td>\n",
       "      <td>171 Oak Bluff Road</td>\n",
       "    </tr>\n",
       "    <tr>\n",
       "      <th>1479</th>\n",
       "      <td>4</td>\n",
       "      <td>2</td>\n",
       "      <td>1690</td>\n",
       "      <td>NaN</td>\n",
       "      <td>Residential</td>\n",
       "      <td>199900 CAD</td>\n",
       "      <td>276 Vivian Street</td>\n",
       "    </tr>\n",
       "  </tbody>\n",
       "</table>\n",
       "</div>"
      ],
      "text/plain": [
       "     Beds Bath  Sqft Lot_Size         Type        Price  \\\n",
       "1475    3    2  1600     ,038         Farm  3400000 CAD   \n",
       "1476    3    2  1271      NaN  Residential   359900 CAD   \n",
       "1477    3    2  1040     ,583         Farm  1800000 CAD   \n",
       "1478    7    6  3860     1.07       Single   720000 CAD   \n",
       "1479    4    2  1690      NaN  Residential   199900 CAD   \n",
       "\n",
       "                                                Address  \n",
       "1475  96062 Road 135N; Excellent 3,038 Acre Mixed Fa...  \n",
       "1476                                   180 Park Grove    \n",
       "1477   9,583 Acre Cattle Ranch - East of Rorketon, MB.   \n",
       "1478                                171 Oak Bluff Road   \n",
       "1479                                 276 Vivian Street   "
      ]
     },
     "execution_count": 4,
     "metadata": {},
     "output_type": "execute_result"
    }
   ],
   "source": [
    "Point2_data.tail()"
   ]
  },
  {
   "cell_type": "code",
   "execution_count": 5,
   "id": "022d73c3-adcf-4640-ac0b-f5f6ea5b0672",
   "metadata": {},
   "outputs": [
    {
     "name": "stdout",
     "output_type": "stream",
     "text": [
      "Beds column has 31 NaNs\n",
      "Bath column has 47 NaNs\n",
      "Sqft column has 42 NaNs\n",
      "Lot_Size column has 1261 NaNs\n",
      "Type column has 0 NaNs\n",
      "Price column has 0 NaNs\n",
      "Address column has 0 NaNs\n"
     ]
    }
   ],
   "source": [
    "for column in Point2_data:\n",
    "    print(str(column) + ' column has '+ str(Point2_data[column].isnull().sum()) + ' NaNs')"
   ]
  },
  {
   "cell_type": "code",
   "execution_count": 6,
   "id": "3fab7d0e-c95c-435d-974b-365ac33ddbe0",
   "metadata": {},
   "outputs": [],
   "source": [
    "Point2_data.to_csv('Point2_data_MB_house.csv',index=False)"
   ]
  },
  {
   "cell_type": "code",
   "execution_count": null,
   "id": "7de65b28-f0d2-4441-ac70-6c3746335ae1",
   "metadata": {},
   "outputs": [],
   "source": []
  },
  {
   "cell_type": "markdown",
   "id": "4d0d98d3-5353-4885-92f4-764b36044412",
   "metadata": {},
   "source": [
    "#### Let's do housing price under 200,000 in SK. There are 2119 houses"
   ]
  },
  {
   "cell_type": "code",
   "execution_count": 7,
   "id": "add9506c-eb08-468f-9dbe-a4365b6bc36c",
   "metadata": {
    "tags": []
   },
   "outputs": [
    {
     "name": "stdout",
     "output_type": "stream",
     "text": [
      "https://www.point2homes.com/CA/Real-Estate-Maps.html?location=Saskatchewan&PriceMax=200%2C000&PropertyType=House&search_mode=location&page=22&SelectedView=map_view&LocationGeoId=205410&viewport=-114.06650704687499%2C47.29178971567255%2C-97.38926095312499%2C55.23958167823847&zoom=6&location_changed=&ajax=1\n"
     ]
    }
   ],
   "source": [
    "for i in range(1,23):\n",
    "    url = 'https://www.point2homes.com/CA/Real-Estate-Maps.html?location=Saskatchewan&PriceMax=200%2C000&PropertyType=House&search_mode=location&page=' + str(i) + '&SelectedView=map_view&LocationGeoId=205410&viewport=-114.06650704687499%2C47.29178971567255%2C-97.38926095312499%2C55.23958167823847&zoom=6&location_changed=&ajax=1'\n",
    "    \n",
    "print(url)"
   ]
  },
  {
   "cell_type": "code",
   "execution_count": 9,
   "id": "0bbe4330-7eb1-494e-b3b4-93e67485efef",
   "metadata": {},
   "outputs": [],
   "source": [
    "data = {}\n",
    "soups = {}\n",
    "tables_SK = []\n",
    "# Create a df to store info\n",
    "Point2_data = pd.DataFrame(columns=['Beds','Bath','Sqft','Lot_Size','Type','Price','Address'])\n",
    "for i in range(1,23):\n",
    "    url = 'https://www.point2homes.com/CA/Real-Estate-Maps.html?location=Saskatchewan&PriceMax=200%2C000&PropertyType=House&search_mode=location&page=' + str(i) + '&SelectedView=map_view&LocationGeoId=205410&viewport=-114.06650704687499%2C47.29178971567255%2C-97.38926095312499%2C55.23958167823847&zoom=6&location_changed=&ajax=1'\n",
    "    data = requests.get(url).text\n",
    "    soup = BeautifulSoup(data, 'html.parser')\n",
    "    tables_SK.append(soup.find_all(\"div\", class_=\"item-details\"))\n",
    "    \n",
    "    # extract information from each table\n",
    "    for table in (tables_SK[(i-1)]):\n",
    "        if (len(str(table.find_all(\"li\", class_='ic-beds')).split())<3):\n",
    "            Nbed = float(\"NaN\")\n",
    "        else:\n",
    "            Nbed = int(''.join(filter(str.isdigit, str(table.find_all(\"li\", class_='ic-beds')))))\n",
    "        \n",
    "        if (len(str(table.find_all(\"li\", class_='ic-baths')).split())<3):\n",
    "            NBath = float(\"NaN\")\n",
    "        else:\n",
    "            NBath = int(''.join(filter(str.isdigit, str(table.find_all(\"li\", class_='ic-baths')))))\n",
    "        \n",
    "        if (len(str(table.find_all(\"li\", class_='ic-sqft')).split())<3):\n",
    "            NSqft = float(\"NaN\")\n",
    "        else:\n",
    "            NSqft = int(''.join(filter(str.isdigit, str(table.find_all(\"li\", class_='ic-sqft')))))\n",
    "    \n",
    "        if (len(str(table.find_all(\"li\", class_='ic-lotsize')).split())<4):\n",
    "            NLot_Size = float(\"NaN\")\n",
    "        else:\n",
    "            NLot_Size = str(table.find_all(\"li\", class_='ic-lotsize')).split()[4][-4:]\n",
    "        \n",
    "        if (len(str(table.find_all(\"li\", class_='ic-proptype')).split())<3):\n",
    "            NType = float(\"NaN\")\n",
    "        else:\n",
    "            NType = str(table.find_all(\"li\", class_='ic-proptype')).split()[3]\n",
    "\n",
    "\n",
    "        NPrice = str(table.find(\"div\", class_='price')['data-price'].replace('$','').replace(',',''))\n",
    "        NAddress = table.find(\"div\", class_='item-address')['data-address']\n",
    "    # append data into the table \n",
    "        Point2_data = Point2_data.append({'Beds':Nbed,'Bath':NBath,'Sqft':NSqft,'Lot_Size':NLot_Size,'Type':NType,'Price':NPrice,'Address':NAddress},ignore_index=True)"
   ]
  },
  {
   "cell_type": "code",
   "execution_count": 11,
   "id": "a00ae6bb-2905-4558-8f89-dd0849bfeb19",
   "metadata": {},
   "outputs": [
    {
     "data": {
      "text/html": [
       "<div>\n",
       "<style scoped>\n",
       "    .dataframe tbody tr th:only-of-type {\n",
       "        vertical-align: middle;\n",
       "    }\n",
       "\n",
       "    .dataframe tbody tr th {\n",
       "        vertical-align: top;\n",
       "    }\n",
       "\n",
       "    .dataframe thead th {\n",
       "        text-align: right;\n",
       "    }\n",
       "</style>\n",
       "<table border=\"1\" class=\"dataframe\">\n",
       "  <thead>\n",
       "    <tr style=\"text-align: right;\">\n",
       "      <th></th>\n",
       "      <th>Beds</th>\n",
       "      <th>Bath</th>\n",
       "      <th>Sqft</th>\n",
       "      <th>Lot_Size</th>\n",
       "      <th>Type</th>\n",
       "      <th>Price</th>\n",
       "      <th>Address</th>\n",
       "    </tr>\n",
       "  </thead>\n",
       "  <tbody>\n",
       "    <tr>\n",
       "      <th>2114</th>\n",
       "      <td>4</td>\n",
       "      <td>2</td>\n",
       "      <td>864</td>\n",
       "      <td>.146</td>\n",
       "      <td>Residential</td>\n",
       "      <td>199900 CAD</td>\n",
       "      <td>1094 12th STREET W</td>\n",
       "    </tr>\n",
       "    <tr>\n",
       "      <th>2115</th>\n",
       "      <td>3</td>\n",
       "      <td>1</td>\n",
       "      <td>1224</td>\n",
       "      <td>.138</td>\n",
       "      <td>Residential</td>\n",
       "      <td>79000 CAD</td>\n",
       "      <td>508 1st AVENUE E</td>\n",
       "    </tr>\n",
       "    <tr>\n",
       "      <th>2116</th>\n",
       "      <td>3</td>\n",
       "      <td>2</td>\n",
       "      <td>1016</td>\n",
       "      <td>.379</td>\n",
       "      <td>Residential</td>\n",
       "      <td>129900 CAD</td>\n",
       "      <td>130 1st AVENUE N</td>\n",
       "    </tr>\n",
       "    <tr>\n",
       "      <th>2117</th>\n",
       "      <td>2</td>\n",
       "      <td>1</td>\n",
       "      <td>934</td>\n",
       "      <td>0.09</td>\n",
       "      <td>Residential</td>\n",
       "      <td>99000 CAD</td>\n",
       "      <td>457 12th STREET E</td>\n",
       "    </tr>\n",
       "    <tr>\n",
       "      <th>2118</th>\n",
       "      <td>3</td>\n",
       "      <td>1</td>\n",
       "      <td>1046</td>\n",
       "      <td>0.45</td>\n",
       "      <td>Residential</td>\n",
       "      <td>199000 CAD</td>\n",
       "      <td>603 Balmoral AVENUE</td>\n",
       "    </tr>\n",
       "  </tbody>\n",
       "</table>\n",
       "</div>"
      ],
      "text/plain": [
       "     Beds Bath  Sqft Lot_Size         Type       Price               Address\n",
       "2114    4    2   864     .146  Residential  199900 CAD   1094 12th STREET W \n",
       "2115    3    1  1224     .138  Residential   79000 CAD     508 1st AVENUE E \n",
       "2116    3    2  1016     .379  Residential  129900 CAD     130 1st AVENUE N \n",
       "2117    2    1   934     0.09  Residential   99000 CAD    457 12th STREET E \n",
       "2118    3    1  1046     0.45  Residential  199000 CAD  603 Balmoral AVENUE "
      ]
     },
     "execution_count": 11,
     "metadata": {},
     "output_type": "execute_result"
    }
   ],
   "source": [
    "Point2_data.tail()"
   ]
  },
  {
   "cell_type": "code",
   "execution_count": 12,
   "id": "b8148c23-f6a4-4a83-86e3-091fad4a5d25",
   "metadata": {},
   "outputs": [
    {
     "name": "stdout",
     "output_type": "stream",
     "text": [
      "Beds column has 26 NaNs\n",
      "Bath column has 36 NaNs\n",
      "Sqft column has 3 NaNs\n",
      "Lot_Size column has 433 NaNs\n",
      "Type column has 0 NaNs\n",
      "Price column has 0 NaNs\n",
      "Address column has 0 NaNs\n"
     ]
    }
   ],
   "source": [
    "for column in Point2_data:\n",
    "    print(str(column) + ' column has '+ str(Point2_data[column].isnull().sum()) + ' NaNs')"
   ]
  },
  {
   "cell_type": "code",
   "execution_count": 13,
   "id": "e7664c20-f002-42f9-ae9e-3173f864ddbc",
   "metadata": {},
   "outputs": [],
   "source": [
    "Point2_data.to_csv('Point2_data_SK_house_under200K.csv',index=False)"
   ]
  },
  {
   "cell_type": "code",
   "execution_count": null,
   "id": "b6810617-f443-4e87-aaef-633247655b08",
   "metadata": {},
   "outputs": [],
   "source": []
  },
  {
   "cell_type": "markdown",
   "id": "f466bc92-9616-43a5-82e6-483275d4eca1",
   "metadata": {},
   "source": [
    "#### Let's do housing price from 200,000 to 400,000 in SK. There are 2190 houses"
   ]
  },
  {
   "cell_type": "code",
   "execution_count": 8,
   "id": "d71aff5f-b16f-4357-a070-05e211e64209",
   "metadata": {
    "tags": []
   },
   "outputs": [
    {
     "name": "stdout",
     "output_type": "stream",
     "text": [
      "https://www.point2homes.com/CA/Real-Estate-Maps.html?location=Saskatchewan&PriceMin=200%2C000&PriceMax=400%2C000&PropertyType=House&search_mode=location&page=22&SelectedView=map_view&LocationGeoId=205410&viewport=-114.111597546875%2C47.29178971567255%2C-97.434351453125%2C55.23958167823847&zoom=6&location_changed=&ajax=1\n"
     ]
    }
   ],
   "source": [
    "for i in range(1,23):\n",
    "    url = 'https://www.point2homes.com/CA/Real-Estate-Maps.html?location=Saskatchewan&PriceMin=200%2C000&PriceMax=400%2C000&PropertyType=House&search_mode=location&page=' + str(i) + '&SelectedView=map_view&LocationGeoId=205410&viewport=-114.111597546875%2C47.29178971567255%2C-97.434351453125%2C55.23958167823847&zoom=6&location_changed=&ajax=1'\n",
    "    \n",
    "print(url)"
   ]
  },
  {
   "cell_type": "code",
   "execution_count": 19,
   "id": "7f68466a-078d-4ccc-b1cd-6b9054351681",
   "metadata": {},
   "outputs": [],
   "source": [
    "data = {}\n",
    "soups = {}\n",
    "tables_SK = []\n",
    "# Create a df to store info\n",
    "Point2_data = pd.DataFrame(columns=['Beds','Bath','Sqft','Lot_Size','Type','Price','Address'])\n",
    "for i in range(1,23):\n",
    "    url = 'https://www.point2homes.com/CA/Real-Estate-Maps.html?location=Saskatchewan&PriceMin=200%2C000&PriceMax=400%2C000&PropertyType=House&search_mode=location&page=' + str(i) + '&SelectedView=map_view&LocationGeoId=205410&viewport=-114.111597546875%2C47.29178971567255%2C-97.434351453125%2C55.23958167823847&zoom=6&location_changed=&ajax=1'\n",
    "    data = requests.get(url).text\n",
    "    soup = BeautifulSoup(data, 'html.parser')\n",
    "    tables_SK.append(soup.find_all(\"div\", class_=\"item-details\"))\n",
    "    \n",
    "    # extract information from each table\n",
    "    for table in (tables_SK[(i-1)]):\n",
    "        if (len(str(table.find_all(\"li\", class_='ic-beds')).split())<3):\n",
    "            Nbed = float(\"NaN\")\n",
    "        else:\n",
    "            Nbed = int(''.join(filter(str.isdigit, str(table.find_all(\"li\", class_='ic-beds')))))\n",
    "        \n",
    "        if (len(str(table.find_all(\"li\", class_='ic-baths')).split())<3):\n",
    "            NBath = float(\"NaN\")\n",
    "        else:\n",
    "            NBath = int(''.join(filter(str.isdigit, str(table.find_all(\"li\", class_='ic-baths')))))\n",
    "        \n",
    "        if (len(str(table.find_all(\"li\", class_='ic-sqft')).split())<3):\n",
    "            NSqft = float(\"NaN\")\n",
    "        else:\n",
    "            NSqft = int(''.join(filter(str.isdigit, str(table.find_all(\"li\", class_='ic-sqft')))))\n",
    "    \n",
    "        if (len(str(table.find_all(\"li\", class_='ic-lotsize')).split())<4):\n",
    "            NLot_Size = float(\"NaN\")\n",
    "        else:\n",
    "            NLot_Size = str(table.find_all(\"li\", class_='ic-lotsize')).split()[4][-4:]\n",
    "        \n",
    "        if (len(str(table.find_all(\"li\", class_='ic-proptype')).split())<3):\n",
    "            NType = float(\"NaN\")\n",
    "        else:\n",
    "            NType = str(table.find_all(\"li\", class_='ic-proptype')).split()[3]\n",
    "\n",
    "\n",
    "        NPrice = str(table.find(\"div\", class_='price')['data-price'].replace('$','').replace(',',''))\n",
    "        NAddress = table.find(\"div\", class_='item-address')['data-address']\n",
    "    # append data into the table \n",
    "        Point2_data = Point2_data.append({'Beds':Nbed,'Bath':NBath,'Sqft':NSqft,'Lot_Size':NLot_Size,'Type':NType,'Price':NPrice,'Address':NAddress},ignore_index=True)"
   ]
  },
  {
   "cell_type": "code",
   "execution_count": 20,
   "id": "3a4fa9d6-3d62-4c68-b8fb-b2294413fc54",
   "metadata": {},
   "outputs": [
    {
     "data": {
      "text/html": [
       "<div>\n",
       "<style scoped>\n",
       "    .dataframe tbody tr th:only-of-type {\n",
       "        vertical-align: middle;\n",
       "    }\n",
       "\n",
       "    .dataframe tbody tr th {\n",
       "        vertical-align: top;\n",
       "    }\n",
       "\n",
       "    .dataframe thead th {\n",
       "        text-align: right;\n",
       "    }\n",
       "</style>\n",
       "<table border=\"1\" class=\"dataframe\">\n",
       "  <thead>\n",
       "    <tr style=\"text-align: right;\">\n",
       "      <th></th>\n",
       "      <th>Beds</th>\n",
       "      <th>Bath</th>\n",
       "      <th>Sqft</th>\n",
       "      <th>Lot_Size</th>\n",
       "      <th>Type</th>\n",
       "      <th>Price</th>\n",
       "      <th>Address</th>\n",
       "    </tr>\n",
       "  </thead>\n",
       "  <tbody>\n",
       "    <tr>\n",
       "      <th>2185</th>\n",
       "      <td>4</td>\n",
       "      <td>2</td>\n",
       "      <td>1172</td>\n",
       "      <td>.158</td>\n",
       "      <td>Residential</td>\n",
       "      <td>209900 CAD</td>\n",
       "      <td>216 Dominion ROAD</td>\n",
       "    </tr>\n",
       "    <tr>\n",
       "      <th>2186</th>\n",
       "      <td>4</td>\n",
       "      <td>3</td>\n",
       "      <td>968</td>\n",
       "      <td>NaN</td>\n",
       "      <td>Residential</td>\n",
       "      <td>337000 CAD</td>\n",
       "      <td>863 Glenview COVE</td>\n",
       "    </tr>\n",
       "    <tr>\n",
       "      <th>2187</th>\n",
       "      <td>4</td>\n",
       "      <td>2</td>\n",
       "      <td>1023</td>\n",
       "      <td>NaN</td>\n",
       "      <td>Residential</td>\n",
       "      <td>379900 CAD</td>\n",
       "      <td>2582 Eastview</td>\n",
       "    </tr>\n",
       "    <tr>\n",
       "      <th>2188</th>\n",
       "      <td>3</td>\n",
       "      <td>1</td>\n",
       "      <td>1313</td>\n",
       "      <td>0.26</td>\n",
       "      <td>Residential</td>\n",
       "      <td>229900 CAD</td>\n",
       "      <td>218 Alfred CRESCENT</td>\n",
       "    </tr>\n",
       "    <tr>\n",
       "      <th>2189</th>\n",
       "      <td>5</td>\n",
       "      <td>3</td>\n",
       "      <td>1429</td>\n",
       "      <td>.203</td>\n",
       "      <td>Single</td>\n",
       "      <td>339800 CAD</td>\n",
       "      <td>4 Hill  Avenue</td>\n",
       "    </tr>\n",
       "  </tbody>\n",
       "</table>\n",
       "</div>"
      ],
      "text/plain": [
       "     Beds Bath  Sqft Lot_Size         Type       Price               Address\n",
       "2185    4    2  1172     .158  Residential  209900 CAD    216 Dominion ROAD \n",
       "2186    4    3   968      NaN  Residential  337000 CAD    863 Glenview COVE \n",
       "2187    4    2  1023      NaN  Residential  379900 CAD        2582 Eastview \n",
       "2188    3    1  1313     0.26  Residential  229900 CAD  218 Alfred CRESCENT \n",
       "2189    5    3  1429     .203       Single  339800 CAD       4 Hill  Avenue "
      ]
     },
     "execution_count": 20,
     "metadata": {},
     "output_type": "execute_result"
    }
   ],
   "source": [
    "Point2_data.tail()"
   ]
  },
  {
   "cell_type": "code",
   "execution_count": 21,
   "id": "594fb337-9abc-411b-a2f2-1e1ed5c7bc9e",
   "metadata": {},
   "outputs": [
    {
     "name": "stdout",
     "output_type": "stream",
     "text": [
      "Beds column has 8 NaNs\n",
      "Bath column has 8 NaNs\n",
      "Sqft column has 2 NaNs\n",
      "Lot_Size column has 503 NaNs\n",
      "Type column has 0 NaNs\n",
      "Price column has 0 NaNs\n",
      "Address column has 0 NaNs\n"
     ]
    }
   ],
   "source": [
    "for column in Point2_data:\n",
    "    print(str(column) + ' column has '+ str(Point2_data[column].isnull().sum()) + ' NaNs')"
   ]
  },
  {
   "cell_type": "code",
   "execution_count": 22,
   "id": "08c2891e-1a1c-4691-8ca9-918d0050359b",
   "metadata": {},
   "outputs": [],
   "source": [
    "Point2_data.to_csv('Point2_data_SK_house_200K_400K.csv',index=False)"
   ]
  },
  {
   "cell_type": "code",
   "execution_count": null,
   "id": "b6e18cc6-88e9-49ac-ba36-7fa4aa60a5c2",
   "metadata": {},
   "outputs": [],
   "source": []
  },
  {
   "cell_type": "markdown",
   "id": "175aff38-8fc3-4798-8eca-33871bbb3544",
   "metadata": {},
   "source": [
    "#### Let's do housing price 400,000 Up in SK. There are 1307 houses"
   ]
  },
  {
   "cell_type": "code",
   "execution_count": 9,
   "id": "2c932622-64c2-4d05-9c60-1d1fc87c8be9",
   "metadata": {
    "tags": []
   },
   "outputs": [
    {
     "name": "stdout",
     "output_type": "stream",
     "text": [
      "https://www.point2homes.com/CA/Real-Estate-Maps.html?location=Saskatchewan&PriceMin=400%2C000&PropertyType=House&search_mode=location&page=14&SelectedView=map_view&LocationGeoId=205410&viewport=-114.127961046875%2C47.44133005146618%2C-97.450714953125%2C55.36526358876778&zoom=6&location_changed=&ajax=1\n"
     ]
    }
   ],
   "source": [
    "for i in range(1,15):\n",
    "    url = 'https://www.point2homes.com/CA/Real-Estate-Maps.html?location=Saskatchewan&PriceMin=400%2C000&PropertyType=House&search_mode=location&page=' + str(i) + '&SelectedView=map_view&LocationGeoId=205410&viewport=-114.127961046875%2C47.44133005146618%2C-97.450714953125%2C55.36526358876778&zoom=6&location_changed=&ajax=1'\n",
    "    \n",
    "print(url)"
   ]
  },
  {
   "cell_type": "code",
   "execution_count": 26,
   "id": "ed6da639-a8fd-4135-aee8-9735ba6cf107",
   "metadata": {},
   "outputs": [],
   "source": [
    "data = {}\n",
    "soups = {}\n",
    "tables_SK = []\n",
    "# Create a df to store info\n",
    "Point2_data = pd.DataFrame(columns=['Beds','Bath','Sqft','Lot_Size','Type','Price','Address'])\n",
    "for i in range(1,15):\n",
    "    url = 'https://www.point2homes.com/CA/Real-Estate-Maps.html?location=Saskatchewan&PriceMin=400%2C000&PropertyType=House&search_mode=location&page=' + str(i) + '&SelectedView=map_view&LocationGeoId=205410&viewport=-114.127961046875%2C47.44133005146618%2C-97.450714953125%2C55.36526358876778&zoom=6&location_changed=&ajax=1'\n",
    "    data = requests.get(url).text\n",
    "    soup = BeautifulSoup(data, 'html.parser')\n",
    "    tables_SK.append(soup.find_all(\"div\", class_=\"item-details\"))\n",
    "    \n",
    "    # extract information from each table\n",
    "    for table in (tables_SK[(i-1)]):\n",
    "        if (len(str(table.find_all(\"li\", class_='ic-beds')).split())<3):\n",
    "            Nbed = float(\"NaN\")\n",
    "        else:\n",
    "            Nbed = int(''.join(filter(str.isdigit, str(table.find_all(\"li\", class_='ic-beds')))))\n",
    "        \n",
    "        if (len(str(table.find_all(\"li\", class_='ic-baths')).split())<3):\n",
    "            NBath = float(\"NaN\")\n",
    "        else:\n",
    "            NBath = int(''.join(filter(str.isdigit, str(table.find_all(\"li\", class_='ic-baths')))))\n",
    "        \n",
    "        if (len(str(table.find_all(\"li\", class_='ic-sqft')).split())<3):\n",
    "            NSqft = float(\"NaN\")\n",
    "        else:\n",
    "            NSqft = int(''.join(filter(str.isdigit, str(table.find_all(\"li\", class_='ic-sqft')))))\n",
    "    \n",
    "        if (len(str(table.find_all(\"li\", class_='ic-lotsize')).split())<4):\n",
    "            NLot_Size = float(\"NaN\")\n",
    "        else:\n",
    "            NLot_Size = str(table.find_all(\"li\", class_='ic-lotsize')).split()[4][-4:]\n",
    "        \n",
    "        if (len(str(table.find_all(\"li\", class_='ic-proptype')).split())<3):\n",
    "            NType = float(\"NaN\")\n",
    "        else:\n",
    "            NType = str(table.find_all(\"li\", class_='ic-proptype')).split()[3]\n",
    "\n",
    "\n",
    "        NPrice = str(table.find(\"div\", class_='price')['data-price'].replace('$','').replace(',',''))\n",
    "        NAddress = table.find(\"div\", class_='item-address')['data-address']\n",
    "    # append data into the table \n",
    "        Point2_data = Point2_data.append({'Beds':Nbed,'Bath':NBath,'Sqft':NSqft,'Lot_Size':NLot_Size,'Type':NType,'Price':NPrice,'Address':NAddress},ignore_index=True)"
   ]
  },
  {
   "cell_type": "code",
   "execution_count": 27,
   "id": "79cce171-cd6f-48e6-8710-40818bebdc70",
   "metadata": {},
   "outputs": [
    {
     "data": {
      "text/html": [
       "<div>\n",
       "<style scoped>\n",
       "    .dataframe tbody tr th:only-of-type {\n",
       "        vertical-align: middle;\n",
       "    }\n",
       "\n",
       "    .dataframe tbody tr th {\n",
       "        vertical-align: top;\n",
       "    }\n",
       "\n",
       "    .dataframe thead th {\n",
       "        text-align: right;\n",
       "    }\n",
       "</style>\n",
       "<table border=\"1\" class=\"dataframe\">\n",
       "  <thead>\n",
       "    <tr style=\"text-align: right;\">\n",
       "      <th></th>\n",
       "      <th>Beds</th>\n",
       "      <th>Bath</th>\n",
       "      <th>Sqft</th>\n",
       "      <th>Lot_Size</th>\n",
       "      <th>Type</th>\n",
       "      <th>Price</th>\n",
       "      <th>Address</th>\n",
       "    </tr>\n",
       "  </thead>\n",
       "  <tbody>\n",
       "    <tr>\n",
       "      <th>1302</th>\n",
       "      <td>4</td>\n",
       "      <td>3</td>\n",
       "      <td>2128</td>\n",
       "      <td>7.84</td>\n",
       "      <td>Residential</td>\n",
       "      <td>529000 CAD</td>\n",
       "      <td>Rural Address 8th STREET W</td>\n",
       "    </tr>\n",
       "    <tr>\n",
       "      <th>1303</th>\n",
       "      <td>3</td>\n",
       "      <td>2</td>\n",
       "      <td>1293</td>\n",
       "      <td>.095</td>\n",
       "      <td>Residential</td>\n",
       "      <td>489800 CAD</td>\n",
       "      <td>143 Fast CRESCENT</td>\n",
       "    </tr>\n",
       "    <tr>\n",
       "      <th>1304</th>\n",
       "      <td>3</td>\n",
       "      <td>3</td>\n",
       "      <td>2450</td>\n",
       "      <td>0.08</td>\n",
       "      <td>Residential</td>\n",
       "      <td>549000 CAD</td>\n",
       "      <td>Grandora Acreage - 40 acres</td>\n",
       "    </tr>\n",
       "    <tr>\n",
       "      <th>1305</th>\n",
       "      <td>4</td>\n",
       "      <td>3</td>\n",
       "      <td>1330</td>\n",
       "      <td>7.37</td>\n",
       "      <td>Residential</td>\n",
       "      <td>699800 CAD</td>\n",
       "      <td>4100 11th Street West, Acreage Inside Saskatoo...</td>\n",
       "    </tr>\n",
       "    <tr>\n",
       "      <th>1306</th>\n",
       "      <td>3</td>\n",
       "      <td>2</td>\n",
       "      <td>1600</td>\n",
       "      <td>4.61</td>\n",
       "      <td>Farm</td>\n",
       "      <td>2675000 CAD</td>\n",
       "      <td>City of Saskatoon 11th Street West - 54.61 Acres</td>\n",
       "    </tr>\n",
       "  </tbody>\n",
       "</table>\n",
       "</div>"
      ],
      "text/plain": [
       "     Beds Bath  Sqft Lot_Size         Type        Price  \\\n",
       "1302    4    3  2128     7.84  Residential   529000 CAD   \n",
       "1303    3    2  1293     .095  Residential   489800 CAD   \n",
       "1304    3    3  2450     0.08  Residential   549000 CAD   \n",
       "1305    4    3  1330     7.37  Residential   699800 CAD   \n",
       "1306    3    2  1600     4.61         Farm  2675000 CAD   \n",
       "\n",
       "                                                Address  \n",
       "1302                        Rural Address 8th STREET W   \n",
       "1303                                 143 Fast CRESCENT   \n",
       "1304                       Grandora Acreage - 40 acres   \n",
       "1305  4100 11th Street West, Acreage Inside Saskatoo...  \n",
       "1306  City of Saskatoon 11th Street West - 54.61 Acres   "
      ]
     },
     "execution_count": 27,
     "metadata": {},
     "output_type": "execute_result"
    }
   ],
   "source": [
    "Point2_data.tail()"
   ]
  },
  {
   "cell_type": "code",
   "execution_count": 28,
   "id": "6283b406-a90c-44cf-aa54-bfa5d3b0236a",
   "metadata": {},
   "outputs": [
    {
     "name": "stdout",
     "output_type": "stream",
     "text": [
      "Beds column has 6 NaNs\n",
      "Bath column has 3 NaNs\n",
      "Sqft column has 2 NaNs\n",
      "Lot_Size column has 269 NaNs\n",
      "Type column has 0 NaNs\n",
      "Price column has 0 NaNs\n",
      "Address column has 0 NaNs\n"
     ]
    }
   ],
   "source": [
    "for column in Point2_data:\n",
    "    print(str(column) + ' column has '+ str(Point2_data[column].isnull().sum()) + ' NaNs')"
   ]
  },
  {
   "cell_type": "code",
   "execution_count": 29,
   "id": "16198778-be61-4d7c-a9d2-8fe723e1a21e",
   "metadata": {},
   "outputs": [],
   "source": [
    "Point2_data.to_csv('Point2_data_SK_house_400Kup.csv',index=False)"
   ]
  },
  {
   "cell_type": "code",
   "execution_count": null,
   "id": "a95d57ef-737c-4308-80f4-f15fa72cbb77",
   "metadata": {},
   "outputs": [],
   "source": []
  },
  {
   "cell_type": "markdown",
   "id": "4e1549c5-3693-4084-900a-c453bb2fc5a6",
   "metadata": {},
   "source": [
    "#### Let's do housing price under 200,000 in AB. There are 1522 houses"
   ]
  },
  {
   "cell_type": "code",
   "execution_count": 38,
   "id": "bf4aec3e-9c46-42b6-a3ae-502160b2dbcf",
   "metadata": {
    "tags": []
   },
   "outputs": [
    {
     "name": "stdout",
     "output_type": "stream",
     "text": [
      "https://www.point2homes.com/CA/Real-Estate-Maps.html?location=Alberta&PriceMax=200%2C000&PropertyType=House&search_mode=location&page=16&SelectedView=map_view&LocationGeoId=205401&viewport=-122.774401046875%2C48.92320712941521%2C-106.097154953125%2C56.60847836877127&zoom=6&location_changed=&ajax=1\n"
     ]
    }
   ],
   "source": [
    "for i in range(1,17):\n",
    "    url = 'https://www.point2homes.com/CA/Real-Estate-Maps.html?location=Alberta&PriceMax=200%2C000&PropertyType=House&search_mode=location&page=' + str(i) + '&SelectedView=map_view&LocationGeoId=205401&viewport=-122.774401046875%2C48.92320712941521%2C-106.097154953125%2C56.60847836877127&zoom=6&location_changed=&ajax=1'\n",
    "print(url)"
   ]
  },
  {
   "cell_type": "code",
   "execution_count": 4,
   "id": "758c7667-869f-4044-8f83-55e5f3d18621",
   "metadata": {},
   "outputs": [],
   "source": [
    "data = {}\n",
    "soups = {}\n",
    "tables_AB = []\n",
    "# Create a df to store info\n",
    "Point2_data = pd.DataFrame(columns=['Beds','Bath','Sqft','Lot_Size','Type','Price','Address'])\n",
    "for i in range(1,17):\n",
    "    url = 'https://www.point2homes.com/CA/Real-Estate-Maps.html?location=Alberta&PriceMax=200%2C000&PropertyType=House&search_mode=location&page=' + str(i) + '&SelectedView=map_view&LocationGeoId=205401&viewport=-122.774401046875%2C48.92320712941521%2C-106.097154953125%2C56.60847836877127&zoom=6&location_changed=&ajax=1'\n",
    "    data = requests.get(url).text\n",
    "    soup = BeautifulSoup(data, 'html.parser')\n",
    "    tables_AB.append(soup.find_all(\"div\", class_=\"item-details\"))\n",
    "    \n",
    "    # extract information from each table\n",
    "    for table in (tables_AB[(i-1)]):\n",
    "        if (len(str(table.find_all(\"li\", class_='ic-beds')).split())<3):\n",
    "            Nbed = float(\"NaN\")\n",
    "        else:\n",
    "            Nbed = int(''.join(filter(str.isdigit, str(table.find_all(\"li\", class_='ic-beds')))))\n",
    "        \n",
    "        if (len(str(table.find_all(\"li\", class_='ic-baths')).split())<3):\n",
    "            NBath = float(\"NaN\")\n",
    "        else:\n",
    "            NBath = int(''.join(filter(str.isdigit, str(table.find_all(\"li\", class_='ic-baths')))))\n",
    "        \n",
    "        if (len(str(table.find_all(\"li\", class_='ic-sqft')).split())<3):\n",
    "            NSqft = float(\"NaN\")\n",
    "        else:\n",
    "            NSqft = int(''.join(filter(str.isdigit, str(table.find_all(\"li\", class_='ic-sqft')))))\n",
    "    \n",
    "        if (len(str(table.find_all(\"li\", class_='ic-lotsize')).split())<4):\n",
    "            NLot_Size = float(\"NaN\")\n",
    "        else:\n",
    "            NLot_Size = str(table.find_all(\"li\", class_='ic-lotsize')).split()[4][-4:]\n",
    "        \n",
    "        if (len(str(table.find_all(\"li\", class_='ic-proptype')).split())<3):\n",
    "            NType = float(\"NaN\")\n",
    "        else:\n",
    "            NType = str(table.find_all(\"li\", class_='ic-proptype')).split()[3]\n",
    "\n",
    "\n",
    "        NPrice = str(table.find(\"div\", class_='price')['data-price'].replace('$','').replace(',',''))\n",
    "        NAddress = table.find(\"div\", class_='item-address')['data-address']\n",
    "    # append data into the table \n",
    "        Point2_data = Point2_data.append({'Beds':Nbed,'Bath':NBath,'Sqft':NSqft,'Lot_Size':NLot_Size,'Type':NType,'Price':NPrice,'Address':NAddress},ignore_index=True)"
   ]
  },
  {
   "cell_type": "code",
   "execution_count": 5,
   "id": "78451ed7-62fa-490d-b0f2-27f2758ee5f8",
   "metadata": {},
   "outputs": [
    {
     "data": {
      "text/html": [
       "<div>\n",
       "<style scoped>\n",
       "    .dataframe tbody tr th:only-of-type {\n",
       "        vertical-align: middle;\n",
       "    }\n",
       "\n",
       "    .dataframe tbody tr th {\n",
       "        vertical-align: top;\n",
       "    }\n",
       "\n",
       "    .dataframe thead th {\n",
       "        text-align: right;\n",
       "    }\n",
       "</style>\n",
       "<table border=\"1\" class=\"dataframe\">\n",
       "  <thead>\n",
       "    <tr style=\"text-align: right;\">\n",
       "      <th></th>\n",
       "      <th>Beds</th>\n",
       "      <th>Bath</th>\n",
       "      <th>Sqft</th>\n",
       "      <th>Lot_Size</th>\n",
       "      <th>Type</th>\n",
       "      <th>Price</th>\n",
       "      <th>Address</th>\n",
       "    </tr>\n",
       "  </thead>\n",
       "  <tbody>\n",
       "    <tr>\n",
       "      <th>1516</th>\n",
       "      <td>2</td>\n",
       "      <td>1</td>\n",
       "      <td>782005</td>\n",
       "      <td>NaN</td>\n",
       "      <td>Single</td>\n",
       "      <td>94000 CAD</td>\n",
       "      <td>50 ST 5106</td>\n",
       "    </tr>\n",
       "    <tr>\n",
       "      <th>1517</th>\n",
       "      <td>5</td>\n",
       "      <td>2</td>\n",
       "      <td>1330</td>\n",
       "      <td>NaN</td>\n",
       "      <td>Single</td>\n",
       "      <td>83000 CAD</td>\n",
       "      <td>504 8 AVE</td>\n",
       "    </tr>\n",
       "    <tr>\n",
       "      <th>1518</th>\n",
       "      <td>3</td>\n",
       "      <td>2</td>\n",
       "      <td>1144</td>\n",
       "      <td>NaN</td>\n",
       "      <td>Residential</td>\n",
       "      <td>199000 CAD</td>\n",
       "      <td>4902 45 Street</td>\n",
       "    </tr>\n",
       "    <tr>\n",
       "      <th>1519</th>\n",
       "      <td>2</td>\n",
       "      <td>1</td>\n",
       "      <td>1338</td>\n",
       "      <td>0.13</td>\n",
       "      <td>Residential</td>\n",
       "      <td>85000 CAD</td>\n",
       "      <td>5113 Royal Avenue</td>\n",
       "    </tr>\n",
       "    <tr>\n",
       "      <th>1520</th>\n",
       "      <td>3</td>\n",
       "      <td>2</td>\n",
       "      <td>1508036</td>\n",
       "      <td>NaN</td>\n",
       "      <td>Single</td>\n",
       "      <td>189000 CAD</td>\n",
       "      <td>4420 Caribou CR</td>\n",
       "    </tr>\n",
       "  </tbody>\n",
       "</table>\n",
       "</div>"
      ],
      "text/plain": [
       "     Beds Bath     Sqft Lot_Size         Type       Price             Address\n",
       "1516    2    1   782005      NaN       Single   94000 CAD          50 ST 5106\n",
       "1517    5    2     1330      NaN       Single   83000 CAD          504 8 AVE \n",
       "1518    3    2     1144      NaN  Residential  199000 CAD     4902 45 Street \n",
       "1519    2    1     1338     0.13  Residential   85000 CAD  5113 Royal Avenue \n",
       "1520    3    2  1508036      NaN       Single  189000 CAD    4420 Caribou CR "
      ]
     },
     "execution_count": 5,
     "metadata": {},
     "output_type": "execute_result"
    }
   ],
   "source": [
    "Point2_data.tail()"
   ]
  },
  {
   "cell_type": "markdown",
   "id": "60ae7188-6dd4-437c-af2d-298dcb002731",
   "metadata": {},
   "source": [
    "Only colect 1521 housing information"
   ]
  },
  {
   "cell_type": "code",
   "execution_count": 6,
   "id": "4db00df7-c1af-4d09-813c-89871099815d",
   "metadata": {},
   "outputs": [
    {
     "name": "stdout",
     "output_type": "stream",
     "text": [
      "Beds column has 21 NaNs\n",
      "Bath column has 27 NaNs\n",
      "Sqft column has 20 NaNs\n",
      "Lot_Size column has 572 NaNs\n",
      "Type column has 0 NaNs\n",
      "Price column has 0 NaNs\n",
      "Address column has 0 NaNs\n"
     ]
    }
   ],
   "source": [
    "for column in Point2_data:\n",
    "    print(str(column) + ' column has '+ str(Point2_data[column].isnull().sum()) + ' NaNs')"
   ]
  },
  {
   "cell_type": "code",
   "execution_count": 7,
   "id": "39d3a931-cb5f-4067-9924-a2ec8d96d4d1",
   "metadata": {},
   "outputs": [],
   "source": [
    "Point2_data.to_csv('Point2_data_AB_house_Under200K.csv',index=False)"
   ]
  },
  {
   "cell_type": "code",
   "execution_count": null,
   "id": "1327c0f2-efe4-47f7-96eb-39a7464ce0a3",
   "metadata": {},
   "outputs": [],
   "source": []
  },
  {
   "cell_type": "markdown",
   "id": "9fdffe60-d34e-4bff-9c1a-7d8a778abe2b",
   "metadata": {},
   "source": [
    "#### Let's do housing price from 200,000 to 300,000 in AB. There are 1863 houses"
   ]
  },
  {
   "cell_type": "code",
   "execution_count": 39,
   "id": "73802d0c-16c7-4e44-8854-bd5d87cd8a95",
   "metadata": {
    "tags": []
   },
   "outputs": [
    {
     "name": "stdout",
     "output_type": "stream",
     "text": [
      "https://www.point2homes.com/CA/Real-Estate-Maps.html?location=Alberta&PriceMin=200%2C000&PriceMax=300%2C000&PropertyType=House&search_mode=location&page=19&SelectedView=map_view&LocationGeoId=205401&viewport=-131.67732385475%2C46.41287001707277%2C-98.32283166725%2C61.25280348111731&zoom=5&location_changed=&ajax=1\n"
     ]
    }
   ],
   "source": [
    "for i in range(1,20):\n",
    "    url = 'https://www.point2homes.com/CA/Real-Estate-Maps.html?location=Alberta&PriceMin=200%2C000&PriceMax=300%2C000&PropertyType=House&search_mode=location&page=' + str(i) + '&SelectedView=map_view&LocationGeoId=205401&viewport=-131.67732385475%2C46.41287001707277%2C-98.32283166725%2C61.25280348111731&zoom=5&location_changed=&ajax=1'\n",
    "\n",
    "print(url)"
   ]
  },
  {
   "cell_type": "code",
   "execution_count": 11,
   "id": "56c60319-a7af-4af5-a210-f126885e1e52",
   "metadata": {},
   "outputs": [],
   "source": [
    "data = {}\n",
    "soups = {}\n",
    "tables_AB = []\n",
    "# Create a df to store info\n",
    "Point2_data = pd.DataFrame(columns=['Beds','Bath','Sqft','Lot_Size','Type','Price','Address'])\n",
    "for i in range(1,20):\n",
    "    url = 'https://www.point2homes.com/CA/Real-Estate-Maps.html?location=Alberta&PriceMin=200%2C000&PriceMax=300%2C000&PropertyType=House&search_mode=location&page=' + str(i) + '&SelectedView=map_view&LocationGeoId=205401&viewport=-131.67732385475%2C46.41287001707277%2C-98.32283166725%2C61.25280348111731&zoom=5&location_changed=&ajax=1'\n",
    "    data = requests.get(url).text\n",
    "    soup = BeautifulSoup(data, 'html.parser')\n",
    "    tables_AB.append(soup.find_all(\"div\", class_=\"item-details\"))\n",
    "    \n",
    "    # extract information from each table\n",
    "    for table in (tables_AB[(i-1)]):\n",
    "        if (len(str(table.find_all(\"li\", class_='ic-beds')).split())<3):\n",
    "            Nbed = float(\"NaN\")\n",
    "        else:\n",
    "            Nbed = int(''.join(filter(str.isdigit, str(table.find_all(\"li\", class_='ic-beds')))))\n",
    "        \n",
    "        if (len(str(table.find_all(\"li\", class_='ic-baths')).split())<3):\n",
    "            NBath = float(\"NaN\")\n",
    "        else:\n",
    "            NBath = int(''.join(filter(str.isdigit, str(table.find_all(\"li\", class_='ic-baths')))))\n",
    "        \n",
    "        if (len(str(table.find_all(\"li\", class_='ic-sqft')).split())<3):\n",
    "            NSqft = float(\"NaN\")\n",
    "        else:\n",
    "            NSqft = int(''.join(filter(str.isdigit, str(table.find_all(\"li\", class_='ic-sqft')))))\n",
    "    \n",
    "        if (len(str(table.find_all(\"li\", class_='ic-lotsize')).split())<4):\n",
    "            NLot_Size = float(\"NaN\")\n",
    "        else:\n",
    "            NLot_Size = str(table.find_all(\"li\", class_='ic-lotsize')).split()[4][-4:]\n",
    "        \n",
    "        if (len(str(table.find_all(\"li\", class_='ic-proptype')).split())<3):\n",
    "            NType = float(\"NaN\")\n",
    "        else:\n",
    "            NType = str(table.find_all(\"li\", class_='ic-proptype')).split()[3]\n",
    "\n",
    "\n",
    "        NPrice = str(table.find(\"div\", class_='price')['data-price'].replace('$','').replace(',',''))\n",
    "        NAddress = table.find(\"div\", class_='item-address')['data-address']\n",
    "    # append data into the table \n",
    "        Point2_data = Point2_data.append({'Beds':Nbed,'Bath':NBath,'Sqft':NSqft,'Lot_Size':NLot_Size,'Type':NType,'Price':NPrice,'Address':NAddress},ignore_index=True)"
   ]
  },
  {
   "cell_type": "code",
   "execution_count": 12,
   "id": "2b29fb67-b9d4-40db-9d4c-98dd5d9e04ac",
   "metadata": {},
   "outputs": [
    {
     "data": {
      "text/html": [
       "<div>\n",
       "<style scoped>\n",
       "    .dataframe tbody tr th:only-of-type {\n",
       "        vertical-align: middle;\n",
       "    }\n",
       "\n",
       "    .dataframe tbody tr th {\n",
       "        vertical-align: top;\n",
       "    }\n",
       "\n",
       "    .dataframe thead th {\n",
       "        text-align: right;\n",
       "    }\n",
       "</style>\n",
       "<table border=\"1\" class=\"dataframe\">\n",
       "  <thead>\n",
       "    <tr style=\"text-align: right;\">\n",
       "      <th></th>\n",
       "      <th>Beds</th>\n",
       "      <th>Bath</th>\n",
       "      <th>Sqft</th>\n",
       "      <th>Lot_Size</th>\n",
       "      <th>Type</th>\n",
       "      <th>Price</th>\n",
       "      <th>Address</th>\n",
       "    </tr>\n",
       "  </thead>\n",
       "  <tbody>\n",
       "    <tr>\n",
       "      <th>1857</th>\n",
       "      <td>4</td>\n",
       "      <td>4</td>\n",
       "      <td>1424</td>\n",
       "      <td>NaN</td>\n",
       "      <td>Residential</td>\n",
       "      <td>275000 CAD</td>\n",
       "      <td>4820 47 Street</td>\n",
       "    </tr>\n",
       "    <tr>\n",
       "      <th>1858</th>\n",
       "      <td>3</td>\n",
       "      <td>3</td>\n",
       "      <td>1725</td>\n",
       "      <td>NaN</td>\n",
       "      <td>Single</td>\n",
       "      <td>219900 CAD</td>\n",
       "      <td>1, 4911 55 Avenue 1</td>\n",
       "    </tr>\n",
       "    <tr>\n",
       "      <th>1859</th>\n",
       "      <td>3</td>\n",
       "      <td>2</td>\n",
       "      <td>1194804</td>\n",
       "      <td>.135</td>\n",
       "      <td>Single</td>\n",
       "      <td>219500 CAD</td>\n",
       "      <td>49 AV 5313</td>\n",
       "    </tr>\n",
       "    <tr>\n",
       "      <th>1860</th>\n",
       "      <td>4</td>\n",
       "      <td>2</td>\n",
       "      <td>920</td>\n",
       "      <td>&gt;0.1</td>\n",
       "      <td>Residential</td>\n",
       "      <td>229000 CAD</td>\n",
       "      <td>281 4 Street W</td>\n",
       "    </tr>\n",
       "    <tr>\n",
       "      <th>1861</th>\n",
       "      <td>3</td>\n",
       "      <td>2</td>\n",
       "      <td>1456</td>\n",
       "      <td>4.44</td>\n",
       "      <td>Single</td>\n",
       "      <td>299999 CAD</td>\n",
       "      <td>44050 OLD SMITH HWY</td>\n",
       "    </tr>\n",
       "  </tbody>\n",
       "</table>\n",
       "</div>"
      ],
      "text/plain": [
       "     Beds Bath     Sqft Lot_Size         Type       Price  \\\n",
       "1857    4    4     1424      NaN  Residential  275000 CAD   \n",
       "1858    3    3     1725      NaN       Single  219900 CAD   \n",
       "1859    3    2  1194804     .135       Single  219500 CAD   \n",
       "1860    4    2      920     >0.1  Residential  229000 CAD   \n",
       "1861    3    2     1456     4.44       Single  299999 CAD   \n",
       "\n",
       "                   Address  \n",
       "1857       4820 47 Street   \n",
       "1858   1, 4911 55 Avenue 1  \n",
       "1859            49 AV 5313  \n",
       "1860       281 4 Street W   \n",
       "1861  44050 OLD SMITH HWY   "
      ]
     },
     "execution_count": 12,
     "metadata": {},
     "output_type": "execute_result"
    }
   ],
   "source": [
    "Point2_data.tail()"
   ]
  },
  {
   "cell_type": "markdown",
   "id": "84a4d841-0956-4781-b43a-7e9176763551",
   "metadata": {},
   "source": [
    "Only colect 1862 housing information, counting issue."
   ]
  },
  {
   "cell_type": "code",
   "execution_count": 13,
   "id": "da152999-5751-40b3-a1a3-dcb19e75dc0d",
   "metadata": {},
   "outputs": [
    {
     "name": "stdout",
     "output_type": "stream",
     "text": [
      "Beds column has 8 NaNs\n",
      "Bath column has 9 NaNs\n",
      "Sqft column has 14 NaNs\n",
      "Lot_Size column has 337 NaNs\n",
      "Type column has 0 NaNs\n",
      "Price column has 0 NaNs\n",
      "Address column has 0 NaNs\n"
     ]
    }
   ],
   "source": [
    "for column in Point2_data:\n",
    "    print(str(column) + ' column has '+ str(Point2_data[column].isnull().sum()) + ' NaNs')"
   ]
  },
  {
   "cell_type": "code",
   "execution_count": 14,
   "id": "dbb6c574-b69c-4cc9-a834-83c8280949d2",
   "metadata": {},
   "outputs": [],
   "source": [
    "Point2_data.to_csv('Point2_data_AB_house_200K_300K.csv',index=False)"
   ]
  },
  {
   "cell_type": "code",
   "execution_count": null,
   "id": "b7834d0d-4c59-4651-820a-83c0eb68d629",
   "metadata": {},
   "outputs": [],
   "source": []
  },
  {
   "cell_type": "markdown",
   "id": "6360ebb2-e560-4c60-b6cc-df48c42a0b70",
   "metadata": {},
   "source": [
    "#### Let's do housing price from 300,000 to 400,000 in AB. There are 2692 houses"
   ]
  },
  {
   "cell_type": "code",
   "execution_count": 10,
   "id": "ff66439b-c256-4476-8ed5-3181af6a69d3",
   "metadata": {
    "tags": []
   },
   "outputs": [
    {
     "name": "stdout",
     "output_type": "stream",
     "text": [
      "https://www.point2homes.com/CA/Real-Estate-Maps.html?location=Alberta&PriceMin=300%2C000&PriceMax=400%2C000&PropertyType=House&search_mode=location&page=27&SelectedView=map_view&LocationGeoId=205401&viewport=-131.20417749375%2C45.726072528239264%2C-97.84968530625001%2C60.77307411977707&zoom=5&location_changed=&ajax=1\n"
     ]
    }
   ],
   "source": [
    "for i in range(1,28):\n",
    "    url = 'https://www.point2homes.com/CA/Real-Estate-Maps.html?location=Alberta&PriceMin=300%2C000&PriceMax=400%2C000&PropertyType=House&search_mode=location&page=' + str(i) + '&SelectedView=map_view&LocationGeoId=205401&viewport=-131.20417749375%2C45.726072528239264%2C-97.84968530625001%2C60.77307411977707&zoom=5&location_changed=&ajax=1'\n",
    "\n",
    "print(url)"
   ]
  },
  {
   "cell_type": "code",
   "execution_count": 18,
   "id": "1a5d24fd-4339-40b0-b7c5-a9c88a2da01b",
   "metadata": {},
   "outputs": [],
   "source": [
    "data = {}\n",
    "soups = {}\n",
    "tables_AB = []\n",
    "# Create a df to store info\n",
    "Point2_data = pd.DataFrame(columns=['Beds','Bath','Sqft','Lot_Size','Type','Price','Address'])\n",
    "for i in range(1,28):\n",
    "    url = 'https://www.point2homes.com/CA/Real-Estate-Maps.html?location=Alberta&PriceMin=300%2C000&PriceMax=400%2C000&PropertyType=House&search_mode=location&page=' + str(i) + '&SelectedView=map_view&LocationGeoId=205401&viewport=-131.20417749375%2C45.726072528239264%2C-97.84968530625001%2C60.77307411977707&zoom=5&location_changed=&ajax=1'\n",
    "    data = requests.get(url).text\n",
    "    soup = BeautifulSoup(data, 'html.parser')\n",
    "    tables_AB.append(soup.find_all(\"div\", class_=\"item-details\"))\n",
    "    \n",
    "    # extract information from each table\n",
    "    for table in (tables_AB[(i-1)]):\n",
    "        if (len(str(table.find_all(\"li\", class_='ic-beds')).split())<3):\n",
    "            Nbed = float(\"NaN\")\n",
    "        else:\n",
    "            Nbed = int(''.join(filter(str.isdigit, str(table.find_all(\"li\", class_='ic-beds')))))\n",
    "        \n",
    "        if (len(str(table.find_all(\"li\", class_='ic-baths')).split())<3):\n",
    "            NBath = float(\"NaN\")\n",
    "        else:\n",
    "            NBath = int(''.join(filter(str.isdigit, str(table.find_all(\"li\", class_='ic-baths')))))\n",
    "        \n",
    "        if (len(str(table.find_all(\"li\", class_='ic-sqft')).split())<3):\n",
    "            NSqft = float(\"NaN\")\n",
    "        else:\n",
    "            NSqft = int(''.join(filter(str.isdigit, str(table.find_all(\"li\", class_='ic-sqft')))))\n",
    "    \n",
    "        if (len(str(table.find_all(\"li\", class_='ic-lotsize')).split())<4):\n",
    "            NLot_Size = float(\"NaN\")\n",
    "        else:\n",
    "            NLot_Size = str(table.find_all(\"li\", class_='ic-lotsize')).split()[4][-4:]\n",
    "        \n",
    "        if (len(str(table.find_all(\"li\", class_='ic-proptype')).split())<3):\n",
    "            NType = float(\"NaN\")\n",
    "        else:\n",
    "            NType = str(table.find_all(\"li\", class_='ic-proptype')).split()[3]\n",
    "\n",
    "\n",
    "        NPrice = str(table.find(\"div\", class_='price')['data-price'].replace('$','').replace(',',''))\n",
    "        NAddress = table.find(\"div\", class_='item-address')['data-address']\n",
    "    # append data into the table \n",
    "        Point2_data = Point2_data.append({'Beds':Nbed,'Bath':NBath,'Sqft':NSqft,'Lot_Size':NLot_Size,'Type':NType,'Price':NPrice,'Address':NAddress},ignore_index=True)"
   ]
  },
  {
   "cell_type": "code",
   "execution_count": 19,
   "id": "ce2db252-03f0-49cb-9dab-32acaa8b477b",
   "metadata": {},
   "outputs": [
    {
     "data": {
      "text/html": [
       "<div>\n",
       "<style scoped>\n",
       "    .dataframe tbody tr th:only-of-type {\n",
       "        vertical-align: middle;\n",
       "    }\n",
       "\n",
       "    .dataframe tbody tr th {\n",
       "        vertical-align: top;\n",
       "    }\n",
       "\n",
       "    .dataframe thead th {\n",
       "        text-align: right;\n",
       "    }\n",
       "</style>\n",
       "<table border=\"1\" class=\"dataframe\">\n",
       "  <thead>\n",
       "    <tr style=\"text-align: right;\">\n",
       "      <th></th>\n",
       "      <th>Beds</th>\n",
       "      <th>Bath</th>\n",
       "      <th>Sqft</th>\n",
       "      <th>Lot_Size</th>\n",
       "      <th>Type</th>\n",
       "      <th>Price</th>\n",
       "      <th>Address</th>\n",
       "    </tr>\n",
       "  </thead>\n",
       "  <tbody>\n",
       "    <tr>\n",
       "      <th>2686</th>\n",
       "      <td>4</td>\n",
       "      <td>2</td>\n",
       "      <td>1663038</td>\n",
       "      <td>4.01</td>\n",
       "      <td>Single</td>\n",
       "      <td>345000 CAD</td>\n",
       "      <td>5230 Township 564</td>\n",
       "    </tr>\n",
       "    <tr>\n",
       "      <th>2687</th>\n",
       "      <td>4</td>\n",
       "      <td>2</td>\n",
       "      <td>836578</td>\n",
       "      <td>.097</td>\n",
       "      <td>Single</td>\n",
       "      <td>399995 CAD</td>\n",
       "      <td>10457 77 AV NW</td>\n",
       "    </tr>\n",
       "    <tr>\n",
       "      <th>2688</th>\n",
       "      <td>3</td>\n",
       "      <td>2</td>\n",
       "      <td>1160</td>\n",
       "      <td>0.23</td>\n",
       "      <td>Residential</td>\n",
       "      <td>307500 CAD</td>\n",
       "      <td>415 1 Avenue E</td>\n",
       "    </tr>\n",
       "    <tr>\n",
       "      <th>2689</th>\n",
       "      <td>3</td>\n",
       "      <td>2</td>\n",
       "      <td>1294</td>\n",
       "      <td>NaN</td>\n",
       "      <td>Single</td>\n",
       "      <td>348500 CAD</td>\n",
       "      <td>10816 STERN CRES</td>\n",
       "    </tr>\n",
       "    <tr>\n",
       "      <th>2690</th>\n",
       "      <td>2</td>\n",
       "      <td>2</td>\n",
       "      <td>1182</td>\n",
       "      <td>0.18</td>\n",
       "      <td>Residential</td>\n",
       "      <td>359900 CAD</td>\n",
       "      <td>656 Hunter Drive</td>\n",
       "    </tr>\n",
       "  </tbody>\n",
       "</table>\n",
       "</div>"
      ],
      "text/plain": [
       "     Beds Bath     Sqft Lot_Size         Type       Price            Address\n",
       "2686    4    2  1663038     4.01       Single  345000 CAD  5230 Township 564\n",
       "2687    4    2   836578     .097       Single  399995 CAD    10457 77 AV NW \n",
       "2688    3    2     1160     0.23  Residential  307500 CAD    415 1 Avenue E \n",
       "2689    3    2     1294      NaN       Single  348500 CAD  10816 STERN CRES \n",
       "2690    2    2     1182     0.18  Residential  359900 CAD  656 Hunter Drive "
      ]
     },
     "execution_count": 19,
     "metadata": {},
     "output_type": "execute_result"
    }
   ],
   "source": [
    "Point2_data.tail()"
   ]
  },
  {
   "cell_type": "markdown",
   "id": "be083397-e801-4d7f-b74b-27090ca7e738",
   "metadata": {},
   "source": [
    "Only colect 2691 housing information, Counting issues"
   ]
  },
  {
   "cell_type": "code",
   "execution_count": 20,
   "id": "ed824d19-17be-4715-add1-a23e70d9e78a",
   "metadata": {},
   "outputs": [
    {
     "name": "stdout",
     "output_type": "stream",
     "text": [
      "Beds column has 4 NaNs\n",
      "Bath column has 7 NaNs\n",
      "Sqft column has 10 NaNs\n",
      "Lot_Size column has 362 NaNs\n",
      "Type column has 0 NaNs\n",
      "Price column has 0 NaNs\n",
      "Address column has 0 NaNs\n"
     ]
    }
   ],
   "source": [
    "for column in Point2_data:\n",
    "    print(str(column) + ' column has '+ str(Point2_data[column].isnull().sum()) + ' NaNs')"
   ]
  },
  {
   "cell_type": "code",
   "execution_count": 21,
   "id": "a2a912ca-f2d2-4f19-94f4-6bc650105960",
   "metadata": {},
   "outputs": [],
   "source": [
    "Point2_data.to_csv('Point2_data_AB_house_300K_400K.csv',index=False)"
   ]
  },
  {
   "cell_type": "code",
   "execution_count": null,
   "id": "94519642-806c-46c1-896e-31d83359e262",
   "metadata": {},
   "outputs": [],
   "source": []
  },
  {
   "cell_type": "markdown",
   "id": "fac6e172-119c-4a64-ab78-f1207e8dd454",
   "metadata": {},
   "source": [
    "#### Let's do housing price from 400,000 to 500,000 in AB. There are 2071 houses"
   ]
  },
  {
   "cell_type": "code",
   "execution_count": 11,
   "id": "01c337a0-f190-441d-863c-6c9c96fb16cb",
   "metadata": {
    "tags": []
   },
   "outputs": [
    {
     "name": "stdout",
     "output_type": "stream",
     "text": [
      "https://www.point2homes.com/CA/Real-Estate-Maps.html?location=Alberta&PriceMin=400%2C000&PriceMax=500%2C000&PropertyType=House&search_mode=location&page=21&SelectedView=map_view&LocationGeoId=205401&viewport=-122.831302046875%2C49.015079756925694%2C-106.154055953125%2C56.6854226281053&zoom=6&location_changed=&ajax=1\n"
     ]
    }
   ],
   "source": [
    "for i in range(1,22):\n",
    "    url = 'https://www.point2homes.com/CA/Real-Estate-Maps.html?location=Alberta&PriceMin=400%2C000&PriceMax=500%2C000&PropertyType=House&search_mode=location&page=' + str(i) + '&SelectedView=map_view&LocationGeoId=205401&viewport=-122.831302046875%2C49.015079756925694%2C-106.154055953125%2C56.6854226281053&zoom=6&location_changed=&ajax=1'\n",
    "\n",
    "print(url)"
   ]
  },
  {
   "cell_type": "code",
   "execution_count": 24,
   "id": "94db17f7-2ed9-4a39-a1b5-dbc46ab40d56",
   "metadata": {},
   "outputs": [],
   "source": [
    "data = {}\n",
    "soups = {}\n",
    "tables_AB = []\n",
    "# Create a df to store info\n",
    "Point2_data = pd.DataFrame(columns=['Beds','Bath','Sqft','Lot_Size','Type','Price','Address'])\n",
    "for i in range(1,22):\n",
    "    url = 'https://www.point2homes.com/CA/Real-Estate-Maps.html?location=Alberta&PriceMin=400%2C000&PriceMax=500%2C000&PropertyType=House&search_mode=location&page=' + str(i) + '&SelectedView=map_view&LocationGeoId=205401&viewport=-122.831302046875%2C49.015079756925694%2C-106.154055953125%2C56.6854226281053&zoom=6&location_changed=&ajax=1'\n",
    "    data = requests.get(url).text\n",
    "    soup = BeautifulSoup(data, 'html.parser')\n",
    "    tables_AB.append(soup.find_all(\"div\", class_=\"item-details\"))\n",
    "    \n",
    "    # extract information from each table\n",
    "    for table in (tables_AB[(i-1)]):\n",
    "        if (len(str(table.find_all(\"li\", class_='ic-beds')).split())<3):\n",
    "            Nbed = float(\"NaN\")\n",
    "        else:\n",
    "            Nbed = int(''.join(filter(str.isdigit, str(table.find_all(\"li\", class_='ic-beds')))))\n",
    "        \n",
    "        if (len(str(table.find_all(\"li\", class_='ic-baths')).split())<3):\n",
    "            NBath = float(\"NaN\")\n",
    "        else:\n",
    "            NBath = int(''.join(filter(str.isdigit, str(table.find_all(\"li\", class_='ic-baths')))))\n",
    "        \n",
    "        if (len(str(table.find_all(\"li\", class_='ic-sqft')).split())<3):\n",
    "            NSqft = float(\"NaN\")\n",
    "        else:\n",
    "            NSqft = int(''.join(filter(str.isdigit, str(table.find_all(\"li\", class_='ic-sqft')))))\n",
    "    \n",
    "        if (len(str(table.find_all(\"li\", class_='ic-lotsize')).split())<4):\n",
    "            NLot_Size = float(\"NaN\")\n",
    "        else:\n",
    "            NLot_Size = str(table.find_all(\"li\", class_='ic-lotsize')).split()[4][-4:]\n",
    "        \n",
    "        if (len(str(table.find_all(\"li\", class_='ic-proptype')).split())<3):\n",
    "            NType = float(\"NaN\")\n",
    "        else:\n",
    "            NType = str(table.find_all(\"li\", class_='ic-proptype')).split()[3]\n",
    "\n",
    "\n",
    "        NPrice = str(table.find(\"div\", class_='price')['data-price'].replace('$','').replace(',',''))\n",
    "        NAddress = table.find(\"div\", class_='item-address')['data-address']\n",
    "    # append data into the table \n",
    "        Point2_data = Point2_data.append({'Beds':Nbed,'Bath':NBath,'Sqft':NSqft,'Lot_Size':NLot_Size,'Type':NType,'Price':NPrice,'Address':NAddress},ignore_index=True)"
   ]
  },
  {
   "cell_type": "code",
   "execution_count": 25,
   "id": "425a88f2-7e45-4bc1-9de5-5d4263426c7e",
   "metadata": {},
   "outputs": [
    {
     "data": {
      "text/html": [
       "<div>\n",
       "<style scoped>\n",
       "    .dataframe tbody tr th:only-of-type {\n",
       "        vertical-align: middle;\n",
       "    }\n",
       "\n",
       "    .dataframe tbody tr th {\n",
       "        vertical-align: top;\n",
       "    }\n",
       "\n",
       "    .dataframe thead th {\n",
       "        text-align: right;\n",
       "    }\n",
       "</style>\n",
       "<table border=\"1\" class=\"dataframe\">\n",
       "  <thead>\n",
       "    <tr style=\"text-align: right;\">\n",
       "      <th></th>\n",
       "      <th>Beds</th>\n",
       "      <th>Bath</th>\n",
       "      <th>Sqft</th>\n",
       "      <th>Lot_Size</th>\n",
       "      <th>Type</th>\n",
       "      <th>Price</th>\n",
       "      <th>Address</th>\n",
       "    </tr>\n",
       "  </thead>\n",
       "  <tbody>\n",
       "    <tr>\n",
       "      <th>2066</th>\n",
       "      <td>1</td>\n",
       "      <td>1</td>\n",
       "      <td>480</td>\n",
       "      <td>.105</td>\n",
       "      <td>Single</td>\n",
       "      <td>429900 CAD</td>\n",
       "      <td>59  Peace River  Avenue</td>\n",
       "    </tr>\n",
       "    <tr>\n",
       "      <th>2067</th>\n",
       "      <td>3</td>\n",
       "      <td>3</td>\n",
       "      <td>1637</td>\n",
       "      <td>4.87</td>\n",
       "      <td>Residential</td>\n",
       "      <td>499000 CAD</td>\n",
       "      <td>404007 Range Road 6-3</td>\n",
       "    </tr>\n",
       "    <tr>\n",
       "      <th>2068</th>\n",
       "      <td>6</td>\n",
       "      <td>3</td>\n",
       "      <td>1454</td>\n",
       "      <td>6.33</td>\n",
       "      <td>Single</td>\n",
       "      <td>435000 CAD</td>\n",
       "      <td>11421 120 Ave Close</td>\n",
       "    </tr>\n",
       "    <tr>\n",
       "      <th>2069</th>\n",
       "      <td>6</td>\n",
       "      <td>3</td>\n",
       "      <td>2642</td>\n",
       "      <td>0.18</td>\n",
       "      <td>Residential</td>\n",
       "      <td>495000 CAD</td>\n",
       "      <td>3723 50 Avenue</td>\n",
       "    </tr>\n",
       "    <tr>\n",
       "      <th>2070</th>\n",
       "      <td>3</td>\n",
       "      <td>3</td>\n",
       "      <td>1207</td>\n",
       "      <td>9.76</td>\n",
       "      <td>Single</td>\n",
       "      <td>485000 CAD</td>\n",
       "      <td>54215 HIGHWAY 748 E</td>\n",
       "    </tr>\n",
       "  </tbody>\n",
       "</table>\n",
       "</div>"
      ],
      "text/plain": [
       "     Beds Bath  Sqft Lot_Size         Type       Price  \\\n",
       "2066    1    1   480     .105       Single  429900 CAD   \n",
       "2067    3    3  1637     4.87  Residential  499000 CAD   \n",
       "2068    6    3  1454     6.33       Single  435000 CAD   \n",
       "2069    6    3  2642     0.18  Residential  495000 CAD   \n",
       "2070    3    3  1207     9.76       Single  485000 CAD   \n",
       "\n",
       "                       Address  \n",
       "2066  59  Peace River  Avenue   \n",
       "2067    404007 Range Road 6-3   \n",
       "2068      11421 120 Ave Close   \n",
       "2069           3723 50 Avenue   \n",
       "2070      54215 HIGHWAY 748 E   "
      ]
     },
     "execution_count": 25,
     "metadata": {},
     "output_type": "execute_result"
    }
   ],
   "source": [
    "Point2_data.tail()"
   ]
  },
  {
   "cell_type": "code",
   "execution_count": 26,
   "id": "7d30b958-0293-41e9-8b2f-de43f74ac1ec",
   "metadata": {},
   "outputs": [
    {
     "name": "stdout",
     "output_type": "stream",
     "text": [
      "Beds column has 2 NaNs\n",
      "Bath column has 2 NaNs\n",
      "Sqft column has 4 NaNs\n",
      "Lot_Size column has 221 NaNs\n",
      "Type column has 0 NaNs\n",
      "Price column has 0 NaNs\n",
      "Address column has 0 NaNs\n"
     ]
    }
   ],
   "source": [
    "for column in Point2_data:\n",
    "    print(str(column) + ' column has '+ str(Point2_data[column].isnull().sum()) + ' NaNs')"
   ]
  },
  {
   "cell_type": "code",
   "execution_count": 27,
   "id": "490f77cc-b25c-4d21-9659-a207ce0e5493",
   "metadata": {},
   "outputs": [],
   "source": [
    "Point2_data.to_csv('Point2_data_AB_house_400K_500K.csv',index=False)"
   ]
  },
  {
   "cell_type": "code",
   "execution_count": null,
   "id": "a29e7672-49ef-4cfa-b528-f12048b47e75",
   "metadata": {},
   "outputs": [],
   "source": []
  },
  {
   "cell_type": "markdown",
   "id": "be781dc0-508c-4db3-9f1e-a31d96793854",
   "metadata": {},
   "source": [
    "#### Let's do housing price from 500,000 to 700,000 in AB. There are 2350 houses"
   ]
  },
  {
   "cell_type": "code",
   "execution_count": 42,
   "id": "9d7c1653-5a70-476e-9fdf-2cc8dedbcf4e",
   "metadata": {
    "tags": []
   },
   "outputs": [
    {
     "name": "stdout",
     "output_type": "stream",
     "text": [
      "https://www.point2homes.com/CA/Real-Estate-Maps.html?location=Alberta&PriceMin=500%2C000&PriceMax=700%2C000&PropertyType=House&search_mode=location&page=24&SelectedView=map_view&LocationGeoId=205401&viewport=-123.21712804687499%2C49.209208934029334%2C-106.53988195312499%2C56.847957850965436&zoom=6&location_changed=&ajax=1\n"
     ]
    }
   ],
   "source": [
    "for i in range(1,25):\n",
    "    url = 'https://www.point2homes.com/CA/Real-Estate-Maps.html?location=Alberta&PriceMin=500%2C000&PriceMax=700%2C000&PropertyType=House&search_mode=location&page=' + str(i) + '&SelectedView=map_view&LocationGeoId=205401&viewport=-123.21712804687499%2C49.209208934029334%2C-106.53988195312499%2C56.847957850965436&zoom=6&location_changed=&ajax=1'\n",
    "\n",
    "print(url)"
   ]
  },
  {
   "cell_type": "code",
   "execution_count": 29,
   "id": "d2e25102-3801-49c6-bf14-fd9145e476a5",
   "metadata": {},
   "outputs": [],
   "source": [
    "data = {}\n",
    "soups = {}\n",
    "tables_AB = []\n",
    "# Create a df to store info\n",
    "Point2_data = pd.DataFrame(columns=['Beds','Bath','Sqft','Lot_Size','Type','Price','Address'])\n",
    "for i in range(1,25):\n",
    "    url = 'https://www.point2homes.com/CA/Real-Estate-Maps.html?location=Alberta&PriceMin=500%2C000&PriceMax=700%2C000&PropertyType=House&search_mode=location&page=' + str(i) + '&SelectedView=map_view&LocationGeoId=205401&viewport=-123.21712804687499%2C49.209208934029334%2C-106.53988195312499%2C56.847957850965436&zoom=6&location_changed=&ajax=1'\n",
    "    data = requests.get(url).text\n",
    "    soup = BeautifulSoup(data, 'html.parser')\n",
    "    tables_AB.append(soup.find_all(\"div\", class_=\"item-details\"))\n",
    "    \n",
    "    # extract information from each table\n",
    "    for table in (tables_AB[(i-1)]):\n",
    "        if (len(str(table.find_all(\"li\", class_='ic-beds')).split())<3):\n",
    "            Nbed = float(\"NaN\")\n",
    "        else:\n",
    "            Nbed = int(''.join(filter(str.isdigit, str(table.find_all(\"li\", class_='ic-beds')))))\n",
    "        \n",
    "        if (len(str(table.find_all(\"li\", class_='ic-baths')).split())<3):\n",
    "            NBath = float(\"NaN\")\n",
    "        else:\n",
    "            NBath = int(''.join(filter(str.isdigit, str(table.find_all(\"li\", class_='ic-baths')))))\n",
    "        \n",
    "        if (len(str(table.find_all(\"li\", class_='ic-sqft')).split())<3):\n",
    "            NSqft = float(\"NaN\")\n",
    "        else:\n",
    "            NSqft = int(''.join(filter(str.isdigit, str(table.find_all(\"li\", class_='ic-sqft')))))\n",
    "    \n",
    "        if (len(str(table.find_all(\"li\", class_='ic-lotsize')).split())<4):\n",
    "            NLot_Size = float(\"NaN\")\n",
    "        else:\n",
    "            NLot_Size = str(table.find_all(\"li\", class_='ic-lotsize')).split()[4][-4:]\n",
    "        \n",
    "        if (len(str(table.find_all(\"li\", class_='ic-proptype')).split())<3):\n",
    "            NType = float(\"NaN\")\n",
    "        else:\n",
    "            NType = str(table.find_all(\"li\", class_='ic-proptype')).split()[3]\n",
    "\n",
    "\n",
    "        NPrice = str(table.find(\"div\", class_='price')['data-price'].replace('$','').replace(',',''))\n",
    "        NAddress = table.find(\"div\", class_='item-address')['data-address']\n",
    "    # append data into the table \n",
    "        Point2_data = Point2_data.append({'Beds':Nbed,'Bath':NBath,'Sqft':NSqft,'Lot_Size':NLot_Size,'Type':NType,'Price':NPrice,'Address':NAddress},ignore_index=True)"
   ]
  },
  {
   "cell_type": "code",
   "execution_count": 30,
   "id": "b21a0543-7f6d-457e-b31e-2ece2bfa7538",
   "metadata": {},
   "outputs": [
    {
     "data": {
      "text/html": [
       "<div>\n",
       "<style scoped>\n",
       "    .dataframe tbody tr th:only-of-type {\n",
       "        vertical-align: middle;\n",
       "    }\n",
       "\n",
       "    .dataframe tbody tr th {\n",
       "        vertical-align: top;\n",
       "    }\n",
       "\n",
       "    .dataframe thead th {\n",
       "        text-align: right;\n",
       "    }\n",
       "</style>\n",
       "<table border=\"1\" class=\"dataframe\">\n",
       "  <thead>\n",
       "    <tr style=\"text-align: right;\">\n",
       "      <th></th>\n",
       "      <th>Beds</th>\n",
       "      <th>Bath</th>\n",
       "      <th>Sqft</th>\n",
       "      <th>Lot_Size</th>\n",
       "      <th>Type</th>\n",
       "      <th>Price</th>\n",
       "      <th>Address</th>\n",
       "    </tr>\n",
       "  </thead>\n",
       "  <tbody>\n",
       "    <tr>\n",
       "      <th>2345</th>\n",
       "      <td>4</td>\n",
       "      <td>1</td>\n",
       "      <td>1090</td>\n",
       "      <td>3.76</td>\n",
       "      <td>Single</td>\n",
       "      <td>570000 CAD</td>\n",
       "      <td>67061 MISSION ROAD Road 601</td>\n",
       "    </tr>\n",
       "    <tr>\n",
       "      <th>2346</th>\n",
       "      <td>2</td>\n",
       "      <td>1</td>\n",
       "      <td>867</td>\n",
       "      <td>5.19</td>\n",
       "      <td>Farm</td>\n",
       "      <td>549000 CAD</td>\n",
       "      <td>6413 Highway 633</td>\n",
       "    </tr>\n",
       "    <tr>\n",
       "      <th>2347</th>\n",
       "      <td>4</td>\n",
       "      <td>2</td>\n",
       "      <td>1785</td>\n",
       "      <td>NaN</td>\n",
       "      <td>Residential</td>\n",
       "      <td>589900 CAD</td>\n",
       "      <td>216 Silver Springs Green NW</td>\n",
       "    </tr>\n",
       "    <tr>\n",
       "      <th>2348</th>\n",
       "      <td>5</td>\n",
       "      <td>3</td>\n",
       "      <td>1369</td>\n",
       "      <td>.132</td>\n",
       "      <td>Single</td>\n",
       "      <td>599900 CAD</td>\n",
       "      <td>345 Lindstrom  Crescent</td>\n",
       "    </tr>\n",
       "    <tr>\n",
       "      <th>2349</th>\n",
       "      <td>3</td>\n",
       "      <td>2</td>\n",
       "      <td>1219884</td>\n",
       "      <td>7.46</td>\n",
       "      <td>Single</td>\n",
       "      <td>699000 CAD</td>\n",
       "      <td>49068 Highway 21</td>\n",
       "    </tr>\n",
       "  </tbody>\n",
       "</table>\n",
       "</div>"
      ],
      "text/plain": [
       "     Beds Bath     Sqft Lot_Size         Type       Price  \\\n",
       "2345    4    1     1090     3.76       Single  570000 CAD   \n",
       "2346    2    1      867     5.19         Farm  549000 CAD   \n",
       "2347    4    2     1785      NaN  Residential  589900 CAD   \n",
       "2348    5    3     1369     .132       Single  599900 CAD   \n",
       "2349    3    2  1219884     7.46       Single  699000 CAD   \n",
       "\n",
       "                           Address  \n",
       "2345   67061 MISSION ROAD Road 601  \n",
       "2346             6413 Highway 633   \n",
       "2347  216 Silver Springs Green NW   \n",
       "2348      345 Lindstrom  Crescent   \n",
       "2349             49068 Highway 21   "
      ]
     },
     "execution_count": 30,
     "metadata": {},
     "output_type": "execute_result"
    }
   ],
   "source": [
    "Point2_data.tail()"
   ]
  },
  {
   "cell_type": "code",
   "execution_count": 31,
   "id": "04c613f2-323b-4333-89e2-f3a253a6572c",
   "metadata": {},
   "outputs": [
    {
     "name": "stdout",
     "output_type": "stream",
     "text": [
      "Beds column has 1 NaNs\n",
      "Bath column has 2 NaNs\n",
      "Sqft column has 6 NaNs\n",
      "Lot_Size column has 262 NaNs\n",
      "Type column has 0 NaNs\n",
      "Price column has 0 NaNs\n",
      "Address column has 0 NaNs\n"
     ]
    }
   ],
   "source": [
    "for column in Point2_data:\n",
    "    print(str(column) + ' column has '+ str(Point2_data[column].isnull().sum()) + ' NaNs')"
   ]
  },
  {
   "cell_type": "code",
   "execution_count": 32,
   "id": "a46409e1-13da-4d00-8495-2eb404d82aa0",
   "metadata": {},
   "outputs": [],
   "source": [
    "Point2_data.to_csv('Point2_data_AB_house_500K_700K.csv',index=False)"
   ]
  },
  {
   "cell_type": "code",
   "execution_count": null,
   "id": "3176423a-f2d7-431a-80a1-34309617d688",
   "metadata": {},
   "outputs": [],
   "source": []
  },
  {
   "cell_type": "markdown",
   "id": "329c596b-c3fe-4b48-a4f8-3cab5111f2f7",
   "metadata": {},
   "source": [
    "#### Let's do housing price 700,000 Up in AB. There are 2445 houses"
   ]
  },
  {
   "cell_type": "code",
   "execution_count": 12,
   "id": "a59cbdac-ba10-4e6b-85b9-d66629fc5a49",
   "metadata": {
    "tags": []
   },
   "outputs": [
    {
     "name": "stdout",
     "output_type": "stream",
     "text": [
      "https://www.point2homes.com/CA/Real-Estate-Maps.html?location=Alberta&PriceMin=700%2C000&PropertyType=House&search_mode=location&page=25&SelectedView=map_view&LocationGeoId=205401&viewport=-122.77317994687499%2C49.009053946355294%2C-106.09593385312499%2C56.68037641652274&zoom=6&location_changed=&ajax=1\n"
     ]
    }
   ],
   "source": [
    "for i in range(1,26):\n",
    "    url = 'https://www.point2homes.com/CA/Real-Estate-Maps.html?location=Alberta&PriceMin=700%2C000&PropertyType=House&search_mode=location&page=' + str(i) + '&SelectedView=map_view&LocationGeoId=205401&viewport=-122.77317994687499%2C49.009053946355294%2C-106.09593385312499%2C56.68037641652274&zoom=6&location_changed=&ajax=1'\n",
    "\n",
    "print(url)"
   ]
  },
  {
   "cell_type": "code",
   "execution_count": 34,
   "id": "3f91d51d-9201-4175-862c-ecb24c2ba2ab",
   "metadata": {},
   "outputs": [],
   "source": [
    "data = {}\n",
    "soups = {}\n",
    "tables_AB = []\n",
    "# Create a df to store info\n",
    "Point2_data = pd.DataFrame(columns=['Beds','Bath','Sqft','Lot_Size','Type','Price','Address'])\n",
    "for i in range(1,26):\n",
    "    url = 'https://www.point2homes.com/CA/Real-Estate-Maps.html?location=Alberta&PriceMin=700%2C000&PropertyType=House&search_mode=location&page=' + str(i) + '&SelectedView=map_view&LocationGeoId=205401&viewport=-122.77317994687499%2C49.009053946355294%2C-106.09593385312499%2C56.68037641652274&zoom=6&location_changed=&ajax=1'\n",
    "    data = requests.get(url).text\n",
    "    soup = BeautifulSoup(data, 'html.parser')\n",
    "    tables_AB.append(soup.find_all(\"div\", class_=\"item-details\"))\n",
    "    \n",
    "    # extract information from each table\n",
    "    for table in (tables_AB[(i-1)]):\n",
    "        if (len(str(table.find_all(\"li\", class_='ic-beds')).split())<3):\n",
    "            Nbed = float(\"NaN\")\n",
    "        else:\n",
    "            Nbed = int(''.join(filter(str.isdigit, str(table.find_all(\"li\", class_='ic-beds')))))\n",
    "        \n",
    "        if (len(str(table.find_all(\"li\", class_='ic-baths')).split())<3):\n",
    "            NBath = float(\"NaN\")\n",
    "        else:\n",
    "            NBath = int(''.join(filter(str.isdigit, str(table.find_all(\"li\", class_='ic-baths')))))\n",
    "        \n",
    "        if (len(str(table.find_all(\"li\", class_='ic-sqft')).split())<3):\n",
    "            NSqft = float(\"NaN\")\n",
    "        else:\n",
    "            NSqft = int(''.join(filter(str.isdigit, str(table.find_all(\"li\", class_='ic-sqft')))))\n",
    "    \n",
    "        if (len(str(table.find_all(\"li\", class_='ic-lotsize')).split())<4):\n",
    "            NLot_Size = float(\"NaN\")\n",
    "        else:\n",
    "            NLot_Size = str(table.find_all(\"li\", class_='ic-lotsize')).split()[4][-4:]\n",
    "        \n",
    "        if (len(str(table.find_all(\"li\", class_='ic-proptype')).split())<3):\n",
    "            NType = float(\"NaN\")\n",
    "        else:\n",
    "            NType = str(table.find_all(\"li\", class_='ic-proptype')).split()[3]\n",
    "\n",
    "\n",
    "        NPrice = str(table.find(\"div\", class_='price')['data-price'].replace('$','').replace(',',''))\n",
    "        NAddress = table.find(\"div\", class_='item-address')['data-address']\n",
    "    # append data into the table \n",
    "        Point2_data = Point2_data.append({'Beds':Nbed,'Bath':NBath,'Sqft':NSqft,'Lot_Size':NLot_Size,'Type':NType,'Price':NPrice,'Address':NAddress},ignore_index=True)"
   ]
  },
  {
   "cell_type": "code",
   "execution_count": 35,
   "id": "c2bad706-19cf-4670-9b7e-3c6072e72f34",
   "metadata": {},
   "outputs": [
    {
     "data": {
      "text/html": [
       "<div>\n",
       "<style scoped>\n",
       "    .dataframe tbody tr th:only-of-type {\n",
       "        vertical-align: middle;\n",
       "    }\n",
       "\n",
       "    .dataframe tbody tr th {\n",
       "        vertical-align: top;\n",
       "    }\n",
       "\n",
       "    .dataframe thead th {\n",
       "        text-align: right;\n",
       "    }\n",
       "</style>\n",
       "<table border=\"1\" class=\"dataframe\">\n",
       "  <thead>\n",
       "    <tr style=\"text-align: right;\">\n",
       "      <th></th>\n",
       "      <th>Beds</th>\n",
       "      <th>Bath</th>\n",
       "      <th>Sqft</th>\n",
       "      <th>Lot_Size</th>\n",
       "      <th>Type</th>\n",
       "      <th>Price</th>\n",
       "      <th>Address</th>\n",
       "    </tr>\n",
       "  </thead>\n",
       "  <tbody>\n",
       "    <tr>\n",
       "      <th>2440</th>\n",
       "      <td>3</td>\n",
       "      <td>3</td>\n",
       "      <td>2488</td>\n",
       "      <td>01.1</td>\n",
       "      <td>Residential</td>\n",
       "      <td>1499900 CAD</td>\n",
       "      <td>28444 Highway 592</td>\n",
       "    </tr>\n",
       "    <tr>\n",
       "      <th>2441</th>\n",
       "      <td>3</td>\n",
       "      <td>2</td>\n",
       "      <td>2952</td>\n",
       "      <td>1.61</td>\n",
       "      <td>Residential</td>\n",
       "      <td>929000 CAD</td>\n",
       "      <td>8 Grasslands Road</td>\n",
       "    </tr>\n",
       "    <tr>\n",
       "      <th>2442</th>\n",
       "      <td>6</td>\n",
       "      <td>4</td>\n",
       "      <td>4337</td>\n",
       "      <td>5.06</td>\n",
       "      <td>Single</td>\n",
       "      <td>1500000 CAD</td>\n",
       "      <td>1200 Range Road  254 Road</td>\n",
       "    </tr>\n",
       "    <tr>\n",
       "      <th>2443</th>\n",
       "      <td>5</td>\n",
       "      <td>5</td>\n",
       "      <td>2407</td>\n",
       "      <td>NaN</td>\n",
       "      <td>Residential</td>\n",
       "      <td>759900 CAD</td>\n",
       "      <td>5205 59 Street Close</td>\n",
       "    </tr>\n",
       "    <tr>\n",
       "      <th>2444</th>\n",
       "      <td>3</td>\n",
       "      <td>4</td>\n",
       "      <td>1645</td>\n",
       "      <td>1.73</td>\n",
       "      <td>Residential</td>\n",
       "      <td>999000 CAD</td>\n",
       "      <td>353022 Range Road 43</td>\n",
       "    </tr>\n",
       "  </tbody>\n",
       "</table>\n",
       "</div>"
      ],
      "text/plain": [
       "     Beds Bath  Sqft Lot_Size         Type        Price  \\\n",
       "2440    3    3  2488     01.1  Residential  1499900 CAD   \n",
       "2441    3    2  2952     1.61  Residential   929000 CAD   \n",
       "2442    6    4  4337     5.06       Single  1500000 CAD   \n",
       "2443    5    5  2407      NaN  Residential   759900 CAD   \n",
       "2444    3    4  1645     1.73  Residential   999000 CAD   \n",
       "\n",
       "                         Address  \n",
       "2440          28444 Highway 592   \n",
       "2441          8 Grasslands Road   \n",
       "2442  1200 Range Road  254 Road   \n",
       "2443       5205 59 Street Close   \n",
       "2444       353022 Range Road 43   "
      ]
     },
     "execution_count": 35,
     "metadata": {},
     "output_type": "execute_result"
    }
   ],
   "source": [
    "Point2_data.tail()"
   ]
  },
  {
   "cell_type": "code",
   "execution_count": 36,
   "id": "9ba7b830-025b-4fa1-89e2-b3670d6feb44",
   "metadata": {},
   "outputs": [
    {
     "name": "stdout",
     "output_type": "stream",
     "text": [
      "Beds column has 19 NaNs\n",
      "Bath column has 20 NaNs\n",
      "Sqft column has 30 NaNs\n",
      "Lot_Size column has 161 NaNs\n",
      "Type column has 0 NaNs\n",
      "Price column has 0 NaNs\n",
      "Address column has 0 NaNs\n"
     ]
    }
   ],
   "source": [
    "for column in Point2_data:\n",
    "    print(str(column) + ' column has '+ str(Point2_data[column].isnull().sum()) + ' NaNs')"
   ]
  },
  {
   "cell_type": "code",
   "execution_count": 37,
   "id": "a6c4c1dc-923a-4f75-99b8-eadb31512b6b",
   "metadata": {},
   "outputs": [],
   "source": [
    "Point2_data.to_csv('Point2_data_AB_house_700Kup.csv',index=False)"
   ]
  },
  {
   "cell_type": "code",
   "execution_count": null,
   "id": "aa466c15-b643-4c30-8f32-5cfdd301e693",
   "metadata": {},
   "outputs": [],
   "source": []
  }
 ],
 "metadata": {
  "kernelspec": {
   "display_name": "Python 3",
   "language": "python",
   "name": "python3"
  },
  "language_info": {
   "codemirror_mode": {
    "name": "ipython",
    "version": 3
   },
   "file_extension": ".py",
   "mimetype": "text/x-python",
   "name": "python",
   "nbconvert_exporter": "python",
   "pygments_lexer": "ipython3",
   "version": "3.8.8"
  }
 },
 "nbformat": 4,
 "nbformat_minor": 5
}
