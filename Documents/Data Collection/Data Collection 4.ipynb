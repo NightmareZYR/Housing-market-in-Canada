{
 "cells": [
  {
   "cell_type": "markdown",
   "id": "d85269a3-4157-499b-8a9e-3a160e00254d",
   "metadata": {},
   "source": [
    "## I will collect all the houses which drop a price in last 6 month"
   ]
  },
  {
   "cell_type": "code",
   "execution_count": 1,
   "id": "90401345-d71d-40f0-aae5-df01aee2f97c",
   "metadata": {},
   "outputs": [],
   "source": [
    "# Import requests\n",
    "import requests\n",
    "from bs4 import BeautifulSoup\n",
    "import pandas as pd"
   ]
  },
  {
   "cell_type": "markdown",
   "id": "0c7e298e-4021-4230-92a8-3b476e63d352",
   "metadata": {},
   "source": [
    "### NS"
   ]
  },
  {
   "cell_type": "code",
   "execution_count": 2,
   "id": "3f5b7ab5-999a-49f9-813b-3b3e259c1b7e",
   "metadata": {},
   "outputs": [
    {
     "name": "stdout",
     "output_type": "stream",
     "text": [
      "https://www.point2homes.com/CA/Real-Estate-Maps.html?location=Nova+Scotia&PropertyType=House&search_mode=location&CheckboxPriceDrop=on&page=2&SelectedView=map_view&LocationGeoId=205403&viewport=-67.21871554643741%2C42.95585923041173%2C-58.88009249956241%2C47.442429466642906&zoom=7&location_changed=&ajax=1\n"
     ]
    }
   ],
   "source": [
    "for i in range(1,3):\n",
    "    url='https://www.point2homes.com/CA/Real-Estate-Maps.html?location=Nova+Scotia&PropertyType=House&search_mode=location&CheckboxPriceDrop=on&page=' + str(i) + '&SelectedView=map_view&LocationGeoId=205403&viewport=-67.21871554643741%2C42.95585923041173%2C-58.88009249956241%2C47.442429466642906&zoom=7&location_changed=&ajax=1'\n",
    "    \n",
    "print(url)"
   ]
  },
  {
   "cell_type": "code",
   "execution_count": 4,
   "id": "c83c5b1c-52ef-42ea-b698-9521cb28d9ef",
   "metadata": {},
   "outputs": [],
   "source": [
    "data = {}\n",
    "soups = {}\n",
    "tables_NS = []\n",
    "# Create a df to store info\n",
    "Point2_data = pd.DataFrame(columns=['Beds','Bath','Sqft','Lot_Size','Type','Price','Address'])\n",
    "for i in range(1,3):\n",
    "    url='https://www.point2homes.com/CA/Real-Estate-Maps.html?location=Nova+Scotia&PropertyType=House&search_mode=location&CheckboxPriceDrop=on&page=' + str(i) + '&SelectedView=map_view&LocationGeoId=205403&viewport=-67.21871554643741%2C42.95585923041173%2C-58.88009249956241%2C47.442429466642906&zoom=7&location_changed=&ajax=1'\n",
    "    data = requests.get(url).text\n",
    "    soup = BeautifulSoup(data, 'html.parser')\n",
    "    tables_NS.append(soup.find_all(\"div\", class_=\"item-details\"))\n",
    "    \n",
    "    # extract information from each table\n",
    "    for table in (tables_NS[(i-1)]):\n",
    "        if (len(str(table.find_all(\"li\", class_='ic-beds')).split())<3):\n",
    "            Nbed = float(\"NaN\")\n",
    "        else:\n",
    "            Nbed = int(''.join(filter(str.isdigit, str(table.find_all(\"li\", class_='ic-beds')))))\n",
    "        \n",
    "        if (len(str(table.find_all(\"li\", class_='ic-baths')).split())<3):\n",
    "            NBath = float(\"NaN\")\n",
    "        else:\n",
    "            NBath = int(''.join(filter(str.isdigit, str(table.find_all(\"li\", class_='ic-baths')))))\n",
    "        \n",
    "        if (len(str(table.find_all(\"li\", class_='ic-sqft')).split())<3):\n",
    "            NSqft = float(\"NaN\")\n",
    "        else:\n",
    "            NSqft = int(''.join(filter(str.isdigit, str(table.find_all(\"li\", class_='ic-sqft')))))\n",
    "    \n",
    "        if (len(str(table.find_all(\"li\", class_='ic-lotsize')).split())<4):\n",
    "            NLot_Size = float(\"NaN\")\n",
    "        else:\n",
    "            NLot_Size = str(table.find_all(\"li\", class_='ic-lotsize')).split()[4][-4:]\n",
    "        \n",
    "        if (len(str(table.find_all(\"li\", class_='ic-proptype')).split())<3):\n",
    "            NType = float(\"NaN\")\n",
    "        else:\n",
    "            NType = str(table.find_all(\"li\", class_='ic-proptype')).split()[3]\n",
    "\n",
    "\n",
    "        NPrice = int(table.find(\"div\", class_='price')['data-price'].replace('$','').replace(',','').replace('CAD',''))\n",
    "        NAddress = table.find(\"div\", class_='item-address')['data-address']\n",
    "    # append data into the table \n",
    "        Point2_data = Point2_data.append({'Beds':Nbed,'Bath':NBath,'Sqft':NSqft,'Lot_Size':NLot_Size,'Type':NType,'Price':NPrice,'Address':NAddress},ignore_index=True)"
   ]
  },
  {
   "cell_type": "code",
   "execution_count": 5,
   "id": "b6ca5ad9-6a3f-4dec-b23a-20d40e91c3b6",
   "metadata": {},
   "outputs": [
    {
     "data": {
      "text/html": [
       "<div>\n",
       "<style scoped>\n",
       "    .dataframe tbody tr th:only-of-type {\n",
       "        vertical-align: middle;\n",
       "    }\n",
       "\n",
       "    .dataframe tbody tr th {\n",
       "        vertical-align: top;\n",
       "    }\n",
       "\n",
       "    .dataframe thead th {\n",
       "        text-align: right;\n",
       "    }\n",
       "</style>\n",
       "<table border=\"1\" class=\"dataframe\">\n",
       "  <thead>\n",
       "    <tr style=\"text-align: right;\">\n",
       "      <th></th>\n",
       "      <th>Beds</th>\n",
       "      <th>Bath</th>\n",
       "      <th>Sqft</th>\n",
       "      <th>Lot_Size</th>\n",
       "      <th>Type</th>\n",
       "      <th>Price</th>\n",
       "      <th>Address</th>\n",
       "    </tr>\n",
       "  </thead>\n",
       "  <tbody>\n",
       "    <tr>\n",
       "      <th>111</th>\n",
       "      <td>5</td>\n",
       "      <td>1</td>\n",
       "      <td>1796</td>\n",
       "      <td>NaN</td>\n",
       "      <td>Residential</td>\n",
       "      <td>80000</td>\n",
       "      <td>277 Highway 217</td>\n",
       "    </tr>\n",
       "    <tr>\n",
       "      <th>112</th>\n",
       "      <td>3</td>\n",
       "      <td>1</td>\n",
       "      <td>808</td>\n",
       "      <td>.335</td>\n",
       "      <td>Residential</td>\n",
       "      <td>249000</td>\n",
       "      <td>1833 Eastern Shore Road</td>\n",
       "    </tr>\n",
       "    <tr>\n",
       "      <th>113</th>\n",
       "      <td>3</td>\n",
       "      <td>1</td>\n",
       "      <td>2412</td>\n",
       "      <td>NaN</td>\n",
       "      <td>Single</td>\n",
       "      <td>349000</td>\n",
       "      <td>62 Smith Road</td>\n",
       "    </tr>\n",
       "    <tr>\n",
       "      <th>114</th>\n",
       "      <td>3</td>\n",
       "      <td>2</td>\n",
       "      <td>1908</td>\n",
       "      <td>2.97</td>\n",
       "      <td>Residential</td>\n",
       "      <td>149000</td>\n",
       "      <td>3501 Hwy 3</td>\n",
       "    </tr>\n",
       "    <tr>\n",
       "      <th>115</th>\n",
       "      <td>3</td>\n",
       "      <td>1</td>\n",
       "      <td>1263</td>\n",
       "      <td>.247</td>\n",
       "      <td>Residential</td>\n",
       "      <td>82500</td>\n",
       "      <td>139 Payzant Street</td>\n",
       "    </tr>\n",
       "  </tbody>\n",
       "</table>\n",
       "</div>"
      ],
      "text/plain": [
       "    Beds Bath  Sqft Lot_Size         Type   Price                   Address\n",
       "111    5    1  1796      NaN  Residential   80000          277 Highway 217 \n",
       "112    3    1   808     .335  Residential  249000  1833 Eastern Shore Road \n",
       "113    3    1  2412      NaN       Single  349000            62 Smith Road \n",
       "114    3    2  1908     2.97  Residential  149000               3501 Hwy 3 \n",
       "115    3    1  1263     .247  Residential   82500       139 Payzant Street "
      ]
     },
     "execution_count": 5,
     "metadata": {},
     "output_type": "execute_result"
    }
   ],
   "source": [
    "Point2_data.tail()"
   ]
  },
  {
   "cell_type": "code",
   "execution_count": 6,
   "id": "8d544711-7d0d-4437-812c-2b1a959e718c",
   "metadata": {},
   "outputs": [
    {
     "name": "stdout",
     "output_type": "stream",
     "text": [
      "Beds column has 0 NaNs\n",
      "Bath column has 0 NaNs\n",
      "Sqft column has 2 NaNs\n",
      "Lot_Size column has 97 NaNs\n",
      "Type column has 0 NaNs\n",
      "Price column has 0 NaNs\n",
      "Address column has 0 NaNs\n"
     ]
    }
   ],
   "source": [
    "for column in Point2_data:\n",
    "    print(str(column) + ' column has '+ str(Point2_data[column].isnull().sum()) + ' NaNs')"
   ]
  },
  {
   "cell_type": "code",
   "execution_count": 7,
   "id": "272024df-2449-46ac-8552-d0264d134eec",
   "metadata": {},
   "outputs": [],
   "source": [
    "Point2_data.to_csv('Point2_data_NS_Drop_price_house.csv',index=False)"
   ]
  },
  {
   "cell_type": "markdown",
   "id": "bac4869c-731a-44c6-b0b2-d6894d791bb8",
   "metadata": {},
   "source": [
    "### PEI"
   ]
  },
  {
   "cell_type": "code",
   "execution_count": 8,
   "id": "18dd0e35-6d70-446b-b7de-e9b5d28dc72e",
   "metadata": {},
   "outputs": [
    {
     "name": "stdout",
     "output_type": "stream",
     "text": [
      "https://www.point2homes.com/CA/Real-Estate-Maps.html?location=Prince+Edward+Island&PropertyType=House&search_mode=location&CheckboxPriceDrop=on&page=1&SelectedView=map_view&LocationGeoId=205408&viewport=-65.28516031571866%2C45.3536041179178%2C-61.115848792281156%2C47.548272840428936&zoom=8&location_changed=&ajax=1\n"
     ]
    }
   ],
   "source": [
    "for i in range(1,2):\n",
    "    url='https://www.point2homes.com/CA/Real-Estate-Maps.html?location=Prince+Edward+Island&PropertyType=House&search_mode=location&CheckboxPriceDrop=on&page=' + str(i) + '&SelectedView=map_view&LocationGeoId=205408&viewport=-65.28516031571866%2C45.3536041179178%2C-61.115848792281156%2C47.548272840428936&zoom=8&location_changed=&ajax=1'\n",
    "    \n",
    "print(url)"
   ]
  },
  {
   "cell_type": "code",
   "execution_count": 9,
   "id": "66f893cf-270a-4ad3-ac29-739aaf342dda",
   "metadata": {},
   "outputs": [],
   "source": [
    "data = {}\n",
    "soups = {}\n",
    "tables_NS = []\n",
    "# Create a df to store info\n",
    "Point2_data = pd.DataFrame(columns=['Beds','Bath','Sqft','Lot_Size','Type','Price','Address'])\n",
    "for i in range(1,2):\n",
    "    url='https://www.point2homes.com/CA/Real-Estate-Maps.html?location=Prince+Edward+Island&PropertyType=House&search_mode=location&CheckboxPriceDrop=on&page=' + str(i) + '&SelectedView=map_view&LocationGeoId=205408&viewport=-65.28516031571866%2C45.3536041179178%2C-61.115848792281156%2C47.548272840428936&zoom=8&location_changed=&ajax=1'\n",
    "    data = requests.get(url).text\n",
    "    soup = BeautifulSoup(data, 'html.parser')\n",
    "    tables_NS.append(soup.find_all(\"div\", class_=\"item-details\"))\n",
    "    \n",
    "    # extract information from each table\n",
    "    for table in (tables_NS[(i-1)]):\n",
    "        if (len(str(table.find_all(\"li\", class_='ic-beds')).split())<3):\n",
    "            Nbed = float(\"NaN\")\n",
    "        else:\n",
    "            Nbed = int(''.join(filter(str.isdigit, str(table.find_all(\"li\", class_='ic-beds')))))\n",
    "        \n",
    "        if (len(str(table.find_all(\"li\", class_='ic-baths')).split())<3):\n",
    "            NBath = float(\"NaN\")\n",
    "        else:\n",
    "            NBath = int(''.join(filter(str.isdigit, str(table.find_all(\"li\", class_='ic-baths')))))\n",
    "        \n",
    "        if (len(str(table.find_all(\"li\", class_='ic-sqft')).split())<3):\n",
    "            NSqft = float(\"NaN\")\n",
    "        else:\n",
    "            NSqft = int(''.join(filter(str.isdigit, str(table.find_all(\"li\", class_='ic-sqft')))))\n",
    "    \n",
    "        if (len(str(table.find_all(\"li\", class_='ic-lotsize')).split())<4):\n",
    "            NLot_Size = float(\"NaN\")\n",
    "        else:\n",
    "            NLot_Size = str(table.find_all(\"li\", class_='ic-lotsize')).split()[4][-4:]\n",
    "        \n",
    "        if (len(str(table.find_all(\"li\", class_='ic-proptype')).split())<3):\n",
    "            NType = float(\"NaN\")\n",
    "        else:\n",
    "            NType = str(table.find_all(\"li\", class_='ic-proptype')).split()[3]\n",
    "\n",
    "\n",
    "        NPrice = int(table.find(\"div\", class_='price')['data-price'].replace('$','').replace(',','').replace('CAD',''))\n",
    "        NAddress = table.find(\"div\", class_='item-address')['data-address']\n",
    "    # append data into the table \n",
    "        Point2_data = Point2_data.append({'Beds':Nbed,'Bath':NBath,'Sqft':NSqft,'Lot_Size':NLot_Size,'Type':NType,'Price':NPrice,'Address':NAddress},ignore_index=True)"
   ]
  },
  {
   "cell_type": "code",
   "execution_count": 10,
   "id": "732a58c6-0691-4ca4-8b80-f1e7146aba5f",
   "metadata": {},
   "outputs": [
    {
     "data": {
      "text/html": [
       "<div>\n",
       "<style scoped>\n",
       "    .dataframe tbody tr th:only-of-type {\n",
       "        vertical-align: middle;\n",
       "    }\n",
       "\n",
       "    .dataframe tbody tr th {\n",
       "        vertical-align: top;\n",
       "    }\n",
       "\n",
       "    .dataframe thead th {\n",
       "        text-align: right;\n",
       "    }\n",
       "</style>\n",
       "<table border=\"1\" class=\"dataframe\">\n",
       "  <thead>\n",
       "    <tr style=\"text-align: right;\">\n",
       "      <th></th>\n",
       "      <th>Beds</th>\n",
       "      <th>Bath</th>\n",
       "      <th>Sqft</th>\n",
       "      <th>Lot_Size</th>\n",
       "      <th>Type</th>\n",
       "      <th>Price</th>\n",
       "      <th>Address</th>\n",
       "    </tr>\n",
       "  </thead>\n",
       "  <tbody>\n",
       "    <tr>\n",
       "      <th>16</th>\n",
       "      <td>2</td>\n",
       "      <td>1</td>\n",
       "      <td>900</td>\n",
       "      <td>NaN</td>\n",
       "      <td>Single</td>\n",
       "      <td>329000</td>\n",
       "      <td>55 Garwalt Lane</td>\n",
       "    </tr>\n",
       "    <tr>\n",
       "      <th>17</th>\n",
       "      <td>3</td>\n",
       "      <td>2</td>\n",
       "      <td>1786</td>\n",
       "      <td>NaN</td>\n",
       "      <td>Single</td>\n",
       "      <td>175000</td>\n",
       "      <td>480 Abney Road</td>\n",
       "    </tr>\n",
       "    <tr>\n",
       "      <th>18</th>\n",
       "      <td>3</td>\n",
       "      <td>1</td>\n",
       "      <td>1155</td>\n",
       "      <td>NaN</td>\n",
       "      <td>Single</td>\n",
       "      <td>247900</td>\n",
       "      <td>4131 RTE 17</td>\n",
       "    </tr>\n",
       "    <tr>\n",
       "      <th>19</th>\n",
       "      <td>4</td>\n",
       "      <td>2</td>\n",
       "      <td>2320</td>\n",
       "      <td>&gt;0.3</td>\n",
       "      <td>Residential</td>\n",
       "      <td>399900</td>\n",
       "      <td>100 Scott Street</td>\n",
       "    </tr>\n",
       "    <tr>\n",
       "      <th>20</th>\n",
       "      <td>4</td>\n",
       "      <td>2</td>\n",
       "      <td>NaN</td>\n",
       "      <td>10.5</td>\n",
       "      <td>Residential</td>\n",
       "      <td>329000</td>\n",
       "      <td>2084 Valleyfield Rd</td>\n",
       "    </tr>\n",
       "  </tbody>\n",
       "</table>\n",
       "</div>"
      ],
      "text/plain": [
       "   Beds Bath  Sqft Lot_Size         Type   Price               Address\n",
       "16    2    1   900      NaN       Single  329000      55 Garwalt Lane \n",
       "17    3    2  1786      NaN       Single  175000       480 Abney Road \n",
       "18    3    1  1155      NaN       Single  247900          4131 RTE 17 \n",
       "19    4    2  2320     >0.3  Residential  399900     100 Scott Street \n",
       "20    4    2   NaN     10.5  Residential  329000  2084 Valleyfield Rd "
      ]
     },
     "execution_count": 10,
     "metadata": {},
     "output_type": "execute_result"
    }
   ],
   "source": [
    "Point2_data.tail()"
   ]
  },
  {
   "cell_type": "code",
   "execution_count": 11,
   "id": "1254b8c5-afc3-4127-9934-68515b4a56f4",
   "metadata": {},
   "outputs": [
    {
     "name": "stdout",
     "output_type": "stream",
     "text": [
      "Beds column has 1 NaNs\n",
      "Bath column has 2 NaNs\n",
      "Sqft column has 4 NaNs\n",
      "Lot_Size column has 11 NaNs\n",
      "Type column has 0 NaNs\n",
      "Price column has 0 NaNs\n",
      "Address column has 0 NaNs\n"
     ]
    }
   ],
   "source": [
    "for column in Point2_data:\n",
    "    print(str(column) + ' column has '+ str(Point2_data[column].isnull().sum()) + ' NaNs')"
   ]
  },
  {
   "cell_type": "code",
   "execution_count": 12,
   "id": "75561f37-a240-4b86-b43f-fc868aeb4e47",
   "metadata": {},
   "outputs": [],
   "source": [
    "Point2_data.to_csv('Point2_data_PE_Drop_price_house.csv',index=False)"
   ]
  },
  {
   "cell_type": "markdown",
   "id": "a7778581-8ca6-4e0f-a31f-890d365dffa6",
   "metadata": {},
   "source": [
    "### NB"
   ]
  },
  {
   "cell_type": "code",
   "execution_count": 14,
   "id": "c5969367-ceb6-4a20-a032-3f0a8b788167",
   "metadata": {},
   "outputs": [
    {
     "name": "stdout",
     "output_type": "stream",
     "text": [
      "https://www.point2homes.com/CA/Real-Estate-Maps.html?location=New+Brunswick&PropertyType=House&search_mode=location&CheckboxPriceDrop=on&page=2&SelectedView=map_view&LocationGeoId=205405&viewport=-64.16648863085938%2C45.63589148834102%2C-62.08183286914062%2C46.7386887414935&zoom=9&location_changed=true&ajax=1\n"
     ]
    }
   ],
   "source": [
    "for i in range(1,3):\n",
    "    url='https://www.point2homes.com/CA/Real-Estate-Maps.html?location=New+Brunswick&PropertyType=House&search_mode=location&CheckboxPriceDrop=on&page=' + str(i) + '&SelectedView=map_view&LocationGeoId=205405&viewport=-64.16648863085938%2C45.63589148834102%2C-62.08183286914062%2C46.7386887414935&zoom=9&location_changed=true&ajax=1'\n",
    "    \n",
    "print(url)"
   ]
  },
  {
   "cell_type": "code",
   "execution_count": 15,
   "id": "2f07c2ed-5302-499a-b0ca-d9c770797209",
   "metadata": {},
   "outputs": [],
   "source": [
    "data = {}\n",
    "soups = {}\n",
    "tables_NS = []\n",
    "# Create a df to store info\n",
    "Point2_data = pd.DataFrame(columns=['Beds','Bath','Sqft','Lot_Size','Type','Price','Address'])\n",
    "for i in range(1,3):\n",
    "    url='https://www.point2homes.com/CA/Real-Estate-Maps.html?location=New+Brunswick&PropertyType=House&search_mode=location&CheckboxPriceDrop=on&page=' + str(i) + '&SelectedView=map_view&LocationGeoId=205405&viewport=-64.16648863085938%2C45.63589148834102%2C-62.08183286914062%2C46.7386887414935&zoom=9&location_changed=true&ajax=1'\n",
    "    data = requests.get(url).text\n",
    "    soup = BeautifulSoup(data, 'html.parser')\n",
    "    tables_NS.append(soup.find_all(\"div\", class_=\"item-details\"))\n",
    "    \n",
    "    # extract information from each table\n",
    "    for table in (tables_NS[(i-1)]):\n",
    "        if (len(str(table.find_all(\"li\", class_='ic-beds')).split())<3):\n",
    "            Nbed = float(\"NaN\")\n",
    "        else:\n",
    "            Nbed = int(''.join(filter(str.isdigit, str(table.find_all(\"li\", class_='ic-beds')))))\n",
    "        \n",
    "        if (len(str(table.find_all(\"li\", class_='ic-baths')).split())<3):\n",
    "            NBath = float(\"NaN\")\n",
    "        else:\n",
    "            NBath = int(''.join(filter(str.isdigit, str(table.find_all(\"li\", class_='ic-baths')))))\n",
    "        \n",
    "        if (len(str(table.find_all(\"li\", class_='ic-sqft')).split())<3):\n",
    "            NSqft = float(\"NaN\")\n",
    "        else:\n",
    "            NSqft = int(''.join(filter(str.isdigit, str(table.find_all(\"li\", class_='ic-sqft')))))\n",
    "    \n",
    "        if (len(str(table.find_all(\"li\", class_='ic-lotsize')).split())<4):\n",
    "            NLot_Size = float(\"NaN\")\n",
    "        else:\n",
    "            NLot_Size = str(table.find_all(\"li\", class_='ic-lotsize')).split()[4][-4:]\n",
    "        \n",
    "        if (len(str(table.find_all(\"li\", class_='ic-proptype')).split())<3):\n",
    "            NType = float(\"NaN\")\n",
    "        else:\n",
    "            NType = str(table.find_all(\"li\", class_='ic-proptype')).split()[3]\n",
    "\n",
    "\n",
    "        NPrice = int(table.find(\"div\", class_='price')['data-price'].replace('$','').replace(',','').replace('CAD',''))\n",
    "        NAddress = table.find(\"div\", class_='item-address')['data-address']\n",
    "    # append data into the table \n",
    "        Point2_data = Point2_data.append({'Beds':Nbed,'Bath':NBath,'Sqft':NSqft,'Lot_Size':NLot_Size,'Type':NType,'Price':NPrice,'Address':NAddress},ignore_index=True)"
   ]
  },
  {
   "cell_type": "code",
   "execution_count": 16,
   "id": "8464c5ac-9ab1-4844-a55e-789705d4adc2",
   "metadata": {},
   "outputs": [
    {
     "data": {
      "text/html": [
       "<div>\n",
       "<style scoped>\n",
       "    .dataframe tbody tr th:only-of-type {\n",
       "        vertical-align: middle;\n",
       "    }\n",
       "\n",
       "    .dataframe tbody tr th {\n",
       "        vertical-align: top;\n",
       "    }\n",
       "\n",
       "    .dataframe thead th {\n",
       "        text-align: right;\n",
       "    }\n",
       "</style>\n",
       "<table border=\"1\" class=\"dataframe\">\n",
       "  <thead>\n",
       "    <tr style=\"text-align: right;\">\n",
       "      <th></th>\n",
       "      <th>Beds</th>\n",
       "      <th>Bath</th>\n",
       "      <th>Sqft</th>\n",
       "      <th>Lot_Size</th>\n",
       "      <th>Type</th>\n",
       "      <th>Price</th>\n",
       "      <th>Address</th>\n",
       "    </tr>\n",
       "  </thead>\n",
       "  <tbody>\n",
       "    <tr>\n",
       "      <th>117</th>\n",
       "      <td>2</td>\n",
       "      <td>1</td>\n",
       "      <td>NaN</td>\n",
       "      <td>NaN</td>\n",
       "      <td>Single</td>\n",
       "      <td>55000</td>\n",
       "      <td>19 Rioux</td>\n",
       "    </tr>\n",
       "    <tr>\n",
       "      <th>118</th>\n",
       "      <td>3</td>\n",
       "      <td>2</td>\n",
       "      <td>NaN</td>\n",
       "      <td>.201</td>\n",
       "      <td>Single</td>\n",
       "      <td>349000</td>\n",
       "      <td>210 Wright Street</td>\n",
       "    </tr>\n",
       "    <tr>\n",
       "      <th>119</th>\n",
       "      <td>1</td>\n",
       "      <td>NaN</td>\n",
       "      <td>NaN</td>\n",
       "      <td>1.71</td>\n",
       "      <td>Single</td>\n",
       "      <td>39900</td>\n",
       "      <td>Lot 93-2 Pokiok Settlement Road</td>\n",
       "    </tr>\n",
       "    <tr>\n",
       "      <th>120</th>\n",
       "      <td>2</td>\n",
       "      <td>1</td>\n",
       "      <td>NaN</td>\n",
       "      <td>3.22</td>\n",
       "      <td>Single</td>\n",
       "      <td>79000</td>\n",
       "      <td>848 Boul St Joseph</td>\n",
       "    </tr>\n",
       "    <tr>\n",
       "      <th>121</th>\n",
       "      <td>3</td>\n",
       "      <td>1</td>\n",
       "      <td>1125</td>\n",
       "      <td>NaN</td>\n",
       "      <td>Single</td>\n",
       "      <td>129900</td>\n",
       "      <td>59 Schooner Cove Road</td>\n",
       "    </tr>\n",
       "  </tbody>\n",
       "</table>\n",
       "</div>"
      ],
      "text/plain": [
       "    Beds Bath  Sqft Lot_Size    Type   Price                           Address\n",
       "117    2    1   NaN      NaN  Single   55000                         19 Rioux \n",
       "118    3    2   NaN     .201  Single  349000                210 Wright Street \n",
       "119    1  NaN   NaN     1.71  Single   39900  Lot 93-2 Pokiok Settlement Road \n",
       "120    2    1   NaN     3.22  Single   79000               848 Boul St Joseph \n",
       "121    3    1  1125      NaN  Single  129900            59 Schooner Cove Road "
      ]
     },
     "execution_count": 16,
     "metadata": {},
     "output_type": "execute_result"
    }
   ],
   "source": [
    "Point2_data.tail()"
   ]
  },
  {
   "cell_type": "code",
   "execution_count": 17,
   "id": "79d0ef2a-e22b-4c1c-b9a9-38c35cf34a1d",
   "metadata": {},
   "outputs": [
    {
     "name": "stdout",
     "output_type": "stream",
     "text": [
      "Beds column has 7 NaNs\n",
      "Bath column has 8 NaNs\n",
      "Sqft column has 54 NaNs\n",
      "Lot_Size column has 66 NaNs\n",
      "Type column has 0 NaNs\n",
      "Price column has 0 NaNs\n",
      "Address column has 0 NaNs\n"
     ]
    }
   ],
   "source": [
    "for column in Point2_data:\n",
    "    print(str(column) + ' column has '+ str(Point2_data[column].isnull().sum()) + ' NaNs')"
   ]
  },
  {
   "cell_type": "code",
   "execution_count": 18,
   "id": "c31fe8fd-60bf-4f12-93a0-e0de49a95d21",
   "metadata": {},
   "outputs": [],
   "source": [
    "Point2_data.to_csv('Point2_data_NB_Drop_price_house.csv',index=False)"
   ]
  },
  {
   "cell_type": "markdown",
   "id": "a9adf5ac-484d-4d64-88ff-28db4c39dc94",
   "metadata": {},
   "source": [
    "### NL"
   ]
  },
  {
   "cell_type": "code",
   "execution_count": 19,
   "id": "3df49a7f-8575-428f-8a16-2fd28c8a156c",
   "metadata": {},
   "outputs": [
    {
     "name": "stdout",
     "output_type": "stream",
     "text": [
      "https://www.point2homes.com/CA/Real-Estate-Maps.html?location=Newfoundland+and+Labrador&PropertyType=House&search_mode=location&CheckboxPriceDrop=on&page=2&SelectedView=map_view&LocationGeoId=205409&viewport=-70.5033065889374%2C44.07796464156973%2C-62.164683542062406%2C48.47860930093096&zoom=7&location_changed=true&ajax=1\n"
     ]
    }
   ],
   "source": [
    "for i in range(1,3):\n",
    "    url='https://www.point2homes.com/CA/Real-Estate-Maps.html?location=Newfoundland+and+Labrador&PropertyType=House&search_mode=location&CheckboxPriceDrop=on&page=' + str(i) + '&SelectedView=map_view&LocationGeoId=205409&viewport=-70.5033065889374%2C44.07796464156973%2C-62.164683542062406%2C48.47860930093096&zoom=7&location_changed=true&ajax=1'\n",
    "    \n",
    "print(url)"
   ]
  },
  {
   "cell_type": "code",
   "execution_count": 20,
   "id": "bebb1706-e294-455d-beb3-d17b6255707f",
   "metadata": {},
   "outputs": [],
   "source": [
    "data = {}\n",
    "soups = {}\n",
    "tables_NS = []\n",
    "# Create a df to store info\n",
    "Point2_data = pd.DataFrame(columns=['Beds','Bath','Sqft','Lot_Size','Type','Price','Address'])\n",
    "for i in range(1,3):\n",
    "    url='https://www.point2homes.com/CA/Real-Estate-Maps.html?location=Newfoundland+and+Labrador&PropertyType=House&search_mode=location&CheckboxPriceDrop=on&page=' + str(i) + '&SelectedView=map_view&LocationGeoId=205409&viewport=-70.5033065889374%2C44.07796464156973%2C-62.164683542062406%2C48.47860930093096&zoom=7&location_changed=true&ajax=1'\n",
    "    data = requests.get(url).text\n",
    "    soup = BeautifulSoup(data, 'html.parser')\n",
    "    tables_NS.append(soup.find_all(\"div\", class_=\"item-details\"))\n",
    "    \n",
    "    # extract information from each table\n",
    "    for table in (tables_NS[(i-1)]):\n",
    "        if (len(str(table.find_all(\"li\", class_='ic-beds')).split())<3):\n",
    "            Nbed = float(\"NaN\")\n",
    "        else:\n",
    "            Nbed = int(''.join(filter(str.isdigit, str(table.find_all(\"li\", class_='ic-beds')))))\n",
    "        \n",
    "        if (len(str(table.find_all(\"li\", class_='ic-baths')).split())<3):\n",
    "            NBath = float(\"NaN\")\n",
    "        else:\n",
    "            NBath = int(''.join(filter(str.isdigit, str(table.find_all(\"li\", class_='ic-baths')))))\n",
    "        \n",
    "        if (len(str(table.find_all(\"li\", class_='ic-sqft')).split())<3):\n",
    "            NSqft = float(\"NaN\")\n",
    "        else:\n",
    "            NSqft = int(''.join(filter(str.isdigit, str(table.find_all(\"li\", class_='ic-sqft')))))\n",
    "    \n",
    "        if (len(str(table.find_all(\"li\", class_='ic-lotsize')).split())<4):\n",
    "            NLot_Size = float(\"NaN\")\n",
    "        else:\n",
    "            NLot_Size = str(table.find_all(\"li\", class_='ic-lotsize')).split()[4][-4:]\n",
    "        \n",
    "        if (len(str(table.find_all(\"li\", class_='ic-proptype')).split())<3):\n",
    "            NType = float(\"NaN\")\n",
    "        else:\n",
    "            NType = str(table.find_all(\"li\", class_='ic-proptype')).split()[3]\n",
    "\n",
    "\n",
    "        NPrice = int(table.find(\"div\", class_='price')['data-price'].replace('$','').replace(',','').replace('CAD',''))\n",
    "        NAddress = table.find(\"div\", class_='item-address')['data-address']\n",
    "    # append data into the table \n",
    "        Point2_data = Point2_data.append({'Beds':Nbed,'Bath':NBath,'Sqft':NSqft,'Lot_Size':NLot_Size,'Type':NType,'Price':NPrice,'Address':NAddress},ignore_index=True)"
   ]
  },
  {
   "cell_type": "code",
   "execution_count": 21,
   "id": "1c559f63-fe8b-4562-9131-1eb65c9968e1",
   "metadata": {},
   "outputs": [
    {
     "data": {
      "text/html": [
       "<div>\n",
       "<style scoped>\n",
       "    .dataframe tbody tr th:only-of-type {\n",
       "        vertical-align: middle;\n",
       "    }\n",
       "\n",
       "    .dataframe tbody tr th {\n",
       "        vertical-align: top;\n",
       "    }\n",
       "\n",
       "    .dataframe thead th {\n",
       "        text-align: right;\n",
       "    }\n",
       "</style>\n",
       "<table border=\"1\" class=\"dataframe\">\n",
       "  <thead>\n",
       "    <tr style=\"text-align: right;\">\n",
       "      <th></th>\n",
       "      <th>Beds</th>\n",
       "      <th>Bath</th>\n",
       "      <th>Sqft</th>\n",
       "      <th>Lot_Size</th>\n",
       "      <th>Type</th>\n",
       "      <th>Price</th>\n",
       "      <th>Address</th>\n",
       "    </tr>\n",
       "  </thead>\n",
       "  <tbody>\n",
       "    <tr>\n",
       "      <th>100</th>\n",
       "      <td>4</td>\n",
       "      <td>5</td>\n",
       "      <td>3256</td>\n",
       "      <td>NaN</td>\n",
       "      <td>Single</td>\n",
       "      <td>525000</td>\n",
       "      <td>170 Water Street</td>\n",
       "    </tr>\n",
       "    <tr>\n",
       "      <th>101</th>\n",
       "      <td>3</td>\n",
       "      <td>2</td>\n",
       "      <td>2704</td>\n",
       "      <td>NaN</td>\n",
       "      <td>Residential</td>\n",
       "      <td>99000</td>\n",
       "      <td>21 Park Drive</td>\n",
       "    </tr>\n",
       "    <tr>\n",
       "      <th>102</th>\n",
       "      <td>3</td>\n",
       "      <td>1</td>\n",
       "      <td>798</td>\n",
       "      <td>NaN</td>\n",
       "      <td>Residential</td>\n",
       "      <td>99900</td>\n",
       "      <td>55 Southern Shore Highway</td>\n",
       "    </tr>\n",
       "    <tr>\n",
       "      <th>103</th>\n",
       "      <td>3</td>\n",
       "      <td>1</td>\n",
       "      <td>2200</td>\n",
       "      <td>NaN</td>\n",
       "      <td>Residential</td>\n",
       "      <td>74900</td>\n",
       "      <td>28 Spoon Cove Road</td>\n",
       "    </tr>\n",
       "    <tr>\n",
       "      <th>104</th>\n",
       "      <td>2</td>\n",
       "      <td>1</td>\n",
       "      <td>990</td>\n",
       "      <td>NaN</td>\n",
       "      <td>Residential</td>\n",
       "      <td>69900</td>\n",
       "      <td>731 Main St.</td>\n",
       "    </tr>\n",
       "  </tbody>\n",
       "</table>\n",
       "</div>"
      ],
      "text/plain": [
       "    Beds Bath  Sqft Lot_Size         Type   Price                     Address\n",
       "100    4    5  3256      NaN       Single  525000           170 Water Street \n",
       "101    3    2  2704      NaN  Residential   99000              21 Park Drive \n",
       "102    3    1   798      NaN  Residential   99900  55 Southern Shore Highway \n",
       "103    3    1  2200      NaN  Residential   74900         28 Spoon Cove Road \n",
       "104    2    1   990      NaN  Residential   69900               731 Main St. "
      ]
     },
     "execution_count": 21,
     "metadata": {},
     "output_type": "execute_result"
    }
   ],
   "source": [
    "Point2_data.tail()"
   ]
  },
  {
   "cell_type": "code",
   "execution_count": 22,
   "id": "3b65b158-cb78-4aab-ab88-2602882c95a1",
   "metadata": {},
   "outputs": [
    {
     "name": "stdout",
     "output_type": "stream",
     "text": [
      "Beds column has 3 NaNs\n",
      "Bath column has 2 NaNs\n",
      "Sqft column has 1 NaNs\n",
      "Lot_Size column has 101 NaNs\n",
      "Type column has 0 NaNs\n",
      "Price column has 0 NaNs\n",
      "Address column has 0 NaNs\n"
     ]
    }
   ],
   "source": [
    "for column in Point2_data:\n",
    "    print(str(column) + ' column has '+ str(Point2_data[column].isnull().sum()) + ' NaNs')"
   ]
  },
  {
   "cell_type": "code",
   "execution_count": 23,
   "id": "b6f6c5ce-52d1-4035-b1dd-94da52bc7b25",
   "metadata": {},
   "outputs": [],
   "source": [
    "Point2_data.to_csv('Point2_data_NL_Drop_price_house.csv',index=False)"
   ]
  },
  {
   "cell_type": "markdown",
   "id": "587b7bbe-1251-4129-a4fd-b8346de195dc",
   "metadata": {},
   "source": [
    "### QC"
   ]
  },
  {
   "cell_type": "code",
   "execution_count": 8,
   "id": "500189fd-e169-4d2e-b5d4-7f65af3987f8",
   "metadata": {},
   "outputs": [
    {
     "name": "stdout",
     "output_type": "stream",
     "text": [
      "https://www.point2homes.com/CA/Real-Estate-Maps.html?location=Prince+Edward+Island&PropertyType=House&search_mode=location&CheckboxPriceDrop=on&page=1&SelectedView=map_view&LocationGeoId=205408&viewport=-65.28516031571866%2C45.3536041179178%2C-61.115848792281156%2C47.548272840428936&zoom=8&location_changed=&ajax=1\n"
     ]
    }
   ],
   "source": [
    "for i in range(1,2):\n",
    "    url='https://www.point2homes.com/CA/Real-Estate-Maps.html?location=Quebec&PropertyType=House&search_mode=location&CheckboxPriceDrop=on&page=' + str(i) + '&SelectedView=map_view&LocationGeoId=205402&viewport=-76.87923664874991%2C45.21138652572289%2C-43.52474446124991%2C60.41271904743517&zoom=5&location_changed=true&ajax=1'\n",
    "    \n",
    "print(url)"
   ]
  },
  {
   "cell_type": "code",
   "execution_count": 24,
   "id": "3d88d827-5b66-4148-9aca-7e2ba28d0b01",
   "metadata": {},
   "outputs": [],
   "source": [
    "data = {}\n",
    "soups = {}\n",
    "tables_NS = []\n",
    "# Create a df to store info\n",
    "Point2_data = pd.DataFrame(columns=['Beds','Bath','Sqft','Lot_Size','Type','Price','Address'])\n",
    "for i in range(1,2):\n",
    "    url='https://www.point2homes.com/CA/Real-Estate-Maps.html?location=Quebec&PropertyType=House&search_mode=location&CheckboxPriceDrop=on&page=' + str(i) + '&SelectedView=map_view&LocationGeoId=205402&viewport=-76.87923664874991%2C45.21138652572289%2C-43.52474446124991%2C60.41271904743517&zoom=5&location_changed=true&ajax=1'\n",
    "    data = requests.get(url).text\n",
    "    soup = BeautifulSoup(data, 'html.parser')\n",
    "    tables_NS.append(soup.find_all(\"div\", class_=\"item-details\"))\n",
    "    \n",
    "    # extract information from each table\n",
    "    for table in (tables_NS[(i-1)]):\n",
    "        if (len(str(table.find_all(\"li\", class_='ic-beds')).split())<3):\n",
    "            Nbed = float(\"NaN\")\n",
    "        else:\n",
    "            Nbed = int(''.join(filter(str.isdigit, str(table.find_all(\"li\", class_='ic-beds')))))\n",
    "        \n",
    "        if (len(str(table.find_all(\"li\", class_='ic-baths')).split())<3):\n",
    "            NBath = float(\"NaN\")\n",
    "        else:\n",
    "            NBath = int(''.join(filter(str.isdigit, str(table.find_all(\"li\", class_='ic-baths')))))\n",
    "        \n",
    "        if (len(str(table.find_all(\"li\", class_='ic-sqft')).split())<3):\n",
    "            NSqft = float(\"NaN\")\n",
    "        else:\n",
    "            NSqft = int(''.join(filter(str.isdigit, str(table.find_all(\"li\", class_='ic-sqft')))))\n",
    "    \n",
    "        if (len(str(table.find_all(\"li\", class_='ic-lotsize')).split())<4):\n",
    "            NLot_Size = float(\"NaN\")\n",
    "        else:\n",
    "            NLot_Size = str(table.find_all(\"li\", class_='ic-lotsize')).split()[4][-4:]\n",
    "        \n",
    "        if (len(str(table.find_all(\"li\", class_='ic-proptype')).split())<3):\n",
    "            NType = float(\"NaN\")\n",
    "        else:\n",
    "            NType = str(table.find_all(\"li\", class_='ic-proptype')).split()[3]\n",
    "\n",
    "\n",
    "        NPrice = int(table.find(\"div\", class_='price')['data-price'].replace('$','').replace(',','').replace('CAD',''))\n",
    "        NAddress = table.find(\"div\", class_='item-address')['data-address']\n",
    "    # append data into the table \n",
    "        Point2_data = Point2_data.append({'Beds':Nbed,'Bath':NBath,'Sqft':NSqft,'Lot_Size':NLot_Size,'Type':NType,'Price':NPrice,'Address':NAddress},ignore_index=True)"
   ]
  },
  {
   "cell_type": "code",
   "execution_count": 25,
   "id": "5c9f7f24-83cd-48b4-8730-b5d8bf47c799",
   "metadata": {},
   "outputs": [
    {
     "data": {
      "text/html": [
       "<div>\n",
       "<style scoped>\n",
       "    .dataframe tbody tr th:only-of-type {\n",
       "        vertical-align: middle;\n",
       "    }\n",
       "\n",
       "    .dataframe tbody tr th {\n",
       "        vertical-align: top;\n",
       "    }\n",
       "\n",
       "    .dataframe thead th {\n",
       "        text-align: right;\n",
       "    }\n",
       "</style>\n",
       "<table border=\"1\" class=\"dataframe\">\n",
       "  <thead>\n",
       "    <tr style=\"text-align: right;\">\n",
       "      <th></th>\n",
       "      <th>Beds</th>\n",
       "      <th>Bath</th>\n",
       "      <th>Sqft</th>\n",
       "      <th>Lot_Size</th>\n",
       "      <th>Type</th>\n",
       "      <th>Price</th>\n",
       "      <th>Address</th>\n",
       "    </tr>\n",
       "  </thead>\n",
       "  <tbody>\n",
       "    <tr>\n",
       "      <th>49</th>\n",
       "      <td>3</td>\n",
       "      <td>2</td>\n",
       "      <td>266504</td>\n",
       "      <td>.553</td>\n",
       "      <td>Residential</td>\n",
       "      <td>585000</td>\n",
       "      <td>1989 Ch. du Lac-Panneton</td>\n",
       "    </tr>\n",
       "    <tr>\n",
       "      <th>50</th>\n",
       "      <td>NaN</td>\n",
       "      <td>1</td>\n",
       "      <td>NaN</td>\n",
       "      <td>.107</td>\n",
       "      <td>Residential</td>\n",
       "      <td>55000</td>\n",
       "      <td>2261 Ch. du Village</td>\n",
       "    </tr>\n",
       "    <tr>\n",
       "      <th>51</th>\n",
       "      <td>5</td>\n",
       "      <td>2</td>\n",
       "      <td>NaN</td>\n",
       "      <td>.254</td>\n",
       "      <td>Residential</td>\n",
       "      <td>115000</td>\n",
       "      <td>41 Rue des Pins E.</td>\n",
       "    </tr>\n",
       "    <tr>\n",
       "      <th>52</th>\n",
       "      <td>3</td>\n",
       "      <td>2</td>\n",
       "      <td>221209</td>\n",
       "      <td>.143</td>\n",
       "      <td>Residential</td>\n",
       "      <td>395000</td>\n",
       "      <td>4191 Av. Larivière</td>\n",
       "    </tr>\n",
       "    <tr>\n",
       "      <th>53</th>\n",
       "      <td>2</td>\n",
       "      <td>2</td>\n",
       "      <td>448005</td>\n",
       "      <td>.289</td>\n",
       "      <td>Residential</td>\n",
       "      <td>699000</td>\n",
       "      <td>58 Ch. de la Sablière</td>\n",
       "    </tr>\n",
       "  </tbody>\n",
       "</table>\n",
       "</div>"
      ],
      "text/plain": [
       "   Beds Bath    Sqft Lot_Size         Type   Price                    Address\n",
       "49    3    2  266504     .553  Residential  585000  1989 Ch. du Lac-Panneton \n",
       "50  NaN    1     NaN     .107  Residential   55000       2261 Ch. du Village \n",
       "51    5    2     NaN     .254  Residential  115000        41 Rue des Pins E. \n",
       "52    3    2  221209     .143  Residential  395000        4191 Av. Larivière \n",
       "53    2    2  448005     .289  Residential  699000     58 Ch. de la Sablière "
      ]
     },
     "execution_count": 25,
     "metadata": {},
     "output_type": "execute_result"
    }
   ],
   "source": [
    "Point2_data.tail()"
   ]
  },
  {
   "cell_type": "code",
   "execution_count": 26,
   "id": "36b56447-0a14-4939-81c0-187332d8c48f",
   "metadata": {},
   "outputs": [
    {
     "name": "stdout",
     "output_type": "stream",
     "text": [
      "Beds column has 4 NaNs\n",
      "Bath column has 2 NaNs\n",
      "Sqft column has 31 NaNs\n",
      "Lot_Size column has 10 NaNs\n",
      "Type column has 0 NaNs\n",
      "Price column has 0 NaNs\n",
      "Address column has 0 NaNs\n"
     ]
    }
   ],
   "source": [
    "for column in Point2_data:\n",
    "    print(str(column) + ' column has '+ str(Point2_data[column].isnull().sum()) + ' NaNs')"
   ]
  },
  {
   "cell_type": "code",
   "execution_count": 27,
   "id": "5e03ca76-17ba-47d9-8b39-90075cd46c80",
   "metadata": {},
   "outputs": [],
   "source": [
    "Point2_data.to_csv('Point2_data_QC_Drop_price_house.csv',index=False)"
   ]
  },
  {
   "cell_type": "markdown",
   "id": "9f189e1a-9586-4d81-881a-a4c801f26453",
   "metadata": {},
   "source": [
    "### ON"
   ]
  },
  {
   "cell_type": "code",
   "execution_count": 8,
   "id": "d7ed7306-fd6b-4c6b-a7f2-1aed64bc836e",
   "metadata": {},
   "outputs": [
    {
     "name": "stdout",
     "output_type": "stream",
     "text": [
      "https://www.point2homes.com/CA/Real-Estate-Maps.html?location=Prince+Edward+Island&PropertyType=House&search_mode=location&CheckboxPriceDrop=on&page=1&SelectedView=map_view&LocationGeoId=205408&viewport=-65.28516031571866%2C45.3536041179178%2C-61.115848792281156%2C47.548272840428936&zoom=8&location_changed=&ajax=1\n"
     ]
    }
   ],
   "source": [
    "for i in range(1,5):\n",
    "    url='https://www.point2homes.com/CA/Real-Estate-Maps.html?location=Ontario&PropertyType=House&search_mode=location&CheckboxPriceDrop=on&page=' + str(i) + '&SelectedView=map_view&LocationGeoId=205411&viewport=-101.79430289849988%2C35.94887050929101%2C-35.085318523499886%2C66.33187574642349&zoom=4&location_changed=true&ajax=1'\n",
    "    \n",
    "print(url)"
   ]
  },
  {
   "cell_type": "code",
   "execution_count": 28,
   "id": "3ebdc9b4-ea53-4830-827f-5a74a4c91c7a",
   "metadata": {},
   "outputs": [],
   "source": [
    "data = {}\n",
    "soups = {}\n",
    "tables_NS = []\n",
    "# Create a df to store info\n",
    "Point2_data = pd.DataFrame(columns=['Beds','Bath','Sqft','Lot_Size','Type','Price','Address'])\n",
    "for i in range(1,5):\n",
    "    url='https://www.point2homes.com/CA/Real-Estate-Maps.html?location=Ontario&PropertyType=House&search_mode=location&CheckboxPriceDrop=on&page=' + str(i) + '&SelectedView=map_view&LocationGeoId=205411&viewport=-101.79430289849988%2C35.94887050929101%2C-35.085318523499886%2C66.33187574642349&zoom=4&location_changed=true&ajax=1'\n",
    "    data = requests.get(url).text\n",
    "    soup = BeautifulSoup(data, 'html.parser')\n",
    "    tables_NS.append(soup.find_all(\"div\", class_=\"item-details\"))\n",
    "    \n",
    "    # extract information from each table\n",
    "    for table in (tables_NS[(i-1)]):\n",
    "        if (len(str(table.find_all(\"li\", class_='ic-beds')).split())<3):\n",
    "            Nbed = float(\"NaN\")\n",
    "        else:\n",
    "            Nbed = int(''.join(filter(str.isdigit, str(table.find_all(\"li\", class_='ic-beds')))))\n",
    "        \n",
    "        if (len(str(table.find_all(\"li\", class_='ic-baths')).split())<3):\n",
    "            NBath = float(\"NaN\")\n",
    "        else:\n",
    "            NBath = int(''.join(filter(str.isdigit, str(table.find_all(\"li\", class_='ic-baths')))))\n",
    "        \n",
    "        if (len(str(table.find_all(\"li\", class_='ic-sqft')).split())<3):\n",
    "            NSqft = float(\"NaN\")\n",
    "        else:\n",
    "            NSqft = int(''.join(filter(str.isdigit, str(table.find_all(\"li\", class_='ic-sqft')))))\n",
    "    \n",
    "        if (len(str(table.find_all(\"li\", class_='ic-lotsize')).split())<4):\n",
    "            NLot_Size = float(\"NaN\")\n",
    "        else:\n",
    "            NLot_Size = str(table.find_all(\"li\", class_='ic-lotsize')).split()[4][-4:]\n",
    "        \n",
    "        if (len(str(table.find_all(\"li\", class_='ic-proptype')).split())<3):\n",
    "            NType = float(\"NaN\")\n",
    "        else:\n",
    "            NType = str(table.find_all(\"li\", class_='ic-proptype')).split()[3]\n",
    "\n",
    "\n",
    "        NPrice = int(table.find(\"div\", class_='price')['data-price'].replace('$','').replace(',','').replace('CAD',''))\n",
    "        NAddress = table.find(\"div\", class_='item-address')['data-address']\n",
    "    # append data into the table \n",
    "        Point2_data = Point2_data.append({'Beds':Nbed,'Bath':NBath,'Sqft':NSqft,'Lot_Size':NLot_Size,'Type':NType,'Price':NPrice,'Address':NAddress},ignore_index=True)"
   ]
  },
  {
   "cell_type": "code",
   "execution_count": 29,
   "id": "2f92fc17-5a7f-4fb5-9ed7-5649fe82e6e6",
   "metadata": {},
   "outputs": [
    {
     "data": {
      "text/html": [
       "<div>\n",
       "<style scoped>\n",
       "    .dataframe tbody tr th:only-of-type {\n",
       "        vertical-align: middle;\n",
       "    }\n",
       "\n",
       "    .dataframe tbody tr th {\n",
       "        vertical-align: top;\n",
       "    }\n",
       "\n",
       "    .dataframe thead th {\n",
       "        text-align: right;\n",
       "    }\n",
       "</style>\n",
       "<table border=\"1\" class=\"dataframe\">\n",
       "  <thead>\n",
       "    <tr style=\"text-align: right;\">\n",
       "      <th></th>\n",
       "      <th>Beds</th>\n",
       "      <th>Bath</th>\n",
       "      <th>Sqft</th>\n",
       "      <th>Lot_Size</th>\n",
       "      <th>Type</th>\n",
       "      <th>Price</th>\n",
       "      <th>Address</th>\n",
       "    </tr>\n",
       "  </thead>\n",
       "  <tbody>\n",
       "    <tr>\n",
       "      <th>298</th>\n",
       "      <td>3</td>\n",
       "      <td>5</td>\n",
       "      <td>NaN</td>\n",
       "      <td>NaN</td>\n",
       "      <td>Single</td>\n",
       "      <td>2999000</td>\n",
       "      <td>39 QUARRY Road</td>\n",
       "    </tr>\n",
       "    <tr>\n",
       "      <th>299</th>\n",
       "      <td>2</td>\n",
       "      <td>1</td>\n",
       "      <td>876</td>\n",
       "      <td>NaN</td>\n",
       "      <td>Residential</td>\n",
       "      <td>449000</td>\n",
       "      <td>45 DRUMMOND Street</td>\n",
       "    </tr>\n",
       "    <tr>\n",
       "      <th>300</th>\n",
       "      <td>3</td>\n",
       "      <td>1</td>\n",
       "      <td>NaN</td>\n",
       "      <td>NaN</td>\n",
       "      <td>Single</td>\n",
       "      <td>179000</td>\n",
       "      <td>1 Syenite Street</td>\n",
       "    </tr>\n",
       "    <tr>\n",
       "      <th>301</th>\n",
       "      <td>2</td>\n",
       "      <td>1</td>\n",
       "      <td>NaN</td>\n",
       "      <td>&gt;2.8</td>\n",
       "      <td>Single</td>\n",
       "      <td>549000</td>\n",
       "      <td>1691 A BUCKSHOT LAKE Road</td>\n",
       "    </tr>\n",
       "    <tr>\n",
       "      <th>302</th>\n",
       "      <td>3</td>\n",
       "      <td>3</td>\n",
       "      <td>1800</td>\n",
       "      <td>NaN</td>\n",
       "      <td>Residential</td>\n",
       "      <td>849900</td>\n",
       "      <td>87 Prior Lane</td>\n",
       "    </tr>\n",
       "  </tbody>\n",
       "</table>\n",
       "</div>"
      ],
      "text/plain": [
       "    Beds Bath  Sqft Lot_Size         Type    Price                     Address\n",
       "298    3    5   NaN      NaN       Single  2999000             39 QUARRY Road \n",
       "299    2    1   876      NaN  Residential   449000         45 DRUMMOND Street \n",
       "300    3    1   NaN      NaN       Single   179000           1 Syenite Street \n",
       "301    2    1   NaN     >2.8       Single   549000  1691 A BUCKSHOT LAKE Road \n",
       "302    3    3  1800      NaN  Residential   849900              87 Prior Lane "
      ]
     },
     "execution_count": 29,
     "metadata": {},
     "output_type": "execute_result"
    }
   ],
   "source": [
    "Point2_data.tail()"
   ]
  },
  {
   "cell_type": "code",
   "execution_count": 30,
   "id": "02779aba-c79d-4772-867c-18bc9bb88c9b",
   "metadata": {},
   "outputs": [
    {
     "name": "stdout",
     "output_type": "stream",
     "text": [
      "Beds column has 17 NaNs\n",
      "Bath column has 17 NaNs\n",
      "Sqft column has 275 NaNs\n",
      "Lot_Size column has 218 NaNs\n",
      "Type column has 0 NaNs\n",
      "Price column has 0 NaNs\n",
      "Address column has 0 NaNs\n"
     ]
    }
   ],
   "source": [
    "for column in Point2_data:\n",
    "    print(str(column) + ' column has '+ str(Point2_data[column].isnull().sum()) + ' NaNs')"
   ]
  },
  {
   "cell_type": "code",
   "execution_count": 31,
   "id": "4df401df-4180-439f-a7f9-18abe392329c",
   "metadata": {},
   "outputs": [],
   "source": [
    "Point2_data.to_csv('Point2_data_ON_Drop_price_house.csv',index=False)"
   ]
  },
  {
   "cell_type": "markdown",
   "id": "7d592541-9e6f-4f53-ba75-2a3210f58853",
   "metadata": {},
   "source": [
    "### MB"
   ]
  },
  {
   "cell_type": "code",
   "execution_count": 32,
   "id": "1061e8a4-6bd3-475e-89df-9ffc96965bf8",
   "metadata": {},
   "outputs": [
    {
     "name": "stdout",
     "output_type": "stream",
     "text": [
      "https://www.point2homes.com/CA/Real-Estate-Maps.html?location=Manitoba&PropertyType=House&search_mode=location&CheckboxPriceDrop=on&page=1&SelectedView=map_view&LocationGeoId=205406&viewport=-101.4154375022499%2C40.24621161991605%2C-68.0609453147499%2C56.897161419930484&zoom=5&location_changed=true&ajax=1\n"
     ]
    }
   ],
   "source": [
    "for i in range(1,2):\n",
    "    url='https://www.point2homes.com/CA/Real-Estate-Maps.html?location=Manitoba&PropertyType=House&search_mode=location&CheckboxPriceDrop=on&page=' + str(i) + '&SelectedView=map_view&LocationGeoId=205406&viewport=-101.4154375022499%2C40.24621161991605%2C-68.0609453147499%2C56.897161419930484&zoom=5&location_changed=true&ajax=1'\n",
    "    \n",
    "print(url)"
   ]
  },
  {
   "cell_type": "code",
   "execution_count": 33,
   "id": "b7c371f3-f1e2-4ce0-beb5-4357e76afde9",
   "metadata": {},
   "outputs": [],
   "source": [
    "data = {}\n",
    "soups = {}\n",
    "tables_NS = []\n",
    "# Create a df to store info\n",
    "Point2_data = pd.DataFrame(columns=['Beds','Bath','Sqft','Lot_Size','Type','Price','Address'])\n",
    "for i in range(1,2):\n",
    "    url='https://www.point2homes.com/CA/Real-Estate-Maps.html?location=Manitoba&PropertyType=House&search_mode=location&CheckboxPriceDrop=on&page=' + str(i) + '&SelectedView=map_view&LocationGeoId=205406&viewport=-101.4154375022499%2C40.24621161991605%2C-68.0609453147499%2C56.897161419930484&zoom=5&location_changed=true&ajax=1'\n",
    "    data = requests.get(url).text\n",
    "    soup = BeautifulSoup(data, 'html.parser')\n",
    "    tables_NS.append(soup.find_all(\"div\", class_=\"item-details\"))\n",
    "    \n",
    "    # extract information from each table\n",
    "    for table in (tables_NS[(i-1)]):\n",
    "        if (len(str(table.find_all(\"li\", class_='ic-beds')).split())<3):\n",
    "            Nbed = float(\"NaN\")\n",
    "        else:\n",
    "            Nbed = int(''.join(filter(str.isdigit, str(table.find_all(\"li\", class_='ic-beds')))))\n",
    "        \n",
    "        if (len(str(table.find_all(\"li\", class_='ic-baths')).split())<3):\n",
    "            NBath = float(\"NaN\")\n",
    "        else:\n",
    "            NBath = int(''.join(filter(str.isdigit, str(table.find_all(\"li\", class_='ic-baths')))))\n",
    "        \n",
    "        if (len(str(table.find_all(\"li\", class_='ic-sqft')).split())<3):\n",
    "            NSqft = float(\"NaN\")\n",
    "        else:\n",
    "            NSqft = int(''.join(filter(str.isdigit, str(table.find_all(\"li\", class_='ic-sqft')))))\n",
    "    \n",
    "        if (len(str(table.find_all(\"li\", class_='ic-lotsize')).split())<4):\n",
    "            NLot_Size = float(\"NaN\")\n",
    "        else:\n",
    "            NLot_Size = str(table.find_all(\"li\", class_='ic-lotsize')).split()[4][-4:]\n",
    "        \n",
    "        if (len(str(table.find_all(\"li\", class_='ic-proptype')).split())<3):\n",
    "            NType = float(\"NaN\")\n",
    "        else:\n",
    "            NType = str(table.find_all(\"li\", class_='ic-proptype')).split()[3]\n",
    "\n",
    "\n",
    "        NPrice = int(table.find(\"div\", class_='price')['data-price'].replace('$','').replace(',','').replace('CAD',''))\n",
    "        NAddress = table.find(\"div\", class_='item-address')['data-address']\n",
    "    # append data into the table \n",
    "        Point2_data = Point2_data.append({'Beds':Nbed,'Bath':NBath,'Sqft':NSqft,'Lot_Size':NLot_Size,'Type':NType,'Price':NPrice,'Address':NAddress},ignore_index=True)"
   ]
  },
  {
   "cell_type": "code",
   "execution_count": 34,
   "id": "b7d1cf53-ae6f-4f18-ac43-aaf4ba3f83e6",
   "metadata": {},
   "outputs": [
    {
     "data": {
      "text/html": [
       "<div>\n",
       "<style scoped>\n",
       "    .dataframe tbody tr th:only-of-type {\n",
       "        vertical-align: middle;\n",
       "    }\n",
       "\n",
       "    .dataframe tbody tr th {\n",
       "        vertical-align: top;\n",
       "    }\n",
       "\n",
       "    .dataframe thead th {\n",
       "        text-align: right;\n",
       "    }\n",
       "</style>\n",
       "<table border=\"1\" class=\"dataframe\">\n",
       "  <thead>\n",
       "    <tr style=\"text-align: right;\">\n",
       "      <th></th>\n",
       "      <th>Beds</th>\n",
       "      <th>Bath</th>\n",
       "      <th>Sqft</th>\n",
       "      <th>Lot_Size</th>\n",
       "      <th>Type</th>\n",
       "      <th>Price</th>\n",
       "      <th>Address</th>\n",
       "    </tr>\n",
       "  </thead>\n",
       "  <tbody>\n",
       "    <tr>\n",
       "      <th>27</th>\n",
       "      <td>3</td>\n",
       "      <td>2</td>\n",
       "      <td>1740</td>\n",
       "      <td>NaN</td>\n",
       "      <td>Single</td>\n",
       "      <td>299900</td>\n",
       "      <td>75 Hespeler Avenue</td>\n",
       "    </tr>\n",
       "    <tr>\n",
       "      <th>28</th>\n",
       "      <td>2</td>\n",
       "      <td>1</td>\n",
       "      <td>1057</td>\n",
       "      <td>NaN</td>\n",
       "      <td>Single</td>\n",
       "      <td>98000</td>\n",
       "      <td>204 MCMILLAN Street W</td>\n",
       "    </tr>\n",
       "    <tr>\n",
       "      <th>29</th>\n",
       "      <td>4</td>\n",
       "      <td>2</td>\n",
       "      <td>1980</td>\n",
       "      <td>ng&gt;5</td>\n",
       "      <td>Single</td>\n",
       "      <td>199000</td>\n",
       "      <td>61 Kemnay Woods Lane</td>\n",
       "    </tr>\n",
       "    <tr>\n",
       "      <th>30</th>\n",
       "      <td>4</td>\n",
       "      <td>2</td>\n",
       "      <td>1424</td>\n",
       "      <td>NaN</td>\n",
       "      <td>Single</td>\n",
       "      <td>210000</td>\n",
       "      <td>581 Furby Street</td>\n",
       "    </tr>\n",
       "    <tr>\n",
       "      <th>31</th>\n",
       "      <td>2</td>\n",
       "      <td>1</td>\n",
       "      <td>520</td>\n",
       "      <td>NaN</td>\n",
       "      <td>Single</td>\n",
       "      <td>89900</td>\n",
       "      <td>131 Lisgar Avenue</td>\n",
       "    </tr>\n",
       "  </tbody>\n",
       "</table>\n",
       "</div>"
      ],
      "text/plain": [
       "   Beds Bath  Sqft Lot_Size    Type   Price                 Address\n",
       "27    3    2  1740      NaN  Single  299900     75 Hespeler Avenue \n",
       "28    2    1  1057      NaN  Single   98000  204 MCMILLAN Street W \n",
       "29    4    2  1980     ng>5  Single  199000   61 Kemnay Woods Lane \n",
       "30    4    2  1424      NaN  Single  210000       581 Furby Street \n",
       "31    2    1   520      NaN  Single   89900      131 Lisgar Avenue "
      ]
     },
     "execution_count": 34,
     "metadata": {},
     "output_type": "execute_result"
    }
   ],
   "source": [
    "Point2_data.tail()"
   ]
  },
  {
   "cell_type": "code",
   "execution_count": 35,
   "id": "68646d6b-e628-46d5-9c53-39ad621ac2e7",
   "metadata": {},
   "outputs": [
    {
     "name": "stdout",
     "output_type": "stream",
     "text": [
      "Beds column has 0 NaNs\n",
      "Bath column has 0 NaNs\n",
      "Sqft column has 1 NaNs\n",
      "Lot_Size column has 27 NaNs\n",
      "Type column has 0 NaNs\n",
      "Price column has 0 NaNs\n",
      "Address column has 0 NaNs\n"
     ]
    }
   ],
   "source": [
    "for column in Point2_data:\n",
    "    print(str(column) + ' column has '+ str(Point2_data[column].isnull().sum()) + ' NaNs')"
   ]
  },
  {
   "cell_type": "code",
   "execution_count": 36,
   "id": "a5c7df57-ce55-46a9-b9fd-583b5db83565",
   "metadata": {},
   "outputs": [],
   "source": [
    "Point2_data.to_csv('Point2_data_MB_Drop_price_house.csv',index=False)"
   ]
  },
  {
   "cell_type": "markdown",
   "id": "2c0a5a0f-86b8-43c1-aa51-5dd67f181745",
   "metadata": {},
   "source": [
    "### SK"
   ]
  },
  {
   "cell_type": "code",
   "execution_count": 37,
   "id": "e4f22cae-303a-4dba-a56c-35da7a5e7810",
   "metadata": {},
   "outputs": [
    {
     "name": "stdout",
     "output_type": "stream",
     "text": [
      "https://www.point2homes.com/CA/Real-Estate-Maps.html?location=Saskatchewan&PropertyType=House&search_mode=location&CheckboxPriceDrop=on&page=2&SelectedView=map_view&viewport=-122.36227689375%2C46.412863051296306%2C-89.00778470625%2C61.25279862198592&zoom=5&location_changed=true&ajax=1\n"
     ]
    }
   ],
   "source": [
    "for i in range(1,3):\n",
    "    url='https://www.point2homes.com/CA/Real-Estate-Maps.html?location=Saskatchewan&PropertyType=House&search_mode=location&CheckboxPriceDrop=on&page=' + str(i) + '&SelectedView=map_view&viewport=-122.36227689375%2C46.412863051296306%2C-89.00778470625%2C61.25279862198592&zoom=5&location_changed=true&ajax=1'\n",
    "    \n",
    "print(url)"
   ]
  },
  {
   "cell_type": "code",
   "execution_count": 38,
   "id": "139b5af2-0f76-4924-80c0-b7f5f86362ef",
   "metadata": {},
   "outputs": [],
   "source": [
    "data = {}\n",
    "soups = {}\n",
    "tables_NS = []\n",
    "# Create a df to store info\n",
    "Point2_data = pd.DataFrame(columns=['Beds','Bath','Sqft','Lot_Size','Type','Price','Address'])\n",
    "for i in range(1,3):\n",
    "    url='https://www.point2homes.com/CA/Real-Estate-Maps.html?location=Saskatchewan&PropertyType=House&search_mode=location&CheckboxPriceDrop=on&page=' + str(i) + '&SelectedView=map_view&viewport=-122.36227689375%2C46.412863051296306%2C-89.00778470625%2C61.25279862198592&zoom=5&location_changed=true&ajax=1'\n",
    "    data = requests.get(url).text\n",
    "    soup = BeautifulSoup(data, 'html.parser')\n",
    "    tables_NS.append(soup.find_all(\"div\", class_=\"item-details\"))\n",
    "    \n",
    "    # extract information from each table\n",
    "    for table in (tables_NS[(i-1)]):\n",
    "        if (len(str(table.find_all(\"li\", class_='ic-beds')).split())<3):\n",
    "            Nbed = float(\"NaN\")\n",
    "        else:\n",
    "            Nbed = int(''.join(filter(str.isdigit, str(table.find_all(\"li\", class_='ic-beds')))))\n",
    "        \n",
    "        if (len(str(table.find_all(\"li\", class_='ic-baths')).split())<3):\n",
    "            NBath = float(\"NaN\")\n",
    "        else:\n",
    "            NBath = int(''.join(filter(str.isdigit, str(table.find_all(\"li\", class_='ic-baths')))))\n",
    "        \n",
    "        if (len(str(table.find_all(\"li\", class_='ic-sqft')).split())<3):\n",
    "            NSqft = float(\"NaN\")\n",
    "        else:\n",
    "            NSqft = int(''.join(filter(str.isdigit, str(table.find_all(\"li\", class_='ic-sqft')))))\n",
    "    \n",
    "        if (len(str(table.find_all(\"li\", class_='ic-lotsize')).split())<4):\n",
    "            NLot_Size = float(\"NaN\")\n",
    "        else:\n",
    "            NLot_Size = str(table.find_all(\"li\", class_='ic-lotsize')).split()[4][-4:]\n",
    "        \n",
    "        if (len(str(table.find_all(\"li\", class_='ic-proptype')).split())<3):\n",
    "            NType = float(\"NaN\")\n",
    "        else:\n",
    "            NType = str(table.find_all(\"li\", class_='ic-proptype')).split()[3]\n",
    "\n",
    "\n",
    "        NPrice = int(table.find(\"div\", class_='price')['data-price'].replace('$','').replace(',','').replace('CAD',''))\n",
    "        NAddress = table.find(\"div\", class_='item-address')['data-address']\n",
    "    # append data into the table \n",
    "        Point2_data = Point2_data.append({'Beds':Nbed,'Bath':NBath,'Sqft':NSqft,'Lot_Size':NLot_Size,'Type':NType,'Price':NPrice,'Address':NAddress},ignore_index=True)"
   ]
  },
  {
   "cell_type": "code",
   "execution_count": 39,
   "id": "42cef4cd-5084-44af-8cce-3ea18e04ece0",
   "metadata": {},
   "outputs": [
    {
     "data": {
      "text/html": [
       "<div>\n",
       "<style scoped>\n",
       "    .dataframe tbody tr th:only-of-type {\n",
       "        vertical-align: middle;\n",
       "    }\n",
       "\n",
       "    .dataframe tbody tr th {\n",
       "        vertical-align: top;\n",
       "    }\n",
       "\n",
       "    .dataframe thead th {\n",
       "        text-align: right;\n",
       "    }\n",
       "</style>\n",
       "<table border=\"1\" class=\"dataframe\">\n",
       "  <thead>\n",
       "    <tr style=\"text-align: right;\">\n",
       "      <th></th>\n",
       "      <th>Beds</th>\n",
       "      <th>Bath</th>\n",
       "      <th>Sqft</th>\n",
       "      <th>Lot_Size</th>\n",
       "      <th>Type</th>\n",
       "      <th>Price</th>\n",
       "      <th>Address</th>\n",
       "    </tr>\n",
       "  </thead>\n",
       "  <tbody>\n",
       "    <tr>\n",
       "      <th>192</th>\n",
       "      <td>4</td>\n",
       "      <td>2</td>\n",
       "      <td>936</td>\n",
       "      <td>.344</td>\n",
       "      <td>Residential</td>\n",
       "      <td>155000</td>\n",
       "      <td>123 4th STREET W</td>\n",
       "    </tr>\n",
       "    <tr>\n",
       "      <th>193</th>\n",
       "      <td>3</td>\n",
       "      <td>1</td>\n",
       "      <td>734</td>\n",
       "      <td>NaN</td>\n",
       "      <td>Residential</td>\n",
       "      <td>29500</td>\n",
       "      <td>306 Dunning STREET</td>\n",
       "    </tr>\n",
       "    <tr>\n",
       "      <th>194</th>\n",
       "      <td>3</td>\n",
       "      <td>3</td>\n",
       "      <td>1170</td>\n",
       "      <td>NaN</td>\n",
       "      <td>Residential</td>\n",
       "      <td>325000</td>\n",
       "      <td>13 Ling STREET</td>\n",
       "    </tr>\n",
       "    <tr>\n",
       "      <th>195</th>\n",
       "      <td>2</td>\n",
       "      <td>1</td>\n",
       "      <td>1044</td>\n",
       "      <td>.183</td>\n",
       "      <td>Single</td>\n",
       "      <td>95000</td>\n",
       "      <td>5620 49 Avenue</td>\n",
       "    </tr>\n",
       "    <tr>\n",
       "      <th>196</th>\n",
       "      <td>4</td>\n",
       "      <td>1</td>\n",
       "      <td>1032</td>\n",
       "      <td>.321</td>\n",
       "      <td>Residential</td>\n",
       "      <td>89900</td>\n",
       "      <td>509 4th AVENUE</td>\n",
       "    </tr>\n",
       "  </tbody>\n",
       "</table>\n",
       "</div>"
      ],
      "text/plain": [
       "    Beds Bath  Sqft Lot_Size         Type   Price              Address\n",
       "192    4    2   936     .344  Residential  155000    123 4th STREET W \n",
       "193    3    1   734      NaN  Residential   29500  306 Dunning STREET \n",
       "194    3    3  1170      NaN  Residential  325000      13 Ling STREET \n",
       "195    2    1  1044     .183       Single   95000      5620 49 Avenue \n",
       "196    4    1  1032     .321  Residential   89900      509 4th AVENUE "
      ]
     },
     "execution_count": 39,
     "metadata": {},
     "output_type": "execute_result"
    }
   ],
   "source": [
    "Point2_data.tail()"
   ]
  },
  {
   "cell_type": "code",
   "execution_count": 40,
   "id": "2db5a47b-0b7e-49e3-9572-730c04c2c945",
   "metadata": {},
   "outputs": [
    {
     "name": "stdout",
     "output_type": "stream",
     "text": [
      "Beds column has 3 NaNs\n",
      "Bath column has 4 NaNs\n",
      "Sqft column has 2 NaNs\n",
      "Lot_Size column has 46 NaNs\n",
      "Type column has 0 NaNs\n",
      "Price column has 0 NaNs\n",
      "Address column has 0 NaNs\n"
     ]
    }
   ],
   "source": [
    "for column in Point2_data:\n",
    "    print(str(column) + ' column has '+ str(Point2_data[column].isnull().sum()) + ' NaNs')"
   ]
  },
  {
   "cell_type": "code",
   "execution_count": 41,
   "id": "8ad7ec66-87e8-4158-a80f-5d5a8de58daf",
   "metadata": {},
   "outputs": [],
   "source": [
    "Point2_data.to_csv('Point2_data_SK_Drop_price_house.csv',index=False)"
   ]
  },
  {
   "cell_type": "markdown",
   "id": "84a606ba-cfab-4231-86c5-d927e05edce9",
   "metadata": {},
   "source": [
    "### AB"
   ]
  },
  {
   "cell_type": "code",
   "execution_count": 42,
   "id": "ed51e3f7-3822-4b1d-98da-9fce2963acb2",
   "metadata": {},
   "outputs": [
    {
     "name": "stdout",
     "output_type": "stream",
     "text": [
      "https://www.point2homes.com/CA/Real-Estate-Maps.html?location=AB&PropertyType=House&search_mode=location&CheckboxPriceDrop=on&page=3&SelectedView=map_view&viewport=-122.36227689375%2C46.412863051296306%2C-89.00778470625%2C61.25279862198592&zoom=5&location_changed=true&ajax=1\n"
     ]
    }
   ],
   "source": [
    "for i in range(1,4):\n",
    "    url='https://www.point2homes.com/CA/Real-Estate-Maps.html?location=AB&PropertyType=House&search_mode=location&CheckboxPriceDrop=on&page=' + str(i) + '&SelectedView=map_view&viewport=-122.36227689375%2C46.412863051296306%2C-89.00778470625%2C61.25279862198592&zoom=5&location_changed=true&ajax=1'\n",
    "    \n",
    "print(url)"
   ]
  },
  {
   "cell_type": "code",
   "execution_count": 43,
   "id": "7d5c76e7-715d-4208-b944-1e7c7935b184",
   "metadata": {},
   "outputs": [],
   "source": [
    "data = {}\n",
    "soups = {}\n",
    "tables_NS = []\n",
    "# Create a df to store info\n",
    "Point2_data = pd.DataFrame(columns=['Beds','Bath','Sqft','Lot_Size','Type','Price','Address'])\n",
    "for i in range(1,4):\n",
    "    url='https://www.point2homes.com/CA/Real-Estate-Maps.html?location=AB&PropertyType=House&search_mode=location&CheckboxPriceDrop=on&page=' + str(i) + '&SelectedView=map_view&viewport=-122.36227689375%2C46.412863051296306%2C-89.00778470625%2C61.25279862198592&zoom=5&location_changed=true&ajax=1'\n",
    "    data = requests.get(url).text\n",
    "    soup = BeautifulSoup(data, 'html.parser')\n",
    "    tables_NS.append(soup.find_all(\"div\", class_=\"item-details\"))\n",
    "    \n",
    "    # extract information from each table\n",
    "    for table in (tables_NS[(i-1)]):\n",
    "        if (len(str(table.find_all(\"li\", class_='ic-beds')).split())<3):\n",
    "            Nbed = float(\"NaN\")\n",
    "        else:\n",
    "            Nbed = int(''.join(filter(str.isdigit, str(table.find_all(\"li\", class_='ic-beds')))))\n",
    "        \n",
    "        if (len(str(table.find_all(\"li\", class_='ic-baths')).split())<3):\n",
    "            NBath = float(\"NaN\")\n",
    "        else:\n",
    "            NBath = int(''.join(filter(str.isdigit, str(table.find_all(\"li\", class_='ic-baths')))))\n",
    "        \n",
    "        if (len(str(table.find_all(\"li\", class_='ic-sqft')).split())<3):\n",
    "            NSqft = float(\"NaN\")\n",
    "        else:\n",
    "            NSqft = int(''.join(filter(str.isdigit, str(table.find_all(\"li\", class_='ic-sqft')))))\n",
    "    \n",
    "        if (len(str(table.find_all(\"li\", class_='ic-lotsize')).split())<4):\n",
    "            NLot_Size = float(\"NaN\")\n",
    "        else:\n",
    "            NLot_Size = str(table.find_all(\"li\", class_='ic-lotsize')).split()[4][-4:]\n",
    "        \n",
    "        if (len(str(table.find_all(\"li\", class_='ic-proptype')).split())<3):\n",
    "            NType = float(\"NaN\")\n",
    "        else:\n",
    "            NType = str(table.find_all(\"li\", class_='ic-proptype')).split()[3]\n",
    "\n",
    "\n",
    "        NPrice = int(table.find(\"div\", class_='price')['data-price'].replace('$','').replace(',','').replace('CAD',''))\n",
    "        NAddress = table.find(\"div\", class_='item-address')['data-address']\n",
    "    # append data into the table \n",
    "        Point2_data = Point2_data.append({'Beds':Nbed,'Bath':NBath,'Sqft':NSqft,'Lot_Size':NLot_Size,'Type':NType,'Price':NPrice,'Address':NAddress},ignore_index=True)"
   ]
  },
  {
   "cell_type": "code",
   "execution_count": 44,
   "id": "b1951b30-584d-4541-8d81-c027a2d3501e",
   "metadata": {},
   "outputs": [
    {
     "data": {
      "text/html": [
       "<div>\n",
       "<style scoped>\n",
       "    .dataframe tbody tr th:only-of-type {\n",
       "        vertical-align: middle;\n",
       "    }\n",
       "\n",
       "    .dataframe tbody tr th {\n",
       "        vertical-align: top;\n",
       "    }\n",
       "\n",
       "    .dataframe thead th {\n",
       "        text-align: right;\n",
       "    }\n",
       "</style>\n",
       "<table border=\"1\" class=\"dataframe\">\n",
       "  <thead>\n",
       "    <tr style=\"text-align: right;\">\n",
       "      <th></th>\n",
       "      <th>Beds</th>\n",
       "      <th>Bath</th>\n",
       "      <th>Sqft</th>\n",
       "      <th>Lot_Size</th>\n",
       "      <th>Type</th>\n",
       "      <th>Price</th>\n",
       "      <th>Address</th>\n",
       "    </tr>\n",
       "  </thead>\n",
       "  <tbody>\n",
       "    <tr>\n",
       "      <th>197</th>\n",
       "      <td>4</td>\n",
       "      <td>2</td>\n",
       "      <td>1468</td>\n",
       "      <td>9.88</td>\n",
       "      <td>Single</td>\n",
       "      <td>1224900</td>\n",
       "      <td>323023 Range Road 241</td>\n",
       "    </tr>\n",
       "    <tr>\n",
       "      <th>198</th>\n",
       "      <td>3</td>\n",
       "      <td>1</td>\n",
       "      <td>1072</td>\n",
       "      <td>NaN</td>\n",
       "      <td>Single</td>\n",
       "      <td>89900</td>\n",
       "      <td>901 4 Avenue</td>\n",
       "    </tr>\n",
       "    <tr>\n",
       "      <th>199</th>\n",
       "      <td>4</td>\n",
       "      <td>2</td>\n",
       "      <td>1073</td>\n",
       "      <td>9.41</td>\n",
       "      <td>Farm</td>\n",
       "      <td>2400000</td>\n",
       "      <td>28120 Township Road 381A</td>\n",
       "    </tr>\n",
       "    <tr>\n",
       "      <th>200</th>\n",
       "      <td>1</td>\n",
       "      <td>1</td>\n",
       "      <td>500526</td>\n",
       "      <td>NaN</td>\n",
       "      <td>Single</td>\n",
       "      <td>79900</td>\n",
       "      <td>50 ST 4908</td>\n",
       "    </tr>\n",
       "    <tr>\n",
       "      <th>201</th>\n",
       "      <td>4</td>\n",
       "      <td>5</td>\n",
       "      <td>4564</td>\n",
       "      <td>3.26</td>\n",
       "      <td>Single</td>\n",
       "      <td>2000000</td>\n",
       "      <td>7510 4 AVE</td>\n",
       "    </tr>\n",
       "  </tbody>\n",
       "</table>\n",
       "</div>"
      ],
      "text/plain": [
       "    Beds Bath    Sqft Lot_Size    Type    Price                    Address\n",
       "197    4    2    1468     9.88  Single  1224900     323023 Range Road 241 \n",
       "198    3    1    1072      NaN  Single    89900              901 4 Avenue \n",
       "199    4    2    1073     9.41    Farm  2400000  28120 Township Road 381A \n",
       "200    1    1  500526      NaN  Single    79900                 50 ST 4908\n",
       "201    4    5    4564     3.26  Single  2000000                7510 4 AVE "
      ]
     },
     "execution_count": 44,
     "metadata": {},
     "output_type": "execute_result"
    }
   ],
   "source": [
    "Point2_data.tail()"
   ]
  },
  {
   "cell_type": "code",
   "execution_count": 45,
   "id": "9b9545ed-ed64-4aab-9429-e88f2e46c181",
   "metadata": {},
   "outputs": [
    {
     "name": "stdout",
     "output_type": "stream",
     "text": [
      "Beds column has 3 NaNs\n",
      "Bath column has 4 NaNs\n",
      "Sqft column has 3 NaNs\n",
      "Lot_Size column has 51 NaNs\n",
      "Type column has 0 NaNs\n",
      "Price column has 0 NaNs\n",
      "Address column has 0 NaNs\n"
     ]
    }
   ],
   "source": [
    "for column in Point2_data:\n",
    "    print(str(column) + ' column has '+ str(Point2_data[column].isnull().sum()) + ' NaNs')"
   ]
  },
  {
   "cell_type": "code",
   "execution_count": 46,
   "id": "ebab2734-449f-4d08-be75-54f85408032b",
   "metadata": {},
   "outputs": [],
   "source": [
    "Point2_data.to_csv('Point2_data_AB_Drop_price_house.csv',index=False)"
   ]
  },
  {
   "cell_type": "markdown",
   "id": "419ba6d5-c7bf-4a40-b917-e3a6937359ea",
   "metadata": {},
   "source": [
    "### BC"
   ]
  },
  {
   "cell_type": "code",
   "execution_count": 50,
   "id": "d267dda9-61ce-422a-b9b1-05f67c2eb165",
   "metadata": {},
   "outputs": [
    {
     "name": "stdout",
     "output_type": "stream",
     "text": [
      "https://www.point2homes.com/CA/Real-Estate-Maps.html?location=BC&PropertyType=House&search_mode=location&CheckboxPriceDrop=on&page=2&SelectedView=map_view&viewport=-131.67732385475%2C46.41287001707277%2C-98.32283166725%2C61.25280348111731&zoom=5&location_changed=true&ajax=1\n"
     ]
    }
   ],
   "source": [
    "for i in range(1,3):\n",
    "    url='https://www.point2homes.com/CA/Real-Estate-Maps.html?location=BC&PropertyType=House&search_mode=location&CheckboxPriceDrop=on&page=' + str(i) + '&SelectedView=map_view&viewport=-131.67732385475%2C46.41287001707277%2C-98.32283166725%2C61.25280348111731&zoom=5&location_changed=true&ajax=1'\n",
    "    \n",
    "print(url)"
   ]
  },
  {
   "cell_type": "code",
   "execution_count": 52,
   "id": "faef9dd8-14c4-477b-bfe1-9367e79e1978",
   "metadata": {},
   "outputs": [],
   "source": [
    "data = {}\n",
    "soups = {}\n",
    "tables_NS = []\n",
    "# Create a df to store info\n",
    "Point2_data = pd.DataFrame(columns=['Beds','Bath','Sqft','Lot_Size','Type','Price','Address'])\n",
    "for i in range(1,3):\n",
    "    url='https://www.point2homes.com/CA/Real-Estate-Maps.html?location=BC&PropertyType=House&search_mode=location&CheckboxPriceDrop=on&page=' + str(i) + '&SelectedView=map_view&viewport=-131.67732385475%2C46.41287001707277%2C-98.32283166725%2C61.25280348111731&zoom=5&location_changed=true&ajax=1'\n",
    "    data = requests.get(url).text\n",
    "    soup = BeautifulSoup(data, 'html.parser')\n",
    "    tables_NS.append(soup.find_all(\"div\", class_=\"item-details\"))\n",
    "    \n",
    "    # extract information from each table\n",
    "    for table in (tables_NS[(i-1)]):\n",
    "        if (len(str(table.find_all(\"li\", class_='ic-beds')).split())<3):\n",
    "            Nbed = float(\"NaN\")\n",
    "        else:\n",
    "            Nbed = int(''.join(filter(str.isdigit, str(table.find_all(\"li\", class_='ic-beds')))))\n",
    "        \n",
    "        if (len(str(table.find_all(\"li\", class_='ic-baths')).split())<3):\n",
    "            NBath = float(\"NaN\")\n",
    "        else:\n",
    "            NBath = int(''.join(filter(str.isdigit, str(table.find_all(\"li\", class_='ic-baths')))))\n",
    "        \n",
    "        if (len(str(table.find_all(\"li\", class_='ic-sqft')).split())<3):\n",
    "            NSqft = float(\"NaN\")\n",
    "        else:\n",
    "            NSqft = int(''.join(filter(str.isdigit, str(table.find_all(\"li\", class_='ic-sqft')))))\n",
    "    \n",
    "        if (len(str(table.find_all(\"li\", class_='ic-lotsize')).split())<4):\n",
    "            NLot_Size = float(\"NaN\")\n",
    "        else:\n",
    "            NLot_Size = str(table.find_all(\"li\", class_='ic-lotsize')).split()[4][-4:]\n",
    "        \n",
    "        if (len(str(table.find_all(\"li\", class_='ic-proptype')).split())<3):\n",
    "            NType = float(\"NaN\")\n",
    "        else:\n",
    "            NType = str(table.find_all(\"li\", class_='ic-proptype')).split()[3]\n",
    "\n",
    "\n",
    "        NPrice = int(table.find(\"div\", class_='price')['data-price'].replace('$','').replace(',','').replace('CAD',''))\n",
    "        NAddress = table.find(\"div\", class_='item-address')['data-address']\n",
    "    # append data into the table \n",
    "        Point2_data = Point2_data.append({'Beds':Nbed,'Bath':NBath,'Sqft':NSqft,'Lot_Size':NLot_Size,'Type':NType,'Price':NPrice,'Address':NAddress},ignore_index=True)"
   ]
  },
  {
   "cell_type": "code",
   "execution_count": 53,
   "id": "a7b56dc4-0296-456a-b9e7-eb2c6587962f",
   "metadata": {},
   "outputs": [
    {
     "data": {
      "text/html": [
       "<div>\n",
       "<style scoped>\n",
       "    .dataframe tbody tr th:only-of-type {\n",
       "        vertical-align: middle;\n",
       "    }\n",
       "\n",
       "    .dataframe tbody tr th {\n",
       "        vertical-align: top;\n",
       "    }\n",
       "\n",
       "    .dataframe thead th {\n",
       "        text-align: right;\n",
       "    }\n",
       "</style>\n",
       "<table border=\"1\" class=\"dataframe\">\n",
       "  <thead>\n",
       "    <tr style=\"text-align: right;\">\n",
       "      <th></th>\n",
       "      <th>Beds</th>\n",
       "      <th>Bath</th>\n",
       "      <th>Sqft</th>\n",
       "      <th>Lot_Size</th>\n",
       "      <th>Type</th>\n",
       "      <th>Price</th>\n",
       "      <th>Address</th>\n",
       "    </tr>\n",
       "  </thead>\n",
       "  <tbody>\n",
       "    <tr>\n",
       "      <th>167</th>\n",
       "      <td>3</td>\n",
       "      <td>1</td>\n",
       "      <td>1420</td>\n",
       "      <td>&gt;175</td>\n",
       "      <td>Single</td>\n",
       "      <td>575000</td>\n",
       "      <td>8995 LOOS ROAD</td>\n",
       "    </tr>\n",
       "    <tr>\n",
       "      <th>168</th>\n",
       "      <td>5</td>\n",
       "      <td>8</td>\n",
       "      <td>6802</td>\n",
       "      <td>.293</td>\n",
       "      <td>Single</td>\n",
       "      <td>5999000</td>\n",
       "      <td>1507 PINECREST DRIVE</td>\n",
       "    </tr>\n",
       "    <tr>\n",
       "      <th>169</th>\n",
       "      <td>5</td>\n",
       "      <td>10</td>\n",
       "      <td>14956</td>\n",
       "      <td>.016</td>\n",
       "      <td>Single</td>\n",
       "      <td>8999999</td>\n",
       "      <td>133 Ravine Drive,</td>\n",
       "    </tr>\n",
       "    <tr>\n",
       "      <th>170</th>\n",
       "      <td>5</td>\n",
       "      <td>2</td>\n",
       "      <td>1994</td>\n",
       "      <td>.161</td>\n",
       "      <td>Single</td>\n",
       "      <td>198000</td>\n",
       "      <td>264 MURRAY Drive,</td>\n",
       "    </tr>\n",
       "    <tr>\n",
       "      <th>171</th>\n",
       "      <td>3</td>\n",
       "      <td>1</td>\n",
       "      <td>1968</td>\n",
       "      <td>3.31</td>\n",
       "      <td>Residential</td>\n",
       "      <td>899000</td>\n",
       "      <td>6446 Rimer Road</td>\n",
       "    </tr>\n",
       "  </tbody>\n",
       "</table>\n",
       "</div>"
      ],
      "text/plain": [
       "    Beds Bath   Sqft Lot_Size         Type    Price                Address\n",
       "167    3    1   1420     >175       Single   575000        8995 LOOS ROAD \n",
       "168    5    8   6802     .293       Single  5999000  1507 PINECREST DRIVE \n",
       "169    5   10  14956     .016       Single  8999999     133 Ravine Drive, \n",
       "170    5    2   1994     .161       Single   198000     264 MURRAY Drive, \n",
       "171    3    1   1968     3.31  Residential   899000       6446 Rimer Road "
      ]
     },
     "execution_count": 53,
     "metadata": {},
     "output_type": "execute_result"
    }
   ],
   "source": [
    "Point2_data.tail()"
   ]
  },
  {
   "cell_type": "code",
   "execution_count": 54,
   "id": "8ad7940a-55f0-4801-9103-bd202f079cd8",
   "metadata": {},
   "outputs": [
    {
     "name": "stdout",
     "output_type": "stream",
     "text": [
      "Beds column has 6 NaNs\n",
      "Bath column has 8 NaNs\n",
      "Sqft column has 23 NaNs\n",
      "Lot_Size column has 13 NaNs\n",
      "Type column has 0 NaNs\n",
      "Price column has 0 NaNs\n",
      "Address column has 0 NaNs\n"
     ]
    }
   ],
   "source": [
    "for column in Point2_data:\n",
    "    print(str(column) + ' column has '+ str(Point2_data[column].isnull().sum()) + ' NaNs')"
   ]
  },
  {
   "cell_type": "code",
   "execution_count": 55,
   "id": "40527917-8bfb-4ec3-b680-67adfc25d495",
   "metadata": {},
   "outputs": [],
   "source": [
    "Point2_data.to_csv('Point2_data_BC_Drop_price_house.csv',index=False)"
   ]
  },
  {
   "cell_type": "code",
   "execution_count": null,
   "id": "e257ddbb-06f7-4ea4-9e67-cec20783cd9b",
   "metadata": {},
   "outputs": [],
   "source": []
  }
 ],
 "metadata": {
  "kernelspec": {
   "display_name": "Python 3",
   "language": "python",
   "name": "python3"
  },
  "language_info": {
   "codemirror_mode": {
    "name": "ipython",
    "version": 3
   },
   "file_extension": ".py",
   "mimetype": "text/x-python",
   "name": "python",
   "nbconvert_exporter": "python",
   "pygments_lexer": "ipython3",
   "version": "3.8.8"
  }
 },
 "nbformat": 4,
 "nbformat_minor": 5
}
