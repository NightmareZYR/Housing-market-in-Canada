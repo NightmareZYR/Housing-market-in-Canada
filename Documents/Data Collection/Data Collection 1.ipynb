{
 "cells": [
  {
   "cell_type": "code",
   "execution_count": null,
   "id": "4e901917-de4c-43bf-b6c1-2ba844ba2ccb",
   "metadata": {},
   "outputs": [],
   "source": [
    "# Import requests\n",
    "import requests\n",
    "from bs4 import BeautifulSoup\n",
    "import pandas as pd"
   ]
  },
  {
   "cell_type": "markdown",
   "id": "eccc043b-5ee8-4d01-beea-6b7000d83aa3",
   "metadata": {},
   "source": [
    "### Let's collect QC"
   ]
  },
  {
   "cell_type": "code",
   "execution_count": 1,
   "id": "b8ff614d-c312-493e-bc86-c7b2ed9de76c",
   "metadata": {
    "tags": []
   },
   "outputs": [
    {
     "name": "stdout",
     "output_type": "stream",
     "text": [
      "https://www.point2homes.com/CA/Real-Estate-Maps/QC.html?location=Quebec&PropertyType=House&search_mode=location&page=22&SelectedView=map_view&LocationGeoId=205402&viewport=-101.79430289849988%2C35.94887050929101%2C-35.085318523499886%2C66.33187574642349&zoom=4&location_changed=&ajax=1\n"
     ]
    }
   ],
   "source": [
    "for i in range(1,23):\n",
    "    url = 'https://www.point2homes.com/CA/Real-Estate-Maps/QC.html?location=Quebec&PropertyType=House&search_mode=location&page=' + str(i) + '&SelectedView=map_view&LocationGeoId=205402&viewport=-101.79430289849988%2C35.94887050929101%2C-35.085318523499886%2C66.33187574642349&zoom=4&location_changed=&ajax=1'\n",
    "    \n",
    "print(url)"
   ]
  },
  {
   "cell_type": "code",
   "execution_count": 136,
   "id": "66792dbb-a1b8-4a56-b95e-05ec24cac2f5",
   "metadata": {},
   "outputs": [],
   "source": [
    "data = {}\n",
    "soups = {}\n",
    "tables_QC = []\n",
    "# Create a df to store info\n",
    "Point2_data = pd.DataFrame(columns=['Beds','Bath','Sqft','Lot_Size','Type','Price','Address'])\n",
    "for i in range(1,23):\n",
    "    url = 'https://www.point2homes.com/CA/Real-Estate-Maps/QC.html?location=Quebec&PropertyType=House&search_mode=location&page=' + str(i) + '&SelectedView=map_view&LocationGeoId=205402&viewport=-101.79430289849988%2C35.94887050929101%2C-35.085318523499886%2C66.33187574642349&zoom=4&location_changed=&ajax=1'\n",
    "    data = requests.get(url).text\n",
    "    soup = BeautifulSoup(data, 'html.parser')\n",
    "    tables_QC.append(soup.find_all(\"div\", class_=\"item-details\"))\n",
    "    \n",
    "    # extract information from each table\n",
    "    for table in (tables_QC[(i-1)]):\n",
    "        if (len(str(table.find_all(\"li\", class_='ic-beds')).split())<3):\n",
    "            Nbed = float(\"NaN\")\n",
    "        else:\n",
    "            Nbed = int(''.join(filter(str.isdigit, str(table.find_all(\"li\", class_='ic-beds')))))\n",
    "        \n",
    "        if (len(str(table.find_all(\"li\", class_='ic-baths')).split())<3):\n",
    "            NBath = float(\"NaN\")\n",
    "        else:\n",
    "            NBath = int(''.join(filter(str.isdigit, str(table.find_all(\"li\", class_='ic-baths')))))\n",
    "        \n",
    "        if (len(str(table.find_all(\"li\", class_='ic-sqft')).split())<3):\n",
    "            NSqft = float(\"NaN\")\n",
    "        else:\n",
    "            NSqft = int(''.join(filter(str.isdigit, str(table.find_all(\"li\", class_='ic-sqft')))))\n",
    "    \n",
    "        if (len(str(table.find_all(\"li\", class_='ic-lotsize')).split())<4):\n",
    "            NLot_Size = float(\"NaN\")\n",
    "        else:\n",
    "            NLot_Size = str(table.find_all(\"li\", class_='ic-lotsize')).split()[4][-4:]\n",
    "        \n",
    "        if (len(str(table.find_all(\"li\", class_='ic-proptype')).split())<3):\n",
    "            NType = float(\"NaN\")\n",
    "        else:\n",
    "            NType = str(table.find_all(\"li\", class_='ic-proptype')).split()[3]\n",
    "\n",
    "\n",
    "        NPrice = float(table.find(\"div\", class_='price')['data-price'].replace('$','').replace(',','').replace('CAD',''))\n",
    "        NAddress = table.find(\"div\", class_='item-address')['data-address']\n",
    "    # append data into the table \n",
    "        Point2_data = Point2_data.append({'Beds':Nbed,'Bath':NBath,'Sqft':NSqft,'Lot_Size':NLot_Size,'Type':NType,'Price':NPrice,'Address':NAddress},ignore_index=True)"
   ]
  },
  {
   "cell_type": "code",
   "execution_count": 137,
   "id": "4b2485f2-df7b-4ff7-aaaf-1eec6d819057",
   "metadata": {},
   "outputs": [
    {
     "data": {
      "text/html": [
       "<div>\n",
       "<style scoped>\n",
       "    .dataframe tbody tr th:only-of-type {\n",
       "        vertical-align: middle;\n",
       "    }\n",
       "\n",
       "    .dataframe tbody tr th {\n",
       "        vertical-align: top;\n",
       "    }\n",
       "\n",
       "    .dataframe thead th {\n",
       "        text-align: right;\n",
       "    }\n",
       "</style>\n",
       "<table border=\"1\" class=\"dataframe\">\n",
       "  <thead>\n",
       "    <tr style=\"text-align: right;\">\n",
       "      <th></th>\n",
       "      <th>Beds</th>\n",
       "      <th>Bath</th>\n",
       "      <th>Sqft</th>\n",
       "      <th>Lot_Size</th>\n",
       "      <th>Type</th>\n",
       "      <th>Price</th>\n",
       "      <th>Address</th>\n",
       "    </tr>\n",
       "  </thead>\n",
       "  <tbody>\n",
       "    <tr>\n",
       "      <th>2185</th>\n",
       "      <td>2</td>\n",
       "      <td>1</td>\n",
       "      <td>NaN</td>\n",
       "      <td>NaN</td>\n",
       "      <td>Residential</td>\n",
       "      <td>373000.0</td>\n",
       "      <td>Rue des Lys</td>\n",
       "    </tr>\n",
       "    <tr>\n",
       "      <th>2186</th>\n",
       "      <td>4</td>\n",
       "      <td>1</td>\n",
       "      <td>NaN</td>\n",
       "      <td>.609</td>\n",
       "      <td>Farm</td>\n",
       "      <td>900000.0</td>\n",
       "      <td>3225 Boul. du Parc-Industriel</td>\n",
       "    </tr>\n",
       "    <tr>\n",
       "      <th>2187</th>\n",
       "      <td>11</td>\n",
       "      <td>1</td>\n",
       "      <td>NaN</td>\n",
       "      <td>.165</td>\n",
       "      <td>Residential</td>\n",
       "      <td>325000.0</td>\n",
       "      <td>259 Rue Roy S.</td>\n",
       "    </tr>\n",
       "    <tr>\n",
       "      <th>2188</th>\n",
       "      <td>2</td>\n",
       "      <td>3</td>\n",
       "      <td>2374.0</td>\n",
       "      <td>NaN</td>\n",
       "      <td>Residential</td>\n",
       "      <td>2450000.0</td>\n",
       "      <td>175 Rue de la Montagne #1401</td>\n",
       "    </tr>\n",
       "    <tr>\n",
       "      <th>2189</th>\n",
       "      <td>3</td>\n",
       "      <td>1</td>\n",
       "      <td>NaN</td>\n",
       "      <td>.119</td>\n",
       "      <td>Residential</td>\n",
       "      <td>238500.0</td>\n",
       "      <td>513 Av. du Jade</td>\n",
       "    </tr>\n",
       "  </tbody>\n",
       "</table>\n",
       "</div>"
      ],
      "text/plain": [
       "     Beds Bath    Sqft Lot_Size         Type      Price  \\\n",
       "2185    2    1     NaN      NaN  Residential   373000.0   \n",
       "2186    4    1     NaN     .609         Farm   900000.0   \n",
       "2187   11    1     NaN     .165  Residential   325000.0   \n",
       "2188    2    3  2374.0      NaN  Residential  2450000.0   \n",
       "2189    3    1     NaN     .119  Residential   238500.0   \n",
       "\n",
       "                             Address  \n",
       "2185                    Rue des Lys   \n",
       "2186  3225 Boul. du Parc-Industriel   \n",
       "2187                 259 Rue Roy S.   \n",
       "2188   175 Rue de la Montagne #1401   \n",
       "2189                513 Av. du Jade   "
      ]
     },
     "execution_count": 137,
     "metadata": {},
     "output_type": "execute_result"
    }
   ],
   "source": [
    "Point2_data.tail()"
   ]
  },
  {
   "cell_type": "code",
   "execution_count": 138,
   "id": "d77dd2b6-8fcb-41e7-8887-a1457a8d5f74",
   "metadata": {},
   "outputs": [
    {
     "name": "stdout",
     "output_type": "stream",
     "text": [
      "Beds column has 52 NaNs\n",
      "Bath column has 48 NaNs\n",
      "Sqft column has 1018 NaNs\n",
      "Lot_Size column has 678 NaNs\n",
      "Type column has 0 NaNs\n",
      "Price column has 0 NaNs\n",
      "Address column has 0 NaNs\n"
     ]
    }
   ],
   "source": [
    "for column in Point2_data:\n",
    "    print(str(column) + ' column has '+ str(Point2_data[column].isnull().sum()) + ' NaNs')"
   ]
  },
  {
   "cell_type": "code",
   "execution_count": 139,
   "id": "d3e44c2b-60a4-4c92-b967-6d38f7067ffc",
   "metadata": {},
   "outputs": [],
   "source": [
    "Point2_data.to_csv('Point2_data_QC_house.csv',index=False)"
   ]
  },
  {
   "cell_type": "markdown",
   "id": "7192b85d-ec35-4886-bfe9-ab5af3e5e832",
   "metadata": {},
   "source": [
    "### Let's collect ON"
   ]
  },
  {
   "cell_type": "code",
   "execution_count": 2,
   "id": "7aa08f58-94e7-47f7-9336-1e60f2d3fc54",
   "metadata": {
    "tags": []
   },
   "outputs": [
    {
     "name": "stdout",
     "output_type": "stream",
     "text": [
      "https://www.point2homes.com/CA/Real-Estate-Maps/QC.html?location=Ontario&PropertyType=House&search_mode=location&page=133&SelectedView=map_view&LocationGeoId=205411&viewport=-78.9236472734375%2C44.51897030386173%2C-70.5850242265625%2C48.88543292837821&zoom=7&location_changed=true&ajax=1\n"
     ]
    }
   ],
   "source": [
    "for i in range(1,134):\n",
    "    url = 'https://www.point2homes.com/CA/Real-Estate-Maps/QC.html?location=Ontario&PropertyType=House&search_mode=location&page=' + str(i) + '&SelectedView=map_view&LocationGeoId=205411&viewport=-78.9236472734375%2C44.51897030386173%2C-70.5850242265625%2C48.88543292837821&zoom=7&location_changed=true&ajax=1'\n",
    "print(url)"
   ]
  },
  {
   "cell_type": "markdown",
   "id": "6358c0d6-f6b3-49c8-bf8e-9603330e2284",
   "metadata": {},
   "source": [
    "Only 30 pages can be shown, so we need to collect data in different ranges\n",
    "\n",
    "Let's do price from 0 to 500,000 first. There are 2330 houses"
   ]
  },
  {
   "cell_type": "code",
   "execution_count": 3,
   "id": "c0a748a7-2ef5-4530-9284-879366e7d885",
   "metadata": {
    "tags": []
   },
   "outputs": [
    {
     "name": "stdout",
     "output_type": "stream",
     "text": [
      "https://www.point2homes.com/CA/Real-Estate-Maps.html?location=Ontario&PriceMax=500%2C000&PropertyType=House&search_mode=location&page=24&SelectedView=map_view&LocationGeoId=205411&viewport=-87.829667546875%2C41.24634781205452%2C-71.152421453125%2C50.1219215583777&zoom=6&location_changed=&ajax=1\n"
     ]
    }
   ],
   "source": [
    "for i in range(1,25):\n",
    "    url = 'https://www.point2homes.com/CA/Real-Estate-Maps.html?location=Ontario&PriceMax=500%2C000&PropertyType=House&search_mode=location&page=' + str(i) + '&SelectedView=map_view&LocationGeoId=205411&viewport=-87.829667546875%2C41.24634781205452%2C-71.152421453125%2C50.1219215583777&zoom=6&location_changed=&ajax=1'\n",
    "\n",
    "print(url)"
   ]
  },
  {
   "cell_type": "code",
   "execution_count": 3,
   "id": "354f6e27-a9d3-4dd1-a379-4928d53bab3e",
   "metadata": {},
   "outputs": [],
   "source": [
    "data = {}\n",
    "soups = {}\n",
    "tables_ON = []\n",
    "# Create a df to store info\n",
    "Point2_data = pd.DataFrame(columns=['Beds','Bath','Sqft','Lot_Size','Type','Price','Address'])\n",
    "for i in range(1,25):\n",
    "    url = 'https://www.point2homes.com/CA/Real-Estate-Maps.html?location=Ontario&PriceMax=500%2C000&PropertyType=House&search_mode=location&page=' + str(i) + '&SelectedView=map_view&LocationGeoId=205411&viewport=-87.829667546875%2C41.24634781205452%2C-71.152421453125%2C50.1219215583777&zoom=6&location_changed=&ajax=1'\n",
    "    data = requests.get(url).text\n",
    "    soup = BeautifulSoup(data, 'html.parser')\n",
    "    tables_ON.append(soup.find_all(\"div\", class_=\"item-details\"))\n",
    "    \n",
    "    # extract information from each table\n",
    "    for table in (tables_ON[(i-1)]):\n",
    "        if (len(str(table.find_all(\"li\", class_='ic-beds')).split())<3):\n",
    "            Nbed = float(\"NaN\")\n",
    "        else:\n",
    "            Nbed = int(''.join(filter(str.isdigit, str(table.find_all(\"li\", class_='ic-beds')))))\n",
    "        \n",
    "        if (len(str(table.find_all(\"li\", class_='ic-baths')).split())<3):\n",
    "            NBath = float(\"NaN\")\n",
    "        else:\n",
    "            NBath = int(''.join(filter(str.isdigit, str(table.find_all(\"li\", class_='ic-baths')))))\n",
    "        \n",
    "        if (len(str(table.find_all(\"li\", class_='ic-sqft')).split())<3):\n",
    "            NSqft = float(\"NaN\")\n",
    "        else:\n",
    "            NSqft = int(''.join(filter(str.isdigit, str(table.find_all(\"li\", class_='ic-sqft')))))\n",
    "    \n",
    "        if (len(str(table.find_all(\"li\", class_='ic-lotsize')).split())<4):\n",
    "            NLot_Size = float(\"NaN\")\n",
    "        else:\n",
    "            NLot_Size = str(table.find_all(\"li\", class_='ic-lotsize')).split()[4][-4:]\n",
    "        \n",
    "        if (len(str(table.find_all(\"li\", class_='ic-proptype')).split())<3):\n",
    "            NType = float(\"NaN\")\n",
    "        else:\n",
    "            NType = str(table.find_all(\"li\", class_='ic-proptype')).split()[3]\n",
    "\n",
    "\n",
    "        NPrice = str(table.find(\"div\", class_='price')['data-price'].replace('$','').replace(',',''))\n",
    "        NAddress = table.find(\"div\", class_='item-address')['data-address']\n",
    "    # append data into the table \n",
    "        Point2_data = Point2_data.append({'Beds':Nbed,'Bath':NBath,'Sqft':NSqft,'Lot_Size':NLot_Size,'Type':NType,'Price':NPrice,'Address':NAddress},ignore_index=True)"
   ]
  },
  {
   "cell_type": "code",
   "execution_count": 4,
   "id": "0e0b83a4-e9ca-438b-8603-891c19e67cc3",
   "metadata": {},
   "outputs": [
    {
     "data": {
      "text/html": [
       "<div>\n",
       "<style scoped>\n",
       "    .dataframe tbody tr th:only-of-type {\n",
       "        vertical-align: middle;\n",
       "    }\n",
       "\n",
       "    .dataframe tbody tr th {\n",
       "        vertical-align: top;\n",
       "    }\n",
       "\n",
       "    .dataframe thead th {\n",
       "        text-align: right;\n",
       "    }\n",
       "</style>\n",
       "<table border=\"1\" class=\"dataframe\">\n",
       "  <thead>\n",
       "    <tr style=\"text-align: right;\">\n",
       "      <th></th>\n",
       "      <th>Beds</th>\n",
       "      <th>Bath</th>\n",
       "      <th>Sqft</th>\n",
       "      <th>Lot_Size</th>\n",
       "      <th>Type</th>\n",
       "      <th>Price</th>\n",
       "      <th>Address</th>\n",
       "    </tr>\n",
       "  </thead>\n",
       "  <tbody>\n",
       "    <tr>\n",
       "      <th>2325</th>\n",
       "      <td>2</td>\n",
       "      <td>1</td>\n",
       "      <td>840</td>\n",
       "      <td>NaN</td>\n",
       "      <td>Residential</td>\n",
       "      <td>349900 CAD</td>\n",
       "      <td>76 CHESTNUT Avenue</td>\n",
       "    </tr>\n",
       "    <tr>\n",
       "      <th>2326</th>\n",
       "      <td>2</td>\n",
       "      <td>1</td>\n",
       "      <td>1062</td>\n",
       "      <td>NaN</td>\n",
       "      <td>Residential</td>\n",
       "      <td>499000 CAD</td>\n",
       "      <td>976 County Road 13</td>\n",
       "    </tr>\n",
       "    <tr>\n",
       "      <th>2327</th>\n",
       "      <td>NaN</td>\n",
       "      <td>2</td>\n",
       "      <td>1400</td>\n",
       "      <td>NaN</td>\n",
       "      <td>Residential</td>\n",
       "      <td>399900 CAD</td>\n",
       "      <td>351 Scott St</td>\n",
       "    </tr>\n",
       "    <tr>\n",
       "      <th>2328</th>\n",
       "      <td>2</td>\n",
       "      <td>1</td>\n",
       "      <td>NaN</td>\n",
       "      <td>NaN</td>\n",
       "      <td>Residential</td>\n",
       "      <td>399900 CAD</td>\n",
       "      <td>99 Eagle Avenue</td>\n",
       "    </tr>\n",
       "    <tr>\n",
       "      <th>2329</th>\n",
       "      <td>5</td>\n",
       "      <td>2</td>\n",
       "      <td>1695</td>\n",
       "      <td>NaN</td>\n",
       "      <td>Residential</td>\n",
       "      <td>159900 CAD</td>\n",
       "      <td>610 Duke Street</td>\n",
       "    </tr>\n",
       "  </tbody>\n",
       "</table>\n",
       "</div>"
      ],
      "text/plain": [
       "     Beds Bath  Sqft Lot_Size         Type       Price              Address\n",
       "2325    2    1   840      NaN  Residential  349900 CAD  76 CHESTNUT Avenue \n",
       "2326    2    1  1062      NaN  Residential  499000 CAD  976 County Road 13 \n",
       "2327  NaN    2  1400      NaN  Residential  399900 CAD        351 Scott St \n",
       "2328    2    1   NaN      NaN  Residential  399900 CAD     99 Eagle Avenue \n",
       "2329    5    2  1695      NaN  Residential  159900 CAD     610 Duke Street "
      ]
     },
     "execution_count": 4,
     "metadata": {},
     "output_type": "execute_result"
    }
   ],
   "source": [
    "Point2_data.tail()"
   ]
  },
  {
   "cell_type": "code",
   "execution_count": 5,
   "id": "1e231110-f42b-4226-973b-4885e1457d3e",
   "metadata": {},
   "outputs": [
    {
     "name": "stdout",
     "output_type": "stream",
     "text": [
      "Beds column has 102 NaNs\n",
      "Bath column has 116 NaNs\n",
      "Sqft column has 2121 NaNs\n",
      "Lot_Size column has 2039 NaNs\n",
      "Type column has 0 NaNs\n",
      "Price column has 0 NaNs\n",
      "Address column has 0 NaNs\n"
     ]
    }
   ],
   "source": [
    "for column in Point2_data:\n",
    "    print(str(column) + ' column has '+ str(Point2_data[column].isnull().sum()) + ' NaNs')"
   ]
  },
  {
   "cell_type": "code",
   "execution_count": 6,
   "id": "21fa0c77-50d0-4016-bad0-b150b3988b66",
   "metadata": {},
   "outputs": [],
   "source": [
    "Point2_data.to_csv('Point2_data_ON_house_under500000.csv',index=False)"
   ]
  },
  {
   "cell_type": "markdown",
   "id": "1d218f63-0f72-431c-8f65-100b032da998",
   "metadata": {},
   "source": [
    "#### Let's do price from 500,000 to 700,000. There are 2253 houses"
   ]
  },
  {
   "cell_type": "code",
   "execution_count": 4,
   "id": "d50c194f-be8b-4bd5-b07e-2887747c109b",
   "metadata": {
    "tags": []
   },
   "outputs": [
    {
     "name": "stdout",
     "output_type": "stream",
     "text": [
      "https://www.point2homes.com/CA/Real-Estate-Maps.html?location=Ontario&PriceMin=500%2C000&PriceMax=700%2C000&PropertyType=House&search_mode=location&page=23&SelectedView=map_view&LocationGeoId=205411&viewport=-101.4154375022499%2C40.24621161991605%2C-68.0609453147499%2C56.897161419930484&zoom=5&location_changed=&ajax=1\n"
     ]
    }
   ],
   "source": [
    "for i in range(1,24):\n",
    "    url = 'https://www.point2homes.com/CA/Real-Estate-Maps.html?location=Ontario&PriceMin=500%2C000&PriceMax=700%2C000&PropertyType=House&search_mode=location&page=' + str(i) + '&SelectedView=map_view&LocationGeoId=205411&viewport=-101.4154375022499%2C40.24621161991605%2C-68.0609453147499%2C56.897161419930484&zoom=5&location_changed=&ajax=1'\n",
    "    \n",
    "print(url)"
   ]
  },
  {
   "cell_type": "code",
   "execution_count": 9,
   "id": "c97f8e28-63b1-406b-9704-8d77b67e921c",
   "metadata": {},
   "outputs": [],
   "source": [
    "data = {}\n",
    "soups = {}\n",
    "tables_ON = []\n",
    "# Create a df to store info\n",
    "Point2_data = pd.DataFrame(columns=['Beds','Bath','Sqft','Lot_Size','Type','Price','Address'])\n",
    "for i in range(1,24):\n",
    "    url = 'https://www.point2homes.com/CA/Real-Estate-Maps.html?location=Ontario&PriceMin=500%2C000&PriceMax=700%2C000&PropertyType=House&search_mode=location&page=' + str(i) + '&SelectedView=map_view&LocationGeoId=205411&viewport=-101.4154375022499%2C40.24621161991605%2C-68.0609453147499%2C56.897161419930484&zoom=5&location_changed=&ajax=1'\n",
    "    data = requests.get(url).text\n",
    "    soup = BeautifulSoup(data, 'html.parser')\n",
    "    tables_ON.append(soup.find_all(\"div\", class_=\"item-details\"))\n",
    "    \n",
    "    # extract information from each table\n",
    "    for table in (tables_ON[(i-1)]):\n",
    "        if (len(str(table.find_all(\"li\", class_='ic-beds')).split())<3):\n",
    "            Nbed = float(\"NaN\")\n",
    "        else:\n",
    "            Nbed = int(''.join(filter(str.isdigit, str(table.find_all(\"li\", class_='ic-beds')))))\n",
    "        \n",
    "        if (len(str(table.find_all(\"li\", class_='ic-baths')).split())<3):\n",
    "            NBath = float(\"NaN\")\n",
    "        else:\n",
    "            NBath = int(''.join(filter(str.isdigit, str(table.find_all(\"li\", class_='ic-baths')))))\n",
    "        \n",
    "        if (len(str(table.find_all(\"li\", class_='ic-sqft')).split())<3):\n",
    "            NSqft = float(\"NaN\")\n",
    "        else:\n",
    "            NSqft = int(''.join(filter(str.isdigit, str(table.find_all(\"li\", class_='ic-sqft')))))\n",
    "    \n",
    "        if (len(str(table.find_all(\"li\", class_='ic-lotsize')).split())<4):\n",
    "            NLot_Size = float(\"NaN\")\n",
    "        else:\n",
    "            NLot_Size = str(table.find_all(\"li\", class_='ic-lotsize')).split()[4][-4:]\n",
    "        \n",
    "        if (len(str(table.find_all(\"li\", class_='ic-proptype')).split())<3):\n",
    "            NType = float(\"NaN\")\n",
    "        else:\n",
    "            NType = str(table.find_all(\"li\", class_='ic-proptype')).split()[3]\n",
    "\n",
    "\n",
    "        NPrice = str(table.find(\"div\", class_='price')['data-price'].replace('$','').replace(',',''))\n",
    "        NAddress = table.find(\"div\", class_='item-address')['data-address']\n",
    "    # append data into the table \n",
    "        Point2_data = Point2_data.append({'Beds':Nbed,'Bath':NBath,'Sqft':NSqft,'Lot_Size':NLot_Size,'Type':NType,'Price':NPrice,'Address':NAddress},ignore_index=True)"
   ]
  },
  {
   "cell_type": "code",
   "execution_count": 10,
   "id": "24201969-87b1-4b30-aff1-41d022f366b5",
   "metadata": {},
   "outputs": [
    {
     "data": {
      "text/html": [
       "<div>\n",
       "<style scoped>\n",
       "    .dataframe tbody tr th:only-of-type {\n",
       "        vertical-align: middle;\n",
       "    }\n",
       "\n",
       "    .dataframe tbody tr th {\n",
       "        vertical-align: top;\n",
       "    }\n",
       "\n",
       "    .dataframe thead th {\n",
       "        text-align: right;\n",
       "    }\n",
       "</style>\n",
       "<table border=\"1\" class=\"dataframe\">\n",
       "  <thead>\n",
       "    <tr style=\"text-align: right;\">\n",
       "      <th></th>\n",
       "      <th>Beds</th>\n",
       "      <th>Bath</th>\n",
       "      <th>Sqft</th>\n",
       "      <th>Lot_Size</th>\n",
       "      <th>Type</th>\n",
       "      <th>Price</th>\n",
       "      <th>Address</th>\n",
       "    </tr>\n",
       "  </thead>\n",
       "  <tbody>\n",
       "    <tr>\n",
       "      <th>2247</th>\n",
       "      <td>3</td>\n",
       "      <td>2</td>\n",
       "      <td>1099</td>\n",
       "      <td>NaN</td>\n",
       "      <td>Residential</td>\n",
       "      <td>699999 CAD</td>\n",
       "      <td>88 Sandra Crescent</td>\n",
       "    </tr>\n",
       "    <tr>\n",
       "      <th>2248</th>\n",
       "      <td>3</td>\n",
       "      <td>2</td>\n",
       "      <td>1535</td>\n",
       "      <td>NaN</td>\n",
       "      <td>Residential</td>\n",
       "      <td>599000 CAD</td>\n",
       "      <td>11 Catherine Street</td>\n",
       "    </tr>\n",
       "    <tr>\n",
       "      <th>2249</th>\n",
       "      <td>3</td>\n",
       "      <td>2</td>\n",
       "      <td>NaN</td>\n",
       "      <td>NaN</td>\n",
       "      <td>Residential</td>\n",
       "      <td>529900 CAD</td>\n",
       "      <td>42 Hewitt Crescent</td>\n",
       "    </tr>\n",
       "    <tr>\n",
       "      <th>2250</th>\n",
       "      <td>2</td>\n",
       "      <td>2</td>\n",
       "      <td>1625</td>\n",
       "      <td>NaN</td>\n",
       "      <td>Residential</td>\n",
       "      <td>699902 CAD</td>\n",
       "      <td>980 Golf Links Road</td>\n",
       "    </tr>\n",
       "    <tr>\n",
       "      <th>2251</th>\n",
       "      <td>4</td>\n",
       "      <td>2</td>\n",
       "      <td>NaN</td>\n",
       "      <td>NaN</td>\n",
       "      <td>Residential</td>\n",
       "      <td>659900 CAD</td>\n",
       "      <td>161 Ridge Road S</td>\n",
       "    </tr>\n",
       "  </tbody>\n",
       "</table>\n",
       "</div>"
      ],
      "text/plain": [
       "     Beds Bath  Sqft Lot_Size         Type       Price               Address\n",
       "2247    3    2  1099      NaN  Residential  699999 CAD   88 Sandra Crescent \n",
       "2248    3    2  1535      NaN  Residential  599000 CAD  11 Catherine Street \n",
       "2249    3    2   NaN      NaN  Residential  529900 CAD   42 Hewitt Crescent \n",
       "2250    2    2  1625      NaN  Residential  699902 CAD  980 Golf Links Road \n",
       "2251    4    2   NaN      NaN  Residential  659900 CAD     161 Ridge Road S "
      ]
     },
     "execution_count": 10,
     "metadata": {},
     "output_type": "execute_result"
    }
   ],
   "source": [
    "Point2_data.tail()"
   ]
  },
  {
   "cell_type": "markdown",
   "id": "6244dd21-07ab-47c0-9f9d-85f222d40a03",
   "metadata": {},
   "source": [
    "Only collect 2252 housing information, I think the website has a counting issue."
   ]
  },
  {
   "cell_type": "code",
   "execution_count": 11,
   "id": "5bf874b2-e3f0-4a06-90ed-4c2a54581ef0",
   "metadata": {},
   "outputs": [
    {
     "name": "stdout",
     "output_type": "stream",
     "text": [
      "Beds column has 80 NaNs\n",
      "Bath column has 86 NaNs\n",
      "Sqft column has 1944 NaNs\n",
      "Lot_Size column has 1958 NaNs\n",
      "Type column has 0 NaNs\n",
      "Price column has 0 NaNs\n",
      "Address column has 0 NaNs\n"
     ]
    }
   ],
   "source": [
    "for column in Point2_data:\n",
    "    print(str(column) + ' column has '+ str(Point2_data[column].isnull().sum()) + ' NaNs')"
   ]
  },
  {
   "cell_type": "code",
   "execution_count": 12,
   "id": "7764741c-b6ab-4195-8be0-a00dc7562f25",
   "metadata": {},
   "outputs": [],
   "source": [
    "Point2_data.to_csv('Point2_data_ON_house_500kto700k.csv',index=False)"
   ]
  },
  {
   "cell_type": "code",
   "execution_count": null,
   "id": "8b858f8f-28d7-4941-bf69-18c3a28a9af2",
   "metadata": {},
   "outputs": [],
   "source": []
  },
  {
   "cell_type": "markdown",
   "id": "3823e4bb-da65-4409-ad55-78acc73ff946",
   "metadata": {},
   "source": [
    "#### Let's do price from 700,000 to 900,000. There are 2461 houses"
   ]
  },
  {
   "cell_type": "code",
   "execution_count": 5,
   "id": "573f1c0b-2e05-4448-8045-33add9804a7c",
   "metadata": {
    "tags": []
   },
   "outputs": [
    {
     "name": "stdout",
     "output_type": "stream",
     "text": [
      "https://www.point2homes.com/CA/Real-Estate-Maps.html?location=Ontario&PriceMin=700%2C000&PriceMax=900%2C000&PropertyType=House&search_mode=location&page=25&SelectedView=map_view&LocationGeoId=205411&viewport=-83.4430729234375%2C41.93591628860508%2C-75.1044498765625%2C46.49926189549991&zoom=7&location_changed=&ajax=1\n"
     ]
    }
   ],
   "source": [
    "for i in range(1,26):\n",
    "    url = 'https://www.point2homes.com/CA/Real-Estate-Maps.html?location=Ontario&PriceMin=700%2C000&PriceMax=900%2C000&PropertyType=House&search_mode=location&page=' + str(i) + '&SelectedView=map_view&LocationGeoId=205411&viewport=-83.4430729234375%2C41.93591628860508%2C-75.1044498765625%2C46.49926189549991&zoom=7&location_changed=&ajax=1'\n",
    "    \n",
    "print(url)"
   ]
  },
  {
   "cell_type": "code",
   "execution_count": 14,
   "id": "576088f1-a8a2-498b-9855-6cb22b2e528a",
   "metadata": {},
   "outputs": [],
   "source": [
    "data = {}\n",
    "soups = {}\n",
    "tables_ON = []\n",
    "# Create a df to store info\n",
    "Point2_data = pd.DataFrame(columns=['Beds','Bath','Sqft','Lot_Size','Type','Price','Address'])\n",
    "for i in range(1,26):\n",
    "    url = 'https://www.point2homes.com/CA/Real-Estate-Maps.html?location=Ontario&PriceMin=700%2C000&PriceMax=900%2C000&PropertyType=House&search_mode=location&page=' + str(i) + '&SelectedView=map_view&LocationGeoId=205411&viewport=-83.4430729234375%2C41.93591628860508%2C-75.1044498765625%2C46.49926189549991&zoom=7&location_changed=&ajax=1'\n",
    "    data = requests.get(url).text\n",
    "    soup = BeautifulSoup(data, 'html.parser')\n",
    "    tables_ON.append(soup.find_all(\"div\", class_=\"item-details\"))\n",
    "    \n",
    "    # extract information from each table\n",
    "    for table in (tables_ON[(i-1)]):\n",
    "        if (len(str(table.find_all(\"li\", class_='ic-beds')).split())<3):\n",
    "            Nbed = float(\"NaN\")\n",
    "        else:\n",
    "            Nbed = int(''.join(filter(str.isdigit, str(table.find_all(\"li\", class_='ic-beds')))))\n",
    "        \n",
    "        if (len(str(table.find_all(\"li\", class_='ic-baths')).split())<3):\n",
    "            NBath = float(\"NaN\")\n",
    "        else:\n",
    "            NBath = int(''.join(filter(str.isdigit, str(table.find_all(\"li\", class_='ic-baths')))))\n",
    "        \n",
    "        if (len(str(table.find_all(\"li\", class_='ic-sqft')).split())<3):\n",
    "            NSqft = float(\"NaN\")\n",
    "        else:\n",
    "            NSqft = int(''.join(filter(str.isdigit, str(table.find_all(\"li\", class_='ic-sqft')))))\n",
    "    \n",
    "        if (len(str(table.find_all(\"li\", class_='ic-lotsize')).split())<4):\n",
    "            NLot_Size = float(\"NaN\")\n",
    "        else:\n",
    "            NLot_Size = str(table.find_all(\"li\", class_='ic-lotsize')).split()[4][-4:]\n",
    "        \n",
    "        if (len(str(table.find_all(\"li\", class_='ic-proptype')).split())<3):\n",
    "            NType = float(\"NaN\")\n",
    "        else:\n",
    "            NType = str(table.find_all(\"li\", class_='ic-proptype')).split()[3]\n",
    "\n",
    "\n",
    "        NPrice = str(table.find(\"div\", class_='price')['data-price'].replace('$','').replace(',',''))\n",
    "        NAddress = table.find(\"div\", class_='item-address')['data-address']\n",
    "    # append data into the table \n",
    "        Point2_data = Point2_data.append({'Beds':Nbed,'Bath':NBath,'Sqft':NSqft,'Lot_Size':NLot_Size,'Type':NType,'Price':NPrice,'Address':NAddress},ignore_index=True)"
   ]
  },
  {
   "cell_type": "code",
   "execution_count": 15,
   "id": "7cc3fa49-1250-49e6-94da-736832dd5a9e",
   "metadata": {},
   "outputs": [
    {
     "data": {
      "text/html": [
       "<div>\n",
       "<style scoped>\n",
       "    .dataframe tbody tr th:only-of-type {\n",
       "        vertical-align: middle;\n",
       "    }\n",
       "\n",
       "    .dataframe tbody tr th {\n",
       "        vertical-align: top;\n",
       "    }\n",
       "\n",
       "    .dataframe thead th {\n",
       "        text-align: right;\n",
       "    }\n",
       "</style>\n",
       "<table border=\"1\" class=\"dataframe\">\n",
       "  <thead>\n",
       "    <tr style=\"text-align: right;\">\n",
       "      <th></th>\n",
       "      <th>Beds</th>\n",
       "      <th>Bath</th>\n",
       "      <th>Sqft</th>\n",
       "      <th>Lot_Size</th>\n",
       "      <th>Type</th>\n",
       "      <th>Price</th>\n",
       "      <th>Address</th>\n",
       "    </tr>\n",
       "  </thead>\n",
       "  <tbody>\n",
       "    <tr>\n",
       "      <th>2453</th>\n",
       "      <td>2</td>\n",
       "      <td>2</td>\n",
       "      <td>NaN</td>\n",
       "      <td>NaN</td>\n",
       "      <td>Single</td>\n",
       "      <td>879900 CAD</td>\n",
       "      <td>LOT457/458 YOUNG Avenue</td>\n",
       "    </tr>\n",
       "    <tr>\n",
       "      <th>2454</th>\n",
       "      <td>3</td>\n",
       "      <td>4</td>\n",
       "      <td>1930</td>\n",
       "      <td>NaN</td>\n",
       "      <td>Residential</td>\n",
       "      <td>899900 CAD</td>\n",
       "      <td>143 OAK PARK Drive</td>\n",
       "    </tr>\n",
       "    <tr>\n",
       "      <th>2455</th>\n",
       "      <td>NaN</td>\n",
       "      <td>NaN</td>\n",
       "      <td>NaN</td>\n",
       "      <td>NaN</td>\n",
       "      <td>Residential</td>\n",
       "      <td>899900 CAD</td>\n",
       "      <td>817 South Dr</td>\n",
       "    </tr>\n",
       "    <tr>\n",
       "      <th>2456</th>\n",
       "      <td>3</td>\n",
       "      <td>1</td>\n",
       "      <td>1370</td>\n",
       "      <td>NaN</td>\n",
       "      <td>Residential</td>\n",
       "      <td>899000 CAD</td>\n",
       "      <td>116 EMICK Drive</td>\n",
       "    </tr>\n",
       "    <tr>\n",
       "      <th>2457</th>\n",
       "      <td>2</td>\n",
       "      <td>2</td>\n",
       "      <td>1522</td>\n",
       "      <td>NaN</td>\n",
       "      <td>Residential</td>\n",
       "      <td>809900 CAD</td>\n",
       "      <td>3580 Edinburg Road</td>\n",
       "    </tr>\n",
       "  </tbody>\n",
       "</table>\n",
       "</div>"
      ],
      "text/plain": [
       "     Beds Bath  Sqft Lot_Size         Type       Price  \\\n",
       "2453    2    2   NaN      NaN       Single  879900 CAD   \n",
       "2454    3    4  1930      NaN  Residential  899900 CAD   \n",
       "2455  NaN  NaN   NaN      NaN  Residential  899900 CAD   \n",
       "2456    3    1  1370      NaN  Residential  899000 CAD   \n",
       "2457    2    2  1522      NaN  Residential  809900 CAD   \n",
       "\n",
       "                       Address  \n",
       "2453  LOT457/458 YOUNG Avenue   \n",
       "2454       143 OAK PARK Drive   \n",
       "2455             817 South Dr   \n",
       "2456          116 EMICK Drive   \n",
       "2457       3580 Edinburg Road   "
      ]
     },
     "execution_count": 15,
     "metadata": {},
     "output_type": "execute_result"
    }
   ],
   "source": [
    "Point2_data.tail()"
   ]
  },
  {
   "cell_type": "markdown",
   "id": "540c1e76-f457-4b4d-8a3c-bdac0fd5139e",
   "metadata": {},
   "source": [
    "Only collect 2457 housing information, same issue."
   ]
  },
  {
   "cell_type": "code",
   "execution_count": 16,
   "id": "4d3b6d5d-7ff1-4966-8c26-d7f3f798341c",
   "metadata": {},
   "outputs": [
    {
     "name": "stdout",
     "output_type": "stream",
     "text": [
      "Beds column has 71 NaNs\n",
      "Bath column has 76 NaNs\n",
      "Sqft column has 2156 NaNs\n",
      "Lot_Size column has 2161 NaNs\n",
      "Type column has 0 NaNs\n",
      "Price column has 0 NaNs\n",
      "Address column has 0 NaNs\n"
     ]
    }
   ],
   "source": [
    "for column in Point2_data:\n",
    "    print(str(column) + ' column has '+ str(Point2_data[column].isnull().sum()) + ' NaNs')"
   ]
  },
  {
   "cell_type": "code",
   "execution_count": 17,
   "id": "6ab3b7f6-49f8-403c-9e08-5350e1d8539f",
   "metadata": {},
   "outputs": [],
   "source": [
    "Point2_data.to_csv('Point2_data_ON_house_700kto900k.csv',index=False)"
   ]
  },
  {
   "cell_type": "code",
   "execution_count": null,
   "id": "25868d9a-dc3d-40b2-96db-4e221349cd31",
   "metadata": {},
   "outputs": [],
   "source": []
  },
  {
   "cell_type": "markdown",
   "id": "129e2805-c9c6-4d7b-becf-6ce97cf7bf19",
   "metadata": {},
   "source": [
    "#### Let's do price from 900,000 to 1,250,000. There are 2315 houses"
   ]
  },
  {
   "cell_type": "code",
   "execution_count": 6,
   "id": "44640c6c-f639-4c5e-9902-53e45c27ed1d",
   "metadata": {
    "tags": []
   },
   "outputs": [
    {
     "name": "stdout",
     "output_type": "stream",
     "text": [
      "https://www.point2homes.com/CA/Real-Estate-Maps.html?location=Ontario&PriceMin=900%2C000&PriceMax=1%2C250%2C000&PropertyType=House&search_mode=location&page=24&SelectedView=map_view&LocationGeoId=205411&viewport=-101.4154375022499%2C40.24621161991605%2C-68.0609453147499%2C56.897161419930484&zoom=5&location_changed=&ajax=1\n"
     ]
    }
   ],
   "source": [
    "for i in range(1,25):\n",
    "    url = 'https://www.point2homes.com/CA/Real-Estate-Maps.html?location=Ontario&PriceMin=900%2C000&PriceMax=1%2C250%2C000&PropertyType=House&search_mode=location&page=' + str(i) + '&SelectedView=map_view&LocationGeoId=205411&viewport=-101.4154375022499%2C40.24621161991605%2C-68.0609453147499%2C56.897161419930484&zoom=5&location_changed=&ajax=1'\n",
    "    \n",
    "print(url)"
   ]
  },
  {
   "cell_type": "code",
   "execution_count": 19,
   "id": "e49b86ce-3c94-48c7-a973-f59dc3647c74",
   "metadata": {},
   "outputs": [],
   "source": [
    "data = {}\n",
    "soups = {}\n",
    "tables_ON = []\n",
    "# Create a df to store info\n",
    "Point2_data = pd.DataFrame(columns=['Beds','Bath','Sqft','Lot_Size','Type','Price','Address'])\n",
    "for i in range(1,25):\n",
    "    url = 'https://www.point2homes.com/CA/Real-Estate-Maps.html?location=Ontario&PriceMin=900%2C000&PriceMax=1%2C250%2C000&PropertyType=House&search_mode=location&page=' + str(i) + '&SelectedView=map_view&LocationGeoId=205411&viewport=-101.4154375022499%2C40.24621161991605%2C-68.0609453147499%2C56.897161419930484&zoom=5&location_changed=&ajax=1'\n",
    "    data = requests.get(url).text\n",
    "    soup = BeautifulSoup(data, 'html.parser')\n",
    "    tables_ON.append(soup.find_all(\"div\", class_=\"item-details\"))\n",
    "    \n",
    "    # extract information from each table\n",
    "    for table in (tables_ON[(i-1)]):\n",
    "        if (len(str(table.find_all(\"li\", class_='ic-beds')).split())<3):\n",
    "            Nbed = float(\"NaN\")\n",
    "        else:\n",
    "            Nbed = int(''.join(filter(str.isdigit, str(table.find_all(\"li\", class_='ic-beds')))))\n",
    "        \n",
    "        if (len(str(table.find_all(\"li\", class_='ic-baths')).split())<3):\n",
    "            NBath = float(\"NaN\")\n",
    "        else:\n",
    "            NBath = int(''.join(filter(str.isdigit, str(table.find_all(\"li\", class_='ic-baths')))))\n",
    "        \n",
    "        if (len(str(table.find_all(\"li\", class_='ic-sqft')).split())<3):\n",
    "            NSqft = float(\"NaN\")\n",
    "        else:\n",
    "            NSqft = int(''.join(filter(str.isdigit, str(table.find_all(\"li\", class_='ic-sqft')))))\n",
    "    \n",
    "        if (len(str(table.find_all(\"li\", class_='ic-lotsize')).split())<4):\n",
    "            NLot_Size = float(\"NaN\")\n",
    "        else:\n",
    "            NLot_Size = str(table.find_all(\"li\", class_='ic-lotsize')).split()[4][-4:]\n",
    "        \n",
    "        if (len(str(table.find_all(\"li\", class_='ic-proptype')).split())<3):\n",
    "            NType = float(\"NaN\")\n",
    "        else:\n",
    "            NType = str(table.find_all(\"li\", class_='ic-proptype')).split()[3]\n",
    "\n",
    "\n",
    "        NPrice = str(table.find(\"div\", class_='price')['data-price'].replace('$','').replace(',',''))\n",
    "        NAddress = table.find(\"div\", class_='item-address')['data-address']\n",
    "    # append data into the table \n",
    "        Point2_data = Point2_data.append({'Beds':Nbed,'Bath':NBath,'Sqft':NSqft,'Lot_Size':NLot_Size,'Type':NType,'Price':NPrice,'Address':NAddress},ignore_index=True)"
   ]
  },
  {
   "cell_type": "code",
   "execution_count": 20,
   "id": "4f498750-aa1d-48a7-b5c0-144f6227662e",
   "metadata": {},
   "outputs": [
    {
     "data": {
      "text/html": [
       "<div>\n",
       "<style scoped>\n",
       "    .dataframe tbody tr th:only-of-type {\n",
       "        vertical-align: middle;\n",
       "    }\n",
       "\n",
       "    .dataframe tbody tr th {\n",
       "        vertical-align: top;\n",
       "    }\n",
       "\n",
       "    .dataframe thead th {\n",
       "        text-align: right;\n",
       "    }\n",
       "</style>\n",
       "<table border=\"1\" class=\"dataframe\">\n",
       "  <thead>\n",
       "    <tr style=\"text-align: right;\">\n",
       "      <th></th>\n",
       "      <th>Beds</th>\n",
       "      <th>Bath</th>\n",
       "      <th>Sqft</th>\n",
       "      <th>Lot_Size</th>\n",
       "      <th>Type</th>\n",
       "      <th>Price</th>\n",
       "      <th>Address</th>\n",
       "    </tr>\n",
       "  </thead>\n",
       "  <tbody>\n",
       "    <tr>\n",
       "      <th>2310</th>\n",
       "      <td>2</td>\n",
       "      <td>2</td>\n",
       "      <td>1498</td>\n",
       "      <td>NaN</td>\n",
       "      <td>Residential</td>\n",
       "      <td>949900 CAD</td>\n",
       "      <td>1077 Clearview Avenue</td>\n",
       "    </tr>\n",
       "    <tr>\n",
       "      <th>2311</th>\n",
       "      <td>5</td>\n",
       "      <td>3</td>\n",
       "      <td>2799</td>\n",
       "      <td>NaN</td>\n",
       "      <td>Residential</td>\n",
       "      <td>949900 CAD</td>\n",
       "      <td>1431 Upper Wellington St</td>\n",
       "    </tr>\n",
       "    <tr>\n",
       "      <th>2312</th>\n",
       "      <td>4</td>\n",
       "      <td>3</td>\n",
       "      <td>NaN</td>\n",
       "      <td>NaN</td>\n",
       "      <td>Single</td>\n",
       "      <td>999000 CAD</td>\n",
       "      <td>61 HALSEY AVE</td>\n",
       "    </tr>\n",
       "    <tr>\n",
       "      <th>2313</th>\n",
       "      <td>4</td>\n",
       "      <td>4</td>\n",
       "      <td>NaN</td>\n",
       "      <td>NaN</td>\n",
       "      <td>Single</td>\n",
       "      <td>1249900 CAD</td>\n",
       "      <td>632 MCGILL LANE</td>\n",
       "    </tr>\n",
       "    <tr>\n",
       "      <th>2314</th>\n",
       "      <td>3</td>\n",
       "      <td>1</td>\n",
       "      <td>NaN</td>\n",
       "      <td>NaN</td>\n",
       "      <td>Single</td>\n",
       "      <td>1200000 CAD</td>\n",
       "      <td>190 Shingwak RD</td>\n",
       "    </tr>\n",
       "  </tbody>\n",
       "</table>\n",
       "</div>"
      ],
      "text/plain": [
       "     Beds Bath  Sqft Lot_Size         Type        Price  \\\n",
       "2310    2    2  1498      NaN  Residential   949900 CAD   \n",
       "2311    5    3  2799      NaN  Residential   949900 CAD   \n",
       "2312    4    3   NaN      NaN       Single   999000 CAD   \n",
       "2313    4    4   NaN      NaN       Single  1249900 CAD   \n",
       "2314    3    1   NaN      NaN       Single  1200000 CAD   \n",
       "\n",
       "                        Address  \n",
       "2310     1077 Clearview Avenue   \n",
       "2311  1431 Upper Wellington St   \n",
       "2312             61 HALSEY AVE   \n",
       "2313           632 MCGILL LANE   \n",
       "2314           190 Shingwak RD   "
      ]
     },
     "execution_count": 20,
     "metadata": {},
     "output_type": "execute_result"
    }
   ],
   "source": [
    "Point2_data.tail()"
   ]
  },
  {
   "cell_type": "code",
   "execution_count": 21,
   "id": "545851fe-02de-4b0b-a5e5-3a8d992cf491",
   "metadata": {},
   "outputs": [
    {
     "name": "stdout",
     "output_type": "stream",
     "text": [
      "Beds column has 106 NaNs\n",
      "Bath column has 114 NaNs\n",
      "Sqft column has 2023 NaNs\n",
      "Lot_Size column has 2068 NaNs\n",
      "Type column has 0 NaNs\n",
      "Price column has 0 NaNs\n",
      "Address column has 0 NaNs\n"
     ]
    }
   ],
   "source": [
    "for column in Point2_data:\n",
    "    print(str(column) + ' column has '+ str(Point2_data[column].isnull().sum()) + ' NaNs')"
   ]
  },
  {
   "cell_type": "code",
   "execution_count": 22,
   "id": "14bc8f73-d7a1-48b3-b548-7c7c0fc34061",
   "metadata": {},
   "outputs": [],
   "source": [
    "Point2_data.to_csv('Point2_data_ON_house_900kto1250k.csv',index=False)"
   ]
  },
  {
   "cell_type": "code",
   "execution_count": null,
   "id": "f111d6a5-caf4-402f-97ce-e4083720eae0",
   "metadata": {},
   "outputs": [],
   "source": []
  },
  {
   "cell_type": "markdown",
   "id": "f77f68a2-e75d-4e9f-905b-5d1bbfa91d90",
   "metadata": {},
   "source": [
    "#### Let's do price from 1,250,000 to 2,000,000. There are 2436 houses"
   ]
  },
  {
   "cell_type": "code",
   "execution_count": 7,
   "id": "17711121-4c2c-4b68-8a2c-a7cfaa28917b",
   "metadata": {
    "tags": []
   },
   "outputs": [
    {
     "name": "stdout",
     "output_type": "stream",
     "text": [
      "https://www.point2homes.com/CA/Real-Estate-Maps.html?location=Ontario&PriceMin=1%2C250%2C000&PriceMax=2%2C000%2C000&PropertyType=House&search_mode=location&page=25&SelectedView=map_view&LocationGeoId=205411&viewport=-83.15645852343751%2C41.60431432570946%2C-74.81783547656251%2C46.1923445370515&zoom=7&location_changed=&ajax=1\n"
     ]
    }
   ],
   "source": [
    "for i in range(1,26):\n",
    "    url = 'https://www.point2homes.com/CA/Real-Estate-Maps.html?location=Ontario&PriceMin=1%2C250%2C000&PriceMax=2%2C000%2C000&PropertyType=House&search_mode=location&page=' + str(i) + '&SelectedView=map_view&LocationGeoId=205411&viewport=-83.15645852343751%2C41.60431432570946%2C-74.81783547656251%2C46.1923445370515&zoom=7&location_changed=&ajax=1'\n",
    "    \n",
    "print(url)"
   ]
  },
  {
   "cell_type": "code",
   "execution_count": 25,
   "id": "ddf29cc7-d237-494e-97f9-229a9744605d",
   "metadata": {},
   "outputs": [],
   "source": [
    "data = {}\n",
    "soups = {}\n",
    "tables_ON = []\n",
    "# Create a df to store info\n",
    "Point2_data = pd.DataFrame(columns=['Beds','Bath','Sqft','Lot_Size','Type','Price','Address'])\n",
    "for i in range(1,26):\n",
    "    url = 'https://www.point2homes.com/CA/Real-Estate-Maps.html?location=Ontario&PriceMin=1%2C250%2C000&PriceMax=2%2C000%2C000&PropertyType=House&search_mode=location&page=' + str(i) + '&SelectedView=map_view&LocationGeoId=205411&viewport=-83.15645852343751%2C41.60431432570946%2C-74.81783547656251%2C46.1923445370515&zoom=7&location_changed=&ajax=1'\n",
    "    data = requests.get(url).text\n",
    "    soup = BeautifulSoup(data, 'html.parser')\n",
    "    tables_ON.append(soup.find_all(\"div\", class_=\"item-details\"))\n",
    "    \n",
    "    # extract information from each table\n",
    "    for table in (tables_ON[(i-1)]):\n",
    "        if (len(str(table.find_all(\"li\", class_='ic-beds')).split())<3):\n",
    "            Nbed = float(\"NaN\")\n",
    "        else:\n",
    "            Nbed = int(''.join(filter(str.isdigit, str(table.find_all(\"li\", class_='ic-beds')))))\n",
    "        \n",
    "        if (len(str(table.find_all(\"li\", class_='ic-baths')).split())<3):\n",
    "            NBath = float(\"NaN\")\n",
    "        else:\n",
    "            NBath = int(''.join(filter(str.isdigit, str(table.find_all(\"li\", class_='ic-baths')))))\n",
    "        \n",
    "        if (len(str(table.find_all(\"li\", class_='ic-sqft')).split())<3):\n",
    "            NSqft = float(\"NaN\")\n",
    "        else:\n",
    "            NSqft = int(''.join(filter(str.isdigit, str(table.find_all(\"li\", class_='ic-sqft')))))\n",
    "    \n",
    "        if (len(str(table.find_all(\"li\", class_='ic-lotsize')).split())<4):\n",
    "            NLot_Size = float(\"NaN\")\n",
    "        else:\n",
    "            NLot_Size = str(table.find_all(\"li\", class_='ic-lotsize')).split()[4][-4:]\n",
    "        \n",
    "        if (len(str(table.find_all(\"li\", class_='ic-proptype')).split())<3):\n",
    "            NType = float(\"NaN\")\n",
    "        else:\n",
    "            NType = str(table.find_all(\"li\", class_='ic-proptype')).split()[3]\n",
    "\n",
    "\n",
    "        NPrice = str(table.find(\"div\", class_='price')['data-price'].replace('$','').replace(',',''))\n",
    "        NAddress = table.find(\"div\", class_='item-address')['data-address']\n",
    "    # append data into the table \n",
    "        Point2_data = Point2_data.append({'Beds':Nbed,'Bath':NBath,'Sqft':NSqft,'Lot_Size':NLot_Size,'Type':NType,'Price':NPrice,'Address':NAddress},ignore_index=True)"
   ]
  },
  {
   "cell_type": "code",
   "execution_count": 26,
   "id": "eac5ae17-7ba9-4bf1-bfa8-696bfa24f382",
   "metadata": {},
   "outputs": [
    {
     "data": {
      "text/html": [
       "<div>\n",
       "<style scoped>\n",
       "    .dataframe tbody tr th:only-of-type {\n",
       "        vertical-align: middle;\n",
       "    }\n",
       "\n",
       "    .dataframe tbody tr th {\n",
       "        vertical-align: top;\n",
       "    }\n",
       "\n",
       "    .dataframe thead th {\n",
       "        text-align: right;\n",
       "    }\n",
       "</style>\n",
       "<table border=\"1\" class=\"dataframe\">\n",
       "  <thead>\n",
       "    <tr style=\"text-align: right;\">\n",
       "      <th></th>\n",
       "      <th>Beds</th>\n",
       "      <th>Bath</th>\n",
       "      <th>Sqft</th>\n",
       "      <th>Lot_Size</th>\n",
       "      <th>Type</th>\n",
       "      <th>Price</th>\n",
       "      <th>Address</th>\n",
       "    </tr>\n",
       "  </thead>\n",
       "  <tbody>\n",
       "    <tr>\n",
       "      <th>2429</th>\n",
       "      <td>6</td>\n",
       "      <td>5</td>\n",
       "      <td>NaN</td>\n",
       "      <td>NaN</td>\n",
       "      <td>Single</td>\n",
       "      <td>1599988 CAD</td>\n",
       "      <td>44 ARROWPOINT DR W</td>\n",
       "    </tr>\n",
       "    <tr>\n",
       "      <th>2430</th>\n",
       "      <td>9</td>\n",
       "      <td>9</td>\n",
       "      <td>NaN</td>\n",
       "      <td>NaN</td>\n",
       "      <td>Single</td>\n",
       "      <td>1888888 CAD</td>\n",
       "      <td>534-536 ROGERS RD</td>\n",
       "    </tr>\n",
       "    <tr>\n",
       "      <th>2431</th>\n",
       "      <td>3</td>\n",
       "      <td>3</td>\n",
       "      <td>NaN</td>\n",
       "      <td>1.88</td>\n",
       "      <td>Residential</td>\n",
       "      <td>1600000 CAD</td>\n",
       "      <td>Bloorvista at Islington Terrace</td>\n",
       "    </tr>\n",
       "    <tr>\n",
       "      <th>2432</th>\n",
       "      <td>4</td>\n",
       "      <td>3</td>\n",
       "      <td>NaN</td>\n",
       "      <td>4.58</td>\n",
       "      <td>Single</td>\n",
       "      <td>1300000 CAD</td>\n",
       "      <td>315 WAYSIDE DRIVE</td>\n",
       "    </tr>\n",
       "    <tr>\n",
       "      <th>2433</th>\n",
       "      <td>6</td>\n",
       "      <td>3</td>\n",
       "      <td>NaN</td>\n",
       "      <td>NaN</td>\n",
       "      <td>Single</td>\n",
       "      <td>1588000 CAD</td>\n",
       "      <td>1105 LILLIAN ST</td>\n",
       "    </tr>\n",
       "  </tbody>\n",
       "</table>\n",
       "</div>"
      ],
      "text/plain": [
       "     Beds Bath Sqft Lot_Size         Type        Price  \\\n",
       "2429    6    5  NaN      NaN       Single  1599988 CAD   \n",
       "2430    9    9  NaN      NaN       Single  1888888 CAD   \n",
       "2431    3    3  NaN     1.88  Residential  1600000 CAD   \n",
       "2432    4    3  NaN     4.58       Single  1300000 CAD   \n",
       "2433    6    3  NaN      NaN       Single  1588000 CAD   \n",
       "\n",
       "                               Address  \n",
       "2429               44 ARROWPOINT DR W   \n",
       "2430                534-536 ROGERS RD   \n",
       "2431  Bloorvista at Islington Terrace   \n",
       "2432                315 WAYSIDE DRIVE   \n",
       "2433                  1105 LILLIAN ST   "
      ]
     },
     "execution_count": 26,
     "metadata": {},
     "output_type": "execute_result"
    }
   ],
   "source": [
    "Point2_data.tail()"
   ]
  },
  {
   "cell_type": "markdown",
   "id": "a75b4ed8-128b-4b9d-b5bd-13b70dd438ce",
   "metadata": {},
   "source": [
    "Only collect 2434 housing information, Same issue."
   ]
  },
  {
   "cell_type": "code",
   "execution_count": 27,
   "id": "ad0d8ca1-2955-4800-91a5-86874cf50bf6",
   "metadata": {},
   "outputs": [
    {
     "name": "stdout",
     "output_type": "stream",
     "text": [
      "Beds column has 71 NaNs\n",
      "Bath column has 70 NaNs\n",
      "Sqft column has 2120 NaNs\n",
      "Lot_Size column has 2139 NaNs\n",
      "Type column has 0 NaNs\n",
      "Price column has 0 NaNs\n",
      "Address column has 0 NaNs\n"
     ]
    }
   ],
   "source": [
    "for column in Point2_data:\n",
    "    print(str(column) + ' column has '+ str(Point2_data[column].isnull().sum()) + ' NaNs')"
   ]
  },
  {
   "cell_type": "code",
   "execution_count": 28,
   "id": "8a9d64f8-ffdd-427f-a923-0907ee233879",
   "metadata": {},
   "outputs": [],
   "source": [
    "Point2_data.to_csv('Point2_data_ON_house_1250kto2000k.csv',index=False)"
   ]
  },
  {
   "cell_type": "code",
   "execution_count": null,
   "id": "e455fc67-b4c6-483c-ae1f-a17c3804a679",
   "metadata": {},
   "outputs": [],
   "source": []
  },
  {
   "cell_type": "markdown",
   "id": "1aba1e44-2cf6-4d7b-886a-26aae3739208",
   "metadata": {},
   "source": [
    "#### Let's do price greater than 2,000,000. There are 1677 houses"
   ]
  },
  {
   "cell_type": "code",
   "execution_count": 8,
   "id": "c978587a-4dfa-4eee-a594-e48717d65725",
   "metadata": {
    "tags": []
   },
   "outputs": [
    {
     "name": "stdout",
     "output_type": "stream",
     "text": [
      "https://www.point2homes.com/CA/Real-Estate-Maps.html?location=Ontario&PriceMin=2%2C000%2C000&PropertyType=House&search_mode=location&page=17&SelectedView=map_view&LocationGeoId=205411&viewport=-81.77204777343749%2C41.97814845592482%2C-73.43342472656249%2C46.53834048311052&zoom=7&location_changed=&ajax=1\n"
     ]
    }
   ],
   "source": [
    "for i in range(1,18):\n",
    "    url = 'https://www.point2homes.com/CA/Real-Estate-Maps.html?location=Ontario&PriceMin=2%2C000%2C000&PropertyType=House&search_mode=location&page=' + str(i) + '&SelectedView=map_view&LocationGeoId=205411&viewport=-81.77204777343749%2C41.97814845592482%2C-73.43342472656249%2C46.53834048311052&zoom=7&location_changed=&ajax=1'\n",
    "    \n",
    "print(url)"
   ]
  },
  {
   "cell_type": "code",
   "execution_count": 32,
   "id": "a1c0f95f-58fa-421f-b72d-b7e217eacb47",
   "metadata": {},
   "outputs": [],
   "source": [
    "data = {}\n",
    "soups = {}\n",
    "tables_ON = []\n",
    "# Create a df to store info\n",
    "Point2_data = pd.DataFrame(columns=['Beds','Bath','Sqft','Lot_Size','Type','Price','Address'])\n",
    "for i in range(1,18):\n",
    "    url = 'https://www.point2homes.com/CA/Real-Estate-Maps.html?location=Ontario&PriceMin=2%2C000%2C000&PropertyType=House&search_mode=location&page=' + str(i) + '&SelectedView=map_view&LocationGeoId=205411&viewport=-81.77204777343749%2C41.97814845592482%2C-73.43342472656249%2C46.53834048311052&zoom=7&location_changed=&ajax=1'\n",
    "    data = requests.get(url).text\n",
    "    soup = BeautifulSoup(data, 'html.parser')\n",
    "    tables_ON.append(soup.find_all(\"div\", class_=\"item-details\"))\n",
    "    \n",
    "    # extract information from each table\n",
    "    for table in (tables_ON[(i-1)]):\n",
    "        if (len(str(table.find_all(\"li\", class_='ic-beds')).split())<3):\n",
    "            Nbed = float(\"NaN\")\n",
    "        else:\n",
    "            Nbed = int(''.join(filter(str.isdigit, str(table.find_all(\"li\", class_='ic-beds')))))\n",
    "        \n",
    "        if (len(str(table.find_all(\"li\", class_='ic-baths')).split())<3):\n",
    "            NBath = float(\"NaN\")\n",
    "        else:\n",
    "            NBath = int(''.join(filter(str.isdigit, str(table.find_all(\"li\", class_='ic-baths')))))\n",
    "        \n",
    "        if (len(str(table.find_all(\"li\", class_='ic-sqft')).split())<3):\n",
    "            NSqft = float(\"NaN\")\n",
    "        else:\n",
    "            NSqft = int(''.join(filter(str.isdigit, str(table.find_all(\"li\", class_='ic-sqft')))))\n",
    "    \n",
    "        if (len(str(table.find_all(\"li\", class_='ic-lotsize')).split())<4):\n",
    "            NLot_Size = float(\"NaN\")\n",
    "        else:\n",
    "            NLot_Size = str(table.find_all(\"li\", class_='ic-lotsize')).split()[4][-4:]\n",
    "        \n",
    "        if (len(str(table.find_all(\"li\", class_='ic-proptype')).split())<3):\n",
    "            NType = float(\"NaN\")\n",
    "        else:\n",
    "            NType = str(table.find_all(\"li\", class_='ic-proptype')).split()[3]\n",
    "\n",
    "\n",
    "        NPrice = str(table.find(\"div\", class_='price')['data-price'].replace('$','').replace(',',''))\n",
    "        NAddress = table.find(\"div\", class_='item-address')['data-address']\n",
    "    # append data into the table \n",
    "        Point2_data = Point2_data.append({'Beds':Nbed,'Bath':NBath,'Sqft':NSqft,'Lot_Size':NLot_Size,'Type':NType,'Price':NPrice,'Address':NAddress},ignore_index=True)"
   ]
  },
  {
   "cell_type": "code",
   "execution_count": 33,
   "id": "6d2fde33-c3f7-48a8-92ee-0e60a0d1ae45",
   "metadata": {},
   "outputs": [
    {
     "data": {
      "text/html": [
       "<div>\n",
       "<style scoped>\n",
       "    .dataframe tbody tr th:only-of-type {\n",
       "        vertical-align: middle;\n",
       "    }\n",
       "\n",
       "    .dataframe tbody tr th {\n",
       "        vertical-align: top;\n",
       "    }\n",
       "\n",
       "    .dataframe thead th {\n",
       "        text-align: right;\n",
       "    }\n",
       "</style>\n",
       "<table border=\"1\" class=\"dataframe\">\n",
       "  <thead>\n",
       "    <tr style=\"text-align: right;\">\n",
       "      <th></th>\n",
       "      <th>Beds</th>\n",
       "      <th>Bath</th>\n",
       "      <th>Sqft</th>\n",
       "      <th>Lot_Size</th>\n",
       "      <th>Type</th>\n",
       "      <th>Price</th>\n",
       "      <th>Address</th>\n",
       "    </tr>\n",
       "  </thead>\n",
       "  <tbody>\n",
       "    <tr>\n",
       "      <th>1671</th>\n",
       "      <td>4</td>\n",
       "      <td>4</td>\n",
       "      <td>NaN</td>\n",
       "      <td>NaN</td>\n",
       "      <td>Residential</td>\n",
       "      <td>4290000 CAD</td>\n",
       "      <td>14 Oakcrest Ave</td>\n",
       "    </tr>\n",
       "    <tr>\n",
       "      <th>1672</th>\n",
       "      <td>2</td>\n",
       "      <td>1</td>\n",
       "      <td>NaN</td>\n",
       "      <td>NaN</td>\n",
       "      <td>Single</td>\n",
       "      <td>10000000 CAD</td>\n",
       "      <td>12864 INNIS LAKE DR</td>\n",
       "    </tr>\n",
       "    <tr>\n",
       "      <th>1673</th>\n",
       "      <td>6</td>\n",
       "      <td>4</td>\n",
       "      <td>3920</td>\n",
       "      <td>NaN</td>\n",
       "      <td>Residential</td>\n",
       "      <td>2200000 CAD</td>\n",
       "      <td>1089 North Service Road</td>\n",
       "    </tr>\n",
       "    <tr>\n",
       "      <th>1674</th>\n",
       "      <td>5</td>\n",
       "      <td>9</td>\n",
       "      <td>NaN</td>\n",
       "      <td>NaN</td>\n",
       "      <td>Single</td>\n",
       "      <td>3500000 CAD</td>\n",
       "      <td>1694 CENTRE RD</td>\n",
       "    </tr>\n",
       "    <tr>\n",
       "      <th>1675</th>\n",
       "      <td>5</td>\n",
       "      <td>3</td>\n",
       "      <td>NaN</td>\n",
       "      <td>NaN</td>\n",
       "      <td>Single</td>\n",
       "      <td>6175000 CAD</td>\n",
       "      <td>3650 EGLINTON AVE W</td>\n",
       "    </tr>\n",
       "  </tbody>\n",
       "</table>\n",
       "</div>"
      ],
      "text/plain": [
       "     Beds Bath  Sqft Lot_Size         Type         Price  \\\n",
       "1671    4    4   NaN      NaN  Residential   4290000 CAD   \n",
       "1672    2    1   NaN      NaN       Single  10000000 CAD   \n",
       "1673    6    4  3920      NaN  Residential   2200000 CAD   \n",
       "1674    5    9   NaN      NaN       Single   3500000 CAD   \n",
       "1675    5    3   NaN      NaN       Single   6175000 CAD   \n",
       "\n",
       "                       Address  \n",
       "1671          14 Oakcrest Ave   \n",
       "1672      12864 INNIS LAKE DR   \n",
       "1673  1089 North Service Road   \n",
       "1674           1694 CENTRE RD   \n",
       "1675      3650 EGLINTON AVE W   "
      ]
     },
     "execution_count": 33,
     "metadata": {},
     "output_type": "execute_result"
    }
   ],
   "source": [
    "Point2_data.tail()"
   ]
  },
  {
   "cell_type": "markdown",
   "id": "4fa19d34-eac9-4647-b2c0-5bd3337fd992",
   "metadata": {},
   "source": [
    "Only collect 1676 housing information, Same issue."
   ]
  },
  {
   "cell_type": "code",
   "execution_count": 34,
   "id": "3ccbb50d-6a17-4206-8779-4e1e91d78606",
   "metadata": {},
   "outputs": [
    {
     "name": "stdout",
     "output_type": "stream",
     "text": [
      "Beds column has 52 NaNs\n",
      "Bath column has 59 NaNs\n",
      "Sqft column has 1499 NaNs\n",
      "Lot_Size column has 1452 NaNs\n",
      "Type column has 0 NaNs\n",
      "Price column has 0 NaNs\n",
      "Address column has 0 NaNs\n"
     ]
    }
   ],
   "source": [
    "for column in Point2_data:\n",
    "    print(str(column) + ' column has '+ str(Point2_data[column].isnull().sum()) + ' NaNs')"
   ]
  },
  {
   "cell_type": "code",
   "execution_count": 35,
   "id": "bb493140-c299-4323-879c-81d7d5400eaa",
   "metadata": {},
   "outputs": [],
   "source": [
    "Point2_data.to_csv('Point2_data_ON_house_2000kup.csv',index=False)"
   ]
  },
  {
   "cell_type": "code",
   "execution_count": null,
   "id": "c26126dc-96e1-492e-a2d8-08ec7952355b",
   "metadata": {},
   "outputs": [],
   "source": []
  }
 ],
 "metadata": {
  "kernelspec": {
   "display_name": "Python 3",
   "language": "python",
   "name": "python3"
  },
  "language_info": {
   "codemirror_mode": {
    "name": "ipython",
    "version": 3
   },
   "file_extension": ".py",
   "mimetype": "text/x-python",
   "name": "python",
   "nbconvert_exporter": "python",
   "pygments_lexer": "ipython3",
   "version": "3.8.8"
  }
 },
 "nbformat": 4,
 "nbformat_minor": 5
}
