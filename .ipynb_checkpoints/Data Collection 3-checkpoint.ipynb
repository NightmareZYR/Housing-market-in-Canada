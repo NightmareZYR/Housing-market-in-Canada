{
 "cells": [
  {
   "cell_type": "code",
   "execution_count": 1,
   "id": "20394b69-0d32-4637-8d7a-5881f9369577",
   "metadata": {},
   "outputs": [],
   "source": [
    "# Import requests\n",
    "import requests\n",
    "from bs4 import BeautifulSoup\n",
    "import pandas as pd"
   ]
  },
  {
   "cell_type": "markdown",
   "id": "0dfab01f-b66a-44f7-bd83-62f6fd061756",
   "metadata": {},
   "source": [
    "#### Let's do housing price under 700,000 in BC. There are 2578 houses"
   ]
  },
  {
   "cell_type": "code",
   "execution_count": 2,
   "id": "8fde0ded-94de-4d14-9739-ce1170ac1df1",
   "metadata": {
    "tags": []
   },
   "outputs": [
    {
     "name": "stdout",
     "output_type": "stream",
     "text": [
      "https://www.point2homes.com/CA/Real-Estate-Maps.html?location=British+Columbia&PriceMax=700%2C000&PropertyType=House&search_mode=location&page=26&SelectedView=map_view&LocationGeoId=205407&viewport=-131.38074494687498%2C47.32892609878674%2C-114.70349885312498%2C55.27079704363388&zoom=6&location_changed=&ajax=1\n"
     ]
    }
   ],
   "source": [
    "for i in range(1,27):\n",
    "    url = 'https://www.point2homes.com/CA/Real-Estate-Maps.html?location=British+Columbia&PriceMax=700%2C000&PropertyType=House&search_mode=location&page=' + str(i) + '&SelectedView=map_view&LocationGeoId=205407&viewport=-131.38074494687498%2C47.32892609878674%2C-114.70349885312498%2C55.27079704363388&zoom=6&location_changed=&ajax=1'\n",
    "print(url)"
   ]
  },
  {
   "cell_type": "code",
   "execution_count": 3,
   "id": "0aac9acb-f6e5-4048-bb3e-a03ed6c85b52",
   "metadata": {},
   "outputs": [],
   "source": [
    "data = {}\n",
    "soups = {}\n",
    "tables_BC = []\n",
    "# Create a df to store info\n",
    "Point2_data = pd.DataFrame(columns=['Beds','Bath','Sqft','Lot_Size','Type','Price','Address'])\n",
    "for i in range(1,27):\n",
    "    url = 'https://www.point2homes.com/CA/Real-Estate-Maps.html?location=British+Columbia&PriceMax=700%2C000&PropertyType=House&search_mode=location&page=' + str(i) + '&SelectedView=map_view&LocationGeoId=205407&viewport=-131.38074494687498%2C47.32892609878674%2C-114.70349885312498%2C55.27079704363388&zoom=6&location_changed=&ajax=1'\n",
    "    data = requests.get(url).text\n",
    "    soup = BeautifulSoup(data, 'html.parser')\n",
    "    tables_BC.append(soup.find_all(\"div\", class_=\"item-details\"))\n",
    "    \n",
    "    # extract information from each table\n",
    "    for table in (tables_BC[(i-1)]):\n",
    "        if (len(str(table.find_all(\"li\", class_='ic-beds')).split())<3):\n",
    "            Nbed = float(\"NaN\")\n",
    "        else:\n",
    "            Nbed = int(''.join(filter(str.isdigit, str(table.find_all(\"li\", class_='ic-beds')))))\n",
    "        \n",
    "        if (len(str(table.find_all(\"li\", class_='ic-baths')).split())<3):\n",
    "            NBath = float(\"NaN\")\n",
    "        else:\n",
    "            NBath = int(''.join(filter(str.isdigit, str(table.find_all(\"li\", class_='ic-baths')))))\n",
    "        \n",
    "        if (len(str(table.find_all(\"li\", class_='ic-sqft')).split())<3):\n",
    "            NSqft = float(\"NaN\")\n",
    "        else:\n",
    "            NSqft = int(''.join(filter(str.isdigit, str(table.find_all(\"li\", class_='ic-sqft')))))\n",
    "    \n",
    "        if (len(str(table.find_all(\"li\", class_='ic-lotsize')).split())<4):\n",
    "            NLot_Size = float(\"NaN\")\n",
    "        else:\n",
    "            NLot_Size = str(table.find_all(\"li\", class_='ic-lotsize')).split()[4][-4:]\n",
    "        \n",
    "        if (len(str(table.find_all(\"li\", class_='ic-proptype')).split())<3):\n",
    "            NType = float(\"NaN\")\n",
    "        else:\n",
    "            NType = str(table.find_all(\"li\", class_='ic-proptype')).split()[3]\n",
    "\n",
    "\n",
    "        NPrice = str(table.find(\"div\", class_='price')['data-price'].replace('$','').replace(',',''))\n",
    "        NAddress = table.find(\"div\", class_='item-address')['data-address']\n",
    "    # append data into the table \n",
    "        Point2_data = Point2_data.append({'Beds':Nbed,'Bath':NBath,'Sqft':NSqft,'Lot_Size':NLot_Size,'Type':NType,'Price':NPrice,'Address':NAddress},ignore_index=True)"
   ]
  },
  {
   "cell_type": "code",
   "execution_count": 4,
   "id": "52296ef1-5fe9-4c1e-ad45-af84c3e0fea8",
   "metadata": {},
   "outputs": [
    {
     "data": {
      "text/html": [
       "<div>\n",
       "<style scoped>\n",
       "    .dataframe tbody tr th:only-of-type {\n",
       "        vertical-align: middle;\n",
       "    }\n",
       "\n",
       "    .dataframe tbody tr th {\n",
       "        vertical-align: top;\n",
       "    }\n",
       "\n",
       "    .dataframe thead th {\n",
       "        text-align: right;\n",
       "    }\n",
       "</style>\n",
       "<table border=\"1\" class=\"dataframe\">\n",
       "  <thead>\n",
       "    <tr style=\"text-align: right;\">\n",
       "      <th></th>\n",
       "      <th>Beds</th>\n",
       "      <th>Bath</th>\n",
       "      <th>Sqft</th>\n",
       "      <th>Lot_Size</th>\n",
       "      <th>Type</th>\n",
       "      <th>Price</th>\n",
       "      <th>Address</th>\n",
       "    </tr>\n",
       "  </thead>\n",
       "  <tbody>\n",
       "    <tr>\n",
       "      <th>2572</th>\n",
       "      <td>1</td>\n",
       "      <td>1</td>\n",
       "      <td>1167</td>\n",
       "      <td>&gt;2.8</td>\n",
       "      <td>Single</td>\n",
       "      <td>250000 CAD</td>\n",
       "      <td>REED ROAD 2751</td>\n",
       "    </tr>\n",
       "    <tr>\n",
       "      <th>2573</th>\n",
       "      <td>2</td>\n",
       "      <td>1</td>\n",
       "      <td>NaN</td>\n",
       "      <td>NaN</td>\n",
       "      <td>Single</td>\n",
       "      <td>188500 CAD</td>\n",
       "      <td>8670 156 ST 37</td>\n",
       "    </tr>\n",
       "    <tr>\n",
       "      <th>2574</th>\n",
       "      <td>3</td>\n",
       "      <td>2</td>\n",
       "      <td>2197</td>\n",
       "      <td>.198</td>\n",
       "      <td>Single</td>\n",
       "      <td>189000 CAD</td>\n",
       "      <td>231 BERGERON Drive,</td>\n",
       "    </tr>\n",
       "    <tr>\n",
       "      <th>2575</th>\n",
       "      <td>2</td>\n",
       "      <td>1</td>\n",
       "      <td>720</td>\n",
       "      <td>0.72</td>\n",
       "      <td>Residential</td>\n",
       "      <td>126900 CAD</td>\n",
       "      <td>197 Ogden Road</td>\n",
       "    </tr>\n",
       "    <tr>\n",
       "      <th>2576</th>\n",
       "      <td>NaN</td>\n",
       "      <td>NaN</td>\n",
       "      <td>NaN</td>\n",
       "      <td>8.66</td>\n",
       "      <td>Residential</td>\n",
       "      <td>245000 CAD</td>\n",
       "      <td>556 Highway 24</td>\n",
       "    </tr>\n",
       "  </tbody>\n",
       "</table>\n",
       "</div>"
      ],
      "text/plain": [
       "     Beds Bath  Sqft Lot_Size         Type       Price               Address\n",
       "2572    1    1  1167     >2.8       Single  250000 CAD        REED ROAD 2751\n",
       "2573    2    1   NaN      NaN       Single  188500 CAD        8670 156 ST 37\n",
       "2574    3    2  2197     .198       Single  189000 CAD  231 BERGERON Drive, \n",
       "2575    2    1   720     0.72  Residential  126900 CAD       197 Ogden Road \n",
       "2576  NaN  NaN   NaN     8.66  Residential  245000 CAD       556 Highway 24 "
      ]
     },
     "execution_count": 4,
     "metadata": {},
     "output_type": "execute_result"
    }
   ],
   "source": [
    "Point2_data.tail()"
   ]
  },
  {
   "cell_type": "markdown",
   "id": "76bdded9-29fb-4965-bd81-38330c9a07d5",
   "metadata": {},
   "source": [
    "2577 housing information are collected"
   ]
  },
  {
   "cell_type": "code",
   "execution_count": 5,
   "id": "4318cefd-584b-4271-9188-746153a90c0b",
   "metadata": {},
   "outputs": [
    {
     "name": "stdout",
     "output_type": "stream",
     "text": [
      "Beds column has 94 NaNs\n",
      "Bath column has 142 NaNs\n",
      "Sqft column has 472 NaNs\n",
      "Lot_Size column has 387 NaNs\n",
      "Type column has 0 NaNs\n",
      "Price column has 0 NaNs\n",
      "Address column has 0 NaNs\n"
     ]
    }
   ],
   "source": [
    "for column in Point2_data:\n",
    "    print(str(column) + ' column has '+ str(Point2_data[column].isnull().sum()) + ' NaNs')"
   ]
  },
  {
   "cell_type": "code",
   "execution_count": 6,
   "id": "90f1c37e-e9ec-4d5e-b02e-e785128159a8",
   "metadata": {},
   "outputs": [],
   "source": [
    "Point2_data.to_csv('Point2_data_BC_house_Under700K.csv',index=False)"
   ]
  },
  {
   "cell_type": "code",
   "execution_count": null,
   "id": "7e436a01-1495-45ee-aa17-1a0f9b4b87f2",
   "metadata": {},
   "outputs": [],
   "source": []
  },
  {
   "cell_type": "markdown",
   "id": "9c3cae06-2c66-4716-ad82-a8b22e1c9827",
   "metadata": {},
   "source": [
    "#### Let's do housing price from 700,000 to 1,500,000 in BC. There are 2798 houses"
   ]
  },
  {
   "cell_type": "code",
   "execution_count": 8,
   "id": "902a0833-588b-4475-8b31-d18c236522b9",
   "metadata": {
    "tags": []
   },
   "outputs": [
    {
     "name": "stdout",
     "output_type": "stream",
     "text": [
      "https://www.point2homes.com/CA/Real-Estate-Maps.html?location=British+Columbia&PriceMin=700%2C000&PriceMax=1%2C500%2C000&PropertyType=House&search_mode=location&page=28&SelectedView=map_view&LocationGeoId=205407&viewport=-128.497837601875%2C46.427046353813815%2C-111.82059150812499%2C54.51197660632517&zoom=6&location_changed=&ajax=1\n"
     ]
    }
   ],
   "source": [
    "for i in range(1,29):\n",
    "    url = 'https://www.point2homes.com/CA/Real-Estate-Maps.html?location=British+Columbia&PriceMin=700%2C000&PriceMax=1%2C500%2C000&PropertyType=House&search_mode=location&page=' + str(i) + '&SelectedView=map_view&LocationGeoId=205407&viewport=-128.497837601875%2C46.427046353813815%2C-111.82059150812499%2C54.51197660632517&zoom=6&location_changed=&ajax=1'\n",
    "    \n",
    "print(url)"
   ]
  },
  {
   "cell_type": "code",
   "execution_count": 9,
   "id": "20aeb82c-5e77-43c3-b755-b4b834f9f49e",
   "metadata": {},
   "outputs": [],
   "source": [
    "data = {}\n",
    "soups = {}\n",
    "tables_BC = []\n",
    "# Create a df to store info\n",
    "Point2_data = pd.DataFrame(columns=['Beds','Bath','Sqft','Lot_Size','Type','Price','Address'])\n",
    "for i in range(1,29):\n",
    "    url = 'https://www.point2homes.com/CA/Real-Estate-Maps.html?location=British+Columbia&PriceMin=700%2C000&PriceMax=1%2C500%2C000&PropertyType=House&search_mode=location&page=' + str(i) + '&SelectedView=map_view&LocationGeoId=205407&viewport=-128.497837601875%2C46.427046353813815%2C-111.82059150812499%2C54.51197660632517&zoom=6&location_changed=&ajax=1'\n",
    "    data = requests.get(url).text\n",
    "    soup = BeautifulSoup(data, 'html.parser')\n",
    "    tables_BC.append(soup.find_all(\"div\", class_=\"item-details\"))\n",
    "    \n",
    "    # extract information from each table\n",
    "    for table in (tables_BC[(i-1)]):\n",
    "        if (len(str(table.find_all(\"li\", class_='ic-beds')).split())<3):\n",
    "            Nbed = float(\"NaN\")\n",
    "        else:\n",
    "            Nbed = int(''.join(filter(str.isdigit, str(table.find_all(\"li\", class_='ic-beds')))))\n",
    "        \n",
    "        if (len(str(table.find_all(\"li\", class_='ic-baths')).split())<3):\n",
    "            NBath = float(\"NaN\")\n",
    "        else:\n",
    "            NBath = int(''.join(filter(str.isdigit, str(table.find_all(\"li\", class_='ic-baths')))))\n",
    "        \n",
    "        if (len(str(table.find_all(\"li\", class_='ic-sqft')).split())<3):\n",
    "            NSqft = float(\"NaN\")\n",
    "        else:\n",
    "            NSqft = int(''.join(filter(str.isdigit, str(table.find_all(\"li\", class_='ic-sqft')))))\n",
    "    \n",
    "        if (len(str(table.find_all(\"li\", class_='ic-lotsize')).split())<4):\n",
    "            NLot_Size = float(\"NaN\")\n",
    "        else:\n",
    "            NLot_Size = str(table.find_all(\"li\", class_='ic-lotsize')).split()[4][-4:]\n",
    "        \n",
    "        if (len(str(table.find_all(\"li\", class_='ic-proptype')).split())<3):\n",
    "            NType = float(\"NaN\")\n",
    "        else:\n",
    "            NType = str(table.find_all(\"li\", class_='ic-proptype')).split()[3]\n",
    "\n",
    "\n",
    "        NPrice = str(table.find(\"div\", class_='price')['data-price'].replace('$','').replace(',',''))\n",
    "        NAddress = table.find(\"div\", class_='item-address')['data-address']\n",
    "    # append data into the table \n",
    "        Point2_data = Point2_data.append({'Beds':Nbed,'Bath':NBath,'Sqft':NSqft,'Lot_Size':NLot_Size,'Type':NType,'Price':NPrice,'Address':NAddress},ignore_index=True)"
   ]
  },
  {
   "cell_type": "code",
   "execution_count": 10,
   "id": "12641056-19e4-4b21-98ec-bed0552a38ca",
   "metadata": {},
   "outputs": [
    {
     "data": {
      "text/html": [
       "<div>\n",
       "<style scoped>\n",
       "    .dataframe tbody tr th:only-of-type {\n",
       "        vertical-align: middle;\n",
       "    }\n",
       "\n",
       "    .dataframe tbody tr th {\n",
       "        vertical-align: top;\n",
       "    }\n",
       "\n",
       "    .dataframe thead th {\n",
       "        text-align: right;\n",
       "    }\n",
       "</style>\n",
       "<table border=\"1\" class=\"dataframe\">\n",
       "  <thead>\n",
       "    <tr style=\"text-align: right;\">\n",
       "      <th></th>\n",
       "      <th>Beds</th>\n",
       "      <th>Bath</th>\n",
       "      <th>Sqft</th>\n",
       "      <th>Lot_Size</th>\n",
       "      <th>Type</th>\n",
       "      <th>Price</th>\n",
       "      <th>Address</th>\n",
       "    </tr>\n",
       "  </thead>\n",
       "  <tbody>\n",
       "    <tr>\n",
       "      <th>2793</th>\n",
       "      <td>4</td>\n",
       "      <td>3</td>\n",
       "      <td>NaN</td>\n",
       "      <td>.157</td>\n",
       "      <td>Single</td>\n",
       "      <td>1300000 CAD</td>\n",
       "      <td>805 SPROAT DRIVE</td>\n",
       "    </tr>\n",
       "    <tr>\n",
       "      <th>2794</th>\n",
       "      <td>3</td>\n",
       "      <td>NaN</td>\n",
       "      <td>2492</td>\n",
       "      <td>.094</td>\n",
       "      <td>Single</td>\n",
       "      <td>769000 CAD</td>\n",
       "      <td>10605 CEDAR Avenue, 22</td>\n",
       "    </tr>\n",
       "    <tr>\n",
       "      <th>2795</th>\n",
       "      <td>3</td>\n",
       "      <td>1</td>\n",
       "      <td>872</td>\n",
       "      <td>.182</td>\n",
       "      <td>Single</td>\n",
       "      <td>799999 CAD</td>\n",
       "      <td>46183 THIRD AVENUE</td>\n",
       "    </tr>\n",
       "    <tr>\n",
       "      <th>2796</th>\n",
       "      <td>3</td>\n",
       "      <td>1</td>\n",
       "      <td>1968</td>\n",
       "      <td>3.31</td>\n",
       "      <td>Residential</td>\n",
       "      <td>899000 CAD</td>\n",
       "      <td>6446 Rimer Road</td>\n",
       "    </tr>\n",
       "    <tr>\n",
       "      <th>2797</th>\n",
       "      <td>3</td>\n",
       "      <td>NaN</td>\n",
       "      <td>1732</td>\n",
       "      <td>0.04</td>\n",
       "      <td>Residential</td>\n",
       "      <td>1199000 CAD</td>\n",
       "      <td>1720 Fairfield Rd #118</td>\n",
       "    </tr>\n",
       "  </tbody>\n",
       "</table>\n",
       "</div>"
      ],
      "text/plain": [
       "     Beds Bath  Sqft Lot_Size         Type        Price  \\\n",
       "2793    4    3   NaN     .157       Single  1300000 CAD   \n",
       "2794    3  NaN  2492     .094       Single   769000 CAD   \n",
       "2795    3    1   872     .182       Single   799999 CAD   \n",
       "2796    3    1  1968     3.31  Residential   899000 CAD   \n",
       "2797    3  NaN  1732     0.04  Residential  1199000 CAD   \n",
       "\n",
       "                      Address  \n",
       "2793        805 SPROAT DRIVE   \n",
       "2794   10605 CEDAR Avenue, 22  \n",
       "2795      46183 THIRD AVENUE   \n",
       "2796         6446 Rimer Road   \n",
       "2797  1720 Fairfield Rd #118   "
      ]
     },
     "execution_count": 10,
     "metadata": {},
     "output_type": "execute_result"
    }
   ],
   "source": [
    "Point2_data.tail()"
   ]
  },
  {
   "cell_type": "code",
   "execution_count": 11,
   "id": "c3e1d12b-5fa9-477c-bb20-6aaf8e57007f",
   "metadata": {},
   "outputs": [
    {
     "name": "stdout",
     "output_type": "stream",
     "text": [
      "Beds column has 39 NaNs\n",
      "Bath column has 110 NaNs\n",
      "Sqft column has 192 NaNs\n",
      "Lot_Size column has 183 NaNs\n",
      "Type column has 0 NaNs\n",
      "Price column has 0 NaNs\n",
      "Address column has 0 NaNs\n"
     ]
    }
   ],
   "source": [
    "for column in Point2_data:\n",
    "    print(str(column) + ' column has '+ str(Point2_data[column].isnull().sum()) + ' NaNs')"
   ]
  },
  {
   "cell_type": "code",
   "execution_count": 12,
   "id": "633989b8-b895-4ed5-a908-c365c3ec7efd",
   "metadata": {},
   "outputs": [],
   "source": [
    "Point2_data.to_csv('Point2_data_BC_house_700K_1500K.csv',index=False)"
   ]
  },
  {
   "cell_type": "code",
   "execution_count": null,
   "id": "3150e1fd-35e7-4cc3-96ec-b3b784852734",
   "metadata": {},
   "outputs": [],
   "source": []
  },
  {
   "cell_type": "markdown",
   "id": "0c936a91-b656-40ad-8c80-758c7aa8abe8",
   "metadata": {},
   "source": [
    "#### Let's do housing price from 1,500,000 to 2,000,000 in BC. There are 1165 houses"
   ]
  },
  {
   "cell_type": "code",
   "execution_count": 14,
   "id": "0723af44-2ccf-43ec-bf44-5d1ad60a3718",
   "metadata": {
    "tags": []
   },
   "outputs": [
    {
     "name": "stdout",
     "output_type": "stream",
     "text": [
      "https://www.point2homes.com/CA/Real-Estate-Maps.html?location=British+Columbia&PriceMin=1%2C500%2C000&PriceMax=2%2C000%2C000&PropertyType=House&search_mode=location&page=12&SelectedView=map_view&LocationGeoId=205407&viewport=-128.289832496875%2C45.230760276457104%2C-111.612586403125%2C53.50304236232754&zoom=6&location_changed=&ajax=1\n"
     ]
    }
   ],
   "source": [
    "for i in range(1,13):\n",
    "    url = 'https://www.point2homes.com/CA/Real-Estate-Maps.html?location=British+Columbia&PriceMin=1%2C500%2C000&PriceMax=2%2C000%2C000&PropertyType=House&search_mode=location&page=' + str(i) + '&SelectedView=map_view&LocationGeoId=205407&viewport=-128.289832496875%2C45.230760276457104%2C-111.612586403125%2C53.50304236232754&zoom=6&location_changed=&ajax=1'\n",
    "    \n",
    "print(url)"
   ]
  },
  {
   "cell_type": "code",
   "execution_count": 15,
   "id": "34e441b7-5cd6-4e50-abf7-5e8339b9b480",
   "metadata": {},
   "outputs": [],
   "source": [
    "data = {}\n",
    "soups = {}\n",
    "tables_BC = []\n",
    "# Create a df to store info\n",
    "Point2_data = pd.DataFrame(columns=['Beds','Bath','Sqft','Lot_Size','Type','Price','Address'])\n",
    "for i in range(1,13):\n",
    "    url = 'https://www.point2homes.com/CA/Real-Estate-Maps.html?location=British+Columbia&PriceMin=1%2C500%2C000&PriceMax=2%2C000%2C000&PropertyType=House&search_mode=location&page=' + str(i) + '&SelectedView=map_view&LocationGeoId=205407&viewport=-128.289832496875%2C45.230760276457104%2C-111.612586403125%2C53.50304236232754&zoom=6&location_changed=&ajax=1'\n",
    "    data = requests.get(url).text\n",
    "    soup = BeautifulSoup(data, 'html.parser')\n",
    "    tables_BC.append(soup.find_all(\"div\", class_=\"item-details\"))\n",
    "    \n",
    "    # extract information from each table\n",
    "    for table in (tables_BC[(i-1)]):\n",
    "        if (len(str(table.find_all(\"li\", class_='ic-beds')).split())<3):\n",
    "            Nbed = float(\"NaN\")\n",
    "        else:\n",
    "            Nbed = int(''.join(filter(str.isdigit, str(table.find_all(\"li\", class_='ic-beds')))))\n",
    "        \n",
    "        if (len(str(table.find_all(\"li\", class_='ic-baths')).split())<3):\n",
    "            NBath = float(\"NaN\")\n",
    "        else:\n",
    "            NBath = int(''.join(filter(str.isdigit, str(table.find_all(\"li\", class_='ic-baths')))))\n",
    "        \n",
    "        if (len(str(table.find_all(\"li\", class_='ic-sqft')).split())<3):\n",
    "            NSqft = float(\"NaN\")\n",
    "        else:\n",
    "            NSqft = int(''.join(filter(str.isdigit, str(table.find_all(\"li\", class_='ic-sqft')))))\n",
    "    \n",
    "        if (len(str(table.find_all(\"li\", class_='ic-lotsize')).split())<4):\n",
    "            NLot_Size = float(\"NaN\")\n",
    "        else:\n",
    "            NLot_Size = str(table.find_all(\"li\", class_='ic-lotsize')).split()[4][-4:]\n",
    "        \n",
    "        if (len(str(table.find_all(\"li\", class_='ic-proptype')).split())<3):\n",
    "            NType = float(\"NaN\")\n",
    "        else:\n",
    "            NType = str(table.find_all(\"li\", class_='ic-proptype')).split()[3]\n",
    "\n",
    "\n",
    "        NPrice = str(table.find(\"div\", class_='price')['data-price'].replace('$','').replace(',',''))\n",
    "        NAddress = table.find(\"div\", class_='item-address')['data-address']\n",
    "    # append data into the table \n",
    "        Point2_data = Point2_data.append({'Beds':Nbed,'Bath':NBath,'Sqft':NSqft,'Lot_Size':NLot_Size,'Type':NType,'Price':NPrice,'Address':NAddress},ignore_index=True)"
   ]
  },
  {
   "cell_type": "code",
   "execution_count": 16,
   "id": "3d215519-ddba-422f-a6ef-6eaff1de5dad",
   "metadata": {},
   "outputs": [
    {
     "data": {
      "text/html": [
       "<div>\n",
       "<style scoped>\n",
       "    .dataframe tbody tr th:only-of-type {\n",
       "        vertical-align: middle;\n",
       "    }\n",
       "\n",
       "    .dataframe tbody tr th {\n",
       "        vertical-align: top;\n",
       "    }\n",
       "\n",
       "    .dataframe thead th {\n",
       "        text-align: right;\n",
       "    }\n",
       "</style>\n",
       "<table border=\"1\" class=\"dataframe\">\n",
       "  <thead>\n",
       "    <tr style=\"text-align: right;\">\n",
       "      <th></th>\n",
       "      <th>Beds</th>\n",
       "      <th>Bath</th>\n",
       "      <th>Sqft</th>\n",
       "      <th>Lot_Size</th>\n",
       "      <th>Type</th>\n",
       "      <th>Price</th>\n",
       "      <th>Address</th>\n",
       "    </tr>\n",
       "  </thead>\n",
       "  <tbody>\n",
       "    <tr>\n",
       "      <th>1158</th>\n",
       "      <td>5</td>\n",
       "      <td>3</td>\n",
       "      <td>3363</td>\n",
       "      <td>.502</td>\n",
       "      <td>Single</td>\n",
       "      <td>1786000 CAD</td>\n",
       "      <td>12605 224 STREET</td>\n",
       "    </tr>\n",
       "    <tr>\n",
       "      <th>1159</th>\n",
       "      <td>3</td>\n",
       "      <td>3</td>\n",
       "      <td>3894</td>\n",
       "      <td>0.38</td>\n",
       "      <td>Residential</td>\n",
       "      <td>1549000 CAD</td>\n",
       "      <td>3217 Majestic Drive</td>\n",
       "    </tr>\n",
       "    <tr>\n",
       "      <th>1160</th>\n",
       "      <td>6</td>\n",
       "      <td>4</td>\n",
       "      <td>4408</td>\n",
       "      <td>1.98</td>\n",
       "      <td>Residential</td>\n",
       "      <td>1900000 CAD</td>\n",
       "      <td>6722 Anzio Rd</td>\n",
       "    </tr>\n",
       "    <tr>\n",
       "      <th>1161</th>\n",
       "      <td>4</td>\n",
       "      <td>3</td>\n",
       "      <td>2010</td>\n",
       "      <td>.181</td>\n",
       "      <td>Single</td>\n",
       "      <td>1500000 CAD</td>\n",
       "      <td>11770 72 AVENUE</td>\n",
       "    </tr>\n",
       "    <tr>\n",
       "      <th>1162</th>\n",
       "      <td>3</td>\n",
       "      <td>1</td>\n",
       "      <td>1300</td>\n",
       "      <td>0.19</td>\n",
       "      <td>Single</td>\n",
       "      <td>1750000 CAD</td>\n",
       "      <td>10460 NO. 4 ROAD</td>\n",
       "    </tr>\n",
       "  </tbody>\n",
       "</table>\n",
       "</div>"
      ],
      "text/plain": [
       "     Beds Bath  Sqft Lot_Size         Type        Price               Address\n",
       "1158    5    3  3363     .502       Single  1786000 CAD     12605 224 STREET \n",
       "1159    3    3  3894     0.38  Residential  1549000 CAD  3217 Majestic Drive \n",
       "1160    6    4  4408     1.98  Residential  1900000 CAD        6722 Anzio Rd \n",
       "1161    4    3  2010     .181       Single  1500000 CAD      11770 72 AVENUE \n",
       "1162    3    1  1300     0.19       Single  1750000 CAD     10460 NO. 4 ROAD "
      ]
     },
     "execution_count": 16,
     "metadata": {},
     "output_type": "execute_result"
    }
   ],
   "source": [
    "Point2_data.tail()"
   ]
  },
  {
   "cell_type": "code",
   "execution_count": 17,
   "id": "5dc3cd5e-c0ae-4552-9176-47ce4bbdbcf2",
   "metadata": {},
   "outputs": [
    {
     "name": "stdout",
     "output_type": "stream",
     "text": [
      "Beds column has 11 NaNs\n",
      "Bath column has 26 NaNs\n",
      "Sqft column has 29 NaNs\n",
      "Lot_Size column has 30 NaNs\n",
      "Type column has 0 NaNs\n",
      "Price column has 0 NaNs\n",
      "Address column has 0 NaNs\n"
     ]
    }
   ],
   "source": [
    "for column in Point2_data:\n",
    "    print(str(column) + ' column has '+ str(Point2_data[column].isnull().sum()) + ' NaNs')"
   ]
  },
  {
   "cell_type": "code",
   "execution_count": 18,
   "id": "10242b6a-2a2b-45e0-af8a-b2b19a53c3ec",
   "metadata": {},
   "outputs": [],
   "source": [
    "Point2_data.to_csv('Point2_data_BC_house_1500K_2000K.csv',index=False)"
   ]
  },
  {
   "cell_type": "code",
   "execution_count": null,
   "id": "6fa08c44-0f27-49ab-8688-6524b232a858",
   "metadata": {},
   "outputs": [],
   "source": []
  },
  {
   "cell_type": "markdown",
   "id": "4740c4b8-53ae-4cf4-be52-248f9591a245",
   "metadata": {},
   "source": [
    "#### Let's do housing price beyond 2,000,000 in BC. There are 2668 houses"
   ]
  },
  {
   "cell_type": "code",
   "execution_count": 19,
   "id": "190e79a2-3a8e-4f9f-9726-10e1f2dfe59b",
   "metadata": {
    "tags": []
   },
   "outputs": [
    {
     "name": "stdout",
     "output_type": "stream",
     "text": [
      "https://www.point2homes.com/CA/Real-Estate-Maps.html?location=British+Columbia&PriceMin=2%2C000%2C000&PropertyType=House&search_mode=location&page=27&SelectedView=map_view&LocationGeoId=205407&viewport=-125.12427211843749%2C47.439800591238416%2C-116.78564907156249%2C51.57417560375128&zoom=7&location_changed=&ajax=1\n"
     ]
    }
   ],
   "source": [
    "for i in range(1,28):\n",
    "    url = 'https://www.point2homes.com/CA/Real-Estate-Maps.html?location=British+Columbia&PriceMin=2%2C000%2C000&PropertyType=House&search_mode=location&page=' + str(i) + '&SelectedView=map_view&LocationGeoId=205407&viewport=-125.12427211843749%2C47.439800591238416%2C-116.78564907156249%2C51.57417560375128&zoom=7&location_changed=&ajax=1'\n",
    "    \n",
    "print(url)"
   ]
  },
  {
   "cell_type": "code",
   "execution_count": 20,
   "id": "85f9d429-1786-4579-946f-726f7d8a6651",
   "metadata": {},
   "outputs": [],
   "source": [
    "data = {}\n",
    "soups = {}\n",
    "tables_BC = []\n",
    "# Create a df to store info\n",
    "Point2_data = pd.DataFrame(columns=['Beds','Bath','Sqft','Lot_Size','Type','Price','Address'])\n",
    "for i in range(1,28):\n",
    "    url = 'https://www.point2homes.com/CA/Real-Estate-Maps.html?location=British+Columbia&PriceMin=2%2C000%2C000&PropertyType=House&search_mode=location&page=' + str(i) + '&SelectedView=map_view&LocationGeoId=205407&viewport=-125.12427211843749%2C47.439800591238416%2C-116.78564907156249%2C51.57417560375128&zoom=7&location_changed=&ajax=1'\n",
    "    data = requests.get(url).text\n",
    "    soup = BeautifulSoup(data, 'html.parser')\n",
    "    tables_BC.append(soup.find_all(\"div\", class_=\"item-details\"))\n",
    "    \n",
    "    # extract information from each table\n",
    "    for table in (tables_BC[(i-1)]):\n",
    "        if (len(str(table.find_all(\"li\", class_='ic-beds')).split())<3):\n",
    "            Nbed = float(\"NaN\")\n",
    "        else:\n",
    "            Nbed = int(''.join(filter(str.isdigit, str(table.find_all(\"li\", class_='ic-beds')))))\n",
    "        \n",
    "        if (len(str(table.find_all(\"li\", class_='ic-baths')).split())<3):\n",
    "            NBath = float(\"NaN\")\n",
    "        else:\n",
    "            NBath = int(''.join(filter(str.isdigit, str(table.find_all(\"li\", class_='ic-baths')))))\n",
    "        \n",
    "        if (len(str(table.find_all(\"li\", class_='ic-sqft')).split())<3):\n",
    "            NSqft = float(\"NaN\")\n",
    "        else:\n",
    "            NSqft = int(''.join(filter(str.isdigit, str(table.find_all(\"li\", class_='ic-sqft')))))\n",
    "    \n",
    "        if (len(str(table.find_all(\"li\", class_='ic-lotsize')).split())<4):\n",
    "            NLot_Size = float(\"NaN\")\n",
    "        else:\n",
    "            NLot_Size = str(table.find_all(\"li\", class_='ic-lotsize')).split()[4][-4:]\n",
    "        \n",
    "        if (len(str(table.find_all(\"li\", class_='ic-proptype')).split())<3):\n",
    "            NType = float(\"NaN\")\n",
    "        else:\n",
    "            NType = str(table.find_all(\"li\", class_='ic-proptype')).split()[3]\n",
    "\n",
    "\n",
    "        NPrice = str(table.find(\"div\", class_='price')['data-price'].replace('$','').replace(',',''))\n",
    "        NAddress = table.find(\"div\", class_='item-address')['data-address']\n",
    "    # append data into the table \n",
    "        Point2_data = Point2_data.append({'Beds':Nbed,'Bath':NBath,'Sqft':NSqft,'Lot_Size':NLot_Size,'Type':NType,'Price':NPrice,'Address':NAddress},ignore_index=True)"
   ]
  },
  {
   "cell_type": "code",
   "execution_count": 21,
   "id": "22bb56f6-5dcf-4d8d-8242-9b33e356db50",
   "metadata": {},
   "outputs": [
    {
     "data": {
      "text/html": [
       "<div>\n",
       "<style scoped>\n",
       "    .dataframe tbody tr th:only-of-type {\n",
       "        vertical-align: middle;\n",
       "    }\n",
       "\n",
       "    .dataframe tbody tr th {\n",
       "        vertical-align: top;\n",
       "    }\n",
       "\n",
       "    .dataframe thead th {\n",
       "        text-align: right;\n",
       "    }\n",
       "</style>\n",
       "<table border=\"1\" class=\"dataframe\">\n",
       "  <thead>\n",
       "    <tr style=\"text-align: right;\">\n",
       "      <th></th>\n",
       "      <th>Beds</th>\n",
       "      <th>Bath</th>\n",
       "      <th>Sqft</th>\n",
       "      <th>Lot_Size</th>\n",
       "      <th>Type</th>\n",
       "      <th>Price</th>\n",
       "      <th>Address</th>\n",
       "    </tr>\n",
       "  </thead>\n",
       "  <tbody>\n",
       "    <tr>\n",
       "      <th>2663</th>\n",
       "      <td>4</td>\n",
       "      <td>3</td>\n",
       "      <td>3335</td>\n",
       "      <td>.172</td>\n",
       "      <td>Single</td>\n",
       "      <td>5550000 CAD</td>\n",
       "      <td>595 W 28TH AVENUE</td>\n",
       "    </tr>\n",
       "    <tr>\n",
       "      <th>2664</th>\n",
       "      <td>4</td>\n",
       "      <td>3</td>\n",
       "      <td>2511</td>\n",
       "      <td>.239</td>\n",
       "      <td>Single</td>\n",
       "      <td>3024120 CAD</td>\n",
       "      <td>540 POIRIER STREET</td>\n",
       "    </tr>\n",
       "    <tr>\n",
       "      <th>2665</th>\n",
       "      <td>4</td>\n",
       "      <td>4</td>\n",
       "      <td>4753</td>\n",
       "      <td>&gt;1.2</td>\n",
       "      <td>Single</td>\n",
       "      <td>5180000 CAD</td>\n",
       "      <td>20395 74B AVENUE</td>\n",
       "    </tr>\n",
       "    <tr>\n",
       "      <th>2666</th>\n",
       "      <td>5</td>\n",
       "      <td>8</td>\n",
       "      <td>6802</td>\n",
       "      <td>.293</td>\n",
       "      <td>Single</td>\n",
       "      <td>5999000 CAD</td>\n",
       "      <td>1507 PINECREST DRIVE</td>\n",
       "    </tr>\n",
       "    <tr>\n",
       "      <th>2667</th>\n",
       "      <td>NaN</td>\n",
       "      <td>4</td>\n",
       "      <td>3250</td>\n",
       "      <td>.171</td>\n",
       "      <td>Single</td>\n",
       "      <td>5000000 CAD</td>\n",
       "      <td>25 W KING EDWARD AVENUE</td>\n",
       "    </tr>\n",
       "  </tbody>\n",
       "</table>\n",
       "</div>"
      ],
      "text/plain": [
       "     Beds Bath  Sqft Lot_Size    Type        Price                   Address\n",
       "2663    4    3  3335     .172  Single  5550000 CAD        595 W 28TH AVENUE \n",
       "2664    4    3  2511     .239  Single  3024120 CAD       540 POIRIER STREET \n",
       "2665    4    4  4753     >1.2  Single  5180000 CAD         20395 74B AVENUE \n",
       "2666    5    8  6802     .293  Single  5999000 CAD     1507 PINECREST DRIVE \n",
       "2667  NaN    4  3250     .171  Single  5000000 CAD  25 W KING EDWARD AVENUE "
      ]
     },
     "execution_count": 21,
     "metadata": {},
     "output_type": "execute_result"
    }
   ],
   "source": [
    "Point2_data.tail()"
   ]
  },
  {
   "cell_type": "code",
   "execution_count": 22,
   "id": "92cd7219-eb1d-4aef-bd20-2bebb6d7e093",
   "metadata": {},
   "outputs": [
    {
     "name": "stdout",
     "output_type": "stream",
     "text": [
      "Beds column has 39 NaNs\n",
      "Bath column has 61 NaNs\n",
      "Sqft column has 60 NaNs\n",
      "Lot_Size column has 74 NaNs\n",
      "Type column has 0 NaNs\n",
      "Price column has 0 NaNs\n",
      "Address column has 0 NaNs\n"
     ]
    }
   ],
   "source": [
    "for column in Point2_data:\n",
    "    print(str(column) + ' column has '+ str(Point2_data[column].isnull().sum()) + ' NaNs')"
   ]
  },
  {
   "cell_type": "code",
   "execution_count": 23,
   "id": "a56e4daa-d887-435e-bd15-670357f67c5a",
   "metadata": {},
   "outputs": [],
   "source": [
    "Point2_data.to_csv('Point2_data_BC_house_Beyond2000K.csv',index=False)"
   ]
  },
  {
   "cell_type": "code",
   "execution_count": null,
   "id": "8dc7a4ea-f540-452b-88ba-98b840fa476c",
   "metadata": {},
   "outputs": [],
   "source": []
  }
 ],
 "metadata": {
  "kernelspec": {
   "display_name": "Python 3",
   "language": "python",
   "name": "python3"
  },
  "language_info": {
   "codemirror_mode": {
    "name": "ipython",
    "version": 3
   },
   "file_extension": ".py",
   "mimetype": "text/x-python",
   "name": "python",
   "nbconvert_exporter": "python",
   "pygments_lexer": "ipython3",
   "version": "3.8.8"
  }
 },
 "nbformat": 4,
 "nbformat_minor": 5
}
